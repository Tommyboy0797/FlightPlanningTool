{
 "cells": [
  {
   "cell_type": "code",
   "execution_count": 1,
   "metadata": {},
   "outputs": [
    {
     "name": "stdout",
     "output_type": "stream",
     "text": [
      "g:\\CompSciProject\n",
      "g:\\CompSciProject\n",
      "g:\\CompSciProject\n",
      "g:\\CompSciProject\n"
     ]
    }
   ],
   "source": [
    "import random\n",
    "import os\n",
    "import re\n",
    "import numpy as np\n",
    "from pprint import pprint\n",
    "print(os.getcwd())\n",
    "from Backend.py_utils import *\n",
    "from Backend import perf_calc as perf_calc\n",
    "from fastapi import FastAPI, Request\n",
    "from fastapi.responses import RedirectResponse\n",
    "from fastapi.templating import Jinja2Templates\n",
    "from fastapi.staticfiles import StaticFiles\n",
    "from Backend import perf_calc as perf_calc\n",
    "from Backend import rotation_calc as rotation_calc\n",
    "from Backend import refusal as refusal\n",
    "from database import database_handler\n",
    "from fastapi.responses import JSONResponse\n",
    "from Backend import handle_route as handle_route\n",
    "from pydantic import BaseModel \n",
    "from Backend import wind_calc\n",
    "import sqlite3"
   ]
  },
  {
   "cell_type": "code",
   "execution_count": 11,
   "metadata": {},
   "outputs": [
    {
     "data": {
      "text/plain": [
       "[('Othello Municipal Airport', 'KS70', 'small_airport')]"
      ]
     },
     "execution_count": 11,
     "metadata": {},
     "output_type": "execute_result"
    }
   ],
   "source": [
    "def search_airport(partial_name):\n",
    "    database_path = \"database/nav_data.db\"\n",
    "    connect_to_db = sqlite3.connect(database_path)\n",
    "    cursor = connect_to_db.cursor()\n",
    "\n",
    "    words = partial_name.split()\n",
    "    conditions = \" AND \".join([\"name LIKE ? COLLATE NOCASE\" for _ in words])\n",
    "\n",
    "    query = f\"\"\"\n",
    "    SELECT name, icao,type\n",
    "    FROM airports \n",
    "    WHERE {conditions} \n",
    "    ORDER BY \n",
    "        LENGTH(name), \n",
    "        INSTR(LOWER(name), LOWER(?)) \n",
    "    \"\"\"\n",
    "\n",
    "    params = tuple(f\"%{word}%\" for word in words) + (words[0],)\n",
    "\n",
    "    cursor.execute(query, params)\n",
    "    results = cursor.fetchall()\n",
    "    connect_to_db.close()\n",
    "\n",
    "    return results\n",
    "search_airport(\"hello\")"
   ]
  },
  {
   "cell_type": "code",
   "execution_count": null,
   "metadata": {},
   "outputs": [],
   "source": [
    "from math import cos, asin, sqrt, pi\n",
    "import sqlite3\n",
    "def nearby_points(point_lat, point_lng, area_code):\n",
    "    database_path = \"database/nav_data.db\"\n",
    "    connect_to_db = sqlite3.connect(database_path)\n",
    "    cursor = connect_to_db.cursor()\n",
    "\n",
    "    cursor.execute(\"SELECT waypoint_identifier, waypoint_latitude, waypoint_longitude FROM waypoints WHERE area_code = ?\", (area_code,))\n",
    "\n",
    "    close_wp = []\n",
    "\n",
    "    data = cursor.fetchall()\n",
    "\n",
    "    def distance(lat1, lon1, lat2, lon2):\n",
    "        r = 3958.8 # miles\n",
    "        p = pi / 180\n",
    "\n",
    "        a = 0.5 - cos((lat2-lat1)*p)/2 + cos(lat1*p) * cos(lat2*p) * (1-cos((lon2-lon1)*p))/2\n",
    "        return 2 * r * asin(sqrt(a))\n",
    "    \n",
    "    for waypoint in data:\n",
    "        waypoint_id, waypoint_lat, waypoint_lng = waypoint\n",
    "        dist = distance(point_lat, point_lng, waypoint_lat, waypoint_lng)\n",
    "       \n",
    "        if dist < 20:\n",
    "            close_wp.append([waypoint_id,waypoint_lat,waypoint_lng, dist])\n",
    "    \n",
    "    return close_wp\n",
    "\n",
    "nearby_points(51.68527778,0.68333333,\"EUR\")"
   ]
  },
  {
   "cell_type": "code",
   "execution_count": 5,
   "metadata": {},
   "outputs": [
    {
     "name": "stdout",
     "output_type": "stream",
     "text": [
      "free slot is: 1\n"
     ]
    },
    {
     "data": {
      "text/plain": [
       "{'message': 'Route saved', 'slot': 1}"
      ]
     },
     "execution_count": 5,
     "metadata": {},
     "output_type": "execute_result"
    }
   ],
   "source": [
    "def store_route(route, username):\n",
    "\n",
    "    freeslot = None\n",
    "    taken_slots = set() # needs to be an empty set not \"None\"\n",
    "\n",
    "    conn = sqlite3.connect(\"database/users.db\")\n",
    "    cursor = conn.cursor()\n",
    "    cursor.execute(\"SELECT route_number FROM user_routes WHERE username = ?\", (username,)) # gets all taken slots in db for that user\n",
    "    for row in cursor.fetchall():\n",
    "        taken_slots = taken_slots + row\n",
    "        print(f\"row: {row}\")\n",
    "        print(f\"taken slots: {taken_slots}\") # puts all taken slots in a variable\n",
    "\n",
    "    for slot in range(1,11):\n",
    "        if slot not in taken_slots:\n",
    "            freeslot = slot # finds the next free slot\n",
    "            print(f\"free slot is: {freeslot}\")\n",
    "            break # escape loop\n",
    "\n",
    "    if freeslot == None: # if there is no free spaces\n",
    "        print(\"NO FREE SLOT FOUND IN DB TO SAVE ROUTE\")\n",
    "\n",
    "    cursor.execute(\"INSERT INTO user_routes (username, route_number, route_data) VALUES (?,?,?)\", (username, freeslot, route)) # put the data in \n",
    "\n",
    "    conn.commit()\n",
    "    conn.close()\n",
    "    \n",
    "    return {\"message\": \"Route saved\", \"slot\": freeslot}\n",
    "\n",
    "store_route(\"EGLL POLIG EGMC\", \"Tommyboy0797\")"
   ]
  },
  {
   "cell_type": "code",
   "execution_count": 6,
   "metadata": {},
   "outputs": [
    {
     "data": {
      "text/plain": [
       "{'routes': [{'route_name': 'Route 1',\n",
       "   'from': 'EGLL',\n",
       "   'to': 'EGMC',\n",
       "   'last_used': 'Just now',\n",
       "   'route_data': 'EGLL POLIG EGMC'},\n",
       "  {'route_name': 'Route 2',\n",
       "   'from': 'EINN',\n",
       "   'to': 'EHAM',\n",
       "   'last_used': 'Just now',\n",
       "   'route_data': 'EINN RW24 PELI2B MONTY OTBED MOLI2A RW18R EHAM'},\n",
       "  {'route_name': 'Route 3',\n",
       "   'from': 'EINN',\n",
       "   'to': 'EHAM',\n",
       "   'last_used': 'Just now',\n",
       "   'route_data': 'EINN RW24 MOMI2B ROBVA LECND NORK2A RW18C EHAM'},\n",
       "  {'route_name': 'Route 4',\n",
       "   'from': '',\n",
       "   'to': '',\n",
       "   'last_used': 'Just now',\n",
       "   'route_data': ''},\n",
       "  {'route_name': 'Route 5',\n",
       "   'from': '',\n",
       "   'to': '',\n",
       "   'last_used': 'Just now',\n",
       "   'route_data': ''}]}"
      ]
     },
     "execution_count": 6,
     "metadata": {},
     "output_type": "execute_result"
    }
   ],
   "source": [
    "def get_saved_routes(username):\n",
    "    conn = sqlite3.connect(\"database/users.db\")\n",
    "    cursor = conn.cursor()\n",
    "    cursor.execute(\"SELECT route_number, route_data FROM user_routes WHERE username = ? ORDER BY route_number\", (username,))\n",
    "    rows = cursor.fetchall()\n",
    "    conn.close()\n",
    "\n",
    "    routes = []\n",
    "    for route_number, route_data in rows:\n",
    "        route_parts = route_data.strip().split()\n",
    "        from_airport = route_parts[0] if len(route_parts) > 0 else \"\"\n",
    "        to_airport = route_parts[-1] if len(route_parts) > 1 else \"\"\n",
    "\n",
    "        routes.append({\n",
    "            \"route_name\": f\"Route {route_number}\",\n",
    "            \"from\": from_airport,\n",
    "            \"to\": to_airport,\n",
    "            \"last_used\": \"Just now\",  # update later with timestamb\n",
    "            \"route_data\": route_data\n",
    "        })\n",
    "\n",
    "    return {\"routes\": routes}\n",
    "\n",
    "get_saved_routes(\"Tommyboy0797\")"
   ]
  },
  {
   "cell_type": "code",
   "execution_count": null,
   "metadata": {},
   "outputs": [
    {
     "data": {
      "text/plain": [
       "{'status': 'success', 'message': 'Route 4 deleted.'}"
      ]
     },
     "execution_count": 7,
     "metadata": {},
     "output_type": "execute_result"
    }
   ],
   "source": [
    "def remove_route(username, routename):\n",
    "    route_number = int(routename.split()[1])\n",
    "    \n",
    "    conn = sqlite3.connect(\"database/users.db\")\n",
    "    cursor = conn.cursor()\n",
    "\n",
    "    cursor.execute(\"DELETE FROM user_routes WHERE username = ? AND route_number = ?\", (username, route_number))\n",
    "\n",
    "    conn.commit()\n",
    "    conn.close()\n",
    "\n",
    "    return {\"status\": \"success\", \"message\": f\"Route {route_number} deleted.\"}\n",
    "\n",
    "remove_route(\"Tommyboy0797\", \"Route 5\")"
   ]
  },
  {
   "cell_type": "code",
   "execution_count": 7,
   "metadata": {},
   "outputs": [
    {
     "data": {
      "text/plain": [
       "'departure: EGMC, dep rwy: RW23, SID: , waypoints: [], STAR: , arrival rwy: RW21, arrival: EHEH'"
      ]
     },
     "execution_count": 7,
     "metadata": {},
     "output_type": "execute_result"
    }
   ],
   "source": [
    "class SendString(BaseModel):\n",
    "    send_str:str\n",
    "\n",
    "def return_runway(runwy: SendString, origin: SendString):\n",
    "\n",
    "    sids = {\n",
    "        \"sids\": database_handler.get_sids(origin.send_str, runwy.send_str),\n",
    "        \"runway_data\": database_handler.get_runway_data(origin.send_str, runwy.send_str)\n",
    "    }\n",
    "    return sids\n",
    "\n",
    "def handle_stars(selected_runway: SendString, arrival_airfield: SendString):\n",
    "\n",
    "    star_data = {\n",
    "        \"arrival_stars\": database_handler.get_stars(arrival_airfield.send_str, selected_runway.send_str),\n",
    "    }\n",
    "\n",
    "\n",
    "    return star_data\n",
    "\n",
    "def route_data(route: SendString):\n",
    "    route_list = route.send_str.split() # list of the route parts\n",
    "\n",
    "    departure = route_list[0] # get first word, departure field\n",
    "    departure_runway = route_list[1]\n",
    "    sid = route_list[2]\n",
    "    is_sid = False\n",
    "\n",
    "    arrival = route_list[-1] # last word\n",
    "    arrival_runway = route_list[-2] # second to last word (which is the runway in every case)\n",
    "    star = route_list[-3]\n",
    "    is_star = False\n",
    "\n",
    "    sidsdata = return_runway(SendString(send_str=departure_runway), SendString(send_str=departure))\n",
    "    starsdata = handle_stars(SendString(send_str=arrival_runway), SendString(send_str=arrival))\n",
    "\n",
    "    if sid in sidsdata[\"sids\"]: # check if there is a sid\n",
    "        sid = route_list[2]\n",
    "        is_sid = True\n",
    "    else:\n",
    "        sid = \"\"\n",
    "    if star in starsdata[\"arrival_stars\"]: # check if there is a star\n",
    "        star = route_list[-3]\n",
    "        is_star = True\n",
    "    else:\n",
    "        star = \"\"   \n",
    "    waypoints = []\n",
    "    if is_star and is_sid == True:\n",
    "        waypoints = route_list[2:-3]\n",
    "    elif is_star == True and is_sid == False:\n",
    "        waypoints = route_list[1:-3]\n",
    "    elif is_star == False and is_sid == True:\n",
    "        waypoints = route_list[2:-2]\n",
    "        \n",
    "\n",
    "\n",
    "    return (f\"departure: {departure}, dep rwy: {departure_runway}, SID: {sid}, waypoints: {waypoints}, STAR: {star}, arrival rwy: {arrival_runway}, arrival: {arrival}\")\n",
    "\n",
    "route_data(SendString(send_str=\"EGMC RW23 RIKPU LAMS2E RW21 EHEH\"))"
   ]
  }
 ],
 "metadata": {
  "kernelspec": {
   "display_name": "Python 3",
   "language": "python",
   "name": "python3"
  },
  "language_info": {
   "codemirror_mode": {
    "name": "ipython",
    "version": 3
   },
   "file_extension": ".py",
   "mimetype": "text/x-python",
   "name": "python",
   "nbconvert_exporter": "python",
   "pygments_lexer": "ipython3",
   "version": "3.11.9"
  }
 },
 "nbformat": 4,
 "nbformat_minor": 2
}
