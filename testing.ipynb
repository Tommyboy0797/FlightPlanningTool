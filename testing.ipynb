{
 "cells": [
  {
   "cell_type": "code",
   "execution_count": 211,
   "metadata": {},
   "outputs": [
    {
     "name": "stdout",
     "output_type": "stream",
     "text": [
      "g:\\CompSciProject\n",
      "g:\\CompSciProject\n",
      "g:\\CompSciProject\n"
     ]
    }
   ],
   "source": [
    "import random\n",
    "import os\n",
    "import re\n",
    "import numpy as np\n",
    "from pprint import pprint\n",
    "print(os.getcwd())\n",
    "from Backend.py_utils import *\n",
    "from Backend import perf_calc as perf_calc\n",
    "from fastapi import FastAPI, Request\n",
    "from fastapi.responses import RedirectResponse\n",
    "from fastapi.templating import Jinja2Templates\n",
    "from fastapi.staticfiles import StaticFiles\n",
    "from Backend import perf_calc as perf_calc\n",
    "from Backend import rotation_calc as rotation_calc\n",
    "from Backend import refusal as refusal\n",
    "from database import database_handler\n",
    "from fastapi.responses import JSONResponse\n",
    "from Backend import handle_route as handle_route\n",
    "from pydantic import BaseModel \n",
    "from Backend import wind_calc\n"
   ]
  },
  {
   "cell_type": "code",
   "execution_count": 10,
   "metadata": {},
   "outputs": [],
   "source": [
    "def get_refusal_p3(uncorrected_ref_speed, rwy_slope): #runway slope\n",
    "\n",
    "    TOP_FOLDER = \"Backend/chart_dig/completed-takeoff/refusal-and-cef-speed\"\n",
    "    DIG_FILE_NAME = \"refusal-runway-slope.dig\"\n",
    "\n",
    "    data = {}\n",
    "\n",
    "    chart = ParseDig(f'./{TOP_FOLDER}/dig/{DIG_FILE_NAME}')\n",
    "    for c in  chart.curveNames():\n",
    "        yVector = [row [1] for row in chart.curve(c)]\n",
    "        xVector = [row [0] for row in chart.curve(c)]\n",
    "        scale_number = float(re.sub('[^0-9]','', c.replace(\"-\", \"_\")))\n",
    "        \n",
    "        data[scale_number] = {\n",
    "            \"x\": xVector,\n",
    "            \"y\": yVector\n",
    "        }\n",
    "    \n",
    "    runway_slope_scale = []\n",
    "    result_slope = []\n",
    "\n",
    "    for slope_scale, xy_pair_slope in data.items():\n",
    "        xy_pair_slope = data[slope_scale]\n",
    "\n",
    "        x_values = xy_pair_slope[\"x\"]\n",
    "        y_values = xy_pair_slope[\"y\"]\n",
    "\n",
    "        runway_slope_scale.append(slope_scale)\n",
    "        result_slope.append(np.interp(rwy_slope,x_values, y_values))\n",
    "\n",
    "    result = np.interp(uncorrected_ref_speed, runway_slope_scale, result_slope)\n",
    "\n",
    "    return round(result)\n"
   ]
  },
  {
   "cell_type": "code",
   "execution_count": 60,
   "metadata": {},
   "outputs": [
    {
     "data": {
      "text/plain": [
       "118"
      ]
     },
     "execution_count": 60,
     "metadata": {},
     "output_type": "execute_result"
    }
   ],
   "source": [
    "get_refusal_p3(118, 0.4)"
   ]
  },
  {
   "cell_type": "code",
   "execution_count": 164,
   "metadata": {},
   "outputs": [],
   "source": [
    "def get_refusal_p4(prev_data, wind_speed, tail_or_head):\n",
    "\n",
    "    TOP_FOLDER = \"Backend/chart_dig/completed-takeoff/refusal-and-cef-speed\"\n",
    "    DIG_FILE_NAME = \"wind-velocity-for-refusal.dig\"\n",
    "\n",
    "    data = {}\n",
    "\n",
    "    chart = ParseDig(f'./{TOP_FOLDER}/dig/{DIG_FILE_NAME}')\n",
    "    for c in  chart.curveNames():\n",
    "        yVector = [row [1] for row in chart.curve(c)]\n",
    "        xVector = [row [0] for row in chart.curve(c)]\n",
    "        scale_number = float(re.sub('[^0-9]','', c.replace(\"-\", \"_\")))\n",
    " \n",
    "        data[scale_number] = {\n",
    "            \"x\": xVector,\n",
    "            \"y\": yVector\n",
    "        }\n",
    "\n",
    "    if tail_or_head == \"Headwind\":\n",
    "        wind_speed = wind_speed * 0.5 # apply a +50% factor to reported headwind\n",
    "    elif tail_or_head == \"Tailwind\":\n",
    "        wind_speed = wind_speed * 1.5 # apply a +150% factor to reported headwind\n",
    "    else:\n",
    "        wind_speed = wind_speed # do nothing if its a crosswind\n",
    "\n",
    "    runway_windscale = []\n",
    "    result_wind = []\n",
    "\n",
    "    for windscale, xy_pair_wind in data.items():\n",
    "        xy_pair_wind = data[windscale]\n",
    "\n",
    "        x_values = xy_pair_wind[\"x\"]\n",
    "        y_values = xy_pair_wind[\"y\"]\n",
    "\n",
    "        runway_windscale.append(windscale)\n",
    "        result_wind.append(np.interp(wind_speed, x_values, y_values))\n",
    "    \n",
    "    result = np.interp(prev_data, runway_windscale, result_wind)\n",
    "\n",
    "    return round(result)"
   ]
  },
  {
   "cell_type": "code",
   "execution_count": 165,
   "metadata": {},
   "outputs": [
    {
     "data": {
      "text/plain": [
       "128"
      ]
     },
     "execution_count": 165,
     "metadata": {},
     "output_type": "execute_result"
    }
   ],
   "source": [
    "get_refusal_p4(118,20, \"Headwind\")"
   ]
  },
  {
   "cell_type": "code",
   "execution_count": 208,
   "metadata": {},
   "outputs": [],
   "source": [
    "def get_refusal_p9(prev_data, yes_no):  \n",
    "\n",
    "    TOP_FOLDER = \"Backend/chart_dig/completed-takeoff/refusal-and-cef-speed\"\n",
    "    DIG_FILE_NAME = \"refusal-anti-skid.dig\"\n",
    "\n",
    "    data = {}\n",
    "\n",
    "    chart = ParseDig(f'./{TOP_FOLDER}/dig/{DIG_FILE_NAME}')\n",
    "    for c in  chart.curveNames():\n",
    "        yVector = [row [1] for row in chart.curve(c)]\n",
    "        xVector = [row [0] for row in chart.curve(c)]\n",
    "        scale_number = float(re.sub('[^0-9]','', c.replace(\"-\", \"_\")))\n",
    "        \n",
    "        data[scale_number] = {\n",
    "            \"x\": xVector,\n",
    "            \"y\": yVector\n",
    "        }\n",
    "\n",
    "    if yes_no == True: # if the AS is operational\n",
    "        yes_no = 0\n",
    "    elif yes_no == False: # if the AS is not operational\n",
    "        yes_no = 1\n",
    "    else: yes_no = 0\n",
    "\n",
    "\n",
    "    as_scale = []\n",
    "    result_as = []\n",
    "\n",
    "    for asscale, xy_pair_as in data.items():\n",
    "        xy_pair_as = data[asscale]\n",
    "\n",
    "        x_values = xy_pair_as[\"x\"]\n",
    "        y_values = xy_pair_as[\"y\"]\n",
    "\n",
    "        as_scale.append(asscale)\n",
    "        result_as.append(np.interp(yes_no, x_values, y_values))\n",
    "\n",
    "    result = np.interp(prev_data,as_scale,result_as)\n",
    "\n",
    "    return round(result)\n"
   ]
  },
  {
   "cell_type": "code",
   "execution_count": 210,
   "metadata": {},
   "outputs": [
    {
     "data": {
      "text/plain": [
       "92"
      ]
     },
     "execution_count": 210,
     "metadata": {},
     "output_type": "execute_result"
    }
   ],
   "source": [
    "get_refusal_p9(115,False)"
   ]
  },
  {
   "cell_type": "code",
   "execution_count": 226,
   "metadata": {},
   "outputs": [
    {
     "name": "stdout",
     "output_type": "stream",
     "text": [
      "p1 = 0\n",
      "result p2 = 111\n",
      "result p3 = 111\n",
      "result p4 = 121\n",
      "result p5 = 121\n",
      "result p6 = 109\n",
      "result p7 = 108\n",
      "result p8 = 108\n",
      "result p9 = 108\n",
      "108\n"
     ]
    }
   ],
   "source": [
    "gwt = 145\n",
    "get_to_factor = 2.7\n",
    "get_rwy_available = 6\n",
    "get_rwy_slope = 0.4\n",
    "rsc = 0\n",
    "rcr = 12\n",
    "atcsoper = True\n",
    "asoper = True\n",
    "dragindex = 100\n",
    "windspeed = 20\n",
    "tail_or_head = \"Headwind\"\n",
    "\n",
    "p1 = refusal.get_refusal_p1(get_to_factor, get_rwy_available)\n",
    "p2 = refusal.get_refusal_p2(p1, gwt)\n",
    "p3 = refusal.get_refusal_p3(p2, get_rwy_slope)\n",
    "p4 = refusal.get_refusal_p4(p3, windspeed, tail_or_head)\n",
    "p5 = refusal.get_refusal_p5(p4, dragindex)\n",
    "p6 = refusal.get_refusal_p6(p5, rcr)\n",
    "p7 = refusal.get_refusal_p7(p6, rsc)\n",
    "p8 = refusal.get_refusal_p8(p7, atcsoper)\n",
    "p9 = refusal.get_refusal_p9(p8, asoper)\n",
    "\n",
    "print(p9)"
   ]
  },
  {
   "cell_type": "code",
   "execution_count": 221,
   "metadata": {},
   "outputs": [],
   "source": [
    "def get_refusal_p1(takeoff_factor, rwy_available): \n",
    "    \n",
    "    TOP_FOLDER = \"Backend/chart_dig/completed-takeoff/refusal-and-cef-speed\"\n",
    "    DIG_FILE_NAME = \"refusal-step-1.dig\" \n",
    "\n",
    "    data = {}\n",
    "\n",
    "    chart = ParseDig(f'./{TOP_FOLDER}/dig/{DIG_FILE_NAME}')\n",
    "    for c in  chart.curveNames():\n",
    "        yVector = [row [1] for row in chart.curve(c)]\n",
    "        xVector = [row [0] for row in chart.curve(c)]\n",
    "        scale_number = float(re.sub('[^0-9]','', c.replace(\"-\", \"_\")))\n",
    "        \n",
    "        data[scale_number] = {\n",
    "            \"x\": xVector,\n",
    "            \"y\": yVector\n",
    "        }\n",
    "\n",
    "    runway_scale_set = [] # runway scale (2,3,4, -> 14)\n",
    "    result_basedon_to_factor_and_rwylen = [] # result for given takeoff factor scale based on runway length  \n",
    "\n",
    "    for rwy_scale, xy_pair_for_rwy_avail in data.items():\n",
    "        xy_pair_for_rwy_avail = data[rwy_scale]  #how long rwy is. Dictionary. dictionary_name[key] Key here is rwy_scale which is 2.0, 3.0, 4.0 etc\n",
    "\n",
    "        x_values = xy_pair_for_rwy_avail[\"y\"] # x is now y\n",
    "        y_values = xy_pair_for_rwy_avail[\"x\"] # y is now x\n",
    "\n",
    "        runway_scale_set.append(rwy_scale)\n",
    "        result_basedon_to_factor_and_rwylen.append(round(np.interp(takeoff_factor, x_values, y_values), 2))\n",
    "    print(runway_scale_set)\n",
    "    print(result_basedon_to_factor_and_rwylen)\n",
    "    resultp1 = np.interp(rwy_available, runway_scale_set, result_basedon_to_factor_and_rwylen)\n",
    "    print(f\"p1 = {round(resultp1)}\")\n",
    "    return resultp1\n"
   ]
  },
  {
   "cell_type": "code",
   "execution_count": 224,
   "metadata": {},
   "outputs": [
    {
     "name": "stdout",
     "output_type": "stream",
     "text": [
      "[2.0, 3.0, 4.0, 5.0, 6.0, 7.0, 8.0, 9.0, 10.0, 11.0, 12.0, 13.0, 14.0]\n",
      "[np.float64(0.69), np.float64(0.54), np.float64(0.42), np.float64(0.32), np.float64(0.24), np.float64(0.15), np.float64(0.07), np.float64(-0.0), np.float64(0.0), np.float64(0.0), np.float64(0.0), np.float64(0.0), np.float64(0.0)]\n",
      "p1 = 1\n"
     ]
    },
    {
     "data": {
      "text/plain": [
       "np.float64(0.69)"
      ]
     },
     "execution_count": 224,
     "metadata": {},
     "output_type": "execute_result"
    }
   ],
   "source": [
    "get_refusal_p1(2, 2)"
   ]
  }
 ],
 "metadata": {
  "kernelspec": {
   "display_name": "Python 3",
   "language": "python",
   "name": "python3"
  },
  "language_info": {
   "codemirror_mode": {
    "name": "ipython",
    "version": 3
   },
   "file_extension": ".py",
   "mimetype": "text/x-python",
   "name": "python",
   "nbconvert_exporter": "python",
   "pygments_lexer": "ipython3",
   "version": "3.11.9"
  }
 },
 "nbformat": 4,
 "nbformat_minor": 2
}
