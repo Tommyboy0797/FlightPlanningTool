{
 "cells": [
  {
   "cell_type": "code",
   "execution_count": 1,
   "metadata": {},
   "outputs": [
    {
     "name": "stdout",
     "output_type": "stream",
     "text": [
      "g:\\CompSciProject\n",
      "g:\\CompSciProject\n",
      "g:\\CompSciProject\n",
      "g:\\CompSciProject\n"
     ]
    }
   ],
   "source": [
    "import random\n",
    "import os\n",
    "import re\n",
    "import numpy as np\n",
    "from pprint import pprint\n",
    "print(os.getcwd())\n",
    "from Backend.py_utils import *\n",
    "from Backend import perf_calc as perf_calc\n",
    "from fastapi import FastAPI, Request\n",
    "from fastapi.responses import RedirectResponse\n",
    "from fastapi.templating import Jinja2Templates\n",
    "from fastapi.staticfiles import StaticFiles\n",
    "from Backend import perf_calc as perf_calc\n",
    "from Backend import rotation_calc as rotation_calc\n",
    "from Backend import refusal as refusal\n",
    "from database import database_handler\n",
    "from fastapi.responses import JSONResponse\n",
    "from Backend import handle_route as handle_route\n",
    "from pydantic import BaseModel \n",
    "from Backend import wind_calc\n",
    "import sqlite3"
   ]
  },
  {
   "cell_type": "code",
   "execution_count": 11,
   "metadata": {},
   "outputs": [
    {
     "data": {
      "text/plain": [
       "[('Othello Municipal Airport', 'KS70', 'small_airport')]"
      ]
     },
     "execution_count": 11,
     "metadata": {},
     "output_type": "execute_result"
    }
   ],
   "source": [
    "def search_airport(partial_name):\n",
    "    database_path = \"database/nav_data.db\"\n",
    "    connect_to_db = sqlite3.connect(database_path)\n",
    "    cursor = connect_to_db.cursor()\n",
    "\n",
    "    words = partial_name.split()\n",
    "    conditions = \" AND \".join([\"name LIKE ? COLLATE NOCASE\" for _ in words])\n",
    "\n",
    "    query = f\"\"\"\n",
    "    SELECT name, icao,type\n",
    "    FROM airports \n",
    "    WHERE {conditions} \n",
    "    ORDER BY \n",
    "        LENGTH(name), \n",
    "        INSTR(LOWER(name), LOWER(?)) \n",
    "    \"\"\"\n",
    "\n",
    "    params = tuple(f\"%{word}%\" for word in words) + (words[0],)\n",
    "\n",
    "    cursor.execute(query, params)\n",
    "    results = cursor.fetchall()\n",
    "    connect_to_db.close()\n",
    "\n",
    "    return results\n",
    "search_airport(\"hello\")"
   ]
  },
  {
   "cell_type": "code",
   "execution_count": null,
   "metadata": {},
   "outputs": [],
   "source": [
    "from math import cos, asin, sqrt, pi\n",
    "import sqlite3\n",
    "def nearby_points(point_lat, point_lng, area_code):\n",
    "    database_path = \"database/nav_data.db\"\n",
    "    connect_to_db = sqlite3.connect(database_path)\n",
    "    cursor = connect_to_db.cursor()\n",
    "\n",
    "    cursor.execute(\"SELECT waypoint_identifier, waypoint_latitude, waypoint_longitude FROM waypoints WHERE area_code = ?\", (area_code,))\n",
    "\n",
    "    close_wp = []\n",
    "\n",
    "    data = cursor.fetchall()\n",
    "\n",
    "    def distance(lat1, lon1, lat2, lon2):\n",
    "        r = 3958.8 # miles\n",
    "        p = pi / 180\n",
    "\n",
    "        a = 0.5 - cos((lat2-lat1)*p)/2 + cos(lat1*p) * cos(lat2*p) * (1-cos((lon2-lon1)*p))/2\n",
    "        return 2 * r * asin(sqrt(a))\n",
    "    \n",
    "    for waypoint in data:\n",
    "        waypoint_id, waypoint_lat, waypoint_lng = waypoint\n",
    "        dist = distance(point_lat, point_lng, waypoint_lat, waypoint_lng)\n",
    "       \n",
    "        if dist < 20:\n",
    "            close_wp.append([waypoint_id,waypoint_lat,waypoint_lng, dist])\n",
    "    \n",
    "    return close_wp\n",
    "\n",
    "nearby_points(51.68527778,0.68333333,\"EUR\")"
   ]
  },
  {
   "cell_type": "code",
   "execution_count": 5,
   "metadata": {},
   "outputs": [
    {
     "name": "stdout",
     "output_type": "stream",
     "text": [
      "free slot is: 1\n"
     ]
    },
    {
     "data": {
      "text/plain": [
       "{'message': 'Route saved', 'slot': 1}"
      ]
     },
     "execution_count": 5,
     "metadata": {},
     "output_type": "execute_result"
    }
   ],
   "source": [
    "def store_route(route, username):\n",
    "\n",
    "    freeslot = None\n",
    "    taken_slots = set() # needs to be an empty set not \"None\"\n",
    "\n",
    "    conn = sqlite3.connect(\"database/users.db\")\n",
    "    cursor = conn.cursor()\n",
    "    cursor.execute(\"SELECT route_number FROM user_routes WHERE username = ?\", (username,)) # gets all taken slots in db for that user\n",
    "    for row in cursor.fetchall():\n",
    "        taken_slots = taken_slots + row\n",
    "        print(f\"row: {row}\")\n",
    "        print(f\"taken slots: {taken_slots}\") # puts all taken slots in a variable\n",
    "\n",
    "    for slot in range(1,11):\n",
    "        if slot not in taken_slots:\n",
    "            freeslot = slot # finds the next free slot\n",
    "            print(f\"free slot is: {freeslot}\")\n",
    "            break # escape loop\n",
    "\n",
    "    if freeslot == None: # if there is no free spaces\n",
    "        print(\"NO FREE SLOT FOUND IN DB TO SAVE ROUTE\")\n",
    "\n",
    "    cursor.execute(\"INSERT INTO user_routes (username, route_number, route_data) VALUES (?,?,?)\", (username, freeslot, route)) # put the data in \n",
    "\n",
    "    conn.commit()\n",
    "    conn.close()\n",
    "    \n",
    "    return {\"message\": \"Route saved\", \"slot\": freeslot}\n",
    "\n",
    "store_route(\"EGLL POLIG EGMC\", \"Tommyboy0797\")"
   ]
  },
  {
   "cell_type": "code",
   "execution_count": 6,
   "metadata": {},
   "outputs": [
    {
     "data": {
      "text/plain": [
       "{'routes': [{'route_name': 'Route 1',\n",
       "   'from': 'EGLL',\n",
       "   'to': 'EGMC',\n",
       "   'last_used': 'Just now',\n",
       "   'route_data': 'EGLL POLIG EGMC'},\n",
       "  {'route_name': 'Route 2',\n",
       "   'from': 'EINN',\n",
       "   'to': 'EHAM',\n",
       "   'last_used': 'Just now',\n",
       "   'route_data': 'EINN RW24 PELI2B MONTY OTBED MOLI2A RW18R EHAM'},\n",
       "  {'route_name': 'Route 3',\n",
       "   'from': 'EINN',\n",
       "   'to': 'EHAM',\n",
       "   'last_used': 'Just now',\n",
       "   'route_data': 'EINN RW24 MOMI2B ROBVA LECND NORK2A RW18C EHAM'},\n",
       "  {'route_name': 'Route 4',\n",
       "   'from': '',\n",
       "   'to': '',\n",
       "   'last_used': 'Just now',\n",
       "   'route_data': ''},\n",
       "  {'route_name': 'Route 5',\n",
       "   'from': '',\n",
       "   'to': '',\n",
       "   'last_used': 'Just now',\n",
       "   'route_data': ''}]}"
      ]
     },
     "execution_count": 6,
     "metadata": {},
     "output_type": "execute_result"
    }
   ],
   "source": [
    "def get_saved_routes(username):\n",
    "    conn = sqlite3.connect(\"database/users.db\")\n",
    "    cursor = conn.cursor()\n",
    "    cursor.execute(\"SELECT route_number, route_data FROM user_routes WHERE username = ? ORDER BY route_number\", (username,))\n",
    "    rows = cursor.fetchall()\n",
    "    conn.close()\n",
    "\n",
    "    routes = []\n",
    "    for route_number, route_data in rows:\n",
    "        route_parts = route_data.strip().split()\n",
    "        from_airport = route_parts[0] if len(route_parts) > 0 else \"\"\n",
    "        to_airport = route_parts[-1] if len(route_parts) > 1 else \"\"\n",
    "\n",
    "        routes.append({\n",
    "            \"route_name\": f\"Route {route_number}\",\n",
    "            \"from\": from_airport,\n",
    "            \"to\": to_airport,\n",
    "            \"last_used\": \"Just now\",  # update later with timestamb\n",
    "            \"route_data\": route_data\n",
    "        })\n",
    "\n",
    "    return {\"routes\": routes}\n",
    "\n",
    "get_saved_routes(\"Tommyboy0797\")"
   ]
  },
  {
   "cell_type": "code",
   "execution_count": null,
   "metadata": {},
   "outputs": [
    {
     "data": {
      "text/plain": [
       "{'status': 'success', 'message': 'Route 4 deleted.'}"
      ]
     },
     "execution_count": 7,
     "metadata": {},
     "output_type": "execute_result"
    }
   ],
   "source": [
    "def remove_route(username, routename):\n",
    "    route_number = int(routename.split()[1])\n",
    "    \n",
    "    conn = sqlite3.connect(\"database/users.db\")\n",
    "    cursor = conn.cursor()\n",
    "\n",
    "    cursor.execute(\"DELETE FROM user_routes WHERE username = ? AND route_number = ?\", (username, route_number))\n",
    "\n",
    "    conn.commit()\n",
    "    conn.close()\n",
    "\n",
    "    return {\"status\": \"success\", \"message\": f\"Route {route_number} deleted.\"}\n",
    "\n",
    "remove_route(\"Tommyboy0797\", \"Route 5\")"
   ]
  },
  {
   "cell_type": "code",
   "execution_count": 7,
   "metadata": {},
   "outputs": [
    {
     "data": {
      "text/plain": [
       "'departure: EGMC, dep rwy: RW23, SID: , waypoints: [], STAR: , arrival rwy: RW21, arrival: EHEH'"
      ]
     },
     "execution_count": 7,
     "metadata": {},
     "output_type": "execute_result"
    }
   ],
   "source": [
    "class SendString(BaseModel):\n",
    "    send_str:str\n",
    "\n",
    "def return_runway(runwy: SendString, origin: SendString):\n",
    "\n",
    "    sids = {\n",
    "        \"sids\": database_handler.get_sids(origin.send_str, runwy.send_str),\n",
    "        \"runway_data\": database_handler.get_runway_data(origin.send_str, runwy.send_str)\n",
    "    }\n",
    "    return sids\n",
    "\n",
    "def handle_stars(selected_runway: SendString, arrival_airfield: SendString):\n",
    "\n",
    "    star_data = {\n",
    "        \"arrival_stars\": database_handler.get_stars(arrival_airfield.send_str, selected_runway.send_str),\n",
    "    }\n",
    "\n",
    "\n",
    "    return star_data\n",
    "\n",
    "def route_data(route: SendString):\n",
    "    route_list = route.send_str.split() # list of the route parts\n",
    "\n",
    "    departure = route_list[0] # get first word, departure field\n",
    "    departure_runway = route_list[1]\n",
    "    sid = route_list[2]\n",
    "    is_sid = False\n",
    "\n",
    "    arrival = route_list[-1] # last word\n",
    "    arrival_runway = route_list[-2] # second to last word (which is the runway in every case)\n",
    "    star = route_list[-3]\n",
    "    is_star = False\n",
    "\n",
    "    sidsdata = return_runway(SendString(send_str=departure_runway), SendString(send_str=departure))\n",
    "    starsdata = handle_stars(SendString(send_str=arrival_runway), SendString(send_str=arrival))\n",
    "\n",
    "    if sid in sidsdata[\"sids\"]: # check if there is a sid\n",
    "        sid = route_list[2]\n",
    "        is_sid = True\n",
    "    else:\n",
    "        sid = \"\"\n",
    "    if star in starsdata[\"arrival_stars\"]: # check if there is a star\n",
    "        star = route_list[-3]\n",
    "        is_star = True\n",
    "    else:\n",
    "        star = \"\"   \n",
    "    waypoints = []\n",
    "    if is_star and is_sid == True:\n",
    "        waypoints = route_list[2:-3]\n",
    "    elif is_star == True and is_sid == False:\n",
    "        waypoints = route_list[1:-3]\n",
    "    elif is_star == False and is_sid == True:\n",
    "        waypoints = route_list[2:-2]\n",
    "        \n",
    "\n",
    "\n",
    "    return (f\"departure: {departure}, dep rwy: {departure_runway}, SID: {sid}, waypoints: {waypoints}, STAR: {star}, arrival rwy: {arrival_runway}, arrival: {arrival}\")\n",
    "\n",
    "route_data(SendString(send_str=\"EGMC RW23 RIKPU LAMS2E RW21 EHEH\"))"
   ]
  },
  {
   "cell_type": "code",
   "execution_count": null,
   "metadata": {},
   "outputs": [
    {
     "name": "stdout",
     "output_type": "stream",
     "text": [
      "[{'lat': -3.3545, 'lng': -64.27933333, 'ident': 'ALAM', 'name': 'ALAM', 'usage': None, 'icao': 'SB', 'area': 'SAM'}, {'lat': 50.59305556, 'lng': 6.23805556, 'ident': 'LAMLA', 'name': 'LAMLA', 'usage': 'RH', 'icao': 'EB', 'area': 'EUR'}, {'lat': 48.88583333, 'lng': 8.77916667, 'ident': 'LAMGO', 'name': 'LAMGO', 'usage': 'RB', 'icao': 'ED', 'area': 'EUR'}, {'lat': 50.98694444, 'lng': 9.46666667, 'ident': 'LAMOP', 'name': 'LAMOP', 'usage': 'RL', 'icao': 'ED', 'area': 'EUR'}, {'lat': 49.34009722, 'lng': 9.66804722, 'ident': 'LAMPU', 'name': 'LAMPU', 'usage': 'RL', 'icao': 'ED', 'area': 'EUR'}, {'lat': 48.65333333, 'lng': 13.58333333, 'ident': 'LAMSI', 'name': 'LAMSI', 'usage': 'RB', 'icao': 'ED', 'area': 'EUR'}, {'lat': 51.30194444, 'lng': -3.0175, 'ident': 'LAMAT', 'name': 'LAMAT', 'usage': 'RB', 'icao': 'EG', 'area': 'EUR'}, {'lat': 53.30805556, 'lng': -0.68222222, 'ident': 'LAMIX', 'name': 'LAMIX', 'usage': 'RB', 'icao': 'EG', 'area': 'EUR'}, {'lat': 55.85833333, 'lng': -2.7675, 'ident': 'LAMMA', 'name': 'LAMMA', 'usage': 'RB', 'icao': 'EG', 'area': 'EUR'}, {'lat': 57.03083333, 'lng': 3.5525, 'ident': 'LAMRO', 'name': 'LAMRO', 'usage': 'RH', 'icao': 'EG', 'area': 'EUR'}, {'lat': 52.73289722, 'lng': 2.99435556, 'ident': 'LAMSO', 'name': 'LAMSO', 'usage': 'RB', 'icao': 'EH', 'area': 'EUR'}, {'lat': 69.78361111, 'lng': 15.845, 'ident': 'LAMLU', 'name': 'LAMLU', 'usage': 'RB', 'icao': 'EN', 'area': 'EUR'}, {'lat': 52.31083333, 'lng': 20.71777778, 'ident': 'LAMID', 'name': 'LAMID', 'usage': ' B', 'icao': 'EP', 'area': 'EEU'}, {'lat': 65.80472222, 'lng': 21.94813889, 'ident': 'LAMOS', 'name': 'LAMOS', 'usage': 'RB', 'icao': 'ES', 'area': 'EUR'}, {'lat': 63.53861111, 'lng': 21.03666667, 'ident': 'LAMPI', 'name': 'LAMPI', 'usage': 'RB', 'icao': 'ES', 'area': 'EUR'}, {'lat': 35.78587222, 'lng': -5.48726667, 'ident': 'LAMAD', 'name': 'LAMAD', 'usage': ' L', 'icao': 'GM', 'area': 'AFR'}, {'lat': 47.76136111, 'lng': -104.35021667, 'ident': 'LAMBE', 'name': 'LAMBE', 'usage': 'RL', 'icao': 'K1', 'area': 'USA'}, {'lat': 43.95949722, 'lng': -111.24935556, 'ident': 'LAMON', 'name': 'LAMON', 'usage': 'RB', 'icao': 'K1', 'area': 'USA'}, {'lat': 35.20263333, 'lng': -118.99905556, 'ident': 'LAMPE', 'name': 'LAMPE', 'usage': ' L', 'icao': 'K2', 'area': 'USA'}, {'lat': 34.432925, 'lng': -107.72558611, 'ident': 'LAMSE', 'name': 'LAMSE', 'usage': None, 'icao': 'K2', 'area': 'USA'}, {'lat': 27.79852222, 'lng': -97.80721944, 'ident': 'LAMMR', 'name': 'LAMMR', 'usage': ' L', 'icao': 'K4', 'area': 'USA'}, {'lat': 28.37416667, 'lng': -95.47, 'ident': 'LAMMY', 'name': 'LAMMY', 'usage': 'RB', 'icao': 'K4', 'area': 'USA'}, {'lat': 37.98160556, 'lng': -87.15017778, 'ident': 'LAMBS', 'name': 'LAMBS', 'usage': 'RL', 'icao': 'K5', 'area': 'USA'}, {'lat': 45.98069167, 'lng': -91.88411389, 'ident': 'LAMPY', 'name': 'LAMPY', 'usage': 'RL', 'icao': 'K5', 'area': 'USA'}, {'lat': 43.44795556, 'lng': -73.70383056, 'ident': 'LAMED', 'name': 'LAMED', 'usage': ' H', 'icao': 'K6', 'area': 'USA'}, {'lat': 32.78780556, 'lng': -86.80948333, 'ident': 'LAMAZ', 'name': 'LAMAZ', 'usage': 'RH', 'icao': 'K7', 'area': 'USA'}, {'lat': 34.99069722, 'lng': -80.15203889, 'ident': 'LAMDE', 'name': 'LAMDE', 'usage': None, 'icao': 'K7', 'area': 'USA'}, {'lat': 25.0, 'lng': -70.05152778, 'ident': 'LAMER', 'name': 'LAMER', 'usage': 'RB', 'icao': 'K7', 'area': 'USA'}, {'lat': 26.81543333, 'lng': -80.59978333, 'ident': 'LAMEY', 'name': 'LAMEY', 'usage': None, 'icao': 'K7', 'area': 'USA'}, {'lat': 33.06522778, 'lng': -80.47343056, 'ident': 'LAMKE', 'name': 'LAMKE', 'usage': 'RL', 'icao': 'K7', 'area': 'USA'}, {'lat': 29.01441944, 'lng': -81.08971389, 'ident': 'LAMMA', 'name': 'LAMMA', 'usage': None, 'icao': 'K7', 'area': 'USA'}, {'lat': 38.80180833, 'lng': 1.92405278, 'ident': 'LAMPA', 'name': 'LAMPA', 'usage': None, 'icao': 'LE', 'area': 'EUR'}, {'lat': 45.55555556, 'lng': 6.1525, 'ident': 'LAMDO', 'name': 'LAMDO', 'usage': 'RL', 'icao': 'LF', 'area': 'EUR'}, {'lat': 47.11833333, 'lng': 2.98472222, 'ident': 'LAMUT', 'name': 'LAMUT', 'usage': 'RB', 'icao': 'LF', 'area': 'EUR'}, {'lat': 39.075, 'lng': 16.41916667, 'ident': 'LAMEB', 'name': 'LAMEB', 'usage': 'RH', 'icao': 'LI', 'area': 'EUR'}, {'lat': 46.10583333, 'lng': 11.70138889, 'ident': 'LAMPO', 'name': 'LAMPO', 'usage': 'RB', 'icao': 'LI', 'area': 'EUR'}, {'lat': 39.20583333, 'lng': -10.965, 'ident': 'LAMDI', 'name': 'LAMDI', 'usage': 'RH', 'icao': 'LP', 'area': 'EUR'}, {'lat': 45.10388889, 'lng': 23.37472222, 'ident': 'LAMIT', 'name': 'LAMIT', 'usage': 'RB', 'icao': 'LR', 'area': 'EEU'}, {'lat': 47.62055556, 'lng': 8.90388889, 'ident': 'LAMAX', 'name': 'LAMAX', 'usage': None, 'icao': 'LS', 'area': 'EUR'}, {'lat': 46.57972222, 'lng': 7.23138889, 'ident': 'LAMUR', 'name': 'LAMUR', 'usage': 'RB', 'icao': 'LS', 'area': 'EUR'}, {'lat': 37.11083333, 'lng': 29.92277778, 'ident': 'LAMSA', 'name': 'LAMSA', 'usage': 'RB', 'icao': 'LT', 'area': 'MES'}, {'lat': 11.16208333, 'lng': 122.35094167, 'ident': 'LAMBO', 'name': 'LAMBO', 'usage': 'RB', 'icao': 'RP', 'area': 'PAC'}, {'lat': 9.89931944, 'lng': 123.74975278, 'ident': 'LAMOK', 'name': 'LAMOK', 'usage': ' B', 'icao': 'RP', 'area': 'PAC'}, {'lat': 18.0, 'lng': -61.96611111, 'ident': 'LAMKN', 'name': 'LAMKN', 'usage': 'RB', 'icao': 'TI', 'area': 'LAM'}, {'lat': 50.11583333, 'lng': 64.69833333, 'ident': 'LAMGI', 'name': 'LAMGI', 'usage': ' B', 'icao': 'UA', 'area': 'EEU'}, {'lat': 41.54444444, 'lng': 45.52333333, 'ident': 'LAMUS', 'name': 'LAMUS', 'usage': 'RB', 'icao': 'UG', 'area': 'EEU'}, {'lat': 43.40027778, 'lng': 133.88444444, 'ident': 'LAMKA', 'name': 'LAMKA', 'usage': ' B', 'icao': 'UH', 'area': 'EEU'}, {'lat': 64.75, 'lng': 176.27, 'ident': 'LAMKU', 'name': 'LAMKU', 'usage': ' B', 'icao': 'UH', 'area': 'EEU'}, {'lat': 50.93944444, 'lng': 106.09361111, 'ident': 'LAMIR', 'name': 'LAMIR', 'usage': 'RB', 'icao': 'UI', 'area': 'EEU'}, {'lat': 48.165, 'lng': 30.08833333, 'ident': 'LAMEX', 'name': 'LAMEX', 'usage': 'RB', 'icao': 'UK', 'area': 'EEU'}, {'lat': 48.15805556, 'lng': 36.97527778, 'ident': 'LAMIV', 'name': 'LAMIV', 'usage': 'RB', 'icao': 'UK', 'area': 'EEU'}, {'lat': 64.37222222, 'lng': 39.81666667, 'ident': 'LAMRA', 'name': 'LAMRA', 'usage': ' B', 'icao': 'UL', 'area': 'EEU'}, {'lat': 58.70722222, 'lng': 81.16416667, 'ident': 'LAMEG', 'name': 'LAMEG', 'usage': ' B', 'icao': 'UN', 'area': 'EEU'}, {'lat': 56.02, 'lng': 82.26166667, 'ident': 'LAMGA', 'name': 'LAMGA', 'usage': ' B', 'icao': 'UN', 'area': 'EEU'}, {'lat': 43.34972222, 'lng': 39.08861111, 'ident': 'LAMET', 'name': 'LAMET', 'usage': ' B', 'icao': 'UR', 'area': 'EEU'}, {'lat': 61.28333333, 'lng': 71.75, 'ident': 'LAMIN', 'name': 'LAMIN', 'usage': ' B', 'icao': 'US', 'area': 'EEU'}, {'lat': 52.51638889, 'lng': 36.46472222, 'ident': 'LAMAG', 'name': 'LAMAG', 'usage': ' B', 'icao': 'UU', 'area': 'EEU'}, {'lat': 57.34805556, 'lng': 46.77194444, 'ident': 'LAMGU', 'name': 'LAMGU', 'usage': ' B', 'icao': 'UU', 'area': 'EEU'}, {'lat': 53.92611111, 'lng': 38.90722222, 'ident': 'LAMIS', 'name': 'LAMIS', 'usage': ' B', 'icao': 'UU', 'area': 'EEU'}, {'lat': 53.22666667, 'lng': 41.26805556, 'ident': 'LAMKO', 'name': 'LAMKO', 'usage': ' B', 'icao': 'UU', 'area': 'EEU'}, {'lat': 18.28555556, 'lng': 87.83388889, 'ident': 'LAMBU', 'name': 'LAMBU', 'usage': 'RB', 'icao': 'VE', 'area': 'MES'}, {'lat': 19.08698333, 'lng': 98.67896111, 'ident': 'LAMUN', 'name': 'LAMUN', 'usage': 'RB', 'icao': 'VT', 'area': 'PAC'}, {'lat': 31.61, 'lng': 124.0, 'ident': 'LAMEN', 'name': 'LAMEN', 'usage': 'RB', 'icao': 'ZS', 'area': 'EEU'}, {'lat': 25.205, 'lng': 118.54666667, 'ident': 'LAMIM', 'name': 'LAMIM', 'usage': 'RB', 'icao': 'ZS', 'area': 'EEU'}, {'lat': 64.48, 'lng': -19.81972222, 'ident': 'BLAMI', 'name': 'BLAMI', 'usage': ' B', 'icao': 'BI', 'area': 'EUR'}, {'lat': 59.04777778, 'lng': 20.91583333, 'ident': 'ALAMI', 'name': 'ALAMI', 'usage': 'RB', 'icao': 'ES', 'area': 'EUR'}, {'lat': 33.28333333, 'lng': 12.13333333, 'ident': 'CLAMS', 'name': 'CLAMS', 'usage': ' B', 'icao': 'HL', 'area': 'AFR'}, {'lat': 42.18832778, 'lng': -122.74676944, 'ident': 'KLAMA', 'name': 'KLAMA', 'usage': ' L', 'icao': 'K1', 'area': 'USA'}, {'lat': 39.20165278, 'lng': -102.33667778, 'ident': 'CLAMR', 'name': 'CLAMR', 'usage': None, 'icao': 'K2', 'area': 'USA'}, {'lat': 35.91109167, 'lng': -114.26987778, 'ident': 'FLAMZ', 'name': 'FLAMZ', 'usage': None, 'icao': 'K2', 'area': 'USA'}, {'lat': 32.74059722, 'lng': -111.26004444, 'ident': 'SLAMN', 'name': 'SLAMN', 'usage': None, 'icao': 'K2', 'area': 'USA'}, {'lat': 29.60784444, 'lng': -98.56947778, 'ident': 'ALAMO', 'name': 'ALAMO', 'usage': None, 'icao': 'K4', 'area': 'USA'}, {'lat': 28.25, 'lng': -92.82761111, 'ident': 'KLAMS', 'name': 'KLAMS', 'usage': 'RB', 'icao': 'K4', 'area': 'USA'}, {'lat': 41.17777778, 'lng': -70.53526944, 'ident': 'CLAMY', 'name': 'CLAMY', 'usage': 'RL', 'icao': 'K6', 'area': 'USA'}, {'lat': 33.37678056, 'lng': -66.30971944, 'ident': 'FLAMO', 'name': 'FLAMO', 'usage': 'RB', 'icao': 'K6', 'area': 'USA'}, {'lat': 35.41452222, 'lng': -78.14521667, 'ident': 'BLAMO', 'name': 'BLAMO', 'usage': 'RH', 'icao': 'K7', 'area': 'USA'}, {'lat': 29.34606667, 'lng': -83.58933611, 'ident': 'CLAMP', 'name': 'CLAMP', 'usage': ' L', 'icao': 'K7', 'area': 'USA'}, {'lat': 33.32349167, 'lng': -90.98208611, 'ident': 'FLAMM', 'name': 'FLAMM', 'usage': ' L', 'icao': 'K7', 'area': 'USA'}, {'lat': 33.99527778, 'lng': -77.58305556, 'ident': 'OLAMY', 'name': 'OLAMY', 'usage': None, 'icao': 'K7', 'area': 'USA'}, {'lat': 47.73694444, 'lng': 18.33, 'ident': 'ALAMU', 'name': 'ALAMU', 'usage': 'RB', 'icao': 'LH', 'area': 'EEU'}, {'lat': 39.22333333, 'lng': -8.55, 'ident': 'ALAMA', 'name': 'ALAMA', 'usage': None, 'icao': 'LP', 'area': 'EUR'}, {'lat': 17.79833333, 'lng': -68.52777778, 'ident': 'ILAMO', 'name': 'ILAMO', 'usage': 'RH', 'icao': 'MD', 'area': 'LAM'}, {'lat': 19.99916667, 'lng': -80.60583333, 'ident': 'ILAMU', 'name': 'ILAMU', 'usage': 'RB', 'icao': 'MU', 'area': 'LAM'}, {'lat': 26.67422778, 'lng': -79.06326944, 'ident': 'ULAMA', 'name': 'ULAMA', 'usage': 'RB', 'icao': 'MY', 'area': 'USA'}, {'lat': 26.74778889, 'lng': 50.28327778, 'ident': 'ULAMU', 'name': 'ULAMU', 'usage': ' B', 'icao': 'OB', 'area': 'MES'}, {'lat': -28.10055556, 'lng': -55.45222222, 'ident': 'ELAMO', 'name': 'ELAMO', 'usage': 'RH', 'icao': 'SA', 'area': 'SAM'}, {'lat': -15.59277778, 'lng': -68.18638889, 'ident': 'ELAMU', 'name': 'ELAMU', 'usage': 'RB', 'icao': 'SL', 'area': 'SAM'}, {'lat': 52.80694444, 'lng': 146.795, 'ident': 'OLAMA', 'name': 'OLAMA', 'usage': ' B', 'icao': 'UH', 'area': 'EEU'}, {'lat': 52.7, 'lng': 43.48166667, 'ident': 'OLAMI', 'name': 'OLAMI', 'usage': ' B', 'icao': 'UW', 'area': 'EEU'}, {'lat': 51.3525, 'lng': 2.75027778, 'ident': 'BULAM', 'name': 'BULAM', 'usage': 'RB', 'icao': 'EB', 'area': 'EUR'}, {'lat': 50.43512222, 'lng': 10.71102222, 'ident': 'PILAM', 'name': 'PILAM', 'usage': 'RB', 'icao': 'ED', 'area': 'EUR'}, {'lat': 50.01444444, 'lng': 6.37527778, 'ident': 'RALAM', 'name': 'RALAM', 'usage': 'RH', 'icao': 'ED', 'area': 'EUR'}, {'lat': 53.03157222, 'lng': 5.38848333, 'ident': 'VALAM', 'name': 'VALAM', 'usage': 'RH', 'icao': 'EH', 'area': 'EUR'}, {'lat': -18.34851944, 'lng': 24.02688333, 'ident': 'IMLAM', 'name': 'IMLAM', 'usage': 'RH', 'icao': 'FB', 'area': 'AFR'}, {'lat': -20.97, 'lng': 34.43833333, 'ident': 'ETLAM', 'name': 'ETLAM', 'usage': ' B', 'icao': 'FQ', 'area': 'AFR'}, {'lat': 0.09666667, 'lng': 22.855, 'ident': 'EDLAM', 'name': 'EDLAM', 'usage': ' H', 'icao': 'FZ', 'area': 'AFR'}, {'lat': -7.765, 'lng': 29.11333333, 'ident': 'MELAM', 'name': 'MELAM', 'usage': ' H', 'icao': 'FZ', 'area': 'AFR'}, {'lat': 1.91666667, 'lng': 29.83, 'ident': 'MOLAM', 'name': 'MOLAM', 'usage': ' H', 'icao': 'FZ', 'area': 'AFR'}, {'lat': 32.91916667, 'lng': -6.39, 'ident': 'ERLAM', 'name': 'ERLAM', 'usage': ' B', 'icao': 'GM', 'area': 'AFR'}, {'lat': 30.91583333, 'lng': -13.24833333, 'ident': 'SULAM', 'name': 'SULAM', 'usage': 'RH', 'icao': 'GM', 'area': 'AFR'}, {'lat': 29.70027778, 'lng': 31.51833333, 'ident': 'SOLAM', 'name': 'SOLAM', 'usage': ' B', 'icao': 'HE', 'area': 'AFR'}, {'lat': 14.66694444, 'lng': 29.11222222, 'ident': 'DELAM', 'name': 'DELAM', 'usage': ' B', 'icao': 'HS', 'area': 'AFR'}, {'lat': 36.07509444, 'lng': -114.52258611, 'ident': 'ACLAM', 'name': 'ACLAM', 'usage': ' L', 'icao': 'K2', 'area': 'USA'}, {'lat': 34.96197778, 'lng': -82.22416667, 'ident': 'PELAM', 'name': 'PELAM', 'usage': ' L', 'icao': 'K7', 'area': 'USA'}, {'lat': 43.17194444, 'lng': 2.86861111, 'ident': 'KELAM', 'name': 'KELAM', 'usage': ' L', 'icao': 'LF', 'area': 'EUR'}, {'lat': 43.78944444, 'lng': 7.52916667, 'ident': 'IVLAM', 'name': 'IVLAM', 'usage': 'RB', 'icao': 'LI', 'area': 'EUR'}, {'lat': 31.93333333, 'lng': 35.51666667, 'ident': 'SALAM', 'name': 'SALAM', 'usage': 'RB', 'icao': 'LL', 'area': 'MES'}, {'lat': 36.19, 'lng': 13.53972222, 'ident': 'MOLAM', 'name': 'MOLAM', 'usage': 'RL', 'icao': 'LM', 'area': 'EUR'}, {'lat': 38.09083333, 'lng': 31.58277778, 'ident': 'OKLAM', 'name': 'OKLAM', 'usage': 'RB', 'icao': 'LT', 'area': 'MES'}, {'lat': 19.96527778, 'lng': -73.37166667, 'ident': 'URLAM', 'name': 'URLAM', 'usage': 'RB', 'icao': 'MT', 'area': 'LAM'}, {'lat': 32.175, 'lng': 63.4, 'ident': 'DILAM', 'name': 'DILAM', 'usage': 'RL', 'icao': 'OA', 'area': 'MES'}, {'lat': 25.90725556, 'lng': 51.72975833, 'ident': 'VELAM', 'name': 'VELAM', 'usage': 'RB', 'icao': 'OB', 'area': 'MES'}, {'lat': 21.78, 'lng': 39.86666667, 'ident': 'ISLAM', 'name': 'ISLAM', 'usage': ' B', 'icao': 'OE', 'area': 'MES'}, {'lat': 25.51583333, 'lng': 54.89583333, 'ident': 'RULAM', 'name': 'RULAM', 'usage': None, 'icao': 'OM', 'area': 'MES'}, {'lat': -19.40383333, 'lng': -36.00633333, 'ident': 'GELAM', 'name': 'GELAM', 'usage': 'RH', 'icao': 'SB', 'area': 'SAM'}, {'lat': -20.801, 'lng': -54.05333333, 'ident': 'IRLAM', 'name': 'IRLAM', 'usage': 'RL', 'icao': 'SB', 'area': 'SAM'}, {'lat': -8.33033333, 'lng': -64.44333333, 'ident': 'OGLAM', 'name': 'OGLAM', 'usage': 'RH', 'icao': 'SB', 'area': 'SAM'}, {'lat': -1.60527778, 'lng': -84.21944444, 'ident': 'EGLAM', 'name': 'EGLAM', 'usage': 'RH', 'icao': 'SE', 'area': 'SAM'}, {'lat': 5.29222222, 'lng': -74.38583333, 'ident': 'VULAM', 'name': 'VULAM', 'usage': ' L', 'icao': 'SK', 'area': 'SAM'}, {'lat': -30.65972222, 'lng': -56.16222222, 'ident': 'UBLAM', 'name': 'UBLAM', 'usage': ' H', 'icao': 'SU', 'area': 'SAM'}, {'lat': 42.61722222, 'lng': 70.42777778, 'ident': 'KOLAM', 'name': 'KOLAM', 'usage': ' B', 'icao': 'UA', 'area': 'EEU'}, {'lat': 57.1, 'lng': 134.67444444, 'ident': 'ABLAM', 'name': 'ABLAM', 'usage': ' B', 'icao': 'UH', 'area': 'EEU'}, {'lat': 54.93361111, 'lng': 155.23527778, 'ident': 'DELAM', 'name': 'DELAM', 'usage': ' B', 'icao': 'UH', 'area': 'EEU'}, {'lat': 49.00861111, 'lng': 141.50138889, 'ident': 'NALAM', 'name': 'NALAM', 'usage': ' B', 'icao': 'UH', 'area': 'EEU'}, {'lat': 62.78138889, 'lng': 165.75083333, 'ident': 'PALAM', 'name': 'PALAM', 'usage': ' B', 'icao': 'UH', 'area': 'EEU'}, {'lat': 44.08638889, 'lng': 30.43861111, 'ident': 'TALAM', 'name': 'TALAM', 'usage': 'RB', 'icao': 'UK', 'area': 'EEU'}, {'lat': 76.95083333, 'lng': 68.51333333, 'ident': 'MELAM', 'name': 'MELAM', 'usage': ' B', 'icao': 'UL', 'area': 'EEU'}, {'lat': 58.05027778, 'lng': 66.86694444, 'ident': 'KULAM', 'name': 'KULAM', 'usage': ' B', 'icao': 'US', 'area': 'EEU'}, {'lat': 56.65, 'lng': 44.93138889, 'ident': 'GILAM', 'name': 'GILAM', 'usage': ' B', 'icao': 'UU', 'area': 'EEU'}, {'lat': 15.60555556, 'lng': 80.85972222, 'ident': 'BILAM', 'name': 'BILAM', 'usage': ' B', 'icao': 'VO', 'area': 'MES'}, {'lat': 15.13861111, 'lng': 75.99888889, 'ident': 'GULAM', 'name': 'GULAM', 'usage': 'RB', 'icao': 'VO', 'area': 'MES'}, {'lat': 48.75083333, 'lng': 101.66916667, 'ident': 'DALAM', 'name': 'DALAM', 'usage': 'RB', 'icao': 'ZM', 'area': 'EEU'}, {'lat': 51.66986389, 'lng': 0.47056389, 'ident': 'D083L', 'name': 'LAM083012', 'usage': None, 'icao': 'EG', 'area': 'EUR'}]\n"
     ]
    }
   ],
   "source": [
    "def search_waypoint(partial_name):\n",
    "    database_path = \"database/nav_data.db\"\n",
    "    connect_to_db = sqlite3.connect(database_path)\n",
    "    cursor = connect_to_db.cursor()\n",
    "\n",
    "    words = partial_name.split()\n",
    "    conditions = \" AND \".join([\"waypoint_name LIKE ? COLLATE NOCASE\" for _ in words])\n",
    "\n",
    "    query = f\"\"\"\n",
    "    SELECT waypoint_latitude, waypoint_longitude, waypoint_identifier, waypoint_name, waypoint_usage, icao_code, area_code\n",
    "    FROM waypoints \n",
    "    WHERE {conditions} \n",
    "    ORDER BY \n",
    "        LENGTH(waypoint_name), \n",
    "        INSTR(LOWER(waypoint_name), LOWER(?)) \n",
    "    \"\"\"\n",
    "\n",
    "    params = tuple(f\"{word}%\" for word in words) + (words[0],)\n",
    "\n",
    "    cursor.execute(query, params)\n",
    "    results = cursor.fetchall()\n",
    "    connect_to_db.close()\n",
    "\n",
    "    return [{\"lat\": latitude, \"lng\": longitude, \"ident\": waypoint_identifier, \"name\": waypoint_name, \"usage\": waypoint_usage, \"icao\": icao_code, \"area\": area_code} for latitude, longitude, waypoint_identifier, waypoint_name, waypoint_usage, icao_code, area_code in results]\n",
    "\n",
    "print(search_waypoint(\"LAM\"))"
   ]
  }
 ],
 "metadata": {
  "kernelspec": {
   "display_name": "Python 3",
   "language": "python",
   "name": "python3"
  },
  "language_info": {
   "codemirror_mode": {
    "name": "ipython",
    "version": 3
   },
   "file_extension": ".py",
   "mimetype": "text/x-python",
   "name": "python",
   "nbconvert_exporter": "python",
   "pygments_lexer": "ipython3",
   "version": "3.11.9"
  }
 },
 "nbformat": 4,
 "nbformat_minor": 2
}
