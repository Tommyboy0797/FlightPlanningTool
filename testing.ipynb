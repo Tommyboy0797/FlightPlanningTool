{
 "cells": [
  {
   "cell_type": "code",
   "execution_count": 2,
   "metadata": {},
   "outputs": [
    {
     "name": "stdout",
     "output_type": "stream",
     "text": [
      "g:\\CompSciProject\n",
      "g:\\CompSciProject\n",
      "g:\\CompSciProject\n",
      "g:\\CompSciProject\n"
     ]
    }
   ],
   "source": [
    "import random\n",
    "import os\n",
    "import re\n",
    "import numpy as np\n",
    "from pprint import pprint\n",
    "print(os.getcwd())\n",
    "from Backend.py_utils import *\n",
    "from Backend import perf_calc as perf_calc\n",
    "from fastapi import FastAPI, Request\n",
    "from fastapi.responses import RedirectResponse\n",
    "from fastapi.templating import Jinja2Templates\n",
    "from fastapi.staticfiles import StaticFiles\n",
    "from Backend import perf_calc as perf_calc\n",
    "from Backend import rotation_calc as rotation_calc\n",
    "from Backend import refusal as refusal\n",
    "from database import database_handler\n",
    "from fastapi.responses import JSONResponse\n",
    "from Backend import handle_route as handle_route\n",
    "from pydantic import BaseModel \n",
    "from Backend import wind_calc\n",
    "import sqlite3"
   ]
  },
  {
   "cell_type": "code",
   "execution_count": 11,
   "metadata": {},
   "outputs": [
    {
     "data": {
      "text/plain": [
       "[('Othello Municipal Airport', 'KS70', 'small_airport')]"
      ]
     },
     "execution_count": 11,
     "metadata": {},
     "output_type": "execute_result"
    }
   ],
   "source": [
    "def search_airport(partial_name):\n",
    "    database_path = \"database/nav_data.db\"\n",
    "    connect_to_db = sqlite3.connect(database_path)\n",
    "    cursor = connect_to_db.cursor()\n",
    "\n",
    "    words = partial_name.split()\n",
    "    conditions = \" AND \".join([\"name LIKE ? COLLATE NOCASE\" for _ in words])\n",
    "\n",
    "    query = f\"\"\"\n",
    "    SELECT name, icao,type\n",
    "    FROM airports \n",
    "    WHERE {conditions} \n",
    "    ORDER BY \n",
    "        LENGTH(name), \n",
    "        INSTR(LOWER(name), LOWER(?)) \n",
    "    \"\"\"\n",
    "\n",
    "    params = tuple(f\"%{word}%\" for word in words) + (words[0],)\n",
    "\n",
    "    cursor.execute(query, params)\n",
    "    results = cursor.fetchall()\n",
    "    connect_to_db.close()\n",
    "\n",
    "    return results\n",
    "search_airport(\"hello\")"
   ]
  },
  {
   "cell_type": "code",
   "execution_count": null,
   "metadata": {},
   "outputs": [
    {
     "name": "stdout",
     "output_type": "stream",
     "text": [
      "Database update completed successfully.\n"
     ]
    }
   ],
   "source": [
    "import sqlite3\n",
    "import json\n",
    "\n",
    "db_path = \"database/nav_data.db\"\n",
    "json_path = \"C:/Users/Thomas/Downloads/Airport-Codes-main/Airport-Codes-main/airports.json\"\n",
    "\n",
    "with open(json_path, \"r\") as file:\n",
    "    airports_data = json.load(file)\n",
    "\n",
    "conn = sqlite3.connect(db_path)\n",
    "cursor = conn.cursor()\n",
    "\n",
    "try:\n",
    "    cursor.execute(\"ALTER TABLE airports ADD COLUMN name TEXT;\")\n",
    "except sqlite3.OperationalError:\n",
    "    print(\"Column 'name' already exists.\")\n",
    "\n",
    "update_data = [(data.get(\"name\", \"\"), icao) for icao, data in airports_data.items()]\n",
    "\n",
    "cursor.executemany(\"UPDATE airports SET name = ? WHERE icao = ?\", update_data)\n",
    "\n",
    "conn.commit()\n",
    "conn.close()\n",
    "\n",
    "print(\"Database update completed successfully.\")\n"
   ]
  }
 ],
 "metadata": {
  "kernelspec": {
   "display_name": "Python 3",
   "language": "python",
   "name": "python3"
  },
  "language_info": {
   "codemirror_mode": {
    "name": "ipython",
    "version": 3
   },
   "file_extension": ".py",
   "mimetype": "text/x-python",
   "name": "python",
   "nbconvert_exporter": "python",
   "pygments_lexer": "ipython3",
   "version": "3.11.9"
  }
 },
 "nbformat": 4,
 "nbformat_minor": 2
}
