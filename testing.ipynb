{
 "cells": [
  {
   "cell_type": "code",
   "execution_count": 5,
   "metadata": {},
   "outputs": [
    {
     "name": "stdout",
     "output_type": "stream",
     "text": [
      "g:\\CompSciProject\n",
      "g:\\CompSciProject\n"
     ]
    }
   ],
   "source": [
    "import random\n",
    "import os\n",
    "import re\n",
    "import numpy as np\n",
    "from pprint import pprint\n",
    "print(os.getcwd())\n",
    "from Backend.py_utils import *\n",
    "from Backend import perf_calc as perf_calc\n"
   ]
  },
  {
   "cell_type": "code",
   "execution_count": 10,
   "metadata": {},
   "outputs": [],
   "source": [
    "def get_refusal_p3(uncorrected_ref_speed, rwy_slope): #runway slope\n",
    "\n",
    "    TOP_FOLDER = \"Backend/chart_dig/completed-takeoff/refusal-and-cef-speed\"\n",
    "    DIG_FILE_NAME = \"refusal-runway-slope.dig\"\n",
    "\n",
    "    data = {}\n",
    "\n",
    "    chart = ParseDig(f'./{TOP_FOLDER}/dig/{DIG_FILE_NAME}')\n",
    "    for c in  chart.curveNames():\n",
    "        yVector = [row [1] for row in chart.curve(c)]\n",
    "        xVector = [row [0] for row in chart.curve(c)]\n",
    "        scale_number = float(re.sub('[^0-9]','', c.replace(\"-\", \"_\")))\n",
    "        \n",
    "        data[scale_number] = {\n",
    "            \"x\": xVector,\n",
    "            \"y\": yVector\n",
    "        }\n",
    "    \n",
    "    runway_slope_scale = []\n",
    "    result_slope = []\n",
    "\n",
    "    for slope_scale, xy_pair_slope in data.items():\n",
    "        xy_pair_slope = data[slope_scale]\n",
    "\n",
    "        x_values = xy_pair_slope[\"x\"]\n",
    "        y_values = xy_pair_slope[\"y\"]\n",
    "\n",
    "        runway_slope_scale.append(slope_scale)\n",
    "        result_slope.append(np.interp(rwy_slope,x_values, y_values))\n",
    "\n",
    "    result = np.interp(uncorrected_ref_speed, runway_slope_scale, result_slope)\n",
    "\n",
    "    return round(result)\n"
   ]
  },
  {
   "cell_type": "code",
   "execution_count": 60,
   "metadata": {},
   "outputs": [
    {
     "data": {
      "text/plain": [
       "118"
      ]
     },
     "execution_count": 60,
     "metadata": {},
     "output_type": "execute_result"
    }
   ],
   "source": [
    "get_refusal_p3(118, 0.4)"
   ]
  },
  {
   "cell_type": "code",
   "execution_count": 7,
   "metadata": {},
   "outputs": [],
   "source": [
    "def get_refusal_p4(prev_data, wind_speed, tail_or_head):\n",
    "\n",
    "    TOP_FOLDER = \"Backend/chart_dig/completed-takeoff/refusal-and-cef-speed\"\n",
    "    DIG_FILE_NAME = \"wind-velocity-for-refusal.dig\"\n",
    "\n",
    "    data = {}\n",
    "\n",
    "    chart = ParseDig(f'./{TOP_FOLDER}/dig/{DIG_FILE_NAME}')\n",
    "    for c in  chart.curveNames():\n",
    "        yVector = [row [1] for row in chart.curve(c)]\n",
    "        xVector = [row [0] for row in chart.curve(c)]\n",
    "        scale_number = float(re.sub('[^0-9]','', c.replace(\"-\", \"_\")))\n",
    "        \n",
    "        data[scale_number] = {\n",
    "            \"x\": xVector,\n",
    "            \"y\": yVector\n",
    "        }\n",
    "\n",
    "    if tail_or_head == \"Headwind\":\n",
    "        wind_speed = wind_speed * 0.5 # apply a +50% factor to reported headwind\n",
    "    elif tail_or_head == \"Tailwind\":\n",
    "        wind_speed = wind_speed * 1.5 # apply a +150% factor to reported headwind\n",
    "    else:\n",
    "        wind_speed = wind_speed # do nothing if its a crosswind\n",
    "\n",
    "    runway_windscale = []\n",
    "    result_wind = []\n",
    "\n",
    "    for windscale, xy_pair_wind in data.items():\n",
    "        xy_pair_wind = data[windscale]\n",
    "\n",
    "        x_values = xy_pair_wind[\"x\"]\n",
    "        y_values = xy_pair_wind[\"y\"]\n",
    "\n",
    "        runway_windscale.append(windscale)\n",
    "        result_wind.append(np.interp(wind_speed, x_values, y_values))\n",
    "    \n",
    "    result = np.interp(prev_data, runway_windscale, result_wind)\n",
    "\n",
    "    return round(result)"
   ]
  },
  {
   "cell_type": "code",
   "execution_count": 59,
   "metadata": {},
   "outputs": [
    {
     "data": {
      "text/plain": [
       "128"
      ]
     },
     "execution_count": 59,
     "metadata": {},
     "output_type": "execute_result"
    }
   ],
   "source": [
    "get_refusal_p4(118,20, \"Headwind\")"
   ]
  },
  {
   "cell_type": "code",
   "execution_count": 106,
   "metadata": {},
   "outputs": [],
   "source": [
    "def get_refusal_p6(prev_data, rcr):\n",
    "\n",
    "    TOP_FOLDER = \"Backend/chart_dig/completed-takeoff/refusal-and-cef-speed\"\n",
    "    DIG_FILE_NAME = \"refusal-rcr.dig\"\n",
    "\n",
    "    data = {}\n",
    "\n",
    "    chart = ParseDig(f'./{TOP_FOLDER}/dig/{DIG_FILE_NAME}')\n",
    "    for c in  chart.curveNames():\n",
    "        yVector = [row [1] for row in chart.curve(c)]\n",
    "        xVector = [row [0] for row in chart.curve(c)]\n",
    "        scale_number = float(re.sub('[^0-9]','', c.replace(\"-\", \"_\")))\n",
    "        \n",
    "        data[scale_number] = {\n",
    "            \"x\": xVector,\n",
    "            \"y\": yVector\n",
    "        }\n",
    "\n",
    "    rcr_scale = []\n",
    "    result_rcr = []\n",
    "\n",
    "    for rcrscale, xy_pair_rcr in data.items():\n",
    "        xy_pair_rcr = data[rcrscale]\n",
    "\n",
    "        x_values = xy_pair_rcr[\"x\"]\n",
    "        y_values = xy_pair_rcr[\"y\"]\n",
    "\n",
    "        rcr_scale.append(rcrscale)\n",
    "        result_rcr.append(np.interp(rcr, x_values, y_values))\n",
    "\n",
    "    result = np.interp(prev_data, rcr_scale, result_rcr)\n",
    "    return round(result)"
   ]
  },
  {
   "cell_type": "code",
   "execution_count": 100,
   "metadata": {},
   "outputs": [
    {
     "data": {
      "text/plain": [
       "76"
      ]
     },
     "execution_count": 100,
     "metadata": {},
     "output_type": "execute_result"
    }
   ],
   "source": [
    "get_refusal_p6(100,6)"
   ]
  },
  {
   "cell_type": "code",
   "execution_count": 102,
   "metadata": {},
   "outputs": [],
   "source": [
    "def get_refusal_p7(prev_data, rsc):\n",
    "\n",
    "    TOP_FOLDER = \"Backend/chart_dig/completed-takeoff/refusal-and-cef-speed\"\n",
    "    DIG_FILE_NAME = \"refusal-rsc.dig\"\n",
    "\n",
    "    data = {}\n",
    "\n",
    "    chart = ParseDig(f'./{TOP_FOLDER}/dig/{DIG_FILE_NAME}')\n",
    "    for c in  chart.curveNames():\n",
    "        yVector = [row [1] for row in chart.curve(c)]\n",
    "        xVector = [row [0] for row in chart.curve(c)]\n",
    "        scale_number = float(re.sub('[^0-9]','', c.replace(\"-\", \"_\")))\n",
    "        \n",
    "        data[scale_number] = {\n",
    "            \"x\": xVector,\n",
    "            \"y\": yVector\n",
    "        }\n",
    "\n",
    "    rsc_scale = []\n",
    "    result_rsc = []\n",
    "\n",
    "    for rscscale, xy_pair_rsc in data.items():\n",
    "        xy_pair_rsc = data[rscscale]\n",
    "\n",
    "        x_values = xy_pair_rsc[\"x\"]\n",
    "        y_values = xy_pair_rsc[\"y\"]\n",
    "\n",
    "        rsc_scale.append(rscscale)\n",
    "        result_rsc.append(np.interp(rsc, x_values, y_values))\n",
    "\n",
    "    result = np.interp(prev_data, rsc_scale, result_rsc)\n",
    "    return round(result)"
   ]
  },
  {
   "cell_type": "code",
   "execution_count": 105,
   "metadata": {},
   "outputs": [
    {
     "data": {
      "text/plain": [
       "71"
      ]
     },
     "execution_count": 105,
     "metadata": {},
     "output_type": "execute_result"
    }
   ],
   "source": [
    "get_refusal_p7(110,5)"
   ]
  }
 ],
 "metadata": {
  "kernelspec": {
   "display_name": "Python 3",
   "language": "python",
   "name": "python3"
  },
  "language_info": {
   "codemirror_mode": {
    "name": "ipython",
    "version": 3
   },
   "file_extension": ".py",
   "mimetype": "text/x-python",
   "name": "python",
   "nbconvert_exporter": "python",
   "pygments_lexer": "ipython3",
   "version": "3.11.9"
  }
 },
 "nbformat": 4,
 "nbformat_minor": 2
}
