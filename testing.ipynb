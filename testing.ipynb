{
 "cells": [
  {
   "cell_type": "code",
   "execution_count": 2,
   "metadata": {},
   "outputs": [
    {
     "name": "stdout",
     "output_type": "stream",
     "text": [
      "g:\\CompSciProject\n",
      "g:\\CompSciProject\n",
      "g:\\CompSciProject\n",
      "g:\\CompSciProject\n"
     ]
    }
   ],
   "source": [
    "import random\n",
    "import os\n",
    "import re\n",
    "import numpy as np\n",
    "from pprint import pprint\n",
    "print(os.getcwd())\n",
    "from Backend.py_utils import *\n",
    "from Backend import perf_calc as perf_calc\n",
    "from fastapi import FastAPI, Request\n",
    "from fastapi.responses import RedirectResponse\n",
    "from fastapi.templating import Jinja2Templates\n",
    "from fastapi.staticfiles import StaticFiles\n",
    "from Backend import perf_calc as perf_calc\n",
    "from Backend import rotation_calc as rotation_calc\n",
    "from Backend import refusal as refusal\n",
    "from database import database_handler\n",
    "from fastapi.responses import JSONResponse\n",
    "from Backend import handle_route as handle_route\n",
    "from pydantic import BaseModel \n",
    "from Backend import wind_calc\n",
    "import sqlite3"
   ]
  },
  {
   "cell_type": "code",
   "execution_count": 11,
   "metadata": {},
   "outputs": [
    {
     "data": {
      "text/plain": [
       "[('Othello Municipal Airport', 'KS70', 'small_airport')]"
      ]
     },
     "execution_count": 11,
     "metadata": {},
     "output_type": "execute_result"
    }
   ],
   "source": [
    "def search_airport(partial_name):\n",
    "    database_path = \"database/nav_data.db\"\n",
    "    connect_to_db = sqlite3.connect(database_path)\n",
    "    cursor = connect_to_db.cursor()\n",
    "\n",
    "    words = partial_name.split()\n",
    "    conditions = \" AND \".join([\"name LIKE ? COLLATE NOCASE\" for _ in words])\n",
    "\n",
    "    query = f\"\"\"\n",
    "    SELECT name, icao,type\n",
    "    FROM airports \n",
    "    WHERE {conditions} \n",
    "    ORDER BY \n",
    "        LENGTH(name), \n",
    "        INSTR(LOWER(name), LOWER(?)) \n",
    "    \"\"\"\n",
    "\n",
    "    params = tuple(f\"%{word}%\" for word in words) + (words[0],)\n",
    "\n",
    "    cursor.execute(query, params)\n",
    "    results = cursor.fetchall()\n",
    "    connect_to_db.close()\n",
    "\n",
    "    return results\n",
    "search_airport(\"hello\")"
   ]
  },
  {
   "cell_type": "code",
   "execution_count": null,
   "metadata": {},
   "outputs": [],
   "source": [
    "from math import cos, asin, sqrt, pi\n",
    "import sqlite3\n",
    "def nearby_points(point_lat, point_lng, area_code):\n",
    "    database_path = \"database/nav_data.db\"\n",
    "    connect_to_db = sqlite3.connect(database_path)\n",
    "    cursor = connect_to_db.cursor()\n",
    "\n",
    "    cursor.execute(\"SELECT waypoint_identifier, waypoint_latitude, waypoint_longitude FROM waypoints WHERE area_code = ?\", (area_code,))\n",
    "\n",
    "    close_wp = []\n",
    "\n",
    "    data = cursor.fetchall()\n",
    "\n",
    "    def distance(lat1, lon1, lat2, lon2):\n",
    "        r = 3958.8 # miles\n",
    "        p = pi / 180\n",
    "\n",
    "        a = 0.5 - cos((lat2-lat1)*p)/2 + cos(lat1*p) * cos(lat2*p) * (1-cos((lon2-lon1)*p))/2\n",
    "        return 2 * r * asin(sqrt(a))\n",
    "    \n",
    "    for waypoint in data:\n",
    "        waypoint_id, waypoint_lat, waypoint_lng = waypoint\n",
    "        dist = distance(point_lat, point_lng, waypoint_lat, waypoint_lng)\n",
    "       \n",
    "        if dist < 20:\n",
    "            close_wp.append([waypoint_id,waypoint_lat,waypoint_lng, dist])\n",
    "    \n",
    "    return close_wp\n",
    "\n",
    "nearby_points(51.68527778,0.68333333,\"EUR\")"
   ]
  }
 ],
 "metadata": {
  "kernelspec": {
   "display_name": "Python 3",
   "language": "python",
   "name": "python3"
  },
  "language_info": {
   "codemirror_mode": {
    "name": "ipython",
    "version": 3
   },
   "file_extension": ".py",
   "mimetype": "text/x-python",
   "name": "python",
   "nbconvert_exporter": "python",
   "pygments_lexer": "ipython3",
   "version": "3.11.9"
  }
 },
 "nbformat": 4,
 "nbformat_minor": 2
}
