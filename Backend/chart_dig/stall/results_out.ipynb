{
 "cells": [
  {
   "cell_type": "code",
   "execution_count": 2,
   "metadata": {},
   "outputs": [
    {
     "name": "stdout",
     "output_type": "stream",
     "text": [
      "c:\\Users\\mcdel\\digitized-charts\n"
     ]
    }
   ],
   "source": [
    "import os\n",
    "os.chdir(\"..\")\n",
    "print(os.getcwd())\n",
    "from py_utils import *"
   ]
  },
  {
   "cell_type": "code",
   "execution_count": 3,
   "metadata": {},
   "outputs": [],
   "source": [
    "TOP_FOLDER = \"stall\""
   ]
  },
  {
   "cell_type": "code",
   "execution_count": 10,
   "metadata": {},
   "outputs": [
    {
     "name": "stdout",
     "output_type": "stream",
     "text": [
      "auto speed = linear_interpolate( scale_vals_1, {\n",
      "\t{93.952, 107.224, 122.466, 133.164, 139.589}\n",
      "\t{80.181, 104.188, 135.686, 159.513, 174.946}\n",
      "\t{95.697, 111.288, 123.272, 132.857, 141.885}\n",
      "\t{80.090, 108.159, 131.805, 153.827, 174.765}\n",
      "\t{101.027, 110.113, 123.756, 133.883, 143.366, 149.880}\n",
      "\t{80.090, 94.982, 119.711, 139.928, 160.054, 174.946}\n",
      "\t{111.593, 124.841, 138.566, 151.835, 160.377, 167.246}\n",
      "\t{80.000, 99.765, 122.599, 146.155, 162.310, 174.946}\n",
      "\t{133.278, 145.214, 164.472, 178.277, 190.607, 197.751}\n",
      "\t{80.090, 95.253, 121.787, 142.545, 162.401, 174.765}\n",
      "}, bank_angle);\n"
     ]
    }
   ],
   "source": [
    "DIG_FILE_NAME = \"stall_enroute.dig\"\n",
    "INPUT = \"gwt\"\n",
    "OUTPUT = \"speed\"\n",
    "INTERP_VAL = \"bank_angle\"\n",
    "uncorr = {}\n",
    "chart = ParseDig(f'./{TOP_FOLDER}/dig/{DIG_FILE_NAME}')\n",
    "\n",
    "print(f\"auto {OUTPUT} = linear_interpolate( scale_vals_1, {{\")\n",
    "for c in chart.curveNames():\n",
    "    xVector = [row [0] for row in chart.curve(c)]\n",
    "    yVector = [row [1] for row in chart.curve(c)]\n",
    "    c_clean = c.replace(\"-\", \"_\")\n",
    "\n",
    "    print(f\"\\t{{\" + \", \".join(['{0:.3f}'.format(s) for s in xVector]) + f\"}}\")\n",
    "    print(f\"\\t{{\" + \", \".join(['{0:.3f}'.format(s) for s in yVector]) + f\"}}\")\n",
    "print(f\"}}, {INTERP_VAL});\")"
   ]
  },
  {
   "cell_type": "code",
   "execution_count": 5,
   "metadata": {},
   "outputs": [
    {
     "name": "stdout",
     "output_type": "stream",
     "text": [
      "auto speed = linear_interpolate( scale_vals_2, {\n",
      "\t{82.504, 92.385, 101.349, 110.008, 118.361, 122.201}\n",
      "\t{79.922, 100.378, 121.009, 141.728, 163.968, 175.444}\n",
      "\t{84.214, 93.668, 104.584, 112.572, 119.888, 124.461}\n",
      "\t{80.019, 99.309, 123.709, 143.351, 162.811, 175.275}\n",
      "\t{88.855, 98.675, 106.604, 113.130, 121.667, 131.362}\n",
      "\t{80.129, 99.063, 115.213, 130.283, 150.106, 175.037}\n",
      "\t{98.321, 112.412, 121.501, 128.698, 134.858, 139.919, 144.552}\n",
      "\t{79.992, 104.765, 122.173, 137.246, 150.613, 163.079, 175.365}\n",
      "}, bank_angle);\n"
     ]
    }
   ],
   "source": [
    "DIG_FILE_NAME = \"stall_takeoff_appr.dig\"\n",
    "INPUT = \"gwt\"\n",
    "OUTPUT = \"speed\"\n",
    "INTERP_VAL = \"bank_angle\"\n",
    "uncorr = {}\n",
    "chart = ParseDig(f'./{TOP_FOLDER}/dig/{DIG_FILE_NAME}')\n",
    "\n",
    "print(f\"auto {OUTPUT} = linear_interpolate( scale_vals_2, {{\")\n",
    "for c in chart.curveNames():\n",
    "    xVector = [row [0] for row in chart.curve(c)]\n",
    "    yVector = [row [1] for row in chart.curve(c)]\n",
    "    c_clean = c.replace(\"-\", \"_\")\n",
    "\n",
    "    print(f\"\\t{{\" + \", \".join(['{0:.3f}'.format(s) for s in xVector]) + f\"}}\")\n",
    "    print(f\"\\t{{\" + \", \".join(['{0:.3f}'.format(s) for s in yVector]) + f\"}}\")\n",
    "print(f\"}}, {INTERP_VAL});\")"
   ]
  },
  {
   "cell_type": "code",
   "execution_count": 4,
   "metadata": {},
   "outputs": [
    {
     "name": "stdout",
     "output_type": "stream",
     "text": [
      "auto speed = linear_interpolate( scale_vals_3, {\n",
      "\t{74.510, 82.293, 90.139, 98.417, 104.409, 110.216}\n",
      "\t{80.010, 97.843, 117.109, 139.777, 157.158, 175.166}\n",
      "\t{75.745, 84.579, 94.216, 101.568, 107.313, 112.008}\n",
      "\t{80.102, 99.818, 123.205, 143.365, 160.119, 175.260}\n",
      "\t{80.008, 89.212, 98.108, 106.201, 114.973, 118.309}\n",
      "\t{80.022, 98.754, 120.081, 140.779, 164.971, 175.005}\n",
      "\t{88.533, 102.432, 112.440, 121.645, 131.282}\n",
      "\t{80.131, 107.020, 128.797, 150.035, 175.303}\n",
      "}, bank_angle);\n"
     ]
    }
   ],
   "source": [
    "DIG_FILE_NAME = \"stall_landing.dig\"\n",
    "INPUT = \"gwt\"\n",
    "OUTPUT = \"speed\"\n",
    "INTERP_VAL = \"bank_angle\"\n",
    "uncorr = {}\n",
    "chart = ParseDig(f'./{TOP_FOLDER}/dig/{DIG_FILE_NAME}')\n",
    "\n",
    "print(f\"auto {OUTPUT} = linear_interpolate( scale_vals_3, {{\")\n",
    "for c in chart.curveNames():\n",
    "    xVector = [row [0] for row in chart.curve(c)]\n",
    "    yVector = [row [1] for row in chart.curve(c)]\n",
    "    c_clean = c.replace(\"-\", \"_\")\n",
    "\n",
    "    print(f\"\\t{{\" + \", \".join(['{0:.3f}'.format(s) for s in xVector]) + f\"}}\")\n",
    "    print(f\"\\t{{\" + \", \".join(['{0:.3f}'.format(s) for s in yVector]) + f\"}}\")\n",
    "print(f\"}}, {INTERP_VAL});\")"
   ]
  },
  {
   "cell_type": "code",
   "execution_count": null,
   "metadata": {},
   "outputs": [],
   "source": []
  }
 ],
 "metadata": {
  "kernelspec": {
   "display_name": "Python 3",
   "language": "python",
   "name": "python3"
  },
  "language_info": {
   "codemirror_mode": {
    "name": "ipython",
    "version": 3
   },
   "file_extension": ".py",
   "mimetype": "text/x-python",
   "name": "python",
   "nbconvert_exporter": "python",
   "pygments_lexer": "ipython3",
   "version": "3.10.6"
  },
  "orig_nbformat": 4
 },
 "nbformat": 4,
 "nbformat_minor": 2
}
