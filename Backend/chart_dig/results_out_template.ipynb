{
 "cells": [
  {
   "cell_type": "code",
   "execution_count": 1,
   "metadata": {},
   "outputs": [],
   "source": [
    "import os\n",
    "os.chdir(\"../\")\n",
    "print(os.getcwd())\n",
    "from py_utils import *"
   ]
  },
  {
   "cell_type": "code",
   "execution_count": 2,
   "metadata": {},
   "outputs": [],
   "source": [
    "TOP_FOLDER = \"PUT THE FOLDER WITH THE DATA HERE\""
   ]
  },
  {
   "cell_type": "code",
   "execution_count": null,
   "metadata": {},
   "outputs": [],
   "source": [
    "DIG_FILE_NAME = \"4_eng_climb_speed.dig\"\n",
    "X_AXIS_NAME = \"gwt\"\n",
    "Y_NAME = \"speed\"\n",
    "uncorr = {}\n",
    "chart = ParseDig(f'./{TOP_FOLDER}/dig/{DIG_FILE_NAME}')\n",
    "for c in chart.curveNames():\n",
    "    xVector = [row [0] for row in chart.curve(c)]\n",
    "    yVector = [row [1] for row in chart.curve(c)]\n",
    "    c_clean = c.replace(\"-\", \"_\")\n",
    "    x_nm = c_clean\n",
    "    print(f\"const std::vector<double>{x_nm}{{\" + \", \".join(['{0:.3f}'.format(s) for s in xVector]) + \"};\")\n",
    "    \n",
    "    print(f\"const std::vector<double>{c_clean}{{\" + \", \".join(['{0:.3f}'.format(s) for s in yVector]) + \"};\")\n",
    "    print(\"\\n\")"
   ]
  }
 ],
 "metadata": {
  "kernelspec": {
   "display_name": "Python 3",
   "language": "python",
   "name": "python3"
  },
  "language_info": {
   "codemirror_mode": {
    "name": "ipython",
    "version": 3
   },
   "file_extension": ".py",
   "mimetype": "text/x-python",
   "name": "python",
   "nbconvert_exporter": "python",
   "pygments_lexer": "ipython3",
   "version": "3.11.9"
  },
  "orig_nbformat": 4
 },
 "nbformat": 4,
 "nbformat_minor": 2
}
