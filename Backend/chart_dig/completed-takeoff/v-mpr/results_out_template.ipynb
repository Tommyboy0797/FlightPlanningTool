{
 "cells": [
  {
   "cell_type": "code",
   "execution_count": 1,
   "metadata": {},
   "outputs": [
    {
     "name": "stdout",
     "output_type": "stream",
     "text": [
      "c:\\Users\\mcdel\\digitized-charts\n"
     ]
    }
   ],
   "source": [
    "import os\n",
    "os.chdir(\"../\")\n",
    "print(os.getcwd())\n",
    "from py_utils import *"
   ]
  },
  {
   "cell_type": "code",
   "execution_count": 2,
   "metadata": {},
   "outputs": [],
   "source": [
    "TOP_FOLDER = \"v-mpr\""
   ]
  },
  {
   "cell_type": "code",
   "execution_count": 3,
   "metadata": {},
   "outputs": [
    {
     "name": "stdout",
     "output_type": "stream",
     "text": [
      "lin(std::vector<double>{-59.934, -39.984, -29.893, -13.191, -1.708, 13.023, 30.769, 40.744, 59.418},\n",
      "std::vector<double>{122.125, 118.301, 116.266, 111.631, 107.673, 103.781, 99.024, 95.623, 90.184}, oat),\n",
      "lin(std::vector<double>{-60.050, -49.959, -44.855, -29.777, -13.307, -0.200, 13.719, 30.769, 40.628, 59.998},\n",
      "std::vector<double>{126.221, 125.551, 125.309, 122.100, 115.479, 109.475, 103.658, 99.086, 95.685, 90.309}, oat),\n",
      "lin(std::vector<double>{-59.818, -44.275, -30.241, -14.235, -1.128, 14.878, 30.073, 39.816, 45.267, 60.114},\n",
      "std::vector<double>{141.117, 138.033, 136.188, 129.815, 123.004, 112.287, 108.271, 105.056, 103.201, 99.371}, oat),\n",
      "lin(std::vector<double>{-60.050, -30.125, -9.595, 0.032, 12.907, 30.073, 45.267, 59.998},\n",
      "std::vector<double>{146.268, 140.160, 138.820, 138.274, 128.856, 117.333, 112.262, 108.308}, oat),\n",
      "lin(std::vector<double>{-59.934, -28.733, -0.200, 9.891, 15.342, 31.465, 50.023, 60.346},\n",
      "std::vector<double>{153.157, 146.927, 141.314, 140.024, 139.223, 130.740, 121.826, 117.432}, oat),\n",
      "lin(std::vector<double>{-60.115, -43.176, -14.822, 0.644, 18.136, 29.367, 43.728, 59.563},\n",
      "std::vector<double>{160.025, 155.612, 150.031, 148.080, 144.555, 142.401, 134.832, 126.379}, oat),\n",
      "lin(std::vector<double>{-60.115, -16.663, -0.276, 14.269, 30.472, 45.938, 60.115},\n",
      "std::vector<double>{168.103, 156.433, 155.074, 152.234, 151.072, 141.830, 134.163}, oat),\n"
     ]
    }
   ],
   "source": [
    "DIG_FILE_NAME = \"v-mpr.dig\"\n",
    "INPUT = \"oat\"\n",
    "OUTPUT = \"ias\"\n",
    "uncorr = {}\n",
    "chart = ParseDig(f'./{TOP_FOLDER}/dig/{DIG_FILE_NAME}')\n",
    "for c in reversed(chart.curveNames()):\n",
    "    xVector = [row [0] for row in chart.curve(c)]\n",
    "    yVector = [row [1] for row in chart.curve(c)]\n",
    "    c_clean = c.replace(\"-\", \"_\")\n",
    "\n",
    "    print(f\"lin(std::vector<double>{{\" + \", \".join(['{0:.3f}'.format(s) for s in xVector]) + \"},\")\n",
    "    print(f\"std::vector<double>{{\" + \", \".join(['{0:.3f}'.format(s) for s in yVector]) + f\"}}, {INPUT}),\")\n",
    "\n"
   ]
  },
  {
   "cell_type": "code",
   "execution_count": null,
   "metadata": {},
   "outputs": [],
   "source": []
  }
 ],
 "metadata": {
  "kernelspec": {
   "display_name": "ds-infra",
   "language": "python",
   "name": "python3"
  },
  "language_info": {
   "codemirror_mode": {
    "name": "ipython",
    "version": 3
   },
   "file_extension": ".py",
   "mimetype": "text/x-python",
   "name": "python",
   "nbconvert_exporter": "python",
   "pygments_lexer": "ipython3",
   "version": "3.10.11"
  },
  "orig_nbformat": 4,
  "vscode": {
   "interpreter": {
    "hash": "0989b4bfb6de13ee5a479302171e01fc7a2733b588409e2c447a1a059d02f27e"
   }
  }
 },
 "nbformat": 4,
 "nbformat_minor": 2
}
