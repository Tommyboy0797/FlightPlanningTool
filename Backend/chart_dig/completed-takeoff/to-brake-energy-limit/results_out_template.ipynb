{
 "cells": [
  {
   "cell_type": "code",
   "execution_count": null,
   "metadata": {},
   "outputs": [],
   "source": [
    "import os\n",
    "os.chdir(\"../..\")\n",
    "print(os.getcwd())\n",
    "from py_utils import *"
   ]
  },
  {
   "cell_type": "code",
   "execution_count": null,
   "metadata": {},
   "outputs": [],
   "source": [
    "TOP_FOLDER = \"completed-takeoff/to-brake-energy-limit\""
   ]
  },
  {
   "cell_type": "code",
   "execution_count": null,
   "metadata": {},
   "outputs": [],
   "source": [
    "DIG_FILE_NAME = \"takeoff brake energy press alt.dig\"\n",
    "INPUT = \"gwt\"\n",
    "OUTPUT = \"uncor_1\"\n",
    "uncorr = {}\n",
    "chart = ParseDig(f'./{TOP_FOLDER}/dig/{DIG_FILE_NAME}')\n",
    "c = list(chart.curveNames())[0]\n",
    "print(list(([row [1] for row in chart.curve(c)])))\n"
   ]
  },
  {
   "cell_type": "code",
   "execution_count": null,
   "metadata": {},
   "outputs": [],
   "source": [
    "DIG_FILE_NAME = \"takeoff brake energy press alt.dig\"\n",
    "INPUT = \"gwt\"\n",
    "OUTPUT = \"uncor_1\"\n",
    "uncorr = {}\n",
    "chart = ParseDig(f'./{TOP_FOLDER}/dig/{DIG_FILE_NAME}')\n",
    "for c in reversed(chart.curveNames()):\n",
    "    xVector = list(([row [0] for row in chart.curve(c)]))\n",
    "    yVector = list(([row [1] for row in chart.curve(c)]))\n",
    "    c_clean = c.replace(\"-\", \"_\")\n",
    "\n",
    "    print(f\"lin(std::vector<double>{{\" + \", \".join(['{0:.3f}'.format(s) for s in xVector]) + \"},\")\n",
    "    print(f\"std::vector<double>{{\" + \", \".join(['{0:.3f}'.format(s) for s in yVector]) + f\"}}, {INPUT}),\")\n",
    "\n"
   ]
  },
  {
   "cell_type": "code",
   "execution_count": 4,
   "metadata": {},
   "outputs": [
    {
     "name": "stdout",
     "output_type": "stream",
     "text": [
      "lin(std::vector<double>{-45.369, -30.426, -19.969, -10.002, 10.335, 20.330, 30.398, 40.651, 45.285}, // 90\n",
      "std::vector<double>{100.214, 96.520, 94.203, 91.536, 87.879, 86.191, 84.697, 82.692, 81.476}, t_dev),\n",
      "lin(std::vector<double>{-45.371, -40.625, -30.355, -20.187, -10.047, 0.078, 10.348, 20.415, 30.410, 40.608, 45.397}, // 100\n",
      "std::vector<double>{112.038, 110.467, 107.614, 104.784, 101.877, 99.808, 97.599, 95.569, 93.750, 91.696, 90.335}, t_dev),\n",
      "lin(std::vector<double>{-45.315, -40.324, -30.256, -20.189, -10.034, 0.250, 10.331, 20.269, 30.453, 40.535, 45.365}, // 110\n",
      "std::vector<double>{124.420, 122.485, 119.144, 115.762, 112.180, 109.754, 107.164, 104.778, 102.639, 99.832, 98.665}, t_dev),\n",
      "lin(std::vector<double>{-45.432, -30.302, -20.089, -9.921, -0.026, 10.330, 20.268, 26.254, 30.495, 40.663, 45.408}, // 120\n",
      "std::vector<double>{136.749, 130.866, 126.740, 123.188, 119.940, 116.045, 113.588, 111.980, 110.651, 107.441, 105.815}, t_dev),\n",
      "lin(std::vector<double>{-45.348, -40.444, -35.121, -30.332, -24.563, -20.106, -9.966, -0.100, 10.127, 20.252, 30.393, 40.533, 45.363}, // 130\n",
      "std::vector<double>{150.141, 147.880, 145.014, 142.558, 140.041, 138.184, 133.716, 129.978, 124.633, 120.895, 117.963, 114.801, 113.060}, t_dev),\n",
      "lin(std::vector<double>{-45.495, -40.460, -30.320, -21.536, -9.967, -0.001, 10.140, 20.193, 25.415, 30.419, 40.589, 45.507}, // 140\n",
      "std::vector<double>{164.923, 161.335, 154.980, 150.109, 143.941, 140.016, 133.025, 129.031, 127.367, 125.564, 122.028, 120.086}, t_dev),\n",
      "lin(std::vector<double>{-45.497, -40.390, -33.106, -20.023, -10.171, -0.089, 4.952, 9.986, 12.172, 20.091, 30.302, 40.531, 45.405}, // 150\n",
      "std::vector<double>{179.317, 175.100, 170.082, 160.846, 154.460, 150.047, 145.541, 140.913, 139.911, 136.671, 132.482, 128.200, 126.072}, t_dev),\n",
      "lin(std::vector<double>{-45.557, -39.903, -34.536, -30.324, -20.068, -16.621, -10.086, 0.083, 4.901, 8.796, 10.209, 20.277, 30.260, 40.442, 45.332}, // 160\n",
      "std::vector<double>{195.411, 190.301, 185.190, 181.167, 172.677, 170.130, 165.601, 160.031, 154.532, 150.043, 148.382, 142.936, 138.328, 134.442, 132.088}, t_dev),\n",
      "lin(std::vector<double>{-45.589, -40.482, -35.419, -30.312, -25.220, -20.243, -14.459, -10.131, -5.487, 0.081, 4.091, 6.717, 10.179, 20.320, 30.490, 45.403}, // 170\n",
      "std::vector<double>{210.713, 205.323, 200.229, 195.273, 190.210, 184.882, 180.136, 176.431, 173.503, 170.123, 164.128, 160.044, 154.856, 149.418, 144.593, 137.984}, t_dev),\n",
      "lin(std::vector<double>{-39.254, -31.293, -22.878, -20.061, -13.064, -10.192, -0.160, 5.529, 10.328, 20.160, 30.410, 45.416}, // 180\n",
      "std::vector<double>{220.025, 210.357, 200.318, 197.089, 190.220, 187.373, 180.297, 170.142, 161.366, 155.513, 150.481, 143.687}, t_dev),\n",
      "lin(std::vector<double>{-27.720, -20.507, -16.150, -11.765, -10.020, -0.038, 4.695, 9.254, 10.336, 20.202, 30.329, 45.459}, // 190\n",
      "std::vector<double>{220.031, 210.323, 205.159, 200.158, 198.162, 190.371, 180.168, 170.112, 168.031, 162.019, 155.850, 149.253}, t_dev),\n",
      "lin(std::vector<double>{-18.403, -10.450, -0.236, 0.982, 4.036, 8.163, 10.253, 16.378, 20.231, 30.480, 34.334, 40.404, 45.474}, // 200\n",
      "std::vector<double>{220.019, 209.626, 200.427, 198.128, 190.204, 180.030, 174.845, 170.177, 167.299, 160.996, 159.400, 157.070, 154.447}, t_dev),\n"
     ]
    }
   ],
   "source": [
    "DIG_FILE_NAME = \"takeoff brake energy temp dev.dig\"\n",
    "\n",
    "INPUT = \"t_dev\"\n",
    "OUTPUT = \"uncor_1\"\n",
    "uncorr = {}\n",
    "chart = ParseDig(f'./{TOP_FOLDER}/dig/{DIG_FILE_NAME}')\n",
    "for c in chart.curveNames():\n",
    "    xVector = [row [0] for row in chart.curve(c)]\n",
    "    yVector = [row [1] for row in chart.curve(c)]\n",
    "    c_clean = c.replace(\"-\", \"_\")\n",
    "\n",
    "    print(f\"lin(std::vector<double>{{\" + \", \".join(['{0:.3f}'.format(s) for s in xVector]) + f\"}}, // {c_clean.lower()}\")\n",
    "    print(f\"std::vector<double>{{\" + \", \".join(['{0:.3f}'.format(s) for s in yVector]) + f\"}}, {INPUT}),\")"
   ]
  },
  {
   "cell_type": "code",
   "execution_count": 5,
   "metadata": {},
   "outputs": [
    {
     "name": "stdout",
     "output_type": "stream",
     "text": [
      "auto uncor_3 = linear_interpolate( scale_vals, {\n",
      "lin(std::vector<double>{0.224, 2.001, 6.060, 9.054}, // 60\n",
      "std::vector<double>{59.981, 62.132, 67.182, 70.910}, slope),\n",
      "lin(std::vector<double>{-6.541, -4.075, -2.026, 2.029, 4.030, 8.105, 9.045}, // 70\n",
      "std::vector<double>{59.964, 63.745, 66.775, 72.905, 75.925, 82.245, 83.733}, slope),\n",
      "lin(std::vector<double>{-9.112, -6.085, -4.059, -2.039, 2.007, 6.034, 9.045}, // 80\n",
      "std::vector<double>{63.401, 68.824, 72.532, 76.115, 83.434, 90.770, 96.429}, slope),\n",
      "lin(std::vector<double>{-9.112, -6.072, -4.062, -0.032, 4.033, 8.092, 9.051}, // 90\n",
      "std::vector<double>{70.637, 77.049, 81.383, 89.791, 98.215, 107.030, 109.035}, slope),\n",
      "lin(std::vector<double>{-9.122, -6.098, -4.072, -0.055, 2.010, 4.024, 6.040, 7.304, 8.070, 9.048}, // 100\n",
      "std::vector<double>{77.766, 85.175, 90.044, 99.785, 104.691, 109.362, 114.195, 117.124, 118.974, 121.332}, slope),\n",
      "lin(std::vector<double>{-9.118, -6.079, -3.604, -2.062, -0.045, 1.978, 3.960, 5.284, 6.076, 9.061}, // 110\n",
      "std::vector<double>{84.612, 93.092, 99.920, 104.301, 109.869, 115.166, 120.280, 123.726, 125.757, 133.357}, slope),\n",
      "lin(std::vector<double>{-9.115, -6.361, -4.069, -1.978, -0.019, 2.046, 4.078, 5.229, 6.040, 9.045}, // 120\n",
      "std::vector<double>{90.934, 99.811, 107.021, 113.741, 119.935, 126.002, 131.815, 135.216, 137.347, 145.718}, slope),\n",
      "lin(std::vector<double>{-9.118, -6.053, -4.428, -2.065, -0.048, 0.975, 1.978, 3.011, 3.972, 4.909, 6.034, 9.041}, // 130\n",
      "std::vector<double>{96.691, 107.647, 113.768, 122.175, 129.993, 133.330, 136.531, 139.959, 143.079, 146.153, 149.518, 158.904}, slope),\n",
      "lin(std::vector<double>{-9.141, -6.082, -4.101, -2.087, -0.933, -0.038, 2.010, 5.332, 8.083, 9.048}, // 140\n",
      "std::vector<double>{101.970, 113.768, 121.332, 129.385, 135.416, 139.887, 147.767, 160.072, 168.952, 172.144}, slope),\n",
      "lin(std::vector<double>{-9.118, -5.979, -4.072, -2.084, -0.343, -0.010, 0.404, 1.584, 2.209, 3.508, 4.447, 5.255, 5.963, 8.073, 9.070}, // 150\n",
      "std::vector<double>{107.139, 119.818, 127.426, 135.969, 148.076, 150.098, 151.984, 157.353, 160.137, 166.068, 170.249, 173.940, 176.914, 185.829, 189.982}, slope),\n",
      "lin(std::vector<double>{-9.105, -6.092, -4.732, -4.059, -3.392, -2.488, -2.068, -1.170, -0.019, 1.872, 3.761, 5.640, 6.460, 7.624, 9.064}, // 160\n",
      "std::vector<double>{112.055, 124.397, 129.975, 132.641, 135.978, 140.059, 142.045, 149.962, 160.219, 170.222, 180.170, 190.200, 194.218, 200.176, 207.757}, slope),\n",
      "lin(std::vector<double>{-9.109, -8.144, -7.288, -6.310, -4.146, -3.540, -2.097, -1.799, -0.920, -0.010, 1.558, 3.238, 4.033, 4.848, 5.999, 6.473, 7.961}, // 170\n",
      "std::vector<double>{116.145, 120.080, 123.971, 128.007, 137.084, 140.095, 147.096, 150.143, 160.083, 170.095, 180.116, 190.128, 195.115, 200.239, 207.032, 210.287, 219.583}, slope),\n",
      "lin(std::vector<double>{-9.057, -6.768, -4.428, -2.440, -2.084, -1.507, -0.753, -0.048, 1.305, 2.607, 3.924, 5.232}, // 180\n",
      "std::vector<double>{119.944, 129.947, 140.014, 150.016, 152.075, 159.702, 170.104, 180.161, 190.191, 200.176, 210.169, 220.027}, slope),\n",
      "lin(std::vector<double>{-9.115, -6.124, -5.232, -4.325, -3.911, -3.148, -2.139, -1.946, -1.799, -1.555, -1.468, -1.218, -0.657, -0.013, 1.071, 1.940, 2.238, 3.293}, // 190\n",
      "std::vector<double>{122.837, 135.815, 140.023, 143.895, 145.990, 150.107, 155.485, 157.598, 160.065, 164.100, 166.104, 170.240, 180.052, 190.182, 200.221, 207.748, 210.315, 220.018}, slope),\n",
      "lin(std::vector<double>{-9.112, -8.112, -7.259, -6.127, -4.556, -3.697, -2.664, -2.007, -1.799, -1.523, -1.004, -0.747, -0.510, -0.189, 0.003, 0.141, 0.907, 1.802}, // 200\n",
      "std::vector<double>{125.866, 130.029, 133.974, 138.998, 145.917, 150.035, 156.029, 160.119, 164.046, 170.013, 180.206, 186.083, 189.992, 197.482, 200.139, 202.443, 210.251, 220.009}, slope),\n",
      "lin(std::vector<double>{-9.125, -7.490, -6.569, -5.293, -4.380, -3.322, -2.674, -2.164, -1.847, -1.674, -1.526, -1.205, -1.122, -0.846, -0.760, -0.401, -0.061}, // 210\n",
      "std::vector<double>{128.741, 135.914, 140.023, 145.954, 150.035, 156.083, 160.128, 163.084, 168.598, 174.049, 179.145, 187.307, 190.200, 196.430, 200.167, 210.169, 220.009}, slope),\n"
     ]
    }
   ],
   "source": [
    "DIG_FILE_NAME = \"takeoff brake energy runway slope.dig\"\n",
    "INPUT = \"slope\"\n",
    "OUTPUT = \"uncor_2\"\n",
    "OUTPUT_ = \"uncor_3\"\n",
    "uncorr = {}\n",
    "chart = ParseDig(f'./{TOP_FOLDER}/dig/{DIG_FILE_NAME}')\n",
    "\n",
    "print(f\"auto {OUTPUT_} = linear_interpolate( scale_vals, {{\")\n",
    "for c in chart.curveNames():\n",
    "    xVector = [row [0] for row in chart.curve(c)]\n",
    "    yVector = [row [1] for row in chart.curve(c)]\n",
    "    c_clean = c.replace(\"-\", \"_\")\n",
    "\n",
    "    print(f\"lin(std::vector<double>{{\" + \", \".join(['{0:.3f}'.format(s) for s in xVector]) + f\"}}, // {c_clean.lower()}\")\n",
    "    print(f\"std::vector<double>{{\" + \", \".join(['{0:.3f}'.format(s) for s in yVector]) + f\"}}, {INPUT}),\")"
   ]
  },
  {
   "cell_type": "code",
   "execution_count": 6,
   "metadata": {},
   "outputs": [
    {
     "name": "stdout",
     "output_type": "stream",
     "text": [
      "auto uncor_4 = linear_interpolate( scale_vals, {\n",
      "lin(std::vector<double>{-0.684, 49.030}, // 1\n",
      "std::vector<double>{68.706, 69.695}, flaps),\n",
      "lin(std::vector<double>{-0.680, 24.665, 49.685}, // 2\n",
      "std::vector<double>{77.993, 79.140, 79.706}, flaps),\n",
      "lin(std::vector<double>{-0.350, 24.995, 50.015}, // 3\n",
      "std::vector<double>{87.424, 88.716, 89.863}, flaps),\n",
      "lin(std::vector<double>{-0.670, 24.675, 50.020}, // 4\n",
      "std::vector<double>{96.711, 98.293, 99.730}, flaps),\n",
      "lin(std::vector<double>{-0.666, 24.680, 50.350}, // 5\n",
      "std::vector<double>{104.546, 107.144, 109.887}, flaps),\n",
      "lin(std::vector<double>{-0.662, 24.684, 49.705}, // 6\n",
      "std::vector<double>{112.236, 115.995, 119.754}, flaps),\n",
      "lin(std::vector<double>{-0.983, 24.364, 49.711}, // 7\n",
      "std::vector<double>{120.362, 124.992, 129.911}, flaps),\n",
      "lin(std::vector<double>{-0.980, 24.693, 50.365}, // 8\n",
      "std::vector<double>{126.021, 132.827, 139.632}, flaps),\n",
      "lin(std::vector<double>{-0.653, 23.721, 49.720}, // 9\n",
      "std::vector<double>{130.954, 140.082, 149.354}, flaps),\n",
      "lin(std::vector<double>{-0.325, 12.086, 24.720, 37.782, 50.152}, // 10\n",
      "std::vector<double>{135.851, 141.748, 147.754, 154.004, 159.829}, flaps),\n",
      "lin(std::vector<double>{-0.425, 12.047, 24.663, 37.705, 50.523}, // 11\n",
      "std::vector<double>{138.663, 146.219, 154.075, 162.302, 169.877}, flaps),\n",
      "lin(std::vector<double>{-0.647, 24.381, 50.386}, // 12\n",
      "std::vector<double>{142.127, 159.816, 180.115}, flaps),\n",
      "lin(std::vector<double>{-0.523, 24.872, 50.675}, // 13\n",
      "std::vector<double>{143.348, 166.277, 190.303}, flaps),\n",
      "lin(std::vector<double>{-0.931, 27.537, 49.861}, // 14\n",
      "std::vector<double>{145.268, 174.594, 199.353}, flaps),\n",
      "lin(std::vector<double>{-0.317, 29.794, 50.481}, // 15\n",
      "std::vector<double>{146.547, 184.190, 209.864}, flaps),\n",
      "lin(std::vector<double>{-0.521, 24.471, 50.076}, // 16\n",
      "std::vector<double>{147.370, 182.913, 220.102}, flaps),\n"
     ]
    }
   ],
   "source": [
    "DIG_FILE_NAME = \"takeoff brake energy flap setting.dig\"\n",
    "INPUT = \"flaps\"\n",
    "OUTPUT = \"uncor_3\"\n",
    "OUTPUT_ = \"uncor_4\"\n",
    "uncorr = {}\n",
    "chart = ParseDig(f'./{TOP_FOLDER}/dig/{DIG_FILE_NAME}')\n",
    "\n",
    "print(f\"auto {OUTPUT_} = linear_interpolate( scale_vals, {{\")\n",
    "for c in chart.curveNames():\n",
    "    xVector = [row [0] for row in chart.curve(c)]\n",
    "    yVector = [row [1] for row in chart.curve(c)]\n",
    "    c_clean = c.replace(\"-\", \"_\")\n",
    "\n",
    "    print(f\"lin(std::vector<double>{{\" + \", \".join(['{0:.3f}'.format(s) for s in xVector]) + f\"}}, // {c_clean.lower()}\")\n",
    "    print(f\"std::vector<double>{{\" + \", \".join(['{0:.3f}'.format(s) for s in yVector]) + f\"}}, {INPUT}),\")"
   ]
  },
  {
   "cell_type": "code",
   "execution_count": 7,
   "metadata": {},
   "outputs": [
    {
     "name": "stdout",
     "output_type": "stream",
     "text": [
      "auto uncor_5 = linear_interpolate( scale_vals, {\n",
      "lin(std::vector<double>{-1.392, 9.883, 18.641, 23.851, 28.674, 36.642, 40.271}, // 1\n",
      "std::vector<double>{59.972, 68.837, 75.733, 79.807, 83.654, 89.841, 92.736}, h_t_wind),\n",
      "lin(std::vector<double>{-13.760, -0.937, 3.983, 9.983, 13.629, 19.726, 23.339, 28.259, 30.968, 40.066}, // 2\n",
      "std::vector<double>{59.977, 69.951, 74.321, 78.857, 81.906, 86.869, 89.818, 93.801, 95.924, 103.363}, h_t_wind),\n",
      "lin(std::vector<double>{-20.434, -10.385, -0.447, 9.846, 19.832, 23.699, 30.150, 36.199, 40.118}, // 3\n",
      "std::vector<double>{63.663, 71.539, 79.928, 88.410, 96.765, 99.905, 105.318, 110.426, 113.511}, h_t_wind),\n",
      "lin(std::vector<double>{-20.140, -11.220, -0.316, 6.088, 9.701, 16.605, 20.072, 26.234, 30.122, 36.106, 40.106}, // 4\n",
      "std::vector<double>{71.707, 79.836, 89.762, 95.106, 98.110, 103.934, 106.728, 111.882, 114.958, 120.002, 123.078}, h_t_wind),\n",
      "lin(std::vector<double>{-20.120, -10.039, -0.426, 9.898, 15.995, 20.100, 22.702, 29.856, 33.676, 39.936}, // 5\n",
      "std::vector<double>{79.058, 89.551, 99.826, 108.536, 113.920, 117.362, 119.933, 126.551, 129.923, 135.970}, h_t_wind),\n",
      "lin(std::vector<double>{-20.038, -10.810, -3.744, -0.356, 10.048, 19.662, 29.090, 39.940}, // 6\n",
      "std::vector<double>{85.873, 97.085, 105.875, 109.920, 119.882, 129.226, 139.852, 152.187}, h_t_wind),\n",
      "lin(std::vector<double>{-20.068, -14.485, -10.307, -7.419, -3.272, -0.336, 1.455, 8.585, 17.409, 19.974, 24.766, 29.623, 31.446, 38.158, 40.142}, // 7\n",
      "std::vector<double>{92.148, 99.794, 105.754, 109.836, 115.950, 119.723, 121.864, 129.920, 139.971, 142.584, 150.013, 157.415, 160.082, 170.177, 173.388}, h_t_wind),\n",
      "lin(std::vector<double>{-20.178, -12.530, -6.270, -0.493, 7.154, 14.427, 20.241, 26.074, 30.018, 36.037, 40.002}, // 8\n",
      "std::vector<double>{97.489, 109.816, 120.065, 129.798, 139.929, 149.951, 158.029, 170.137, 177.634, 190.204, 197.918}, h_t_wind),\n",
      "lin(std::vector<double>{-20.070, -10.921, -5.574, -0.389, 5.608, 9.552, 11.849, 17.724, 20.225, 21.812, 25.249, 28.240, 31.209, 32.328, 34.647}, // 9\n",
      "std::vector<double>{102.869, 119.941, 129.986, 139.974, 149.905, 156.568, 160.236, 170.259, 174.019, 180.178, 190.131, 200.243, 208.505, 212.573, 220.035}, h_t_wind),\n",
      "lin(std::vector<double>{-20.094, -14.090, -9.442, -4.843, -0.275, 4.647, 9.520, 14.442, 19.252, 20.365, 22.013, 24.323, 26.649}, // 10\n",
      "std::vector<double>{107.282, 120.044, 130.048, 140.061, 150.011, 160.106, 170.219, 180.196, 190.273, 192.223, 200.231, 210.253, 220.038}, h_t_wind),\n",
      "lin(std::vector<double>{-20.076, -16.461, -12.667, -10.876, -8.584, -4.500, -0.288, 3.554, 7.283, 9.269, 10.947, 14.708, 18.502, 20.148, 21.360}, // 11\n",
      "std::vector<double>{111.490, 120.043, 129.983, 134.092, 139.851, 149.792, 160.013, 170.126, 180.021, 185.762, 189.925, 199.983, 209.978, 214.241, 220.063}, h_t_wind),\n",
      "lin(std::vector<double>{-20.121, -16.376, -13.163, -9.870, -6.737, -3.605, -0.231, 2.579, 5.566, 8.682, 11.427}, // 12\n",
      "std::vector<double>{118.418, 129.900, 140.012, 150.016, 159.956, 170.114, 180.090, 190.030, 200.034, 210.046, 220.023}, h_t_wind),\n",
      "lin(std::vector<double>{-20.022, -16.066, -13.385, -10.801, -8.168, -5.568, -3.097, -0.368, 1.845, 4.171}, // 13\n",
      "std::vector<double>{123.977, 139.957, 149.806, 159.855, 169.931, 179.961, 189.964, 199.959, 209.980, 219.965}, h_t_wind),\n",
      "lin(std::vector<double>{-19.988, -17.517, -15.433, -13.268, -11.184, -8.809, -6.854, -4.417, -2.605, -0.376}, // 14\n",
      "std::vector<double>{129.209, 139.902, 149.787, 159.817, 170.011, 180.005, 189.999, 200.166, 209.996, 219.972}, h_t_wind),\n",
      "}, uncor_4);\n"
     ]
    }
   ],
   "source": [
    "DIG_FILE_NAME = \"takeoff brake energy wind component.dig\"\n",
    "INPUT = \"h_t_wind\"\n",
    "OUTPUT = \"uncor_4\"\n",
    "OUTPUT_ = \"uncor_5\"\n",
    "uncorr = {}\n",
    "chart = ParseDig(f'./{TOP_FOLDER}/dig/{DIG_FILE_NAME}')\n",
    "\n",
    "print(f\"auto {OUTPUT_} = linear_interpolate( scale_vals, {{\")\n",
    "for c in chart.curveNames():\n",
    "    xVector = [row [0] for row in chart.curve(c)]\n",
    "    yVector = [row [1] for row in chart.curve(c)]\n",
    "    c_clean = c.replace(\"-\", \"_\")\n",
    "\n",
    "    print(f\"lin(std::vector<double>{{\" + \", \".join(['{0:.3f}'.format(s) for s in xVector]) + f\"}}, // {c_clean.lower()}\")\n",
    "    print(f\"std::vector<double>{{\" + \", \".join(['{0:.3f}'.format(s) for s in yVector]) + f\"}}, {INPUT}),\")\n",
    "print(f\"}}, uncor_4);\")"
   ]
  },
  {
   "cell_type": "code",
   "execution_count": 8,
   "metadata": {},
   "outputs": [
    {
     "name": "stdout",
     "output_type": "stream",
     "text": [
      "auto wt_reduct = linear_interpolate( scale_vals, {\n",
      "lin(std::vector<double>{-0.023, 1.050, 2.018, 2.212, 2.327, 4.096, 4.851, 7.102, 9.600, 12.236, 13.821, 14.881, 16.591, 17.681, 18.915, 19.854, 20.514, 22.240, 23.514, 26.005, 27.620, 29.336, 29.980, 31.424, 33.564, 34.953, 36.650, 37.762, 39.000, 40.093, 41.459, 42.896, 45.066, 49.333}, // kias\n",
      "std::vector<double>{0.068, 0.978, 1.781, 1.926, 1.977, 2.761, 3.081, 3.983, 4.975, 5.985, 6.589, 6.992, 7.607, 8.005, 8.453, 8.767, 8.994, 9.582, 10.005, 10.802, 11.302, 11.813, 12.009, 12.417, 13.024, 13.386, 13.813, 14.067, 14.343, 14.552, 14.801, 15.030, 15.383, 16.013}, uncor_5),\n",
      "}, uncor_4);\n"
     ]
    }
   ],
   "source": [
    "DIG_FILE_NAME = \"takeoff brake energy delta weight.dig\"\n",
    "INPUT = \"uncor_5\"\n",
    "OUTPUT_ = \"wt_reduct\"\n",
    "uncorr = {}\n",
    "chart = ParseDig(f'./{TOP_FOLDER}/dig/{DIG_FILE_NAME}')\n",
    "\n",
    "print(f\"auto {OUTPUT_} = linear_interpolate( scale_vals, {{\")\n",
    "for c in chart.curveNames():\n",
    "    xVector = [row [0] for row in chart.curve(c)]\n",
    "    yVector = [row [1] for row in chart.curve(c)]\n",
    "    c_clean = c.replace(\"-\", \"_\")\n",
    "\n",
    "    print(f\"lin(std::vector<double>{{\" + \", \".join(['{0:.3f}'.format(s) for s in xVector]) + f\"}}, // {c_clean.lower()}\")\n",
    "    print(f\"std::vector<double>{{\" + \", \".join(['{0:.3f}'.format(s) for s in yVector]) + f\"}}, {INPUT}),\")\n",
    "print(f\"}}, uncor_4);\")"
   ]
  },
  {
   "cell_type": "code",
   "execution_count": null,
   "metadata": {},
   "outputs": [],
   "source": []
  }
 ],
 "metadata": {
  "kernelspec": {
   "display_name": "Python 3",
   "language": "python",
   "name": "python3"
  },
  "language_info": {
   "codemirror_mode": {
    "name": "ipython",
    "version": 3
   },
   "file_extension": ".py",
   "mimetype": "text/x-python",
   "name": "python",
   "nbconvert_exporter": "python",
   "pygments_lexer": "ipython3",
   "version": "3.10.6"
  },
  "orig_nbformat": 4
 },
 "nbformat": 4,
 "nbformat_minor": 2
}
