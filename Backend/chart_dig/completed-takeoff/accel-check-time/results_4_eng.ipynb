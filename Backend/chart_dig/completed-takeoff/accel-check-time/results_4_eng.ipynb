{
 "cells": [
  {
   "cell_type": "code",
   "execution_count": 1,
   "metadata": {},
   "outputs": [
    {
     "name": "stdout",
     "output_type": "stream",
     "text": [
      "c:\\Users\\mcdel\\digitized-charts\n"
     ]
    }
   ],
   "source": [
    "import os\n",
    "os.chdir(\"../..\")\n",
    "print(os.getcwd())\n",
    "from py_utils import *"
   ]
  },
  {
   "cell_type": "code",
   "execution_count": 4,
   "metadata": {},
   "outputs": [],
   "source": [
    "TOP_FOLDER = \"completed-takeoff/accel-check-time/\""
   ]
  },
  {
   "cell_type": "code",
   "execution_count": 5,
   "metadata": {},
   "outputs": [
    {
     "name": "stdout",
     "output_type": "stream",
     "text": [
      "auto uncor_1 = linear_interpolate( scale_vals_1, {\n",
      "\tlin(std::vector<double>{-0.988, 0.157, 1.880, 3.122, 4.207, 4.701, 5.400, 5.991}, // 80\n",
      "\tstd::vector<double>{0.020, 0.040, 0.075, 0.107, 0.148, 0.181, 0.224, 0.257}, tof),\n",
      "\tlin(std::vector<double>{-0.975, 0.447, 2.062, 3.303, 4.087, 4.967, 5.473, 5.992}, // 90\n",
      "\tstd::vector<double>{0.046, 0.074, 0.114, 0.155, 0.189, 0.243, 0.281, 0.326}, tof),\n",
      "\tlin(std::vector<double>{-0.999, 0.640, 2.158, 3.243, 4.232, 4.811, 5.390, 5.993}, // 100\n",
      "\tstd::vector<double>{0.067, 0.108, 0.151, 0.191, 0.238, 0.287, 0.333, 0.389}, tof),\n",
      "\tlin(std::vector<double>{-0.979, 1.719, 3.010, 3.910, 4.455, 4.982, 5.470, 6.006}, // 110\n",
      "\tstd::vector<double>{0.100, 0.169, 0.218, 0.266, 0.301, 0.356, 0.400, 0.458}, tof),\n",
      "\tlin(std::vector<double>{-0.988, 0.935, 2.417, 3.298, 4.054, 4.695, 5.164, 5.653, 5.988}, // 120\n",
      "\tstd::vector<double>{0.128, 0.178, 0.231, 0.269, 0.318, 0.373, 0.425, 0.482, 0.518}, tof),\n",
      "\tlin(std::vector<double>{-0.969, 0.495, 2.073, 2.915, 3.490, 4.035, 4.341, 4.715, 5.203, 5.653, 5.998}, // 130\n",
      "\tstd::vector<double>{0.157, 0.197, 0.253, 0.295, 0.327, 0.359, 0.387, 0.432, 0.489, 0.541, 0.586}, tof),\n",
      "\tlin(std::vector<double>{-0.978, 0.151, 1.423, 2.371, 3.098, 3.576, 4.064, 4.505, 4.926, 5.271, 5.625, 6.009}, // 140\n",
      "\tstd::vector<double>{0.189, 0.219, 0.264, 0.303, 0.338, 0.373, 0.408, 0.457, 0.508, 0.553, 0.600, 0.654}, tof),\n",
      "\tlin(std::vector<double>{-0.987, -0.011, 0.965, 1.797, 2.476, 3.146, 3.577, 3.988, 4.343, 4.668, 4.984, 5.415, 5.645, 5.990}, // 150\n",
      "\tstd::vector<double>{0.213, 0.244, 0.280, 0.314, 0.347, 0.384, 0.416, 0.451, 0.489, 0.529, 0.577, 0.637, 0.673, 0.725}, tof),\n",
      "\tlin(std::vector<double>{-0.987, -0.059, 0.640, 1.472, 2.209, 2.764, 3.156, 3.654, 3.999, 4.353, 4.717, 4.966, 5.301, 5.579, 5.991}, // 160\n",
      "\tstd::vector<double>{0.240, 0.273, 0.298, 0.334, 0.371, 0.399, 0.429, 0.466, 0.499, 0.538, 0.586, 0.630, 0.687, 0.725, 0.796}, tof),\n",
      "\tlin(std::vector<double>{-0.996, 0.152, 1.405, 2.056, 2.735, 3.061, 3.434, 3.683, 4.066, 4.430, 4.842, 5.130, 5.446, 5.685, 6.021}, // 170\n",
      "\tstd::vector<double>{0.272, 0.309, 0.365, 0.395, 0.434, 0.463, 0.493, 0.512, 0.557, 0.599, 0.666, 0.719, 0.770, 0.816, 0.874}, tof),\n",
      "\tlin(std::vector<double>{-0.996, -0.049, 0.621, 1.578, 2.334, 2.736, 3.329, 3.856, 4.220, 4.469, 4.766, 5.149, 5.485, 5.762, 6.012}, // 175\n",
      "\tstd::vector<double>{0.287, 0.319, 0.350, 0.394, 0.434, 0.459, 0.504, 0.551, 0.597, 0.639, 0.685, 0.757, 0.817, 0.865, 0.913}, tof),\n",
      "}, gwt_);\n"
     ]
    }
   ],
   "source": [
    "DIG_FILE_NAME = \"4_eng_1_gwt.dig\"\n",
    "INPUT = \"tof\"\n",
    "OUTPUT = \"uncor_1\"\n",
    "INTERP_VAL = \"gwt_\"\n",
    "uncorr = {}\n",
    "chart = ParseDig(f'./{TOP_FOLDER}/dig/{DIG_FILE_NAME}')\n",
    "\n",
    "print(f\"auto {OUTPUT} = linear_interpolate( scale_vals_1, {{\")\n",
    "for c in chart.curveNames():\n",
    "    xVector = [row [0] for row in chart.curve(c)]\n",
    "    yVector = [row [1] for row in chart.curve(c)]\n",
    "    c_clean = c.replace(\"-\", \"_\")\n",
    "\n",
    "    print(f\"\\tlin(std::vector<double>{{\" + \", \".join(['{0:.3f}'.format(s) for s in yVector]) + f\"}}, // {c_clean.lower()}\")\n",
    "    print(f\"\\tstd::vector<double>{{\" + \", \".join(['{0:.3f}'.format(s) for s in xVector]) + f\"}}, {INPUT}),\")\n",
    "print(f\"}}, {INTERP_VAL});\")"
   ]
  },
  {
   "cell_type": "code",
   "execution_count": null,
   "metadata": {},
   "outputs": [],
   "source": [
    "DIG_FILE_NAME = \"4_eng_1_ias.dig\"\n",
    "INPUT = \"uncor_1\"\n",
    "OUTPUT = \"uncor_2\"\n",
    "INTERP_VAL = \"ias\"\n",
    "uncorr = {}\n",
    "chart = ParseDig(f'./{TOP_FOLDER}/dig/{DIG_FILE_NAME}')\n",
    "\n",
    "print(f\"auto {OUTPUT} = linear_interpolate( scale_vals_2, {{\")\n",
    "for c in chart.curveNames():\n",
    "    xVector = [row [0] for row in chart.curve(c)]\n",
    "    yVector = [row [1] for row in chart.curve(c)]\n",
    "    c_clean = c.replace(\"-\", \"_\")\n",
    "\n",
    "    print(f\"\\tlin(std::vector<double>{{\" + \", \".join(['{0:.3f}'.format(s) for s in xVector]) + f\"}}, // {c_clean.lower()}\")\n",
    "    print(f\"\\tstd::vector<double>{{\" + \", \".join(['{0:.3f}'.format(s) for s in yVector]) + f\"}}, {INPUT}),\")\n",
    "print(f\"}}, {INTERP_VAL});\")"
   ]
  },
  {
   "cell_type": "code",
   "execution_count": null,
   "metadata": {},
   "outputs": [],
   "source": [
    "DIG_FILE_NAME = \"4_eng_2_wind.dig\"\n",
    "INPUT = \"ht_comp\"\n",
    "OUTPUT = \"uncor_3\"\n",
    "INTERP_VAL = \"uncor_2\"\n",
    "uncorr = {}\n",
    "chart = ParseDig(f'./{TOP_FOLDER}/dig/{DIG_FILE_NAME}')\n",
    "\n",
    "print(f\"auto {OUTPUT} = linear_interpolate( scale_vals_3, {{\")\n",
    "for c in chart.curveNames():\n",
    "    xVector = [row [0] for row in chart.curve(c)]\n",
    "    yVector = [row [1] for row in chart.curve(c)]\n",
    "    c_clean = c.replace(\"-\", \"_\")\n",
    "\n",
    "    print(f\"\\tlin(std::vector<double>{{\" + \", \".join(['{0:.3f}'.format(s) for s in xVector]) + f\"}}, // {c_clean.lower()}\")\n",
    "    print(f\"\\tstd::vector<double>{{\" + \", \".join(['{0:.3f}'.format(s) for s in yVector]) + f\"}}, {INPUT}),\")\n",
    "print(f\"}}, {INTERP_VAL});\")"
   ]
  },
  {
   "cell_type": "code",
   "execution_count": null,
   "metadata": {},
   "outputs": [],
   "source": [
    "DIG_FILE_NAME = \"4_eng_2_slope.dig\"\n",
    "INPUT = \"slope\"\n",
    "OUTPUT = \"uncor_4\"\n",
    "INTERP_VAL = \"uncor_3\"\n",
    "uncorr = {}\n",
    "chart = ParseDig(f'./{TOP_FOLDER}/dig/{DIG_FILE_NAME}')\n",
    "\n",
    "print(f\"auto {OUTPUT} = linear_interpolate( scale_vals_2, {{\")\n",
    "for c in chart.curveNames():\n",
    "    xVector = [row [0] for row in chart.curve(c)]\n",
    "    yVector = [row [1] for row in chart.curve(c)]\n",
    "    c_clean = c.replace(\"-\", \"_\")\n",
    "\n",
    "    print(f\"\\tlin(std::vector<double>{{\" + \", \".join(['{0:.3f}'.format(s) for s in xVector]) + f\"}}, // {c_clean.lower()}\")\n",
    "    print(f\"\\tstd::vector<double>{{\" + \", \".join(['{0:.3f}'.format(s) for s in yVector]) + f\"}}, {INPUT}),\")\n",
    "print(f\"}}, {INTERP_VAL});\")"
   ]
  },
  {
   "cell_type": "code",
   "execution_count": null,
   "metadata": {},
   "outputs": [],
   "source": [
    "DIG_FILE_NAME = \"4_eng_2_om.dig\"\n",
    "INPUT = \"om\"\n",
    "OUTPUT = \"uncor_5\"\n",
    "INTERP_VAL = \"uncor_4\"\n",
    "uncorr = {}\n",
    "chart = ParseDig(f'./{TOP_FOLDER}/dig/{DIG_FILE_NAME}')\n",
    "\n",
    "print(f\"auto {OUTPUT} = linear_interpolate( scale_vals_3, {{\")\n",
    "for c in chart.curveNames():\n",
    "    xVector = [row [0] for row in chart.curve(c)]\n",
    "    yVector = [row [1] for row in chart.curve(c)]\n",
    "    c_clean = c.replace(\"-\", \"_\")\n",
    "\n",
    "    print(f\"\\tlin(std::vector<double>{{\" + \", \".join(['{0:.3f}'.format(s) for s in xVector]) + f\"}}, // {c_clean.lower()}\")\n",
    "    print(f\"\\tstd::vector<double>{{\" + \", \".join(['{0:.3f}'.format(s) for s in yVector]) + f\"}}, {INPUT}),\")\n",
    "print(f\"}}, {INTERP_VAL});\")"
   ]
  },
  {
   "cell_type": "code",
   "execution_count": null,
   "metadata": {},
   "outputs": [],
   "source": [
    "DIG_FILE_NAME = \"4_eng_2_drag.dig\"\n",
    "INPUT = \"drag\"\n",
    "OUTPUT = \"accel_check\"\n",
    "INTERP_VAL = \"uncor_5\"\n",
    "uncorr = {}\n",
    "chart = ParseDig(f'./{TOP_FOLDER}/dig/{DIG_FILE_NAME}')\n",
    "\n",
    "print(f\"auto {OUTPUT} = linear_interpolate( scale_vals_3, {{\")\n",
    "for c in chart.curveNames():\n",
    "    xVector = [row [0] for row in chart.curve(c)]\n",
    "    yVector = [row [1] for row in chart.curve(c)]\n",
    "    c_clean = c.replace(\"-\", \"_\")\n",
    "\n",
    "    print(f\"\\tlin(std::vector<double>{{\" + \", \".join(['{0:.3f}'.format(s) for s in xVector]) + f\"}}, // {c_clean.lower()}\")\n",
    "    print(f\"\\tstd::vector<double>{{\" + \", \".join(['{0:.3f}'.format(s) for s in yVector]) + f\"}}, {INPUT}),\")\n",
    "print(f\"}}, {INTERP_VAL});\")"
   ]
  },
  {
   "cell_type": "code",
   "execution_count": null,
   "metadata": {},
   "outputs": [],
   "source": []
  }
 ],
 "metadata": {
  "kernelspec": {
   "display_name": "ds-infra",
   "language": "python",
   "name": "python3"
  },
  "language_info": {
   "codemirror_mode": {
    "name": "ipython",
    "version": 3
   },
   "file_extension": ".py",
   "mimetype": "text/x-python",
   "name": "python",
   "nbconvert_exporter": "python",
   "pygments_lexer": "ipython3",
   "version": "3.10.11"
  },
  "orig_nbformat": 4,
  "vscode": {
   "interpreter": {
    "hash": "0989b4bfb6de13ee5a479302171e01fc7a2733b588409e2c447a1a059d02f27e"
   }
  }
 },
 "nbformat": 4,
 "nbformat_minor": 2
}
