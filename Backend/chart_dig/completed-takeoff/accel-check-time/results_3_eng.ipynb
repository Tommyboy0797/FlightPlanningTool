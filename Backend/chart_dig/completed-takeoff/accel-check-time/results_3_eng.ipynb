{
 "cells": [
  {
   "cell_type": "code",
   "execution_count": 1,
   "metadata": {},
   "outputs": [
    {
     "name": "stdout",
     "output_type": "stream",
     "text": [
      "c:\\Users\\mcdel\\digitized-charts\n"
     ]
    }
   ],
   "source": [
    "import os\n",
    "os.chdir(\"../..\")\n",
    "print(os.getcwd())\n",
    "from py_utils import *"
   ]
  },
  {
   "cell_type": "code",
   "execution_count": 2,
   "metadata": {},
   "outputs": [],
   "source": [
    "TOP_FOLDER = \"completed-takeoff/accel-check-time/\""
   ]
  },
  {
   "cell_type": "code",
   "execution_count": 3,
   "metadata": {},
   "outputs": [
    {
     "name": "stdout",
     "output_type": "stream",
     "text": [
      "auto uncor_1 = linear_interpolate( scale_vals_1, {\n",
      "\tlin(std::vector<double>{0.116, 0.130, 0.155, 0.175, 0.197, 0.227, 0.262, 0.292, 0.333, 0.362, 0.385}, // 80\n",
      "\tstd::vector<double>{-0.984, -0.113, 1.065, 1.945, 2.688, 3.513, 4.238, 4.700, 5.307, 5.742, 5.995}, tof),\n",
      "\tlin(std::vector<double>{0.142, 0.159, 0.175, 0.191, 0.218, 0.243, 0.275, 0.304, 0.335, 0.375, 0.408, 0.434, 0.464}, // 90\n",
      "\tstd::vector<double>{-0.966, -0.295, 0.412, 1.110, 1.953, 2.760, 3.521, 4.074, 4.590, 5.061, 5.387, 5.659, 5.985}, tof),\n",
      "\tlin(std::vector<double>{0.171, 0.184, 0.198, 0.215, 0.237, 0.262, 0.285, 0.315, 0.342, 0.382, 0.403, 0.437, 0.467, 0.504, 0.549}, // 100\n",
      "\tstd::vector<double>{-0.967, -0.523, 0.076, 0.783, 1.472, 2.143, 2.741, 3.384, 3.855, 4.381, 4.625, 4.978, 5.314, 5.658, 5.965}, tof),\n",
      "\tlin(std::vector<double>{0.201, 0.237, 0.275, 0.319, 0.354, 0.379, 0.400, 0.445, 0.485, 0.520, 0.556, 0.595, 0.627}, // 110\n",
      "\tstd::vector<double>{-0.995, 0.148, 1.353, 2.513, 3.220, 3.655, 4.018, 4.443, 4.778, 5.104, 5.412, 5.747, 6.009}, tof),\n",
      "\tlin(std::vector<double>{0.235, 0.251, 0.272, 0.297, 0.320, 0.343, 0.371, 0.393, 0.417, 0.458, 0.494, 0.525, 0.558, 0.584, 0.619, 0.652, 0.684, 0.712}, // 120\n",
      "\tstd::vector<double>{-0.977, -0.569, 0.138, 0.872, 1.416, 2.096, 2.585, 3.056, 3.437, 3.989, 4.343, 4.605, 4.831, 5.130, 5.293, 5.555, 5.781, 5.989}, tof),\n",
      "\tlin(std::vector<double>{0.270, 0.292, 0.311, 0.336, 0.361, 0.379, 0.400, 0.426, 0.447, 0.479, 0.502, 0.536, 0.566, 0.608, 0.650, 0.704, 0.754, 0.790, 0.816}, // 130\n",
      "\tstd::vector<double>{-0.987, -0.398, 0.219, 0.899, 1.442, 1.887, 2.349, 2.793, 3.173, 3.499, 3.862, 4.151, 4.377, 4.712, 4.993, 5.355, 5.689, 5.897, 5.978}, tof),\n",
      "}, gwt_);\n"
     ]
    }
   ],
   "source": [
    "DIG_FILE_NAME = \"3_eng_1_gwt.dig\"\n",
    "INPUT = \"tof\"\n",
    "OUTPUT = \"uncor_1\"\n",
    "INTERP_VAL = \"gwt_\"\n",
    "uncorr = {}\n",
    "chart = ParseDig(f'./{TOP_FOLDER}/dig/{DIG_FILE_NAME}')\n",
    "\n",
    "print(f\"auto {OUTPUT} = linear_interpolate( scale_vals_1, {{\")\n",
    "for c in chart.curveNames():\n",
    "    xVector = [row [0] for row in chart.curve(c)]\n",
    "    yVector = [row [1] for row in chart.curve(c)]\n",
    "    c_clean = c.replace(\"-\", \"_\")\n",
    "\n",
    "    print(f\"\\tlin(std::vector<double>{{\" + \", \".join(['{0:.3f}'.format(s) for s in yVector]) + f\"}}, // {c_clean.lower()}\")\n",
    "    print(f\"\\tstd::vector<double>{{\" + \", \".join(['{0:.3f}'.format(s) for s in xVector]) + f\"}}, {INPUT}),\")\n",
    "print(f\"}}, {INTERP_VAL});\")"
   ]
  },
  {
   "cell_type": "code",
   "execution_count": 4,
   "metadata": {},
   "outputs": [
    {
     "name": "stdout",
     "output_type": "stream",
     "text": [
      "auto uncor_2 = linear_interpolate( scale_vals_2, {\n",
      "\tlin(std::vector<double>{7.708, 13.875, 20.195, 25.437, 30.524, 34.687, 38.695}, // 60\n",
      "\tstd::vector<double>{0.075, 0.239, 0.418, 0.578, 0.712, 0.855, 0.998}, uncor_1),\n",
      "\tlin(std::vector<double>{9.558, 18.191, 24.049, 30.370, 35.303, 41.007, 46.865}, // 70\n",
      "\tstd::vector<double>{0.071, 0.280, 0.414, 0.563, 0.701, 0.843, 1.003}, uncor_1),\n",
      "\tlin(std::vector<double>{10.825, 15.777, 22.964, 29.083, 35.201, 39.765, 46.466, 52.002, 55.401}, // 80\n",
      "\tstd::vector<double>{0.072, 0.179, 0.320, 0.438, 0.566, 0.660, 0.796, 0.928, 0.999}, uncor_1),\n",
      "\tlin(std::vector<double>{12.767, 20.633, 25.683, 33.064, 41.319, 46.855, 51.322, 56.566, 61.034, 64.142}, // 90\n",
      "\tstd::vector<double>{0.072, 0.214, 0.306, 0.428, 0.571, 0.669, 0.756, 0.858, 0.933, 0.999}, uncor_1),\n",
      "\tlin(std::vector<double>{14.224, 21.119, 28.014, 34.715, 42.387, 48.020, 56.275, 61.422, 69.192, 74.339}, // 100\n",
      "\tstd::vector<double>{0.073, 0.174, 0.276, 0.380, 0.501, 0.587, 0.717, 0.797, 0.916, 0.998}, uncor_1),\n",
      "\tlin(std::vector<double>{16.263, 26.752, 32.676, 42.776, 53.459, 64.336, 69.580, 76.669, 80.263, 85.410}, // 110\n",
      "\tstd::vector<double>{0.074, 0.215, 0.292, 0.431, 0.574, 0.715, 0.790, 0.879, 0.931, 1.001}, uncor_1),\n",
      "\tlin(std::vector<double>{18.594, 30.928, 42.290, 54.624, 64.044, 73.173, 86.090, 96.287, 99.783}, // 120\n",
      "\tstd::vector<double>{0.074, 0.223, 0.360, 0.502, 0.617, 0.713, 0.860, 0.962, 1.003}, uncor_1),\n",
      "\tlin(std::vector<double>{21.993, 34.132, 40.154, 46.661, 55.013, 63.462, 75.407, 89.683, 101.046, 110.854, 118.527}, // 130\n",
      "\tstd::vector<double>{0.073, 0.215, 0.287, 0.362, 0.442, 0.532, 0.648, 0.773, 0.866, 0.945, 1.001}, uncor_1),\n",
      "\tlin(std::vector<double>{25.683, 39.668, 51.613, 65.501, 73.367, 82.108, 92.597, 103.571, 114.545, 123.577, 139.018}, // 140\n",
      "\tstd::vector<double>{0.071, 0.230, 0.359, 0.501, 0.572, 0.639, 0.715, 0.782, 0.850, 0.901, 0.991}, uncor_1),\n",
      "\tlin(std::vector<double>{29.471, 37.726, 46.466, 57.732, 65.113, 70.745, 78.903, 85.798, 92.499, 101.726, 110.854, 120.177, 128.141, 138.435}, // 150\n",
      "\tstd::vector<double>{0.074, 0.164, 0.256, 0.373, 0.440, 0.486, 0.560, 0.613, 0.662, 0.718, 0.764, 0.810, 0.846, 0.894}, uncor_1),\n",
      "}, ias);\n"
     ]
    }
   ],
   "source": [
    "DIG_FILE_NAME = \"3_eng_1_ias.dig\"\n",
    "INPUT = \"uncor_1\"\n",
    "OUTPUT = \"uncor_2\"\n",
    "INTERP_VAL = \"ias\"\n",
    "uncorr = {}\n",
    "chart = ParseDig(f'./{TOP_FOLDER}/dig/{DIG_FILE_NAME}')\n",
    "\n",
    "print(f\"auto {OUTPUT} = linear_interpolate( scale_vals_2, {{\")\n",
    "for c in chart.curveNames():\n",
    "    xVector = [row [0] for row in chart.curve(c)]\n",
    "    yVector = [row [1] for row in chart.curve(c)]\n",
    "    c_clean = c.replace(\"-\", \"_\")\n",
    "\n",
    "    print(f\"\\tlin(std::vector<double>{{\" + \", \".join(['{0:.3f}'.format(s) for s in yVector]) + f\"}}, // {c_clean.lower()}\")\n",
    "    print(f\"\\tstd::vector<double>{{\" + \", \".join(['{0:.3f}'.format(s) for s in xVector]) + f\"}}, {INPUT}),\")\n",
    "print(f\"}}, {INTERP_VAL});\")"
   ]
  },
  {
   "cell_type": "code",
   "execution_count": null,
   "metadata": {},
   "outputs": [],
   "source": []
  }
 ],
 "metadata": {
  "kernelspec": {
   "display_name": "ds-infra",
   "language": "python",
   "name": "python3"
  },
  "language_info": {
   "codemirror_mode": {
    "name": "ipython",
    "version": 3
   },
   "file_extension": ".py",
   "mimetype": "text/x-python",
   "name": "python",
   "nbconvert_exporter": "python",
   "pygments_lexer": "ipython3",
   "version": "3.10.11"
  },
  "orig_nbformat": 4,
  "vscode": {
   "interpreter": {
    "hash": "0989b4bfb6de13ee5a479302171e01fc7a2733b588409e2c447a1a059d02f27e"
   }
  }
 },
 "nbformat": 4,
 "nbformat_minor": 2
}
