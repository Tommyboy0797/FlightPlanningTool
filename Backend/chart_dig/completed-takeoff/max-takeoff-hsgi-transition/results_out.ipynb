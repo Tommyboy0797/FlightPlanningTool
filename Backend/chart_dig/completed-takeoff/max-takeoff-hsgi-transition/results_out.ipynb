{
 "cells": [
  {
   "cell_type": "code",
   "execution_count": 18,
   "metadata": {},
   "outputs": [],
   "source": [
    "from py_utils import *"
   ]
  },
  {
   "cell_type": "code",
   "execution_count": 19,
   "metadata": {},
   "outputs": [],
   "source": [
    "TOP_FOLDER = \"max-takeoff-hsgi-transition\""
   ]
  },
  {
   "cell_type": "code",
   "execution_count": 20,
   "metadata": {},
   "outputs": [
    {
     "name": "stdout",
     "output_type": "stream",
     "text": [
      "[ 6.42649754e-04 -2.72060122e-01  1.47073929e+02]\n",
      "'0.000643 * std::pow(OAT, 2) + -0.27206 * OAT + 147.073929 // PRESS ALT -2'\n",
      "[ 6.45878523e-04 -2.63610273e-01  1.41892631e+02]\n",
      "'0.000646 * std::pow(OAT, 2) + -0.26361 * OAT + 141.892631 // PRESS ALT SL'\n",
      "[ 6.35115116e-04 -2.55393702e-01  1.36803310e+02]\n",
      "'0.000635 * std::pow(OAT, 2) + -0.255394 * OAT + 136.80331 // PRESS ALT 2'\n",
      "[ 6.57391227e-04 -2.46237257e-01  1.31816677e+02]\n",
      "'0.000657 * std::pow(OAT, 2) + -0.246237 * OAT + 131.816677 // PRESS ALT 4'\n",
      "[ 6.50564257e-04 -2.38102951e-01  1.26964175e+02]\n",
      "'0.000651 * std::pow(OAT, 2) + -0.238103 * OAT + 126.964175 // PRESS ALT 6'\n",
      "[ 6.29884247e-04 -2.29572766e-01  1.22247639e+02]\n",
      "'0.00063 * std::pow(OAT, 2) + -0.229573 * OAT + 122.247639 // PRESS ALT 8'\n",
      "[ 6.00429197e-04 -2.21188424e-01  1.17619905e+02]\n",
      "'0.0006 * std::pow(OAT, 2) + -0.221188 * OAT + 117.619905 // PRESS ALT 10'\n",
      "[ 6.51112461e-04 -2.11848155e-01  1.13031603e+02]\n",
      "'0.000651 * std::pow(OAT, 2) + -0.211848 * OAT + 113.031603 // PRESS ALT 12'\n",
      "[ 6.41772708e-04 -2.04072814e-01  1.08611870e+02]\n",
      "'0.000642 * std::pow(OAT, 2) + -0.204073 * OAT + 108.61187 // PRESS ALT 14'\n",
      "[ 6.40291355e-04 -1.95313325e-01  1.04270848e+02]\n",
      "'0.00064 * std::pow(OAT, 2) + -0.195313 * OAT + 104.270848 // PRESS ALT 16'\n"
     ]
    }
   ],
   "source": [
    "### CREATE ONE BLOCK LIKE THIS PER RAW DATA FILE\n",
    "\n",
    "RAW_DATA_FILE_NAME = \"max-takeoff-hsgi-trans.dig\"\n",
    "X_AXIS_NAME = \"OAT\"\n",
    "chart = ParseDig(f'./{TOP_FOLDER}/dig/{RAW_DATA_FILE_NAME}')\n",
    "groups = {}\n",
    "for c in chart.curveNames():\n",
    "    xVector = [row [0] for row in chart.curve(c)]\n",
    "    yVector = [row [1] for row in chart.curve(c)]\n",
    "    v = get_second_order_polyfit(xVector, yVector)\n",
    "    groups[c] = v\n",
    "    pprint(f\"{v[0]} * std::pow({X_AXIS_NAME}, 2) + {v[1]} * {X_AXIS_NAME} + {v[2]} // {c}\")\n",
    "    "
   ]
  },
  {
   "cell_type": "code",
   "execution_count": 21,
   "metadata": {},
   "outputs": [
    {
     "name": "stdout",
     "output_type": "stream",
     "text": [
      "['PRESS ALT -2', 147, 144, 142]\n"
     ]
    }
   ],
   "source": [
    "## Do some simple tests to see if the output is reasonalbe.\n",
    "\n",
    "init_val = list(groups.keys())[0]\n",
    "TEST_X_VAL_1 = 0\n",
    "test_1 = get_val_from_fit(TEST_X_VAL_1, groups[init_val])\n",
    "\n",
    "TEST_X_VAL_2 = 10\n",
    "test_2 = get_val_from_fit(TEST_X_VAL_2, groups[init_val])\n",
    "\n",
    "TEST_X_VAL_3 = 20\n",
    "test_3 = get_val_from_fit(TEST_X_VAL_3, groups[init_val])\n",
    "print([init_val, round(test_1), round(test_2), round(test_3)])"
   ]
  },
  {
   "cell_type": "code",
   "execution_count": null,
   "metadata": {},
   "outputs": [],
   "source": []
  }
 ],
 "metadata": {
  "kernelspec": {
   "display_name": "Python 3",
   "language": "python",
   "name": "python3"
  },
  "language_info": {
   "codemirror_mode": {
    "name": "ipython",
    "version": 3
   },
   "file_extension": ".py",
   "mimetype": "text/x-python",
   "name": "python",
   "nbconvert_exporter": "python",
   "pygments_lexer": "ipython3",
   "version": "3.10.10"
  },
  "orig_nbformat": 4,
  "vscode": {
   "interpreter": {
    "hash": "490b3c35c8daa27fe41055a09108dd58be9fe678a0d388a915030c94cfece393"
   }
  }
 },
 "nbformat": 4,
 "nbformat_minor": 2
}
