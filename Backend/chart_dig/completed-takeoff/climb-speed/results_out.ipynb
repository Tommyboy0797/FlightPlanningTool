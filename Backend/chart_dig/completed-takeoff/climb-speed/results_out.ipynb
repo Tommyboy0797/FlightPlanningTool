{
 "cells": [
  {
   "cell_type": "code",
   "execution_count": 1,
   "metadata": {},
   "outputs": [
    {
     "name": "stdout",
     "output_type": "stream",
     "text": [
      "c:\\Users\\mcdel\\digitized-charts\n"
     ]
    }
   ],
   "source": [
    "import os\n",
    "os.chdir(\"../\")\n",
    "print(os.getcwd())\n",
    "from py_utils import *"
   ]
  },
  {
   "cell_type": "code",
   "execution_count": 2,
   "metadata": {},
   "outputs": [],
   "source": [
    "TOP_FOLDER = \"climb-speed\""
   ]
  },
  {
   "cell_type": "code",
   "execution_count": 3,
   "metadata": {},
   "outputs": [
    {
     "name": "stdout",
     "output_type": "stream",
     "text": [
      "const std::vector<double>gwt_best_climb{79.98484347442682, 86.94912918871253, 97.28780864197532, 121.35471781305117, 174.4808201058201};\n",
      "const std::vector<double>best_climb{135.0925925925926, 135.0925925925926, 141.2962962962963, 154.8148148148148, 184.44444444444446};\n",
      "\n",
      "\n",
      "const std::vector<double>gwt_flaps_up{79.98511904761907, 99.80709876543212, 138.85389109347443, 174.87874779541448};\n",
      "const std::vector<double>flaps_up{135.0, 134.81481481481484, 155.0925925925926, 170.74074074074073};\n",
      "\n",
      "\n",
      "const std::vector<double>gwt_min_flaps_up{79.98484347442682, 138.91396604938274, 159.42157186948856, 174.93772045855383};\n",
      "const std::vector<double>min_flaps_up{135.0925925925926, 134.90740740740742, 144.35185185185185, 150.92592592592592};\n",
      "\n",
      "\n"
     ]
    }
   ],
   "source": [
    "DIG_FILE_NAME = \"4_eng_climb_speed.dig\"\n",
    "X_AXIS_NAME = \"gwt\"\n",
    "Y_NAME = \"speed\"\n",
    "uncorr = {}\n",
    "chart = ParseDig(f'./{TOP_FOLDER}/dig/{DIG_FILE_NAME}')\n",
    "for c in chart.curveNames():\n",
    "    xVector = [row [0] for row in chart.curve(c)]\n",
    "    yVector = [row [1] for row in chart.curve(c)]\n",
    "    c_clean = c.replace(\"-\", \"_\")\n",
    "    x_nm = X_AXIS_NAME + \"_\" + c_clean\n",
    "    print(f\"const std::vector<double>{x_nm}{{\" + \", \".join([str(s) for s in xVector]) + \"};\")\n",
    "    \n",
    "    print(f\"const std::vector<double>{c_clean}{{\" + \", \".join([str(s) for s in yVector]) + \"};\")\n",
    "    print(\"\\n\")\n"
   ]
  },
  {
   "cell_type": "code",
   "execution_count": 4,
   "metadata": {},
   "outputs": [
    {
     "name": "stdout",
     "output_type": "stream",
     "text": [
      "const std::vector<double>speed_gwt_80{129.39890710382508, 129.54462659380687, 179.9635701275045, 197.95992714025493};\n",
      "const std::vector<double>gwt_80_press_alt{38.00199164846567, 25.47508068407824, 14.257302013684907, 0.03218994859092561};\n",
      "const std::vector<double>speed_gwt_90{134.49908925318755, 134.64480874316934, 179.9635701275045, 198.03278688524586};\n",
      "const std::vector<double>gwt_90_press_alt{35.88476333135283, 24.429827864668315, 14.257302013684907, 0.03213416011849546};\n",
      "const std::vector<double>speed_gwt_100{139.89071038251362, 140.0364298724954, 179.8907103825136, 198.03278688524586};\n",
      "const std::vector<double>gwt_100_press_alt{33.920451217164995, 23.23121253455398, 14.226729930794399, 0.03213416011849546};\n",
      "const std::vector<double>speed_gwt_110{145.50091074681234, 145.57377049180323, 179.8907103825136, 197.88706739526407};\n",
      "const std::vector<double>gwt_110_press_alt{31.8334602521081, 22.001857756131848, 14.287985673520275, -0.02901000566252776};\n",
      "const std::vector<double>speed_gwt_120{151.03825136612016, 151.03825136612016, 179.7449908925318, 197.74134790528228};\n",
      "const std::vector<double>gwt_120_press_alt{20.80318663754508, 29.715897204160697, 14.288097250465135, 0.0017294426452707512};\n",
      "const std::vector<double>speed_gwt_130{156.4298724954462, 156.4298724954462, 179.81785063752272, 198.10564663023672};\n",
      "const std::vector<double>gwt_130_press_alt{19.60457130743074, 27.65970147588403, 14.226785719266829, -0.02917737107981111};\n",
      "const std::vector<double>speed_gwt_140{161.67577413479046, 161.74863387978135, 179.8907103825136, 197.95992714025493};\n",
      "const std::vector<double>gwt_140_press_alt{18.436695425624197, 25.726073021531555, 14.257357802157337, 0.06281781995387092};\n",
      "const std::vector<double>speed_gwt_150{166.99453551912563, 166.99453551912563, 179.9635701275045, 197.81420765027315};\n",
      "const std::vector<double>gwt_150_press_alt{23.761872484288567, 17.238135883982288, 14.257302013684907, 0.03230152553577881};\n",
      "const std::vector<double>speed_gwt_160{172.45901639344257, 172.45901639344257, 179.81785063752272, 197.74134790528228};\n",
      "const std::vector<double>gwt_160_press_alt{21.644365224813594, 15.978209022669638, 14.257413590629767, 0.09361305673409248};\n",
      "const std::vector<double>speed_gwt_170{177.77777777777771, 177.8506375227686, 179.8907103825136, 198.03278688524586};\n",
      "const std::vector<double>gwt_170_press_alt{20.04764335545346, 14.779593692555302, 14.165474188068515, -0.05974945397032627};\n",
      "const std::vector<double>speed_gwt_175{180.7650273224043, 180.77347905282323, 197.88706739526407};\n",
      "const std::vector<double>gwt_175_press_alt{19.18777562992159, 13.720081562746685, 0.001617865700410448};\n"
     ]
    }
   ],
   "source": [
    "DIG_FILE_NAME = \"3_eng_climb_speed.dig\"\n",
    "X_AXIS_NAME = \"speed\"\n",
    "Y_NAME = \"press_alt\"\n",
    "uncorr = {}\n",
    "chart = ParseDig(f'./{TOP_FOLDER}/dig/{DIG_FILE_NAME}')\n",
    "for c in chart.curveNames():\n",
    "    xVector = [row [0] for row in chart.curve(c)]\n",
    "    yVector = [row [1] for row in chart.curve(c)]\n",
    "\n",
    "    c_clean = c.replace(\"-\", \"_\")\n",
    "    x_nm = X_AXIS_NAME + \"_\" + c_clean\n",
    "    print(f\"const std::vector<double>{x_nm}{{\" + \", \".join([str(s) for s in xVector]) + \"};\")\n",
    "    c_clean = c_clean + \"_\" + Y_NAME\n",
    "    print(f\"const std::vector<double>{c_clean}{{\" + \", \".join([str(s) for s in yVector]) + \"};\")\n",
    "    # print(\"\\n\")\n"
   ]
  },
  {
   "cell_type": "code",
   "execution_count": 6,
   "metadata": {},
   "outputs": [
    {
     "name": "stdout",
     "output_type": "stream",
     "text": [
      "const std::vector<double>speed_uncor_drag_0{129.9213434047069, 135.0337723952806, 160.75285598351957, 181.20232224233723, 199.60671702353454};\n",
      "const std::vector<double>drag_0_speed{135.0724606562179, 135.14009775938672, 160.90822365948935, 181.06279207802345, 199.7294515873247};\n",
      "const std::vector<double>speed_uncor_drag_50{129.9213434047069, 139.98876334352957, 169.40458205880515, 190.08989325176353, 199.8426868094138};\n",
      "const std::vector<double>drag_50_speed{135.0724606562179, 135.0724606562179, 164.42503094282438, 184.71498092817734, 194.92753934378203};\n",
      "const std::vector<double>speed_uncor_drag_100{130.0, 145.3371621199825, 159.65166364941632, 169.95505337411822, 182.06741993882264, 199.8426868094138};\n",
      "const std::vector<double>drag_100_speed{135.0724606562179, 135.14009775938672, 150.6955578834034, 160.97575340217693, 172.27050546848278, 189.8550786875641};\n",
      "const std::vector<double>speed_uncor_drag_150_300{129.60684187527312, 145.3371621199825, 158.78656595293089, 169.16861227292588, 181.83145015294338, 199.76403021412074};\n",
      "const std::vector<double>drag_150_300_speed{134.9371864498803, 135.14009775938672, 149.88402000585882, 160.0965784214635, 170.98550786875637, 185.72943011522844};\n"
     ]
    }
   ],
   "source": [
    "DIG_FILE_NAME = \"3_eng_climb_speed_variant_drag.dig\"\n",
    "X_AXIS_NAME = \"speed_uncor\"\n",
    "Y_NAME = \"speed\"\n",
    "uncorr = {}\n",
    "chart = ParseDig(f'./{TOP_FOLDER}/dig/{DIG_FILE_NAME}')\n",
    "for c in chart.curveNames():\n",
    "    xVector = [row [0] for row in chart.curve(c)]\n",
    "    yVector = [row [1] for row in chart.curve(c)]\n",
    "\n",
    "    c_clean = c.replace(\"-\", \"_\")\n",
    "    x_nm = X_AXIS_NAME + \"_\" + c_clean\n",
    "    print(f\"const std::vector<double>{x_nm}{{\" + \", \".join([str(s) for s in xVector]) + \"};\")\n",
    "    c_clean = c_clean + \"_\" + Y_NAME\n",
    "    print(f\"const std::vector<double>{c_clean}{{\" + \", \".join([str(s) for s in yVector]) + \"};\")\n",
    "    # print(\"\\n\")\n"
   ]
  },
  {
   "cell_type": "code",
   "execution_count": 7,
   "metadata": {},
   "outputs": [
    {
     "name": "stdout",
     "output_type": "stream",
     "text": [
      "const std::vector<double>speed_uncor_drag_0{130.0055268830057, 134.9552699292593, 158.7276613199077, 176.47329539551018, 189.9998729382636};\n",
      "const std::vector<double>drag_0_speed{134.95730525249348, 134.90502257492727, 158.74519811838343, 176.53984279180213, 189.8860327217665};\n",
      "const std::vector<double>speed_uncor_drag_50{129.9386330133367, 140.10577935153722, 156.51230806627257, 177.67289554142894, 190.0614940483997};\n",
      "const std::vector<double>drag_50_speed{134.95724172162528, 134.90991414925094, 151.5066318846968, 172.60938649819488, 185.15672555660817};\n",
      "const std::vector<double>speed_uncor_drag_100{130.0055268830057, 145.25622524294698, 159.05234751960546, 174.05169099998497, 181.95344612267772, 189.9889463348312};\n",
      "const std::vector<double>drag_100_speed{134.95730525249348, 134.85782208445787, 149.9705780500722, 164.4007642512915, 172.2145667982574, 180.08547994523383};\n",
      "const std::vector<double>speed_uncor_drag_150_300{129.9386330133367, 145.05567069567633, 160.52549464244078, 169.90026982623246, 176.6633045245577, 184.16168432244473, 190.25417127222644};\n",
      "const std::vector<double>drag_150_300_speed{134.95724172162528, 134.97159877008673, 151.39647615602755, 160.52220953071537, 166.96741516434102, 173.07132725175302, 177.97742987160828};\n"
     ]
    }
   ],
   "source": [
    "DIG_FILE_NAME = \"4_eng_climb_variant_drag.dig\"\n",
    "X_AXIS_NAME = \"speed_uncor\"\n",
    "Y_NAME = \"speed\"\n",
    "uncorr = {}\n",
    "chart = ParseDig(f'./{TOP_FOLDER}/dig/{DIG_FILE_NAME}')\n",
    "for c in chart.curveNames():\n",
    "    xVector = [row [0] for row in chart.curve(c)]\n",
    "    yVector = [row [1] for row in chart.curve(c)]\n",
    "\n",
    "    c_clean = c.replace(\"-\", \"_\")\n",
    "    x_nm = X_AXIS_NAME + \"_\" + c_clean\n",
    "    print(f\"const std::vector<double>{x_nm}{{\" + \", \".join([str(s) for s in xVector]) + \"};\")\n",
    "    c_clean = c_clean + \"_\" + Y_NAME\n",
    "    print(f\"const std::vector<double>{c_clean}{{\" + \", \".join([str(s) for s in yVector]) + \"};\")\n",
    "    # print(\"\\n\")"
   ]
  },
  {
   "cell_type": "code",
   "execution_count": null,
   "metadata": {},
   "outputs": [],
   "source": []
  }
 ],
 "metadata": {
  "kernelspec": {
   "display_name": "ds-infra",
   "language": "python",
   "name": "python3"
  },
  "language_info": {
   "codemirror_mode": {
    "name": "ipython",
    "version": 3
   },
   "file_extension": ".py",
   "mimetype": "text/x-python",
   "name": "python",
   "nbconvert_exporter": "python",
   "pygments_lexer": "ipython3",
   "version": "3.10.11"
  },
  "orig_nbformat": 4,
  "vscode": {
   "interpreter": {
    "hash": "0989b4bfb6de13ee5a479302171e01fc7a2733b588409e2c447a1a059d02f27e"
   }
  }
 },
 "nbformat": 4,
 "nbformat_minor": 2
}
