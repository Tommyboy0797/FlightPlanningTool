{
 "cells": [
  {
   "cell_type": "code",
   "execution_count": 1,
   "metadata": {},
   "outputs": [
    {
     "name": "stdout",
     "output_type": "stream",
     "text": [
      "c:\\Users\\mcdel\\digitized-charts\n"
     ]
    }
   ],
   "source": [
    "import os\n",
    "os.chdir(\"../..\")\n",
    "print(os.getcwd())\n",
    "from py_utils import *"
   ]
  },
  {
   "cell_type": "code",
   "execution_count": 2,
   "metadata": {},
   "outputs": [],
   "source": [
    "TOP_FOLDER = \"completed-takeoff/amax-takeoff\""
   ]
  },
  {
   "cell_type": "code",
   "execution_count": 4,
   "metadata": {},
   "outputs": [
    {
     "name": "stdout",
     "output_type": "stream",
     "text": [
      "auto uncor_1 = linear_interpolate( scale_vals_1, {\n",
      "\tlin(std::vector<double>{-0.987, -0.010, 0.992, 1.994, 2.246, 3.002, 4.003, 5.014, 6.007, 7.014, 7.992}, // gwt_80\n",
      "\tstd::vector<double>{86.102, 83.459, 80.778, 78.054, 77.407, 77.922, 78.842, 79.840, 80.772, 81.897, 83.077}, tof),\n",
      "\tlin(std::vector<double>{-0.991, -0.009, 1.001, 1.995, 2.227, 3.000, 4.001, 5.006, 6.004, 7.010, 7.993}, // gwt_90\n",
      "\tstd::vector<double>{87.241, 84.583, 81.865, 79.178, 78.507, 78.961, 79.839, 80.698, 81.594, 82.701, 84.080}, tof),\n",
      "\tlin(std::vector<double>{-0.990, -0.005, 0.996, 1.997, 2.243, 2.997, 4.003, 5.012, 6.008, 7.012, 7.992}, // gwt_100\n",
      "\tstd::vector<double>{88.528, 85.732, 82.887, 80.084, 79.401, 79.904, 80.878, 81.798, 82.778, 83.970, 85.222}, tof),\n",
      "\tlin(std::vector<double>{-0.989, -0.011, 0.997, 1.995, 2.241, 3.000, 4.001, 5.009, 6.005, 7.013, 7.207, 7.991}, // gwt_110\n",
      "\tstd::vector<double>{89.253, 86.692, 83.974, 81.299, 80.634, 81.252, 82.177, 83.218, 84.349, 85.559, 85.801, 87.083}, tof),\n",
      "\tlin(std::vector<double>{-0.991, -0.007, 0.999, 1.992, 3.001, 4.004, 5.006, 6.008, 6.865, 7.018, 7.989}, // gwt_120\n",
      "\tstd::vector<double>{90.160, 87.442, 84.591, 85.208, 85.959, 86.824, 87.775, 88.918, 90.345, 90.515, 92.033}, tof),\n",
      "\tlin(std::vector<double>{-0.992, -0.009, 0.103, 0.995, 2.001, 3.002, 4.000, 5.007, 6.005, 7.018, 7.993}, // gwt_130\n",
      "\tstd::vector<double>{91.272, 88.554, 88.209, 88.833, 89.541, 90.370, 91.200, 92.246, 93.517, 95.065, 97.066}, tof),\n",
      "\tlin(std::vector<double>{-0.990, -0.732, -0.009, 0.999, 1.997, 3.003, 4.002, 5.007, 6.006, 6.354, 7.018, 7.990}, // gwt_140\n",
      "\tstd::vector<double>{91.912, 91.822, 92.355, 93.081, 93.820, 94.607, 95.472, 96.549, 97.777, 98.294, 99.341, 101.266}, tof),\n",
      "\tlin(std::vector<double>{-0.989, -0.006, 1.000, 1.995, 3.006, 4.012, 5.008, 6.002, 6.370, 7.018, 7.995}, // gwt_150\n",
      "\tstd::vector<double>{95.895, 96.464, 97.130, 97.868, 98.667, 99.521, 100.562, 101.771, 102.340, 103.374, 105.273}, tof),\n",
      "\tlin(std::vector<double>{-0.989, -0.004, 0.997, 1.994, 3.003, 4.002, 5.008, 6.010, 6.357, 7.019, 7.995}, // gwt_155\n",
      "\tstd::vector<double>{97.925, 98.555, 99.154, 99.857, 100.517, 101.467, 102.453, 103.832, 104.310, 105.465, 107.624}, tof),\n",
      "\tlin(std::vector<double>{-0.989, -0.009, 0.998, 1.997, 3.001, 4.001, 5.009, 6.005, 7.014, 7.994}, // gwt_165\n",
      "\tstd::vector<double>{101.889, 102.465, 103.125, 103.791, 104.499, 105.401, 106.417, 107.736, 109.387, 111.412}, tof),\n",
      "\tlin(std::vector<double>{-0.989, -0.005, 1.001, 2.000, 3.002, 4.002, 5.013, 6.011, 7.014, 7.995}, // gwt_175\n",
      "\tstd::vector<double>{105.757, 106.320, 106.907, 107.616, 108.385, 109.310, 110.321, 111.549, 113.279, 115.292}, tof),\n",
      "}, gwt);\n"
     ]
    }
   ],
   "source": [
    "DIG_FILE_NAME = \"amax-speed-rotation.dig\"\n",
    "INPUT = \"tof\"\n",
    "OUTPUT = \"uncor_1\"\n",
    "INTERP_VAL = \"gwt\"\n",
    "uncorr = {}\n",
    "chart = ParseDig(f'./{TOP_FOLDER}/dig/{DIG_FILE_NAME}')\n",
    "\n",
    "print(f\"auto {OUTPUT} = linear_interpolate( scale_vals_1, {{\")\n",
    "for c in chart.curveNames():\n",
    "    xVector = [row [0] for row in chart.curve(c)]\n",
    "    yVector = [row [1] for row in chart.curve(c)]\n",
    "    c_clean = c.replace(\"-\", \"_\")\n",
    "\n",
    "    print(f\"\\tlin(std::vector<double>{{\" + \", \".join(['{0:.3f}'.format(s) for s in xVector]) + f\"}}, // {c_clean.lower()}\")\n",
    "    print(f\"\\tstd::vector<double>{{\" + \", \".join(['{0:.3f}'.format(s) for s in yVector]) + f\"}}, {INPUT}),\")\n",
    "print(f\"}}, {INTERP_VAL});\")"
   ]
  },
  {
   "cell_type": "code",
   "execution_count": 5,
   "metadata": {},
   "outputs": [
    {
     "name": "stdout",
     "output_type": "stream",
     "text": [
      "auto uncor_1 = linear_interpolate( scale_vals_1, {\n",
      "\tlin(std::vector<double>{-0.999, -0.015, 0.984, 1.992, 2.235, 2.990, 3.999, 5.011, 6.007, 6.526, 7.017, 7.995}, // gwt_80\n",
      "\tstd::vector<double>{105.803, 103.079, 100.262, 97.474, 96.815, 97.242, 98.050, 98.853, 99.801, 100.329, 100.880, 102.034}, tof),\n",
      "\tlin(std::vector<double>{-1.001, -0.020, 0.985, 1.985, 2.221, 2.988, 3.997, 5.008, 6.003, 7.016, 7.992}, // gwt_90\n",
      "\tstd::vector<double>{106.895, 104.078, 101.254, 98.408, 97.714, 98.164, 98.785, 99.652, 100.566, 101.567, 102.757}, tof),\n",
      "\tlin(std::vector<double>{-0.999, -0.016, 0.985, 1.991, 2.234, 2.991, 4.004, 5.012, 6.007, 7.016, 7.995}, // gwt_100\n",
      "\tstd::vector<double>{108.687, 105.659, 102.524, 99.448, 98.719, 99.122, 99.772, 100.538, 101.341, 102.314, 103.539}, tof),\n",
      "\tlin(std::vector<double>{-1.000, -0.018, 0.989, 1.988, 2.236, 2.993, 4.000, 5.015, 6.009, 6.641, 7.017, 7.995}, // gwt_110\n",
      "\tstd::vector<double>{108.694, 105.876, 103.111, 100.282, 99.653, 100.180, 101.141, 102.137, 103.192, 103.884, 104.476, 105.725}, tof),\n",
      "\tlin(std::vector<double>{-0.999, -0.018, 0.985, 1.987, 2.994, 4.003, 5.010, 6.009, 7.013, 7.994}, // gwt_120\n",
      "\tstd::vector<double>{109.546, 106.705, 103.805, 104.396, 105.092, 105.871, 106.803, 107.846, 109.106, 110.555}, tof),\n",
      "\tlin(std::vector<double>{-0.999, -0.020, 0.108, 0.981, 1.991, 2.993, 4.004, 5.012, 6.014, 7.021, 7.997}, // gwt_130\n",
      "\tstd::vector<double>{110.363, 107.574, 107.239, 107.830, 108.609, 109.482, 110.373, 111.298, 112.358, 113.637, 115.045}, tof),\n",
      "\tlin(std::vector<double>{-1.000, -0.873, -0.018, 0.986, 1.986, 2.993, 4.000, 5.008, 6.005, 7.016, 7.993}, // gwt_140\n",
      "\tstd::vector<double>{111.138, 110.773, 111.371, 112.037, 112.828, 113.648, 114.503, 115.517, 116.589, 117.897, 119.399}, tof),\n",
      "\tlin(std::vector<double>{-0.999, -0.020, 0.988, 1.989, 2.995, 4.002, 5.010, 6.005, 7.022, 7.992}, // gwt_150\n",
      "\tstd::vector<double>{114.764, 115.414, 116.122, 116.848, 117.638, 118.487, 119.401, 120.486, 121.893, 123.400}, tof),\n",
      "\tlin(std::vector<double>{-1.001, -0.018, 0.985, 1.987, 2.997, 4.002, 5.009, 6.008, 7.021, 7.996}, // gwt_155\n",
      "\tstd::vector<double>{116.832, 117.493, 118.184, 118.880, 119.618, 120.473, 121.428, 122.530, 123.909, 125.369}, tof),\n",
      "\tlin(std::vector<double>{-1.001, -0.020, 0.984, 1.991, 2.992, 3.997, 5.013, 5.603, 6.007, 7.011, 7.992}, // gwt_165\n",
      "\tstd::vector<double>{120.757, 121.384, 122.068, 122.836, 123.596, 124.398, 125.395, 126.005, 126.497, 127.840, 129.453}, tof),\n",
      "\tlin(std::vector<double>{-1.003, -0.018, 0.986, 1.991, 2.993, 4.000, 5.010, 6.009, 7.011, 7.991}, // gwt_175\n",
      "\tstd::vector<double>{124.518, 125.197, 125.917, 126.673, 127.451, 128.336, 129.303, 130.364, 131.789, 133.384}, tof),\n",
      "}, gwt);\n"
     ]
    }
   ],
   "source": [
    "DIG_FILE_NAME = \"amax-speed-obstacle.dig\"\n",
    "INPUT = \"tof\"\n",
    "OUTPUT = \"uncor_1\"\n",
    "INTERP_VAL = \"gwt\"\n",
    "uncorr = {}\n",
    "chart = ParseDig(f'./{TOP_FOLDER}/dig/{DIG_FILE_NAME}')\n",
    "\n",
    "print(f\"auto {OUTPUT} = linear_interpolate( scale_vals_1, {{\")\n",
    "for c in chart.curveNames():\n",
    "    xVector = [row [0] for row in chart.curve(c)]\n",
    "    yVector = [row [1] for row in chart.curve(c)]\n",
    "    c_clean = c.replace(\"-\", \"_\")\n",
    "\n",
    "    print(f\"\\tlin(std::vector<double>{{\" + \", \".join(['{0:.3f}'.format(s) for s in xVector]) + f\"}}, // {c_clean.lower()}\")\n",
    "    print(f\"\\tstd::vector<double>{{\" + \", \".join(['{0:.3f}'.format(s) for s in yVector]) + f\"}}, {INPUT}),\")\n",
    "print(f\"}}, {INTERP_VAL});\")"
   ]
  },
  {
   "cell_type": "code",
   "execution_count": null,
   "metadata": {},
   "outputs": [],
   "source": []
  }
 ],
 "metadata": {
  "kernelspec": {
   "display_name": "ds-infra",
   "language": "python",
   "name": "python3"
  },
  "language_info": {
   "codemirror_mode": {
    "name": "ipython",
    "version": 3
   },
   "file_extension": ".py",
   "mimetype": "text/x-python",
   "name": "python",
   "nbconvert_exporter": "python",
   "pygments_lexer": "ipython3",
   "version": "3.10.11"
  },
  "orig_nbformat": 4,
  "vscode": {
   "interpreter": {
    "hash": "0989b4bfb6de13ee5a479302171e01fc7a2733b588409e2c447a1a059d02f27e"
   }
  }
 },
 "nbformat": 4,
 "nbformat_minor": 2
}
