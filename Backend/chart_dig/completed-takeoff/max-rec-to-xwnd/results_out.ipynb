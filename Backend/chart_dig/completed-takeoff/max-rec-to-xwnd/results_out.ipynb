{
 "cells": [
  {
   "cell_type": "code",
   "execution_count": 1,
   "metadata": {},
   "outputs": [
    {
     "name": "stdout",
     "output_type": "stream",
     "text": [
      "c:\\Users\\mcdel\\digitized-charts\n"
     ]
    }
   ],
   "source": [
    "import os\n",
    "os.chdir(\"../\")\n",
    "print(os.getcwd())\n",
    "from py_utils import *"
   ]
  },
  {
   "cell_type": "code",
   "execution_count": 2,
   "metadata": {},
   "outputs": [],
   "source": [
    "TOP_FOLDER = \"max-rec-to-xwnd\""
   ]
  },
  {
   "cell_type": "code",
   "execution_count": 21,
   "metadata": {},
   "outputs": [
    {
     "name": "stdout",
     "output_type": "stream",
     "text": [
      "std::vector<std::vector<double>> x_vals{\n",
      "\tstd::vector<double>{79.983, 85.290, 89.740, 95.793, 99.807, 103.581, 105.283},\n",
      "\tstd::vector<double>{79.958, 87.357, 93.482, 99.823, 104.733, 109.852, 117.316},\n",
      "\tstd::vector<double>{79.964, 85.759, 89.748, 96.055, 99.238, 105.527, 109.866, 114.251, 119.727, 122.384},\n",
      "\tstd::vector<double>{79.965, 87.774, 96.921, 101.682, 109.855, 114.980, 119.775, 126.245, 129.974, 136.068, 142.551, 148.346},\n",
      "\tstd::vector<double>{79.945, 89.762, 99.864, 109.842, 119.782, 129.838, 140.012, 149.991, 160.185, 170.119, 176.128},\n",
      "\tstd::vector<double>{79.959, 89.846, 99.877, 109.856, 115.995, 119.815, 129.976, 139.974, 149.927, 160.127, 170.106, 180.021},\n",
      "\tstd::vector<double>{79.998, 89.827, 99.897, 109.850, 119.848, 130.016, 139.975, 150.000, 160.167, 170.160, 180.101},\n",
      "\tstd::vector<double>{79.959, 89.769, 99.898, 109.825, 119.804, 130.023, 140.009, 149.994, 160.149, 170.103, 180.030},\n",
      "\tstd::vector<double>{79.963, 89.769, 99.821, 109.857, 119.827, 130.018, 139.971, 149.990, 160.173, 170.111, 180.106},\n",
      "\tstd::vector<double>{79.988, 89.794, 99.862, 109.808, 119.835, 130.010, 140.070, 149.999, 160.199, 170.087, 180.180},\n",
      "\tstd::vector<double>{79.953, 89.744, 99.892, 109.800, 119.766, 130.012, 139.939, 149.944, 160.177, 170.131, 180.175},\n",
      "};\n",
      "\n",
      "std::vector<std::vector<double>> y_vals{\n",
      "\tstd::vector<double>{22.620, 25.011, 27.021, 30.023, 32.025, 34.095, 35.019},\n",
      "\tstd::vector<double>{21.582, 24.021, 26.032, 28.109, 30.032, 32.001, 35.008},\n",
      "\tstd::vector<double>{21.329, 22.971, 24.130, 26.027, 26.997, 29.016, 30.425, 32.027, 34.037, 35.026},\n",
      "\tstd::vector<double>{20.535, 22.109, 24.014, 25.031, 26.720, 28.024, 29.242, 31.013, 32.034, 33.007, 34.046, 35.021},\n",
      "\tstd::vector<double>{20.274, 22.012, 23.904, 25.732, 27.756, 30.009, 31.274, 32.519, 33.617, 34.513, 35.007},\n",
      "\tstd::vector<double>{19.998, 21.609, 23.279, 24.860, 26.032, 26.754, 28.520, 29.662, 30.558, 31.724, 32.476, 33.206},\n",
      "\tstd::vector<double>{19.518, 20.804, 22.154, 23.506, 24.747, 26.020, 27.247, 28.100, 29.015, 29.575, 30.256},\n",
      "\tstd::vector<double>{19.204, 20.355, 21.337, 22.484, 23.543, 24.454, 25.449, 26.451, 27.168, 27.692, 28.290},\n",
      "\tstd::vector<double>{18.999, 19.891, 20.684, 21.465, 22.493, 23.356, 24.158, 25.015, 25.597, 26.304, 26.589},\n",
      "\tstd::vector<double>{18.772, 19.486, 20.131, 20.788, 21.481, 22.089, 22.697, 23.394, 24.002, 24.516, 25.002},\n",
      "\tstd::vector<double>{18.776, 19.367, 19.892, 20.485, 20.984, 21.490, 21.985, 22.491, 23.011, 23.498, 23.991},\n",
      "};\n",
      "\n",
      "['RCR_23', 'RCR_20', 'RCR_18', 'RCR_16', 'RCR_15', 'RCR_14', 'RCR_12', 'RCR_10', 'RCR_8', 'RCR_6', 'RCR_5']\n"
     ]
    }
   ],
   "source": [
    "DIG_FILE_NAME = \"max-rec-to-xwnd.dig\"\n",
    "X_AXIS_NAME = \"gwt_\"\n",
    "Y_NAME = \"wind\"\n",
    "uncorr = {}\n",
    "chart = ParseDig(f'./{TOP_FOLDER}/dig/{DIG_FILE_NAME}')\n",
    "x_str = \"std::vector<std::vector<double>> x_vals{\\n\"\n",
    "y_str = \"std::vector<std::vector<double>> y_vals{\\n\"\n",
    "z = []\n",
    "for c in chart.curveNames():\n",
    "    xVector = [row [0] for row in chart.curve(c)]\n",
    "    yVector = [row [1] for row in chart.curve(c)]\n",
    "    c_clean = c.replace(\"-\", \"_\")\n",
    "    z.append(c_clean)\n",
    "    x_nm = X_AXIS_NAME + c_clean\n",
    "    y_nm  = Y_NAME + \"_\" + c_clean\n",
    "    v =f\"\\tstd::vector<double>{{\" + \", \".join(['{0:.3f}'.format(s) for s in xVector]) + \"},\\n\"\n",
    "    x_str  += v\n",
    "\n",
    "    v2 =f\"\\tstd::vector<double>{{\" + \", \".join(['{0:.3f}'.format(s) for s in yVector]) + \"},\\n\"\n",
    "    y_str  += v2\n",
    "    \n",
    "x_str += \"};\"\n",
    "y_str += \"};\"\n",
    "print(x_str)\n",
    "print(\"\")\n",
    "print(y_str)\n",
    "print(\"\")\n",
    "print(z)\n",
    "# for c in chart.curveNames():\n",
    "#     xVector = [row [0] for row in chart.curve(c)]\n",
    "#     yVector = [row [1] for row in chart.curve(c)]\n",
    "#     c_clean = c.replace(\"-\", \"_\")\n",
    "#     x_nm = X_AXIS_NAME + c_clean\n",
    "#     y_nm  = Y_NAME + \"_\" + c_clean\n",
    "        \n",
    "#     print(f\"const std::vector<double>{y_nm}{{\" + \", \".join([str(s) for s in yVector]) + \"};\")"
   ]
  },
  {
   "cell_type": "code",
   "execution_count": null,
   "metadata": {},
   "outputs": [],
   "source": []
  }
 ],
 "metadata": {
  "kernelspec": {
   "display_name": "ds-infra",
   "language": "python",
   "name": "python3"
  },
  "language_info": {
   "codemirror_mode": {
    "name": "ipython",
    "version": 3
   },
   "file_extension": ".py",
   "mimetype": "text/x-python",
   "name": "python",
   "nbconvert_exporter": "python",
   "pygments_lexer": "ipython3",
   "version": "3.10.11"
  },
  "orig_nbformat": 4,
  "vscode": {
   "interpreter": {
    "hash": "0989b4bfb6de13ee5a479302171e01fc7a2733b588409e2c447a1a059d02f27e"
   }
  }
 },
 "nbformat": 4,
 "nbformat_minor": 2
}
