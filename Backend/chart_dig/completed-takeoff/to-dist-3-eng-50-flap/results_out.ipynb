{
 "cells": [
  {
   "cell_type": "code",
   "execution_count": null,
   "metadata": {},
   "outputs": [],
   "source": [
    "from py_utils import *"
   ]
  },
  {
   "cell_type": "code",
   "execution_count": null,
   "metadata": {},
   "outputs": [],
   "source": [
    "TOP_FOLDER = \"to-dist-3-eng-50-flap\""
   ]
  },
  {
   "cell_type": "code",
   "execution_count": null,
   "metadata": {},
   "outputs": [],
   "source": [
    "DIG_FILE_NAME = \"uncorrected-ground-run-1000ft.dig\"\n",
    "X_AXIS_NAME = \"TOF\"\n",
    "uncorr = {}\n",
    "chart = ParseDig(f'./{TOP_FOLDER}/dig/{DIG_FILE_NAME}')\n",
    "for c in chart.curveNames():\n",
    "    xVector = [row [0] for row in chart.curve(c)]\n",
    "    yVector = [row [1] for row in chart.curve(c)]\n",
    "    v = get_second_order_polyfit(xVector, yVector)\n",
    "    uncorr[c] = v\n",
    "    pprint(f\"{v[0]} * std::pow({X_AXIS_NAME}, 2) + {v[1]} * {X_AXIS_NAME} + {v[2]} // {c}\")"
   ]
  },
  {
   "cell_type": "code",
   "execution_count": null,
   "metadata": {},
   "outputs": [],
   "source": [
    "DIG_FILE_NAME = \"runway-slope.dig\"\n",
    "X_AXIS_NAME = \"rw_slope\"\n",
    "rw_slope = {}\n",
    "chart = ParseDig(f'./{TOP_FOLDER}/dig/{DIG_FILE_NAME}')\n",
    "for c in chart.curveNames():\n",
    "    xVector = [row [0] for row in chart.curve(c)]\n",
    "    yVector = [row [1] for row in chart.curve(c)]\n",
    "    v = get_second_order_polyfit(xVector, yVector)\n",
    "    rw_slope[c] = v\n",
    "    pprint(f\"{v[0]} * std::pow({X_AXIS_NAME}, 2) + {v[1]} * {X_AXIS_NAME} + {v[2]} // {c}\")\n"
   ]
  },
  {
   "cell_type": "code",
   "execution_count": null,
   "metadata": {},
   "outputs": [],
   "source": [
    "DIG_FILE_NAME = \"wind-velocity-knots.dig\"\n",
    "X_AXIS_NAME = \"wind_h_t_kts\"\n",
    "wind_vel = {}\n",
    "chart = ParseDig(f'./{TOP_FOLDER}/dig/{DIG_FILE_NAME}')\n",
    "for c in chart.curveNames():\n",
    "    xVector = [row [0] for row in chart.curve(c)]\n",
    "    yVector = [row [1] for row in chart.curve(c)]\n",
    "    v = get_second_order_polyfit(xVector, yVector)\n",
    "    wind_vel[c] = v\n",
    "    pprint(f\"{v[0]} * std::pow({X_AXIS_NAME}, 2) + {v[1]} * {X_AXIS_NAME} + {v[2]} // {c}\")"
   ]
  },
  {
   "cell_type": "code",
   "execution_count": null,
   "metadata": {},
   "outputs": [],
   "source": [
    "DIG_FILE_NAME = \"drag-index.dig\"\n",
    "X_AXIS_NAME = \"drag_idx\"\n",
    "drag = {}\n",
    "chart = ParseDig(f'./{TOP_FOLDER}/dig/{DIG_FILE_NAME}')\n",
    "for c in chart.curveNames():\n",
    "    xVector = [row [0] for row in chart.curve(c)]\n",
    "    yVector = [row [1] for row in chart.curve(c)]\n",
    "    v = get_second_order_polyfit(xVector, yVector)\n",
    "    drag[c] = v\n",
    "    pprint(f\"{v[0]} * std::pow({X_AXIS_NAME}, 2) + {v[1]} * {X_AXIS_NAME} + {v[2]} // {c}\")"
   ]
  },
  {
   "cell_type": "code",
   "execution_count": null,
   "metadata": {},
   "outputs": [],
   "source": [
    "## Do some simple tests to see if the output is reasonalbe.\n",
    "init_val = list(uncorr.keys())[0]\n",
    "TOF = 2.5\n",
    "uncorrected = get_val_from_fit(TOF, uncorr[init_val])\n",
    "print([init_val, round(uncorrected, 1)])\n",
    "\n",
    "RW_SLOPE = 2.5\n",
    "partial_cor_rw_slope = get_val_from_fit(RW_SLOPE, rw_slope[list(rw_slope.keys())[0]])\n",
    "print([init_val, round(partial_cor_rw_slope, 1)]) \n",
    "\n",
    "WIND_HT = 3\n",
    "partial_cor_wind = get_val_from_fit(WIND_HT, wind_vel[list(wind_vel.keys())[0]])\n",
    "print([init_val, round(partial_cor_wind, 1)])\n",
    "\n",
    "DRAG_IDX = 10\n",
    "fully_corr = get_val_from_fit(DRAG_IDX, drag[list(drag.keys())[0]])\n",
    "print([init_val, round(fully_corr, 1)])"
   ]
  },
  {
   "cell_type": "code",
   "execution_count": null,
   "metadata": {},
   "outputs": [],
   "source": []
  }
 ],
 "metadata": {
  "kernelspec": {
   "display_name": "ds-infra",
   "language": "python",
   "name": "python3"
  },
  "language_info": {
   "codemirror_mode": {
    "name": "ipython",
    "version": 3
   },
   "file_extension": ".py",
   "mimetype": "text/x-python",
   "name": "python",
   "nbconvert_exporter": "python",
   "pygments_lexer": "ipython3",
   "version": "3.9.4"
  },
  "orig_nbformat": 4,
  "vscode": {
   "interpreter": {
    "hash": "0989b4bfb6de13ee5a479302171e01fc7a2733b588409e2c447a1a059d02f27e"
   }
  }
 },
 "nbformat": 4,
 "nbformat_minor": 2
}
