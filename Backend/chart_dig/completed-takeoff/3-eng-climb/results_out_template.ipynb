{
 "cells": [
  {
   "cell_type": "code",
   "execution_count": 1,
   "metadata": {},
   "outputs": [
    {
     "name": "stdout",
     "output_type": "stream",
     "text": [
      "c:\\Users\\Thomas\\Downloads\\chart_dig\n"
     ]
    }
   ],
   "source": [
    "import os\n",
    "os.chdir(\"../..\")\n",
    "print(os.getcwd())\n",
    "from py_utils import *"
   ]
  },
  {
   "cell_type": "code",
   "execution_count": 2,
   "metadata": {},
   "outputs": [],
   "source": [
    "TOP_FOLDER = \"completed-takeoff/3-eng-climb\""
   ]
  },
  {
   "cell_type": "code",
   "execution_count": 3,
   "metadata": {},
   "outputs": [
    {
     "name": "stdout",
     "output_type": "stream",
     "text": [
      "auto uncor_1 = linear_interpolate( scale_vals_1, {\n",
      "\tlin(std::vector<double>{-45.858, 2.828, 13.115, 27.519, 39.179, 47.411}, // takeofffactor_neg1\n",
      "\tstd::vector<double>{-1.028, -1.019, -0.927, -0.660, -0.424, -0.208}, t_dev),\n",
      "\tlin(std::vector<double>{-45.843, 2.842, 19.988, 30.962, 39.880, 47.425}, // takeofffactor_0\n",
      "\tstd::vector<double>{-0.000, -0.022, 0.173, 0.389, 0.625, 0.789}, t_dev),\n",
      "\tlin(std::vector<double>{-46.514, -4.000, 5.600, 22.059, 31.663, 40.581, 48.126}, // takeofffactor_1\n",
      "\tstd::vector<double>{0.997, 0.986, 0.996, 1.181, 1.427, 1.663, 1.838}, t_dev),\n",
      "\tlin(std::vector<double>{-45.814, 0.129, 13.844, 26.876, 32.364, 47.454}, // takeofffactor_2\n",
      "\tstd::vector<double>{2.015, 2.014, 2.116, 2.311, 2.476, 2.804}, t_dev),\n",
      "\tlin(std::vector<double>{-46.884, 0.465, 15.706, 29.860, 37.483, 46.739}, // takeofffactor_3\n",
      "\tstd::vector<double>{3.008, 2.991, 3.121, 3.358, 3.586, 3.831}, t_dev),\n",
      "\tlin(std::vector<double>{-45.782, -0.608, 14.088, 26.064, 33.686, 41.852, 47.842}, // takeofffactor_4\n",
      "\tstd::vector<double>{3.996, 4.019, 4.109, 4.312, 4.492, 4.671, 4.834}, t_dev),\n",
      "\tlin(std::vector<double>{-45.767, -1.138, 16.824, 29.344, 37.511, 47.312}, // takeofffactor_5\n",
      "\tstd::vector<double>{4.999, 5.015, 5.145, 5.357, 5.561, 5.838}, t_dev),\n",
      "\tlin(std::vector<double>{-46.297, 1.053, 16.294, 30.992, 38.615, 47.326}, // takeofffactor_6\n",
      "\tstd::vector<double>{6.019, 6.018, 6.140, 6.377, 6.630, 6.833}, t_dev),\n",
      "\tlin(std::vector<double>{-46.827, 1.067, 15.219, 27.740, 36.995, 47.340}, // takeofffactor_7\n",
      "\tstd::vector<double>{7.015, 7.030, 7.144, 7.356, 7.560, 7.829}, t_dev),\n",
      "}, tof);\n"
     ]
    }
   ],
   "source": [
    "DIG_FILE_NAME = \"3-eng-climb-factor-temp-dev.dig\"\n",
    "INPUT = \"t_dev\"\n",
    "OUTPUT = \"uncor_1\"\n",
    "INTERP_VAL = \"tof\"\n",
    "uncorr = {}\n",
    "chart = ParseDig(f'./{TOP_FOLDER}/dig/{DIG_FILE_NAME}')\n",
    "\n",
    "print(f\"auto {OUTPUT} = linear_interpolate( scale_vals_1, {{\")\n",
    "for c in chart.curveNames():\n",
    "    xVector = [row [0] for row in chart.curve(c)]\n",
    "    yVector = [row [1] for row in chart.curve(c)]\n",
    "    c_clean = c.replace(\"-\", \"_\")\n",
    "\n",
    "    print(f\"\\tlin(std::vector<double>{{\" + \", \".join(['{0:.3f}'.format(s) for s in xVector]) + f\"}}, // {c_clean.lower()}\")\n",
    "    print(f\"\\tstd::vector<double>{{\" + \", \".join(['{0:.3f}'.format(s) for s in yVector]) + f\"}}, {INPUT}),\")\n",
    "print(f\"}}, {INTERP_VAL});\")"
   ]
  },
  {
   "cell_type": "code",
   "execution_count": 4,
   "metadata": {},
   "outputs": [
    {
     "name": "stdout",
     "output_type": "stream",
     "text": [
      "auto climb_factor = linear_interpolate( scale_vals_2, {\n",
      "\tlin(std::vector<double>{-1.003, -0.008, 0.989, 1.493, 1.992, 2.496, 3.000, 3.501, 4.002, 4.507, 4.996, 5.511, 6.019, 6.213, 6.514, 6.661, 6.910, 7.048, 7.394, 7.526, 7.684, 7.914, 8.004}, // gwt_80\n",
      "\tstd::vector<double>{66.096, 67.512, 70.321, 72.466, 74.612, 77.721, 80.969, 85.620, 90.131, 96.380, 102.277, 110.947, 119.214, 123.830, 130.376, 134.501, 141.047, 145.488, 156.194, 160.406, 166.830, 175.447, 179.221}, uncor_1),\n",
      "\tlin(std::vector<double>{-1.004, -0.006, 0.989, 1.494, 1.997, 2.494, 2.989, 3.508, 4.005, 4.512, 5.011, 5.226, 5.742, 6.022, 6.217, 6.512, 6.617, 6.975, 7.308, 7.618, 8.010}, // gwt_90\n",
      "\tstd::vector<double>{74.698, 77.617, 81.090, 83.434, 85.822, 89.130, 92.446, 98.102, 103.479, 111.057, 119.374, 123.915, 134.502, 140.227, 145.312, 152.988, 156.094, 166.778, 177.351, 188.272, 204.794}, uncor_1),\n",
      "\tlin(std::vector<double>{-1.000, -0.011, 0.481, 0.980, 1.489, 1.988, 2.496, 2.998, 3.499, 4.002, 4.603, 5.000, 5.307, 5.516, 5.965, 6.205, 6.340, 6.684, 7.010, 7.250, 7.370, 7.437, 7.524, 7.608}, // gwt_100\n",
      "\tstd::vector<double>{85.297, 87.721, 89.686, 91.511, 94.423, 96.833, 101.096, 105.066, 111.446, 118.161, 127.982, 134.613, 140.798, 145.395, 155.940, 162.585, 166.820, 177.379, 188.244, 199.012, 205.322, 209.375, 214.725, 219.851}, uncor_1),\n",
      "\tlin(std::vector<double>{-1.002, -0.512, -0.009, 0.490, 0.988, 1.495, 1.992, 2.491, 3.000, 3.507, 3.905, 4.291, 4.567, 4.776, 5.002, 5.208, 5.426, 5.583, 5.911, 6.201, 6.458, 6.660, 6.857}, // gwt_110\n",
      "\tstd::vector<double>{97.075, 98.203, 99.221, 100.769, 102.583, 105.546, 108.620, 112.225, 117.156, 123.392, 129.031, 135.555, 140.442, 145.351, 150.238, 155.920, 161.980, 166.689, 176.906, 188.338, 198.930, 209.698, 219.982}, uncor_1),\n",
      "\tlin(std::vector<double>{-1.000, -0.510, -0.004, 0.983, 1.492, 1.986, 2.498, 3.004, 3.507, 3.997, 4.501, 4.789, 4.906, 5.201, 5.243, 5.506, 5.684, 5.948, 6.100}, // gwt_120\n",
      "\tstd::vector<double>{105.662, 107.362, 108.950, 113.297, 117.198, 121.266, 126.197, 131.115, 137.718, 145.491, 155.911, 163.002, 166.707, 175.413, 177.531, 188.132, 195.654, 209.557, 219.905}, uncor_1),\n",
      "\tlin(std::vector<double>{-1.001, -0.510, -0.005, 0.498, 0.989, 1.496, 1.994, 2.492, 3.002, 3.280, 3.802, 4.206, 4.512, 4.741, 4.941, 5.107, 5.425, 5.588}, // gwt_130\n",
      "\tstd::vector<double>{115.427, 117.433, 119.439, 121.543, 123.967, 127.687, 131.309, 136.352, 141.298, 145.881, 154.490, 162.625, 170.774, 177.475, 185.206, 193.188, 209.583, 219.921}, uncor_1),\n",
      "\tlin(std::vector<double>{-1.003, -0.510, -0.012, 0.500, 0.984, 1.496, 1.994, 2.275, 2.496, 2.831, 2.995, 3.401, 3.509, 4.005, 4.272, 4.605, 4.844, 5.040, 5.140, 5.184}, // gwt_140\n",
      "\tstd::vector<double>{123.912, 126.071, 128.300, 131.600, 134.526, 138.483, 142.258, 145.337, 147.733, 151.146, 153.068, 159.226, 161.023, 170.802, 177.363, 188.117, 198.787, 209.764, 215.879, 219.905}, uncor_1),\n",
      "\tlin(std::vector<double>{-1.003, -0.518, -0.007, 0.497, 0.987, 1.496, 1.993, 2.497, 3.055, 3.598, 4.002, 4.223, 4.320, 4.473, 4.593, 4.715, 4.850}, // gwt_150\n",
      "\tstd::vector<double>{133.494, 136.280, 139.150, 142.298, 145.433, 149.348, 154.043, 159.768, 166.928, 175.301, 183.951, 189.677, 192.240, 198.773, 203.245, 209.625, 219.989}, uncor_1),\n",
      "\tlin(std::vector<double>{-1.003, -0.509, -0.015, 0.489, 0.987, 1.493, 1.994, 2.342, 2.768, 2.958, 3.205, 3.506, 3.743, 3.931, 4.118, 4.218, 4.343, 4.393}, // gwt_160\n",
      "\tstd::vector<double>{145.534, 147.518, 149.589, 152.942, 155.961, 160.366, 164.476, 168.739, 174.186, 176.986, 181.625, 187.935, 193.535, 198.689, 204.693, 209.680, 216.102, 220.031}, uncor_1),\n",
      "\tlin(std::vector<double>{-1.001, -0.516, -0.015, 0.496, 0.981, 1.493, 1.696, 1.996, 2.464, 2.745, 3.005, 3.287, 3.513, 3.692, 3.963}, // gwt_170\n",
      "\tstd::vector<double>{156.255, 158.122, 160.309, 163.667, 166.787, 170.995, 173.084, 176.483, 182.933, 187.921, 192.810, 198.953, 204.915, 209.667, 219.919}, uncor_1),\n",
      "\tlin(std::vector<double>{-1.002, -0.515, -0.009, 0.386, 0.499, 0.954, 1.495, 1.733, 2.132, 2.312, 2.483, 2.801, 2.997, 3.215, 3.357}, // gwt_180\n",
      "\tstd::vector<double>{165.800, 168.144, 170.577, 172.791, 173.546, 177.109, 183.094, 186.411, 192.502, 195.380, 198.767, 205.174, 209.421, 215.336, 219.917}, uncor_1),\n",
      "}, gwt);\n"
     ]
    }
   ],
   "source": [
    "DIG_FILE_NAME = \"3-eng-climb-factor-gross-weight.dig\"\n",
    "INPUT = \"uncor_1\"\n",
    "OUTPUT = \"climb_factor\"\n",
    "INTERP_VAL = \"gwt\"\n",
    "uncorr = {}\n",
    "chart = ParseDig(f'./{TOP_FOLDER}/dig/{DIG_FILE_NAME}')\n",
    "\n",
    "print(f\"auto {OUTPUT} = linear_interpolate( scale_vals_2, {{\")\n",
    "for c in chart.curveNames():\n",
    "    xVector = [row [0] for row in chart.curve(c)]\n",
    "    yVector = [row [1] for row in chart.curve(c)]\n",
    "    c_clean = c.replace(\"-\", \"_\")\n",
    "\n",
    "    print(f\"\\tlin(std::vector<double>{{\" + \", \".join(['{0:.3f}'.format(s) for s in yVector]) + f\"}}, // {c_clean.lower()}\")\n",
    "    print(f\"\\tstd::vector<double>{{\" + \", \".join(['{0:.3f}'.format(s) for s in xVector]) + f\"}}, {INPUT}),\")\n",
    "print(f\"}}, {INTERP_VAL});\")"
   ]
  },
  {
   "cell_type": "code",
   "execution_count": 5,
   "metadata": {},
   "outputs": [
    {
     "name": "stdout",
     "output_type": "stream",
     "text": [
      "auto horz_dist_brake_release_ft_1000s_adj = linear_interpolate( scale_vals_3, {\n",
      "\tlin(std::vector<double>{0.021, 0.066, 5.021, 11.927, 14.956, 23.754, 35.036, 46.095, 50.096, 53.083, 57.245, 59.592, 65.151, 70.015}, // tailwind_40\n",
      "\tstd::vector<double>{0.057, -0.005, 4.019, 9.920, 12.424, 19.835, 29.345, 38.620, 42.022, 44.435, 48.029, 49.964, 54.724, 58.776}, horz_dist_brake_release_ft_1000s),\n",
      "\tlin(std::vector<double>{0.070, 6.063, 13.898, 18.849, 24.990, 35.111, 45.129, 50.113, 54.828, 60.121, 70.030}, // tailwind_20\n",
      "\tstd::vector<double>{0.048, 5.419, 12.630, 17.108, 22.752, 31.961, 41.136, 45.700, 50.025, 54.831, 63.862}, horz_dist_brake_release_ft_1000s),\n",
      "\tlin(std::vector<double>{0.013, 5.108, 9.906, 14.915, 24.958, 34.971, 40.015, 44.987, 50.039, 60.115, 65.045, 69.959}, // calm\n",
      "\tstd::vector<double>{0.086, 5.166, 9.969, 14.968, 24.990, 35.002, 40.027, 44.966, 50.038, 60.131, 65.039, 69.905}, horz_dist_brake_release_ft_1000s),\n",
      "\tlin(std::vector<double>{0.000, 5.026, 8.877, 11.994, 17.796, 24.997, 31.521, 36.067, 40.040, 45.101, 49.798, 53.099, 54.292, 58.077, 63.263}, // headwind_20\n",
      "\tstd::vector<double>{0.139, 5.769, 9.937, 13.387, 19.825, 27.770, 34.942, 39.958, 44.360, 49.948, 55.151, 58.692, 60.077, 64.195, 69.946}, horz_dist_brake_release_ft_1000s),\n",
      "\tlin(std::vector<double>{-0.008, 3.617, 4.860, 7.708, 9.886, 13.841, 16.904, 19.946, 24.013, 26.938, 29.997, 32.956, 36.175, 39.246, 43.416, 48.363, 51.186, 52.587, 55.187, 56.546}, // headwind_40\n",
      "\tstd::vector<double>{0.153, 4.880, 6.405, 9.842, 12.647, 17.475, 21.241, 25.032, 29.998, 33.597, 37.392, 41.015, 45.016, 48.744, 53.863, 60.058, 63.461, 65.196, 68.346, 69.980}, horz_dist_brake_release_ft_1000s),\n",
      "}, h_t_wnd);\n"
     ]
    }
   ],
   "source": [
    "DIG_FILE_NAME = \"3-eng-climb-wind-corr.dig\"\n",
    "INPUT = \"horz_dist_brake_release_ft_1000s\"\n",
    "OUTPUT = \"horz_dist_brake_release_ft_1000s_adj\"\n",
    "INTERP_VAL = \"h_t_wnd\"\n",
    "uncorr = {}\n",
    "chart = ParseDig(f'./{TOP_FOLDER}/dig/{DIG_FILE_NAME}')\n",
    "\n",
    "print(f\"auto {OUTPUT} = linear_interpolate( scale_vals_3, {{\")\n",
    "for c in reversed(chart.curveNames()):\n",
    "    xVector = [row [0] for row in chart.curve(c)]\n",
    "    yVector = [row [1] for row in chart.curve(c)]\n",
    "    c_clean = c.replace(\"-\", \"_\")\n",
    "\n",
    "    print(f\"\\tlin(std::vector<double>{{\" + \", \".join(['{0:.3f}'.format(s) for s in yVector]) + f\"}}, // {c_clean.lower()}\")\n",
    "    print(f\"\\tstd::vector<double>{{\" + \", \".join(['{0:.3f}'.format(s) for s in xVector]) + f\"}}, {INPUT}),\")\n",
    "print(f\"}}, {INTERP_VAL});\")"
   ]
  },
  {
   "cell_type": "code",
   "execution_count": 6,
   "metadata": {},
   "outputs": [
    {
     "name": "stdout",
     "output_type": "stream",
     "text": [
      "auto vert_dist_1000s = linear_interpolate( scale_vals_4, {\n",
      "\tlin(std::vector<double>{2.515, 2.946, 3.888, 5.091, 5.592, 7.003, 9.398, 11.036, 12.708, 13.764, 14.769, 14.523, 16.532, 18.610, 20.818, 22.850, 24.975, 27.148, 29.309, 31.611, 36.098, 40.573}, // climbfactor_80\n",
      "\tstd::vector<double>{-0.001, 0.046, 0.251, 0.499, 0.604, 0.751, 1.001, 1.252, 1.503, 1.757, 2.001, 2.011, 2.504, 3.008, 3.505, 4.003, 4.513, 5.021, 5.510, 6.019, 7.017, 8.000}, horz_dist_brake_release_ft_1000s_adj),\n",
      "\tlin(std::vector<double>{2.570, 3.246, 3.869, 4.471, 5.656, 5.862, 6.079, 7.195, 8.934, 9.796, 11.109, 13.126, 14.344, 15.576, 16.751, 16.593, 18.966, 21.539, 23.982, 26.508, 29.092, 31.653, 34.272, 36.962, 42.284, 45.045, 47.853}, // climbfactor_90\n",
      "\tstd::vector<double>{-0.001, 0.045, 0.149, 0.251, 0.449, 0.478, 0.501, 0.599, 0.750, 0.831, 0.999, 1.252, 1.505, 1.754, 2.001, 2.011, 2.504, 3.011, 3.507, 4.005, 4.510, 5.014, 5.511, 6.018, 7.011, 7.520, 8.008}, horz_dist_brake_release_ft_1000s_adj),\n",
      "\tlin(std::vector<double>{2.691, 3.537, 4.258, 4.972, 5.953, 6.122, 7.276, 9.592, 12.035, 13.050, 14.671, 16.112, 17.277, 19.034, 18.863, 21.777, 24.797, 27.828, 30.847, 33.937, 37.180, 40.212, 43.490, 50.058, 53.313, 56.509}, // climbfactor_100\n",
      "\tstd::vector<double>{-0.001, 0.046, 0.150, 0.251, 0.396, 0.419, 0.500, 0.672, 0.904, 1.003, 1.252, 1.502, 1.703, 2.000, 2.011, 2.507, 3.008, 3.500, 4.006, 4.513, 5.013, 5.508, 6.018, 7.012, 7.521, 7.997}, horz_dist_brake_release_ft_1000s_adj),\n",
      "\tlin(std::vector<double>{2.776, 3.818, 4.220, 5.063, 6.274, 8.594, 10.184, 12.342, 13.367, 14.250, 15.319, 16.358, 17.759, 19.136, 20.185, 21.606, 21.545, 24.988, 28.619, 32.168, 35.917, 39.488, 43.437, 47.045, 51.064, 55.001, 58.926, 66.800}, // climbfactor_110\n",
      "\tstd::vector<double>{0.000, 0.048, 0.097, 0.200, 0.352, 0.499, 0.599, 0.751, 0.821, 0.951, 1.102, 1.254, 1.454, 1.655, 1.804, 2.001, 2.013, 2.500, 3.006, 3.506, 4.004, 4.513, 5.014, 5.508, 6.015, 6.515, 7.012, 7.999}, horz_dist_brake_release_ft_1000s_adj),\n",
      "\tlin(std::vector<double>{2.891, 4.132, 5.093, 6.091, 6.588, 9.463, 12.033, 14.178, 16.079, 18.549, 21.425, 23.536, 24.757, 24.767, 28.892, 33.205, 41.678, 48.783, 55.337, 64.574, 69.182, 74.118, 78.726}, // climbfactor_120\n",
      "\tstd::vector<double>{-0.001, 0.048, 0.143, 0.251, 0.302, 0.455, 0.599, 0.719, 0.951, 1.254, 1.606, 1.856, 2.001, 2.011, 2.509, 3.018, 4.005, 4.808, 5.502, 6.518, 7.014, 7.520, 7.998}, horz_dist_brake_release_ft_1000s_adj),\n",
      "\tlin(std::vector<double>{3.100, 4.761, 5.897, 7.044, 10.196, 14.092, 15.952, 18.960, 21.416, 23.825, 26.288, 28.737, 28.637, 33.585, 38.710, 43.823, 54.331, 64.957, 74.739, 81.566, 92.898}, // climbfactor_130\n",
      "\tstd::vector<double>{-0.002, 0.047, 0.150, 0.250, 0.398, 0.599, 0.691, 1.001, 1.254, 1.503, 1.755, 2.001, 2.011, 2.500, 3.009, 3.505, 4.515, 5.506, 6.394, 7.013, 7.998}, horz_dist_brake_release_ft_1000s_adj),\n",
      "\tlin(std::vector<double>{3.635, 5.576, 7.659, 9.956, 13.459, 16.909, 18.451, 19.317, 21.621, 23.315, 25.027, 27.493, 29.996, 33.721, 33.682, 45.672, 57.733, 70.436, 83.407, 96.714, 109.846}, // climbfactor_140\n",
      "\tstd::vector<double>{-0.000, 0.047, 0.202, 0.294, 0.449, 0.600, 0.673, 0.751, 0.952, 1.102, 1.252, 1.466, 1.686, 2.001, 2.011, 3.016, 4.005, 5.011, 6.014, 7.015, 7.997}, horz_dist_brake_release_ft_1000s_adj),\n",
      "\tlin(std::vector<double>{4.135, 6.577, 8.345, 11.014, 14.947, 20.023, 21.680, 25.049, 28.370, 31.080, 33.113, 35.102, 36.522, 40.016, 39.915, 54.046, 68.530, 74.657, 98.954, 114.498, 130.709}, // climbfactor_150\n",
      "\tstd::vector<double>{-0.000, 0.047, 0.157, 0.251, 0.397, 0.590, 0.656, 0.904, 1.152, 1.354, 1.505, 1.653, 1.755, 2.000, 2.010, 3.010, 4.005, 4.416, 6.017, 7.012, 7.996}, horz_dist_brake_release_ft_1000s_adj),\n",
      "\tlin(std::vector<double>{4.886, 7.770, 9.109, 11.203, 14.960, 19.894, 25.690, 27.452, 30.016, 31.426, 35.025, 38.634, 42.577, 45.956, 47.577, 47.431, 64.231, 81.596, 108.449, 125.030, 136.996, 150.100, 155.925}, // climbfactor_160\n",
      "\tstd::vector<double>{-0.000, 0.047, 0.119, 0.181, 0.298, 0.453, 0.644, 0.751, 0.914, 1.001, 1.230, 1.455, 1.704, 1.906, 2.001, 2.011, 3.005, 3.998, 5.509, 6.390, 7.012, 7.705, 7.996}, horz_dist_brake_release_ft_1000s_adj),\n",
      "\tlin(std::vector<double>{5.565, 9.139, 9.870, 14.963, 20.011, 23.261, 25.919, 30.937, 35.107, 39.146, 42.463, 45.233, 50.053, 50.111, 66.775, 87.150, 99.823, 119.202, 141.083, 163.929, 174.888}, // climbfactor_170\n",
      "\tstd::vector<double>{-0.001, 0.046, 0.078, 0.209, 0.342, 0.427, 0.502, 0.647, 0.862, 1.078, 1.254, 1.400, 1.655, 1.668, 2.502, 3.504, 4.110, 5.012, 6.012, 7.009, 7.474}, horz_dist_brake_release_ft_1000s_adj),\n",
      "\tlin(std::vector<double>{6.380, 10.833, 15.013, 19.984, 25.056, 30.084, 35.072, 37.896, 40.138, 43.608, 48.106, 50.050, 50.148, 75.038, 93.598, 105.698, 131.483, 157.481, 174.938}, // climbfactor_180\n",
      "\tstd::vector<double>{0.000, 0.049, 0.132, 0.240, 0.350, 0.466, 0.581, 0.648, 0.749, 0.901, 1.101, 1.187, 1.201, 2.255, 3.014, 3.504, 4.512, 5.505, 6.142}, horz_dist_brake_release_ft_1000s_adj),\n",
      "\tlin(std::vector<double>{7.834, 9.927, 12.226, 13.281, 14.935, 17.393, 19.997, 25.076, 30.083, 34.053, 39.464, 45.192, 47.525, 50.051, 50.161, 75.044, 99.988, 114.769, 124.826, 145.106, 161.369, 174.905}, // climbfactor_190\n",
      "\tstd::vector<double>{-0.000, 0.009, 0.017, 0.048, 0.068, 0.096, 0.143, 0.233, 0.323, 0.394, 0.500, 0.612, 0.659, 0.750, 0.762, 1.653, 2.510, 3.000, 3.340, 3.999, 4.507, 4.931}, horz_dist_brake_release_ft_1000s_adj),\n",
      "}, climb_factor);\n",
      "12\n"
     ]
    }
   ],
   "source": [
    "DIG_FILE_NAME1 = \"3-eng-climb-path-p2-climb-factor.dig\"\n",
    "DIG_FILE_NAME2 = \"3-eng-climb-path-p1.dig\"\n",
    "INPUT = \"horz_dist_brake_release_ft_1000s_adj\"\n",
    "OUTPUT = \"vert_dist_1000s\"\n",
    "INTERP_VAL = \"climb_factor\"\n",
    "uncorr = {}\n",
    "chart = ParseDig(f'./{TOP_FOLDER}/dig/{DIG_FILE_NAME1}')\n",
    "chart2 = ParseDig(f'./{TOP_FOLDER}/dig/{DIG_FILE_NAME2}')\n",
    "i = 0\n",
    "print(f\"auto {OUTPUT} = linear_interpolate( scale_vals_4, {{\")\n",
    "for c, d in zip(chart.curveNames(), chart2.curveNames()):\n",
    "    xVector = [row [0] for row in chart.curve(c)]\n",
    "    xVector2 = [row [0] for row in chart2.curve(c)]\n",
    "    xVector = xVector + xVector2\n",
    "\n",
    "    yVector = [row [1]/10.0 for row in chart.curve(c)]\n",
    "    yVector2 = [row [1] for row in chart2.curve(c)]\n",
    "    yVector = yVector + yVector2\n",
    "    c_clean = c.replace(\"-\", \"_\")\n",
    "\n",
    "    print(f\"\\tlin(std::vector<double>{{\" + \", \".join(['{0:.3f}'.format(s) for s in xVector]) + f\"}}, // {c_clean.lower()}\")\n",
    "    print(f\"\\tstd::vector<double>{{\" + \", \".join(['{0:.3f}'.format(s) for s in yVector]) + f\"}}, {INPUT}),\")\n",
    "    i+=1\n",
    "print(f\"}}, {INTERP_VAL});\")\n",
    "print(i)"
   ]
  },
  {
   "cell_type": "code",
   "execution_count": null,
   "metadata": {},
   "outputs": [],
   "source": []
  }
 ],
 "metadata": {
  "kernelspec": {
   "display_name": "Python 3",
   "language": "python",
   "name": "python3"
  },
  "language_info": {
   "codemirror_mode": {
    "name": "ipython",
    "version": 3
   },
   "file_extension": ".py",
   "mimetype": "text/x-python",
   "name": "python",
   "nbconvert_exporter": "python",
   "pygments_lexer": "ipython3",
   "version": "3.11.9"
  },
  "orig_nbformat": 4
 },
 "nbformat": 4,
 "nbformat_minor": 2
}
