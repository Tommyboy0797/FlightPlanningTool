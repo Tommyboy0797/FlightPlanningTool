{
 "cells": [
  {
   "cell_type": "code",
   "execution_count": 1,
   "metadata": {},
   "outputs": [
    {
     "name": "stdout",
     "output_type": "stream",
     "text": [
      "c:\\Users\\mcdel\\digitized-charts\n"
     ]
    }
   ],
   "source": [
    "import os\n",
    "os.chdir(\"../\")\n",
    "print(os.getcwd())\n",
    "from py_utils import *"
   ]
  },
  {
   "cell_type": "code",
   "execution_count": 2,
   "metadata": {},
   "outputs": [],
   "source": [
    "TOP_FOLDER = \"max-rec-landing-xwnd\""
   ]
  },
  {
   "cell_type": "code",
   "execution_count": 4,
   "metadata": {},
   "outputs": [
    {
     "name": "stdout",
     "output_type": "stream",
     "text": [
      "std::vector<std::vector<double>> x_vals{\n",
      "\tstd::vector<double>{80.029, 89.771, 99.879, 109.972, 119.953, 130.061, 140.055, 145.193, 155.171, 160.153, 165.181, 170.249, 175.316, 179.850},\n",
      "\tstd::vector<double>{79.993, 89.843, 99.842, 110.019, 120.005, 130.046, 140.040, 150.096, 160.130, 170.270, 179.926},\n",
      "\tstd::vector<double>{80.005, 89.858, 99.907, 109.995, 125.120, 140.119, 150.128, 155.133, 160.169, 170.218, 179.930},\n",
      "\tstd::vector<double>{80.045, 94.947, 104.772, 115.004, 125.117, 135.032, 145.194, 155.228, 160.145, 165.222, 175.404, 179.925},\n",
      "\tstd::vector<double>{80.043, 89.799, 99.943, 110.011, 120.054, 130.085, 140.091, 145.181, 155.189, 165.123, 170.229, 175.236, 179.886},\n",
      "\tstd::vector<double>{80.065, 89.811, 99.954, 104.912, 109.968, 114.985, 119.982, 130.046, 139.960, 150.073, 160.226, 170.209, 175.167, 179.936},\n",
      "\tstd::vector<double>{80.085, 84.806, 94.903, 99.885, 104.842, 110.005, 115.010, 120.022, 125.090, 135.123, 145.157, 155.269, 165.160, 175.013, 179.947},\n",
      "\tstd::vector<double>{80.037, 89.894, 99.965, 104.893, 110.019, 115.006, 119.973, 125.119, 130.116, 135.123, 145.097, 150.044, 155.250, 165.184, 175.238, 179.977},\n",
      "\tstd::vector<double>{79.996, 89.802, 94.909, 100.005, 104.913, 109.990, 115.016, 120.003, 130.097, 140.120, 145.127, 150.065, 155.151, 160.138, 170.311, 179.918},\n",
      "\tstd::vector<double>{80.038, 84.766, 89.763, 94.979, 99.864, 104.914, 110.007, 115.017, 120.013, 125.035, 130.032, 140.069, 150.115, 160.238, 165.126, 167.922},\n",
      "\tstd::vector<double>{80.025, 84.854, 88.994, 91.702, 95.061, 99.359, 105.018, 110.063, 113.989, 118.727, 123.692},\n",
      "\tstd::vector<double>{80.007, 84.808, 92.096, 99.762},\n",
      "};\n",
      "\n",
      "std::vector<std::vector<double>> y_vals{\n",
      "\tstd::vector<double>{16.206, 16.600, 16.986, 17.365, 17.697, 18.005, 18.287, 18.457, 18.787, 18.999, 19.265, 19.632, 20.014, 20.458},\n",
      "\tstd::vector<double>{16.850, 17.663, 18.395, 18.981, 19.508, 20.023, 20.499, 20.966, 21.502, 22.299, 23.266},\n",
      "\tstd::vector<double>{17.096, 18.026, 18.897, 19.664, 20.530, 21.200, 21.712, 21.985, 22.294, 23.104, 24.047},\n",
      "\tstd::vector<double>{17.419, 19.257, 20.281, 21.060, 21.698, 22.167, 22.656, 23.278, 23.592, 24.016, 25.013, 25.475},\n",
      "\tstd::vector<double>{17.724, 19.202, 20.507, 21.624, 22.461, 23.048, 23.529, 23.700, 24.315, 25.262, 25.743, 26.267, 26.737},\n",
      "\tstd::vector<double>{18.057, 19.896, 21.612, 22.383, 23.014, 23.495, 23.931, 24.546, 24.996, 25.523, 26.536, 27.579, 28.045, 28.503},\n",
      "\tstd::vector<double>{18.470, 19.717, 22.259, 23.321, 24.164, 24.877, 25.477, 25.947, 26.299, 26.890, 27.384, 28.157, 29.246, 30.413, 30.990},\n",
      "\tstd::vector<double>{18.767, 21.642, 24.215, 25.255, 26.019, 26.584, 27.012, 27.394, 27.753, 28.055, 28.601, 28.941, 29.434, 30.653, 31.742, 32.261},\n",
      "\tstd::vector<double>{19.074, 22.212, 23.875, 25.251, 26.268, 27.074, 27.758, 28.312, 29.023, 29.553, 29.779, 30.134, 30.650, 31.288, 32.579, 33.756},\n",
      "\tstd::vector<double>{19.772, 21.601, 23.711, 26.049, 27.636, 28.703, 29.579, 30.368, 30.951, 31.408, 31.776, 32.260, 32.856, 33.845, 34.556, 35.011},\n",
      "\tstd::vector<double>{20.703, 22.926, 24.909, 26.171, 27.973, 30.107, 32.409, 33.559, 33.965, 34.417, 35.026},\n",
      "\tstd::vector<double>{22.458, 25.407, 30.043, 34.934},\n",
      "};\n",
      "\n",
      "['RCR 2', 'RCR 5', 'RCR 6', 'RCR 8', 'RCR 10', 'RCR 12', 'RCR 14', 'RCR 15', 'RCR 16', 'RCR 18', 'RCR 20', 'RCR 23']\n"
     ]
    }
   ],
   "source": [
    "DIG_FILE_NAME = \"max rec landing crosswind.dig\"\n",
    "X_AXIS_NAME = \"gwt_\"\n",
    "Y_NAME = \"wind\"\n",
    "uncorr = {}\n",
    "chart = ParseDig(f'./{TOP_FOLDER}/dig/{DIG_FILE_NAME}')\n",
    "x_str = \"std::vector<std::vector<double>> x_vals{\\n\"\n",
    "y_str = \"std::vector<std::vector<double>> y_vals{\\n\"\n",
    "z = []\n",
    "for c in chart.curveNames():\n",
    "    xVector = [row [0] for row in chart.curve(c)]\n",
    "    yVector = [row [1] for row in chart.curve(c)]\n",
    "    c_clean = c.replace(\"-\", \"_\")\n",
    "    z.append(c_clean)\n",
    "    x_nm = X_AXIS_NAME + c_clean\n",
    "    y_nm  = Y_NAME + \"_\" + c_clean\n",
    "    v =f\"\\tstd::vector<double>{{\" + \", \".join(['{0:.3f}'.format(s) for s in xVector]) + \"},\\n\"\n",
    "    x_str  += v\n",
    "\n",
    "    v2 =f\"\\tstd::vector<double>{{\" + \", \".join(['{0:.3f}'.format(s) for s in yVector]) + \"},\\n\"\n",
    "    y_str  += v2\n",
    "    \n",
    "x_str += \"};\"\n",
    "y_str += \"};\"\n",
    "print(x_str)\n",
    "print(\"\")\n",
    "print(y_str)\n",
    "print(\"\")\n",
    "print(z)"
   ]
  },
  {
   "cell_type": "code",
   "execution_count": null,
   "metadata": {},
   "outputs": [],
   "source": [
    "['RCR 2', 'RCR 5', 'RCR 6', 'RCR 8', 'RCR 10', 'RCR 12', 'RCR 14', 'RCR 15', 'RCR 16', 'RCR 18', 'RCR 20', 'RCR 23']"
   ]
  }
 ],
 "metadata": {
  "kernelspec": {
   "display_name": "ds-infra",
   "language": "python",
   "name": "python3"
  },
  "language_info": {
   "codemirror_mode": {
    "name": "ipython",
    "version": 3
   },
   "file_extension": ".py",
   "mimetype": "text/x-python",
   "name": "python",
   "nbconvert_exporter": "python",
   "pygments_lexer": "ipython3",
   "version": "3.10.11"
  },
  "orig_nbformat": 4,
  "vscode": {
   "interpreter": {
    "hash": "0989b4bfb6de13ee5a479302171e01fc7a2733b588409e2c447a1a059d02f27e"
   }
  }
 },
 "nbformat": 4,
 "nbformat_minor": 2
}
