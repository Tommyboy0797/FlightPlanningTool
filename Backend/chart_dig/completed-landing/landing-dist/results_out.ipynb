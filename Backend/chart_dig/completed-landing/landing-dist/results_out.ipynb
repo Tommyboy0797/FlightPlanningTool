{
 "cells": [
  {
   "cell_type": "code",
   "execution_count": 1,
   "metadata": {},
   "outputs": [],
   "source": [
    "from py_utils import *"
   ]
  },
  {
   "cell_type": "code",
   "execution_count": 2,
   "metadata": {},
   "outputs": [],
   "source": [
    "TOP_FOLDER = \"landing-dist\""
   ]
  },
  {
   "cell_type": "code",
   "execution_count": 11,
   "metadata": {},
   "outputs": [
    {
     "name": "stdout",
     "output_type": "stream",
     "text": [
      "0.157921 * std::pow(td_speed, 2) + 6.765807 * td_speed + 999.274453 // 1000ft\n",
      "0.414417 * std::pow(td_speed, 2) + 12.754563 * td_speed + 1514.720935 // 1500ft\n",
      "0.214144 * std::pow(td_speed, 2) + 27.266508 * td_speed + 2001.759577 // 2000ft\n",
      "0.804907 * std::pow(td_speed, 2) + 37.617618 * td_speed + 2511.715581 // 2500ft\n",
      "1.988399 * std::pow(td_speed, 2) + 58.738744 * td_speed + 3010.789585 // 3000ft\n",
      "1.341088 * std::pow(td_speed, 2) + 82.798926 * td_speed + 3508.217211 // 3500ft\n",
      "0.513445 * std::pow(td_speed, 2) + 97.025648 * td_speed + 4027.518651 // 4000ft\n",
      "-0.593922 * std::pow(td_speed, 2) + 112.464622 * td_speed + 4517.821377 // 4500ft\n",
      "-2.897218 * std::pow(td_speed, 2) + 132.6423 * td_speed + 5017.876405 // 5000ft\n",
      "-4.017561 * std::pow(td_speed, 2) + 147.041392 * td_speed + 5502.86001 // 5500ft\n",
      "-2.877531 * std::pow(td_speed, 2) + 139.543177 * td_speed + 6024.340918 // 6000ft\n",
      "-2.184672 * std::pow(td_speed, 2) + 138.598719 * td_speed + 6523.64395 // 6500ft\n",
      "-1.493869 * std::pow(td_speed, 2) + 141.093766 * td_speed + 6998.889212 // 7000ft\n",
      "-6.3e-05 * std::pow(td_speed, 2) + 136.320899 * td_speed + 7513.283351 // 7500ft\n",
      "[2512, 2720, 2968]\n"
     ]
    }
   ],
   "source": [
    "# Increased Touchdown Speed\n",
    "df = pd.read_csv(f'./{TOP_FOLDER}/raw_data/td-speed.csv')\n",
    "init_wt = 1000\n",
    "x_name = \"td_speed\"\n",
    "speed_adj = {}\n",
    "for c in df.columns[1:]:\n",
    "    v = get_second_order_polyfit(df.x, df[[c]])\n",
    "    speed_adj[init_wt] = v\n",
    "    print(f\"{v[0]} * std::pow({x_name}, 2) + {v[1]} * {x_name} + {v[2]} // {init_wt}ft\")\n",
    "    init_wt += 500\n",
    "    \n",
    "init_val = 2500\n",
    "td_0 = get_val_from_fit(0, speed_adj[init_val])\n",
    "td_5 = get_val_from_fit(5, speed_adj[init_val])\n",
    "td_10 = get_val_from_fit(10, speed_adj[init_val])\n",
    "print([round(td_0), round(td_5), round(td_10)])"
   ]
  },
  {
   "cell_type": "code",
   "execution_count": 4,
   "metadata": {},
   "outputs": [
    {
     "name": "stdout",
     "output_type": "stream",
     "text": [
      "0.049943 * std::pow(flaps, 2) + -9.684215 * flaps + 1485.775779 // 1000ft\n",
      "0.084786 * std::pow(flaps, 2) + -17.554285 * flaps + 2431.166318 // 1500ft\n",
      "0.120723 * std::pow(flaps, 2) + -25.763534 * flaps + 3410.442503 // 2000ft\n",
      "0.095086 * std::pow(flaps, 2) + -25.531569 * flaps + 4138.853451 // 2500ft\n",
      "0.078376 * std::pow(flaps, 2) + -26.191028 * flaps + 4880.34672 // 3000ft\n",
      "0.073259 * std::pow(flaps, 2) + -27.78776 * flaps + 5568.346731 // 3500ft\n",
      "0.075689 * std::pow(flaps, 2) + -30.221842 * flaps + 6287.816103 // 4000ft\n",
      "0.088849 * std::pow(flaps, 2) + -33.691683 * flaps + 7005.654719 // 4500ft\n",
      "0.119218 * std::pow(flaps, 2) + -38.485591 * flaps + 7715.374602 // 5000ft\n",
      "0.157164 * std::pow(flaps, 2) + -44.464873 * flaps + 8449.171953 // 5500ft\n",
      "0.420331 * std::pow(flaps, 2) + -80.452131 * flaps + 10074.01093 // 6000ft\n",
      "-45.334249 * std::pow(flaps, 2) + 5876.489233 * flaps + -161332.63342 // 6500ft\n",
      "-4.866582 * std::pow(flaps, 2) + 631.513439 * flaps + -10648.33091 // 7000ft\n",
      "0.019019 * std::pow(flaps, 2) + -26.240701 * flaps + 9945.441474 // 7500ft\n"
     ]
    }
   ],
   "source": [
    "# Increased Touchdown Speed\n",
    "df = pd.read_csv(f'./{TOP_FOLDER}/raw_data/flaps.csv')\n",
    "init_wt = 1000\n",
    "x_name = \"flaps\"\n",
    "flaps = {}\n",
    "for c in df.columns[1:]:\n",
    "    v = get_second_order_polyfit(df.x, df[[c]])\n",
    "    flaps[init_wt] = v\n",
    "    print(f\"{v[0]} * std::pow({x_name}, 2) + {v[1]} * {x_name} + {v[2]} // {init_wt}ft\")\n",
    "    init_wt += 500"
   ]
  },
  {
   "cell_type": "code",
   "execution_count": 5,
   "metadata": {},
   "outputs": [
    {
     "name": "stdout",
     "output_type": "stream",
     "text": [
      "[2537, 3100, 4139]\n"
     ]
    }
   ],
   "source": [
    "init_val = 2500\n",
    "flap_100 = get_val_from_fit(100, flaps[init_val])\n",
    "flap_50 = get_val_from_fit(50, flaps[init_val])\n",
    "flap_0 = get_val_from_fit(0, flaps[init_val])\n",
    "print([round(flap_100), round(flap_50), round(flap_0)])"
   ]
  },
  {
   "cell_type": "code",
   "execution_count": 7,
   "metadata": {},
   "outputs": [
    {
     "name": "stdout",
     "output_type": "stream",
     "text": [
      "-0.005292 * std::pow(anti_skid, 2) + -285.966662 * anti_skid + 1293.642638 // 1000ft\n",
      "-0.001721 * std::pow(anti_skid, 2) + -766.361455 * anti_skid + 2279.885333 // 1500ft\n",
      "0.018506 * std::pow(anti_skid, 2) + -1233.769496 * anti_skid + 3264.68864 // 2000ft\n",
      "0.031003 * std::pow(anti_skid, 2) + -1907.84737 * anti_skid + 4432.125017 // 2500ft\n",
      "0.033623 * std::pow(anti_skid, 2) + -2566.332721 * anti_skid + 5601.355723 // 3000ft\n",
      "0.036236 * std::pow(anti_skid, 2) + -3364.602684 * anti_skid + 6921.295703 // 3500ft\n",
      "0.041496 * std::pow(anti_skid, 2) + -4184.342833 * anti_skid + 8213.79973 // 4000ft\n",
      "0.045629 * std::pow(anti_skid, 2) + -4984.334473 * anti_skid + 9529.811122 // 4500ft\n",
      "0.061081 * std::pow(anti_skid, 2) + -5873.598684 * anti_skid + 10910.5999 // 5000ft\n",
      "0.059198 * std::pow(anti_skid, 2) + -6509.153883 * anti_skid + 12065.367009 // 5500ft\n",
      "0.08595 * std::pow(anti_skid, 2) + -7063.259141 * anti_skid + 13133.74927 // 6000ft\n",
      "0.081805 * std::pow(anti_skid, 2) + -7652.361751 * anti_skid + 14247.328061 // 6500ft\n",
      "0.081604 * std::pow(anti_skid, 2) + -8200.770741 * anti_skid + 15246.763686 // 7000ft\n",
      "0.078061 * std::pow(anti_skid, 2) + -7665.124581 * anti_skid + 15236.059459 // 7500ft\n"
     ]
    }
   ],
   "source": [
    "df = pd.read_csv(f'./{TOP_FOLDER}/raw_data/anti-skid.csv')\n",
    "init_wt = 1000\n",
    "x_name = \"anti_skid\"\n",
    "skid = {}\n",
    "for c in df.columns[1:]:\n",
    "    v = get_second_order_polyfit(df.x, df[[c]])\n",
    "    skid[init_wt] = v\n",
    "    print(f\"{v[0]} * std::pow({x_name}, 2) + {v[1]} * {x_name} + {v[2]} // {init_wt}ft\")\n",
    "    init_wt += 500"
   ]
  },
  {
   "cell_type": "code",
   "execution_count": 8,
   "metadata": {},
   "outputs": [
    {
     "name": "stdout",
     "output_type": "stream",
     "text": [
      "[2524, 4432]\n"
     ]
    }
   ],
   "source": [
    "init_val = 2500\n",
    "on = get_val_from_fit(1, skid[init_val])\n",
    "off = get_val_from_fit(0, skid[init_val])\n",
    "print([round(on), round(off)])"
   ]
  },
  {
   "cell_type": "code",
   "execution_count": 9,
   "metadata": {},
   "outputs": [
    {
     "name": "stdout",
     "output_type": "stream",
     "text": [
      "0.842651 * std::pow(rcr, 2) + -47.70509 * rcr + 1657.954527 // 1000ft\n",
      "2.668862 * std::pow(rcr, 2) + -130.602481 * rcr + 3129.171232 // 1500ft\n",
      "4.108219 * std::pow(rcr, 2) + -202.713278 * rcr + 4533.135694 // 2000ft\n",
      "5.2966 * std::pow(rcr, 2) + -263.885797 * rcr + 5822.041213 // 2500ft\n",
      "6.762179 * std::pow(rcr, 2) + -334.7603 * rcr + 7191.029718 // 3000ft\n",
      "7.276785 * std::pow(rcr, 2) + -382.589895 * rcr + 8511.813967 // 3500ft\n",
      "7.865973 * std::pow(rcr, 2) + -432.421423 * rcr + 9860.139304 // 4000ft\n",
      "7.507131 * std::pow(rcr, 2) + -455.657792 * rcr + 11052.538495 // 4500ft\n",
      "-266.609912 * std::pow(rcr, 2) + 8865.444596 * rcr + -61616.809999 // 5000ft\n",
      "-47.163371 * std::pow(rcr, 2) + 1381.807751 * rcr + -1994.703439 // 5500ft\n",
      "-2.358044 * std::pow(rcr, 2) + -160.684727 * rcr + 10917.751932 // 6000ft\n",
      "-0.103502 * std::pow(rcr, 2) + -242.850671 * rcr + 12146.644163 // 6500ft\n",
      "-2.213142 * std::pow(rcr, 2) + -160.571489 * rcr + 11905.412001 // 7000ft\n",
      "-9e-06 * std::pow(rcr, 2) + -278.423413 * rcr + 13914.678999 // 7500ft\n"
     ]
    }
   ],
   "source": [
    "df = pd.read_csv(f'./{TOP_FOLDER}/raw_data/rcr.csv')\n",
    "init_wt = 1000\n",
    "x_name = \"rcr\"\n",
    "rcr = {}\n",
    "for c in df.columns[1:]:\n",
    "    v = get_second_order_polyfit(df.x, df[[c]])\n",
    "    rcr[init_wt] = v\n",
    "    print(f\"{v[0]} * std::pow({x_name}, 2) + {v[1]} * {x_name} + {v[2]} // {init_wt}ft\")\n",
    "    init_wt += 500"
   ]
  },
  {
   "cell_type": "code",
   "execution_count": 10,
   "metadata": {},
   "outputs": [
    {
     "name": "stdout",
     "output_type": "stream",
     "text": [
      "[2663, 3418, 4635]\n"
     ]
    }
   ],
   "source": [
    "init_val = 2500\n",
    "rcr_20 = get_val_from_fit(20, rcr[init_val])\n",
    "rcr_12 = get_val_from_fit(12, rcr[init_val])\n",
    "rcr_5 = get_val_from_fit(5, rcr[init_val])\n",
    "print([round(rcr_20), round(rcr_12), round(rcr_5)])"
   ]
  },
  {
   "cell_type": "code",
   "execution_count": null,
   "metadata": {},
   "outputs": [],
   "source": []
  }
 ],
 "metadata": {
  "kernelspec": {
   "display_name": "ds-infra",
   "language": "python",
   "name": "python3"
  },
  "language_info": {
   "codemirror_mode": {
    "name": "ipython",
    "version": 3
   },
   "file_extension": ".py",
   "mimetype": "text/x-python",
   "name": "python",
   "nbconvert_exporter": "python",
   "pygments_lexer": "ipython3",
   "version": "3.9.4"
  },
  "orig_nbformat": 4,
  "vscode": {
   "interpreter": {
    "hash": "0989b4bfb6de13ee5a479302171e01fc7a2733b588409e2c447a1a059d02f27e"
   }
  }
 },
 "nbformat": 4,
 "nbformat_minor": 2
}
