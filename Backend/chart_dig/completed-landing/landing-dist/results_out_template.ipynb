{
 "cells": [
  {
   "cell_type": "code",
   "execution_count": 1,
   "metadata": {},
   "outputs": [
    {
     "name": "stdout",
     "output_type": "stream",
     "text": [
      "c:\\Users\\mcdel\\digitized-charts\n"
     ]
    }
   ],
   "source": [
    "import os\n",
    "os.chdir(\"../..\")\n",
    "print(os.getcwd())\n",
    "from py_utils import *"
   ]
  },
  {
   "cell_type": "code",
   "execution_count": 2,
   "metadata": {},
   "outputs": [],
   "source": [
    "TOP_FOLDER = \"completed-landing/landing-dist\""
   ]
  },
  {
   "cell_type": "code",
   "execution_count": 13,
   "metadata": {},
   "outputs": [
    {
     "name": "stdout",
     "output_type": "stream",
     "text": [
      "auto uncor_1 = linear_interpolate( scale_vals_1, {\n",
      "\tlin(std::vector<double>{80.019, 84.869, 89.869, 99.932, 110.001, 120.039, 130.070, 140.070, 150.121, 160.065, 170.228, 175.172}, // pressalt__2\n",
      "\tstd::vector<double>{1.152, 1.170, 1.210, 1.324, 1.445, 1.569, 1.701, 1.843, 1.993, 2.148, 2.312, 2.392}, gwt_),\n",
      "\tlin(std::vector<double>{79.994, 84.944, 89.844, 99.863, 110.020, 120.039, 130.064, 140.133, 150.102, 160.121, 168.079, 175.191}, // pressalt_0\n",
      "\tstd::vector<double>{1.207, 1.225, 1.267, 1.392, 1.524, 1.659, 1.806, 1.965, 2.126, 2.290, 2.428, 2.556}, gwt_),\n",
      "\tlin(std::vector<double>{79.988, 85.007, 89.894, 99.851, 110.001, 115.872, 120.058, 130.045, 140.071, 150.140, 160.159, 166.625, 175.178}, // pressalt_2\n",
      "\tstd::vector<double>{1.268, 1.287, 1.331, 1.465, 1.612, 1.697, 1.761, 1.925, 2.091, 2.266, 2.447, 2.569, 2.735}, gwt_),\n",
      "\tlin(std::vector<double>{80.013, 85.095, 89.869, 96.267, 99.869, 110.039, 120.002, 126.932, 130.071, 140.159, 150.134, 154.539, 160.147, 164.915, 170.316, 175.153}, // pressalt_4\n",
      "\tstd::vector<double>{1.329, 1.351, 1.401, 1.493, 1.549, 1.711, 1.875, 1.997, 2.050, 2.235, 2.422, 2.504, 2.615, 2.712, 2.849, 2.975}, gwt_),\n",
      "\tlin(std::vector<double>{80.007, 84.825, 89.850, 99.932, 110.001, 120.052, 130.115, 140.052, 150.159, 154.169, 155.385, 156.074, 160.122, 164.257, 165.862, 170.316, 175.217}, // pressalt_6\n",
      "\tstd::vector<double>{1.397, 1.417, 1.476, 1.643, 1.820, 2.001, 2.189, 2.384, 2.589, 2.673, 2.696, 2.719, 2.835, 2.951, 3.005, 3.161, 3.338}, gwt_),\n",
      "\tlin(std::vector<double>{79.976, 85.057, 89.907, 99.888, 110.014, 112.940, 120.021, 130.058, 137.678, 140.109, 141.926, 150.128, 154.195, 155.135, 156.595, 160.160, 170.224, 175.217}, // pressalt_8\n",
      "\tstd::vector<double>{1.482, 1.502, 1.566, 1.748, 1.943, 1.996, 2.136, 2.339, 2.501, 2.554, 2.601, 2.818, 2.927, 2.950, 3.004, 3.127, 3.482, 3.657}, gwt_),\n",
      "\tlin(std::vector<double>{80.001, 84.569, 89.851, 99.851, 110.020, 120.033, 130.009, 140.122, 146.958, 150.154, 155.511, 160.731, 165.230, 170.242, 175.218}, // pressalt_10\n",
      "\tstd::vector<double>{1.571, 1.595, 1.666, 1.864, 2.073, 2.282, 2.501, 2.764, 3.005, 3.116, 3.305, 3.506, 3.681, 3.940, 4.199}, gwt_),\n",
      "\tlin(std::vector<double>{79.995, 84.982, 89.901, 99.920, 110.052, 120.065, 129.996, 139.665, 150.098, 154.214, 156.219, 160.117, 161.897, 165.562, 170.237, 175.200}, // pressalt_12\n",
      "\tstd::vector<double>{1.673, 1.702, 1.781, 1.992, 2.217, 2.446, 2.680, 3.008, 3.434, 3.604, 3.698, 3.909, 4.003, 4.201, 4.486, 4.787}, gwt_),\n",
      "\tlin(std::vector<double>{80.007, 84.813, 89.889, 94.105, 99.908, 110.021, 120.121, 124.971, 130.066, 137.929, 142.090, 146.057, 150.123, 152.172, 154.196, 160.130, 163.351, 169.730, 175.206}, // pressalt_14\n",
      "\tstd::vector<double>{1.789, 1.816, 1.900, 1.996, 2.133, 2.372, 2.623, 2.749, 2.941, 3.306, 3.504, 3.705, 3.902, 4.004, 4.102, 4.438, 4.624, 5.008, 5.343}, gwt_),\n",
      "\tlin(std::vector<double>{79.995, 85.020, 89.864, 99.883, 109.996, 115.228, 120.059, 123.599, 130.091, 133.375, 140.035, 142.172, 146.189, 150.080, 154.084, 159.955, 168.672, 175.220}, // pressalt_16\n",
      "\tstd::vector<double>{1.915, 1.948, 2.036, 2.281, 2.547, 2.684, 2.845, 3.004, 3.319, 3.505, 3.883, 4.004, 4.229, 4.448, 4.676, 5.008, 5.510, 5.899}, gwt_),\n",
      "}, press_alt_thou);\n"
     ]
    }
   ],
   "source": [
    "DIG_FILE_NAME = \"normal-gnd-roll.dig\"\n",
    "INPUT = \"gwt_\"\n",
    "OUTPUT = \"uncor_1\"\n",
    "INTERP_VAL = \"press_alt_thou\"\n",
    "uncorr = {}\n",
    "chart = ParseDig(f'./{TOP_FOLDER}/dig/{DIG_FILE_NAME}')\n",
    "\n",
    "print(f\"auto {OUTPUT} = linear_interpolate( scale_vals_1, {{\")\n",
    "for c in chart.curveNames():\n",
    "    xVector = [row [0] for row in chart.curve(c)]\n",
    "    yVector = [row [1] for row in chart.curve(c)]\n",
    "    c_clean = c.replace(\"-\", \"_\")\n",
    "\n",
    "    print(f\"\\tlin(std::vector<double>{{\" + \", \".join(['{0:.3f}'.format(s) for s in xVector]) + f\"}}, // {c_clean.lower()}\")\n",
    "    print(f\"\\tstd::vector<double>{{\" + \", \".join(['{0:.3f}'.format(s) for s in yVector]) + f\"}}, {INPUT}),\")\n",
    "print(f\"}}, {INTERP_VAL});\")"
   ]
  },
  {
   "cell_type": "code",
   "execution_count": 10,
   "metadata": {},
   "outputs": [
    {
     "name": "stdout",
     "output_type": "stream",
     "text": [
      "auto climb_factor = linear_interpolate( scale_vals_2, {\n",
      "\tlin(std::vector<double>{79.977, 99.889, 109.917, 114.116, 119.940, 130.038, 140.042, 150.097, 160.114, 170.213, 175.196}, // pressalt__2\n",
      "\tstd::vector<double>{1.112, 1.120, 1.124, 1.125, 1.145, 1.221, 1.299, 1.378, 1.459, 1.543, 1.585}, gwt_),\n",
      "\tlin(std::vector<double>{79.990, 89.811, 99.890, 109.893, 114.863, 119.947, 129.995, 140.062, 150.098, 160.178, 170.202, 175.167}, // pressalt_0\n",
      "\tstd::vector<double>{1.168, 1.174, 1.179, 1.185, 1.185, 1.209, 1.290, 1.372, 1.459, 1.546, 1.639, 1.688}, gwt_),\n",
      "\tlin(std::vector<double>{79.985, 89.831, 99.847, 109.932, 115.097, 119.961, 130.022, 140.051, 150.100, 154.493, 160.142, 170.172, 175.175}, // pressalt_2\n",
      "\tstd::vector<double>{1.231, 1.238, 1.243, 1.250, 1.251, 1.278, 1.363, 1.455, 1.547, 1.588, 1.644, 1.745, 1.795}, gwt_),\n",
      "\tlin(std::vector<double>{79.992, 89.789, 99.861, 109.946, 115.142, 119.955, 130.029, 140.053, 150.095, 160.163, 170.193, 175.164}, // pressalt_4\n",
      "\tstd::vector<double>{1.298, 1.305, 1.313, 1.317, 1.323, 1.348, 1.444, 1.542, 1.646, 1.751, 1.860, 1.916}, gwt_),\n",
      "\tlin(std::vector<double>{79.987, 89.834, 99.906, 109.922, 115.319, 119.988, 126.622, 140.080, 150.097, 160.158, 170.170, 175.198}, // pressalt_6\n",
      "\tstd::vector<double>{1.371, 1.378, 1.388, 1.394, 1.399, 1.426, 1.496, 1.642, 1.753, 1.867, 1.986, 2.046}, gwt_),\n",
      "\tlin(std::vector<double>{80.001, 89.848, 99.870, 109.929, 115.107, 119.958, 130.026, 140.062, 150.105, 160.104, 170.172, 175.168}, // pressalt_8\n",
      "\tstd::vector<double>{1.455, 1.464, 1.471, 1.479, 1.483, 1.517, 1.631, 1.748, 1.868, 1.993, 2.122, 2.187}, gwt_),\n",
      "\tlin(std::vector<double>{79.978, 89.868, 99.884, 109.931, 115.133, 119.966, 130.003, 140.077, 150.139, 160.232, 170.181, 175.146}, // pressalt_10\n",
      "\tstd::vector<double>{1.542, 1.550, 1.559, 1.568, 1.573, 1.607, 1.730, 1.860, 1.990, 2.124, 2.262, 2.332}, gwt_),\n",
      "\tlin(std::vector<double>{79.998, 89.826, 99.885, 109.958, 115.229, 119.955, 130.048, 140.116, 150.090, 160.171, 170.189, 175.192}, // pressalt_12\n",
      "\tstd::vector<double>{1.629, 1.640, 1.650, 1.659, 1.665, 1.702, 1.835, 1.972, 2.113, 2.258, 2.407, 2.484}, gwt_),\n",
      "\tlin(std::vector<double>{79.981, 89.833, 99.849, 109.947, 115.137, 119.976, 130.000, 140.049, 150.080, 160.211, 165.924, 170.186, 175.159}, // pressalt_14\n",
      "\tstd::vector<double>{1.722, 1.735, 1.746, 1.757, 1.763, 1.803, 1.946, 2.094, 2.246, 2.403, 2.500, 2.595, 2.704}, gwt_),\n",
      "\tlin(std::vector<double>{79.982, 89.867, 99.864, 109.923, 115.170, 120.021, 130.058, 140.070, 150.139, 154.891, 160.158, 164.094, 170.222, 175.182}, // pressalt_16\n",
      "\tstd::vector<double>{1.824, 1.838, 1.851, 1.862, 1.869, 1.914, 2.068, 2.228, 2.393, 2.472, 2.593, 2.686, 2.852, 2.993}, gwt_),\n",
      "}, press_alt_thou);\n"
     ]
    }
   ],
   "source": [
    "DIG_FILE_NAME = \"max-eff-gnd-roll.dig\"\n",
    "INPUT = \"gwt_\"\n",
    "OUTPUT = \"climb_factor\"\n",
    "INTERP_VAL = \"press_alt_thou\"\n",
    "uncorr = {}\n",
    "chart = ParseDig(f'./{TOP_FOLDER}/dig/{DIG_FILE_NAME}')\n",
    "\n",
    "print(f\"auto {OUTPUT} = linear_interpolate( scale_vals_2, {{\")\n",
    "for c in chart.curveNames():\n",
    "    xVector = [row [0] for row in chart.curve(c)]\n",
    "    yVector = [row [1] for row in chart.curve(c)]\n",
    "    c_clean = c.replace(\"-\", \"_\")\n",
    "\n",
    "    print(f\"\\tlin(std::vector<double>{{\" + \", \".join(['{0:.3f}'.format(s) for s in xVector]) + f\"}}, // {c_clean.lower()}\")\n",
    "    print(f\"\\tstd::vector<double>{{\" + \", \".join(['{0:.3f}'.format(s) for s in yVector]) + f\"}}, {INPUT}),\")\n",
    "print(f\"}}, {INTERP_VAL});\")"
   ]
  },
  {
   "cell_type": "code",
   "execution_count": null,
   "metadata": {},
   "outputs": [],
   "source": [
    "DIG_FILE_NAME = \"3-eng-climb-wind-corr.dig\"\n",
    "INPUT = \"horz_dist_brake_release_ft_1000s\"\n",
    "OUTPUT = \"horz_dist_brake_release_ft_1000s_adj\"\n",
    "INTERP_VAL = \"h_t_wnd\"\n",
    "uncorr = {}\n",
    "chart = ParseDig(f'./{TOP_FOLDER}/dig/{DIG_FILE_NAME}')\n",
    "\n",
    "print(f\"auto {OUTPUT} = linear_interpolate( scale_vals_3, {{\")\n",
    "for c in reversed(chart.curveNames()):\n",
    "    xVector = [row [0] for row in chart.curve(c)]\n",
    "    yVector = [row [1] for row in chart.curve(c)]\n",
    "    c_clean = c.replace(\"-\", \"_\")\n",
    "\n",
    "    print(f\"\\tlin(std::vector<double>{{\" + \", \".join(['{0:.3f}'.format(s) for s in yVector]) + f\"}}, // {c_clean.lower()}\")\n",
    "    print(f\"\\tstd::vector<double>{{\" + \", \".join(['{0:.3f}'.format(s) for s in xVector]) + f\"}}, {INPUT}),\")\n",
    "print(f\"}}, {INTERP_VAL});\")"
   ]
  },
  {
   "cell_type": "code",
   "execution_count": null,
   "metadata": {},
   "outputs": [],
   "source": [
    "DIG_FILE_NAME1 = \"3-eng-climb-path-p2-climb-factor.dig\"\n",
    "DIG_FILE_NAME2 = \"3-eng-climb-path-p1.dig\"\n",
    "INPUT = \"horz_dist_brake_release_ft_1000s_adj\"\n",
    "OUTPUT = \"vert_dist_1000s\"\n",
    "INTERP_VAL = \"climb_factor\"\n",
    "uncorr = {}\n",
    "chart = ParseDig(f'./{TOP_FOLDER}/dig/{DIG_FILE_NAME1}')\n",
    "chart2 = ParseDig(f'./{TOP_FOLDER}/dig/{DIG_FILE_NAME2}')\n",
    "i = 0\n",
    "print(f\"auto {OUTPUT} = linear_interpolate( scale_vals_4, {{\")\n",
    "for c, d in zip(chart.curveNames(), chart2.curveNames()):\n",
    "    xVector = [row [0] for row in chart.curve(c)]\n",
    "    xVector2 = [row [0] for row in chart2.curve(c)]\n",
    "    xVector = xVector + xVector2\n",
    "\n",
    "    yVector = [row [1]/10.0 for row in chart.curve(c)]\n",
    "    yVector2 = [row [1] for row in chart2.curve(c)]\n",
    "    yVector = yVector + yVector2\n",
    "    c_clean = c.replace(\"-\", \"_\")\n",
    "\n",
    "    print(f\"\\tlin(std::vector<double>{{\" + \", \".join(['{0:.3f}'.format(s) for s in xVector]) + f\"}}, // {c_clean.lower()}\")\n",
    "    print(f\"\\tstd::vector<double>{{\" + \", \".join(['{0:.3f}'.format(s) for s in yVector]) + f\"}}, {INPUT}),\")\n",
    "    i+=1\n",
    "print(f\"}}, {INTERP_VAL});\")\n",
    "print(i)"
   ]
  },
  {
   "cell_type": "code",
   "execution_count": null,
   "metadata": {},
   "outputs": [],
   "source": []
  }
 ],
 "metadata": {
  "kernelspec": {
   "display_name": "ds-infra",
   "language": "python",
   "name": "python3"
  },
  "language_info": {
   "codemirror_mode": {
    "name": "ipython",
    "version": 3
   },
   "file_extension": ".py",
   "mimetype": "text/x-python",
   "name": "python",
   "nbconvert_exporter": "python",
   "pygments_lexer": "ipython3",
   "version": "3.10.11"
  },
  "orig_nbformat": 4,
  "vscode": {
   "interpreter": {
    "hash": "0989b4bfb6de13ee5a479302171e01fc7a2733b588409e2c447a1a059d02f27e"
   }
  }
 },
 "nbformat": 4,
 "nbformat_minor": 2
}
