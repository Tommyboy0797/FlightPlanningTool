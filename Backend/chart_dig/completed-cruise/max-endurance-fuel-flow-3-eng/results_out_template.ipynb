{
 "cells": [
  {
   "cell_type": "code",
   "execution_count": 1,
   "metadata": {},
   "outputs": [
    {
     "name": "stdout",
     "output_type": "stream",
     "text": [
      "c:\\Users\\mcdel\\digitized-charts\n"
     ]
    }
   ],
   "source": [
    "import os\n",
    "os.chdir(\"../..\")\n",
    "print(os.getcwd())\n",
    "from py_utils import *"
   ]
  },
  {
   "cell_type": "code",
   "execution_count": 2,
   "metadata": {},
   "outputs": [],
   "source": [
    "TOP_FOLDER = \"completed-cruise/max-endurance-fuel-flow-3-eng\""
   ]
  },
  {
   "cell_type": "code",
   "execution_count": 3,
   "metadata": {},
   "outputs": [
    {
     "name": "stdout",
     "output_type": "stream",
     "text": [
      "auto uncor_1 = linear_interpolate( scale_vals_1, {\n",
      "\tlin(std::vector<double>{0.061, 3.307, 6.874, 9.549, 12.153, 17.181, 20.248, 25.774, 30.409, 33.760, 36.290}, // 80\n",
      "\tstd::vector<double>{8.924, 8.365, 7.844, 7.526, 7.201, 6.770, 6.542, 6.322, 6.335, 6.447, 6.619}, press_alt_thou),\n",
      "\tlin(std::vector<double>{0.095, 2.877, 5.874, 10.011, 13.221, 15.218, 19.960, 22.135, 26.912, 30.798, 32.972, 34.041}, // 90\n",
      "\tstd::vector<double>{9.323, 8.878, 8.447, 7.940, 7.638, 7.471, 7.228, 7.130, 7.105, 7.232, 7.359, 7.464}, press_alt_thou),\n",
      "\tlin(std::vector<double>{-0.013, 4.517, 7.263, 10.080, 15.002, 20.029, 22.097, 24.913, 27.872, 30.224, 31.828}, // 100\n",
      "\tstd::vector<double>{9.768, 9.080, 8.718, 8.438, 8.067, 7.861, 7.838, 7.875, 7.986, 8.151, 8.309}, press_alt_thou),\n",
      "\tlin(std::vector<double>{0.056, 2.838, 6.298, 9.508, 13.180, 15.783, 18.778, 21.880, 24.874, 27.655, 29.508}, // 110\n",
      "\tstd::vector<double>{10.250, 9.842, 9.411, 9.101, 8.889, 8.737, 8.638, 8.629, 8.726, 8.898, 9.109}, press_alt_thou),\n",
      "\tlin(std::vector<double>{-0.017, 3.086, 6.795, 9.933, 13.214, 15.995, 19.168, 22.305, 24.978, 27.330}, // 120\n",
      "\tstd::vector<double>{10.800, 10.392, 9.999, 9.726, 9.552, 9.438, 9.391, 9.488, 9.668, 9.886}, press_alt_thou),\n",
      "\tlin(std::vector<double>{0.088, 2.763, 5.010, 8.041, 11.428, 14.530, 16.491, 18.808, 21.090, 23.193, 25.224}, // 130\n",
      "\tstd::vector<double>{11.403, 11.048, 10.798, 10.541, 10.351, 10.222, 10.199, 10.220, 10.333, 10.475, 10.655}, press_alt_thou),\n",
      "\tlin(std::vector<double>{0.050, 3.438, 6.790, 10.820, 14.064, 16.488, 19.019, 20.801, 23.047}, // 140\n",
      "\tstd::vector<double>{12.029, 11.628, 11.318, 11.083, 11.006, 11.020, 11.110, 11.237, 11.440}, press_alt_thou),\n",
      "\tlin(std::vector<double>{0.119, 2.829, 5.468, 8.713, 11.031, 13.562, 16.485, 18.624, 20.406, 21.154}, // 150\n",
      "\tstd::vector<double>{12.654, 12.352, 12.102, 11.890, 11.798, 11.805, 11.887, 12.022, 12.142, 12.247}, press_alt_thou),\n",
      "\tlin(std::vector<double>{0.010, 3.148, 5.858, 8.996, 11.206, 13.880, 15.662, 17.373, 19.119}, // 160\n",
      "\tstd::vector<double>{13.325, 12.984, 12.780, 12.628, 12.605, 12.626, 12.746, 12.843, 13.024}, press_alt_thou),\n",
      "\tlin(std::vector<double>{0.006, 2.253, 4.535, 6.282, 8.207, 9.527, 11.630, 13.519, 14.980, 16.156}, // 175\n",
      "\tstd::vector<double>{14.350, 14.138, 13.979, 13.850, 13.834, 13.811, 13.848, 13.983, 14.073, 14.208}, press_alt_thou),\n",
      "}, gwt_);\n"
     ]
    }
   ],
   "source": [
    "DIG_FILE_NAME = \"uncorrected.dig\"\n",
    "INPUT = \"press_alt_thou\"\n",
    "OUTPUT = \"uncor_1\"\n",
    "INTERP_VAL = \"gwt_\"\n",
    "uncorr = {}\n",
    "# chart = ParseDig(\"C:\\\\Users\\\\mcdel\\\\digitized-charts\\\\completed-cruise\\\\4-eng-max-rec-cruise-const-tas\\\\dig\\\\4-eng-max-rec-const-tas.dig\")\n",
    "chart = ParseDig(f'./{TOP_FOLDER}/dig/{DIG_FILE_NAME}')\n",
    "\n",
    "\n",
    "print(f\"auto {OUTPUT} = linear_interpolate( scale_vals_1, {{\")\n",
    "for c in chart.curveNames():\n",
    "    xVector = [row [0] for row in chart.curve(c)]\n",
    "    yVector = [row [1] for row in chart.curve(c)]\n",
    "    c_clean = c.replace(\"-\", \"_\")\n",
    "\n",
    "    print(f\"\\tlin(std::vector<double>{{\" + \", \".join(['{0:.3f}'.format(s) for s in xVector]) + f\"}}, // {c_clean.lower()}\")\n",
    "    print(f\"\\tstd::vector<double>{{\" + \", \".join(['{0:.3f}'.format(s) for s in yVector]) + f\"}}, {INPUT}),\")\n",
    "print(f\"}}, {INTERP_VAL});\")"
   ]
  },
  {
   "cell_type": "code",
   "execution_count": 4,
   "metadata": {},
   "outputs": [
    {
     "name": "stdout",
     "output_type": "stream",
     "text": [
      "auto uncor_2 = linear_interpolate( scale_vals_1, {\n",
      "\tlin(std::vector<double>{0.068, 29.863}, // 5\n",
      "\tstd::vector<double>{4.987, 5.423}, temp_dev_),\n",
      "\tlin(std::vector<double>{-29.727, -8.952, 2.665, 30.000}, // 6\n",
      "\tstd::vector<double>{5.753, 5.902, 5.989, 6.466}, temp_dev_),\n",
      "\tlin(std::vector<double>{-29.453, -9.909, 2.665, 29.863}, // 7\n",
      "\tstd::vector<double>{6.717, 6.880, 6.993, 7.563}, temp_dev_),\n",
      "\tlin(std::vector<double>{-29.590, -9.362, 10.319, 30.137}, // 8\n",
      "\tstd::vector<double>{7.681, 7.844, 8.166, 8.593}, temp_dev_),\n",
      "\tlin(std::vector<double>{-29.453, -10.045, 10.319, 29.727}, // 9\n",
      "\tstd::vector<double>{8.672, 8.848, 9.143, 9.663}, temp_dev_),\n",
      "\tlin(std::vector<double>{-29.727, -9.772, 0.752, 18.929, 29.863}, // 10\n",
      "\tstd::vector<double>{9.649, 9.839, 10.006, 10.394, 10.720}, temp_dev_),\n",
      "\tlin(std::vector<double>{-29.727, -13.462, -0.888, 13.599, 30.000}, // 11\n",
      "\tstd::vector<double>{10.653, 10.765, 10.944, 11.268, 11.737}, temp_dev_),\n",
      "\tlin(std::vector<double>{-29.590, -9.772, -0.068, 20.296, 30.000}, // 12\n",
      "\tstd::vector<double>{11.631, 11.780, 12.001, 12.467, 12.793}, temp_dev_),\n",
      "\tlin(std::vector<double>{-29.453, -13.736, 0.068, 10.319, 20.843, 29.590}, // 13\n",
      "\tstd::vector<double>{12.582, 12.733, 12.978, 13.225, 13.563, 13.837}, temp_dev_),\n",
      "\tlin(std::vector<double>{-29.590, -9.635, 0.205, 16.469, 29.863}, // 14\n",
      "\tstd::vector<double>{13.506, 13.775, 13.982, 14.411, 14.920}, temp_dev_),\n",
      "\tlin(std::vector<double>{-29.727, -16.742, -5.672, 3.349, 17.836, 30.000}, // 15\n",
      "\tstd::vector<double>{14.497, 14.637, 14.856, 15.090, 15.506, 15.924}, temp_dev_),\n",
      "\tlin(std::vector<double>{-30.000, -18.656, -7.859, 0.068, 9.636, 20.433, 30.137}, // 16\n",
      "\tstd::vector<double>{15.462, 15.602, 15.769, 16.016, 16.250, 16.641, 17.020}, temp_dev_),\n",
      "\tlin(std::vector<double>{-28.907, -19.203, -8.815, 0.615, 10.456, 20.023, 30.000}, // 17\n",
      "\tstd::vector<double>{16.452, 16.527, 16.694, 16.980, 17.267, 17.632, 18.050}, temp_dev_),\n",
      "\tlin(std::vector<double>{-29.453, -19.476, -9.635, 0.752, 15.786, 24.533, 30.137}, // 18\n",
      "\tstd::vector<double>{17.377, 17.491, 17.685, 18.011, 18.519, 18.872, 19.094}, temp_dev_),\n",
      "\tlin(std::vector<double>{-29.727, -19.476, -7.175, 0.478, 14.829, 30.000}, // 19\n",
      "\tstd::vector<double>{18.381, 18.482, 18.741, 18.988, 19.523, 20.138}, temp_dev_),\n",
      "\tlin(std::vector<double>{-29.727, -19.476, -9.909, 0.205, 11.276, 29.863}, // 20\n",
      "\tstd::vector<double>{19.345, 19.433, 19.680, 20.019, 20.397, 21.181}, temp_dev_),\n",
      "\tlin(std::vector<double>{-29.590, -19.613, -0.068, 23.713}, // 21\n",
      "\tstd::vector<double>{20.230, 20.357, 20.983, 21.924}, temp_dev_),\n",
      "\tlin(std::vector<double>{-29.863, -19.749, -0.478}, // 22\n",
      "\tstd::vector<double>{21.221, 21.295, 21.974}, temp_dev_),\n",
      "}, uncor_1);\n"
     ]
    }
   ],
   "source": [
    "DIG_FILE_NAME = \"corrected-temp.dig\"\n",
    "INPUT = \"temp_dev_\"\n",
    "OUTPUT = \"uncor_2\"\n",
    "INTERP_VAL = \"uncor_1\"\n",
    "uncorr = {}\n",
    "# chart = ParseDig(\"C:\\\\Users\\\\mcdel\\\\digitized-charts\\\\completed-cruise\\\\4-eng-max-rec-cruise-const-tas\\\\dig\\\\4-eng-max-rec-const-tas.dig\")\n",
    "chart = ParseDig(f'./{TOP_FOLDER}/dig/{DIG_FILE_NAME}')\n",
    "\n",
    "\n",
    "print(f\"auto {OUTPUT} = linear_interpolate( scale_vals_1, {{\")\n",
    "for c in chart.curveNames():\n",
    "    xVector = [row [0] for row in chart.curve(c)]\n",
    "    yVector = [row [1] for row in chart.curve(c)]\n",
    "    c_clean = c.replace(\"-\", \"_\")\n",
    "\n",
    "    print(f\"\\tlin(std::vector<double>{{\" + \", \".join(['{0:.3f}'.format(s) for s in xVector]) + f\"}}, // {c_clean.lower()}\")\n",
    "    print(f\"\\tstd::vector<double>{{\" + \", \".join(['{0:.3f}'.format(s) for s in yVector]) + f\"}}, {INPUT}),\")\n",
    "print(f\"}}, {INTERP_VAL});\")"
   ]
  },
  {
   "cell_type": "code",
   "execution_count": 5,
   "metadata": {},
   "outputs": [
    {
     "name": "stdout",
     "output_type": "stream",
     "text": [
      "auto cor = linear_interpolate( scale_vals_1, {\n",
      "\tlin(std::vector<double>{4.773, 182.046, 300.000}, // 5\n",
      "\tstd::vector<double>{5.014, 5.704, 6.323}, drag_),\n",
      "\tlin(std::vector<double>{2.727, 180.000, 297.954}, // 6\n",
      "\tstd::vector<double>{5.992, 6.961, 7.672}, drag_),\n",
      "\tlin(std::vector<double>{2.046, 201.137, 300.682}, // 7\n",
      "\tstd::vector<double>{6.971, 8.325, 9.075}, drag_),\n",
      "\tlin(std::vector<double>{2.046, 163.637, 299.318}, // 8\n",
      "\tstd::vector<double>{7.977, 9.261, 10.464}, drag_),\n",
      "\tlin(std::vector<double>{1.364, 162.955, 300.000}, // 9\n",
      "\tstd::vector<double>{8.982, 10.465, 11.826}, drag_),\n",
      "\tlin(std::vector<double>{2.727, 171.137, 300.000}, // 10\n",
      "\tstd::vector<double>{10.014, 11.762, 13.229}, drag_),\n",
      "\tlin(std::vector<double>{2.046, 155.454, 300.682}, // 11\n",
      "\tstd::vector<double>{10.980, 12.753, 14.644}, drag_),\n",
      "\tlin(std::vector<double>{0.682, 154.772, 300.000}, // 12\n",
      "\tstd::vector<double>{11.972, 13.983, 15.967}, drag_),\n",
      "\tlin(std::vector<double>{2.046, 157.500, 299.318}, // 13\n",
      "\tstd::vector<double>{13.004, 15.201, 17.370}, drag_),\n",
      "\tlin(std::vector<double>{1.364, 140.455, 229.091, 300.000}, // 14\n",
      "\tstd::vector<double>{13.996, 16.033, 17.562, 18.825}, drag_),\n",
      "\tlin(std::vector<double>{0.000, 73.637, 163.637, 244.091, 300.000}, // 15\n",
      "\tstd::vector<double>{15.002, 16.066, 17.569, 19.098, 20.148}, drag_),\n",
      "\tlin(std::vector<double>{2.046, 73.637, 150.682, 218.182, 299.318}, // 16\n",
      "\tstd::vector<double>{15.994, 17.059, 18.481, 19.797, 21.577}, drag_),\n",
      "\tlin(std::vector<double>{2.046, 51.818, 145.909, 192.954, 255.682}, // 17\n",
      "\tstd::vector<double>{17.013, 17.758, 19.486, 20.482, 21.956}, drag_),\n",
      "\tlin(std::vector<double>{2.727, 53.182, 124.091, 167.046, 209.318}, // 18\n",
      "\tstd::vector<double>{17.978, 18.763, 20.146, 21.062, 21.992}, drag_),\n",
      "\tlin(std::vector<double>{1.364, 51.818, 106.364, 158.182}, // 19\n",
      "\tstd::vector<double>{18.971, 19.756, 20.872, 21.974}, drag_),\n",
      "\tlin(std::vector<double>{0.000, 53.182, 107.727}, // 20\n",
      "\tstd::vector<double>{20.016, 20.774, 21.943}, drag_),\n",
      "\tlin(std::vector<double>{2.727, 38.182, 53.627, 62.002}, // 21\n",
      "\tstd::vector<double>{21.048, 21.567, 21.818, 22.011}, drag_),\n",
      "}, uncor_2);\n"
     ]
    }
   ],
   "source": [
    "DIG_FILE_NAME = \"corrected-drag.dig\"\n",
    "INPUT = \"drag_\"\n",
    "OUTPUT = \"cor\"\n",
    "INTERP_VAL = \"uncor_2\"\n",
    "uncorr = {}\n",
    "# chart = ParseDig(\"C:\\\\Users\\\\mcdel\\\\digitized-charts\\\\completed-cruise\\\\4-eng-max-rec-cruise-const-tas\\\\dig\\\\4-eng-max-rec-const-tas.dig\")\n",
    "chart = ParseDig(f'./{TOP_FOLDER}/dig/{DIG_FILE_NAME}')\n",
    "\n",
    "\n",
    "print(f\"auto {OUTPUT} = linear_interpolate( scale_vals_1, {{\")\n",
    "for c in chart.curveNames():\n",
    "    xVector = [row [0] for row in chart.curve(c)]\n",
    "    yVector = [row [1] for row in chart.curve(c)]\n",
    "    c_clean = c.replace(\"-\", \"_\")\n",
    "\n",
    "    print(f\"\\tlin(std::vector<double>{{\" + \", \".join(['{0:.3f}'.format(s) for s in xVector]) + f\"}}, // {c_clean.lower()}\")\n",
    "    print(f\"\\tstd::vector<double>{{\" + \", \".join(['{0:.3f}'.format(s) for s in yVector]) + f\"}}, {INPUT}),\")\n",
    "print(f\"}}, {INTERP_VAL});\")"
   ]
  },
  {
   "cell_type": "code",
   "execution_count": null,
   "metadata": {},
   "outputs": [],
   "source": []
  }
 ],
 "metadata": {
  "kernelspec": {
   "display_name": "ds-infra",
   "language": "python",
   "name": "python3"
  },
  "language_info": {
   "codemirror_mode": {
    "name": "ipython",
    "version": 3
   },
   "file_extension": ".py",
   "mimetype": "text/x-python",
   "name": "python",
   "nbconvert_exporter": "python",
   "pygments_lexer": "ipython3",
   "version": "3.10.11"
  },
  "orig_nbformat": 4,
  "vscode": {
   "interpreter": {
    "hash": "0989b4bfb6de13ee5a479302171e01fc7a2733b588409e2c447a1a059d02f27e"
   }
  }
 },
 "nbformat": 4,
 "nbformat_minor": 2
}
