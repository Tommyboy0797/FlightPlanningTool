{
 "cells": [
  {
   "cell_type": "code",
   "execution_count": 1,
   "metadata": {},
   "outputs": [
    {
     "name": "stdout",
     "output_type": "stream",
     "text": [
      "c:\\Users\\mcdel\\digitized-charts\n"
     ]
    }
   ],
   "source": [
    "import os\n",
    "os.chdir(\"../..\")\n",
    "print(os.getcwd())\n",
    "from py_utils import *"
   ]
  },
  {
   "cell_type": "code",
   "execution_count": 2,
   "metadata": {},
   "outputs": [],
   "source": [
    "TOP_FOLDER = \"completed-cruise/3-eng-service-ceiling\""
   ]
  },
  {
   "cell_type": "code",
   "execution_count": 3,
   "metadata": {},
   "outputs": [
    {
     "name": "stdout",
     "output_type": "stream",
     "text": [
      "auto uncor_1 = linear_interpolate( scale_vals_1, {\n",
      "\tlin(std::vector<double>{80.044, 89.830, 99.968, 110.004, 119.957, 130.102, 140.048, 150.110, 160.223, 170.157, 175.188}, // dev__30\n",
      "\tstd::vector<double>{38.282, 36.250, 34.320, 32.506, 30.757, 29.090, 27.523, 26.042, 24.608, 23.288, 22.640}, gwt),\n",
      "\tlin(std::vector<double>{80.037, 89.746, 99.936, 109.953, 119.854, 130.038, 139.984, 150.027, 160.204, 170.164, 175.086}, // dev__20\n",
      "\tstd::vector<double>{38.210, 36.203, 34.261, 32.456, 30.699, 29.036, 27.471, 25.979, 24.554, 23.228, 22.568}, gwt),\n",
      "\tlin(std::vector<double>{80.024, 89.778, 99.891, 109.933, 119.912, 130.057, 139.990, 150.091, 160.184, 163.209, 170.189, 175.194}, // dev__10\n",
      "\tstd::vector<double>{38.145, 36.126, 34.205, 32.364, 30.602, 28.937, 27.361, 25.516, 23.743, 23.220, 22.026, 21.184}, gwt),\n",
      "\tlin(std::vector<double>{80.031, 89.765, 99.878, 109.991, 119.956, 130.063, 140.041, 150.083, 160.189, 162.740, 170.097, 175.090}, // dev_0\n",
      "\tstd::vector<double>{38.012, 36.007, 33.969, 31.911, 29.809, 27.749, 25.730, 23.791, 21.959, 21.495, 20.146, 19.257}, gwt),\n",
      "\tlin(std::vector<double>{80.004, 89.816, 99.980, 110.015, 119.923, 130.093, 133.381, 140.039, 150.082, 158.631, 170.153, 175.171}, // dev_10\n",
      "\tstd::vector<double>{37.084, 34.922, 32.545, 30.233, 27.972, 25.756, 25.015, 23.520, 21.441, 19.726, 17.452, 16.444}, gwt),\n",
      "\tlin(std::vector<double>{79.991, 89.764, 99.921, 109.982, 119.979, 130.079, 140.031, 150.112, 156.360, 170.171, 175.183}, // dev_20\n",
      "\tstd::vector<double>{36.017, 33.379, 30.838, 28.200, 25.645, 23.198, 20.964, 18.730, 17.428, 14.593, 13.562}, gwt),\n",
      "\tlin(std::vector<double>{80.009, 89.814, 99.964, 109.942, 119.907, 130.090, 140.036, 150.097, 153.455, 160.229, 170.149, 175.155}, // dev_30\n",
      "\tstd::vector<double>{33.998, 31.063, 28.243, 25.524, 22.904, 20.410, 17.938, 15.430, 14.658, 13.129, 11.093, 10.067}, gwt),\n",
      "}, t_dev);\n"
     ]
    }
   ],
   "source": [
    "DIG_FILE_NAME = \"3-eng-normal-bleed.dig\"\n",
    "INPUT = \"gwt\"\n",
    "OUTPUT = \"uncor_1\"\n",
    "INTERP_VAL = \"t_dev\"\n",
    "uncorr = {}\n",
    "chart = ParseDig(f'./{TOP_FOLDER}/dig/{DIG_FILE_NAME}')\n",
    "\n",
    "print(f\"auto {OUTPUT} = linear_interpolate( scale_vals_1, {{\")\n",
    "for c in chart.curveNames():\n",
    "    xVector = [row [0] for row in chart.curve(c)]\n",
    "    yVector = [row [1] for row in chart.curve(c)]\n",
    "    c_clean = c.replace(\"-\", \"_\")\n",
    "\n",
    "    print(f\"\\tlin(std::vector<double>{{\" + \", \".join(['{0:.3f}'.format(s) for s in xVector]) + f\"}}, // {c_clean.lower()}\")\n",
    "    print(f\"\\tstd::vector<double>{{\" + \", \".join(['{0:.3f}'.format(s) for s in yVector]) + f\"}}, {INPUT}),\")\n",
    "print(f\"}}, {INTERP_VAL});\")"
   ]
  },
  {
   "cell_type": "code",
   "execution_count": 4,
   "metadata": {},
   "outputs": [
    {
     "name": "stdout",
     "output_type": "stream",
     "text": [
      "auto uncor_1 = linear_interpolate( scale_vals_3, {\n",
      "\tlin(std::vector<double>{79.981, 89.819, 99.893, 109.935, 119.938, 130.025, 140.086, 150.096, 155.464, 160.546, 170.211, 175.171}, // dev__30\n",
      "\tstd::vector<double>{31.312, 29.090, 27.161, 25.381, 23.669, 22.096, 20.774, 19.586, 18.962, 18.392, 17.302, 16.739}, gwt),\n",
      "\tlin(std::vector<double>{79.975, 89.806, 99.931, 109.916, 119.938, 130.031, 140.047, 150.108, 155.183, 160.303, 170.224, 175.120}, // dev__20\n",
      "\tstd::vector<double>{30.879, 28.657, 26.798, 25.103, 23.391, 21.945, 20.627, 19.346, 18.695, 18.034, 16.652, 15.966}, gwt),\n",
      "\tlin(std::vector<double>{79.982, 89.813, 99.925, 109.948, 119.945, 130.102, 140.112, 150.058, 153.562, 160.208, 170.192, 175.191}, // dev__10\n",
      "\tstd::vector<double>{30.280, 28.232, 26.351, 24.349, 22.465, 20.917, 19.388, 17.871, 17.377, 16.438, 14.928, 14.184}, gwt),\n",
      "\tlin(std::vector<double>{79.982, 89.788, 99.944, 109.980, 119.926, 130.032, 140.054, 150.090, 160.208, 170.200, 175.172}, // dev_0\n",
      "\tstd::vector<double>{29.150, 26.964, 24.768, 22.650, 20.990, 19.218, 17.367, 15.562, 13.747, 12.095, 11.275}, gwt),\n",
      "\tlin(std::vector<double>{79.989, 89.833, 93.906, 99.907, 109.955, 119.952, 123.808, 130.064, 140.055, 146.796, 160.215, 170.226, 175.147}, // dev_10\n",
      "\tstd::vector<double>{27.513, 25.083, 24.028, 22.467, 20.348, 17.904, 17.032, 15.623, 13.548, 12.417, 10.112, 8.330, 7.453}, gwt),\n",
      "\tlin(std::vector<double>{79.970, 89.827, 94.123, 99.914, 109.943, 114.999, 119.947, 130.078, 137.036, 142.661, 150.098, 160.216, 170.156, 175.181}, // dev_20\n",
      "\tstd::vector<double>{24.648, 21.349, 20.014, 18.186, 15.037, 14.003, 12.995, 11.292, 9.989, 8.932, 7.520, 5.571, 3.568, 2.557}, gwt),\n",
      "\tlin(std::vector<double>{79.985, 89.816, 99.941, 106.950, 109.938, 119.948, 130.066, 134.101, 136.654, 141.423, 143.996, 150.124, 157.811}, // dev_30\n",
      "\tstd::vector<double>{13.925, 12.640, 11.181, 9.977, 9.490, 7.509, 5.737, 4.957, 4.470, 3.530, 2.962, 1.662, 0.003}, gwt),\n",
      "}, t_dev);\n"
     ]
    }
   ],
   "source": [
    "DIG_FILE_NAME = \"3-eng-all-bleed.dig\"\n",
    "INPUT = \"gwt\"\n",
    "OUTPUT = \"uncor_1\"\n",
    "INTERP_VAL = \"t_dev\"\n",
    "uncorr = {}\n",
    "chart = ParseDig(f'./{TOP_FOLDER}/dig/{DIG_FILE_NAME}')\n",
    "\n",
    "print(f\"auto {OUTPUT} = linear_interpolate( scale_vals_3, {{\")\n",
    "for c in chart.curveNames():\n",
    "    xVector = [row [0] for row in chart.curve(c)]\n",
    "    yVector = [row [1] for row in chart.curve(c)]\n",
    "    c_clean = c.replace(\"-\", \"_\")\n",
    "\n",
    "    print(f\"\\tlin(std::vector<double>{{\" + \", \".join(['{0:.3f}'.format(s) for s in xVector]) + f\"}}, // {c_clean.lower()}\")\n",
    "    print(f\"\\tstd::vector<double>{{\" + \", \".join(['{0:.3f}'.format(s) for s in yVector]) + f\"}}, {INPUT}),\")\n",
    "print(f\"}}, {INTERP_VAL});\")"
   ]
  },
  {
   "cell_type": "code",
   "execution_count": 6,
   "metadata": {},
   "outputs": [
    {
     "name": "stdout",
     "output_type": "stream",
     "text": [
      "auto uncor_2 = linear_interpolate( scale_vals_2, {\n",
      "\tlin(std::vector<double>{0.000, 4.960, 9.920, 14.984, 19.996, 20.541, 25.022, 30.015, 35.076, 39.966}, // drag_0\n",
      "\tstd::vector<double>{-0.007, 4.951, 9.934, 14.983, 19.994, 20.537, 25.024, 30.032, 35.085, 39.980}, uncor_1),\n",
      "\tlin(std::vector<double>{7.501, 9.588, 11.251, 12.308, 13.243, 15.003, 17.024, 19.018, 20.000, 21.515, 24.991, 26.766, 28.709, 30.021, 31.565, 34.398, 36.376, 38.301, 39.974}, // drag_50\n",
      "\tstd::vector<double>{0.005, 4.975, 8.846, 9.981, 10.991, 12.819, 15.013, 17.079, 18.072, 19.753, 23.308, 25.080, 27.088, 28.489, 30.059, 33.070, 35.087, 37.078, 38.874}, uncor_1),\n",
      "\tlin(std::vector<double>{9.825, 11.677, 12.978, 15.020, 17.009, 18.842, 20.680, 22.185, 23.551, 25.010, 28.230, 30.063, 32.039, 32.643, 32.930, 35.098, 36.020, 37.520, 39.967}, // drag_100\n",
      "\tstd::vector<double>{0.013, 4.975, 8.425, 10.748, 13.016, 15.033, 17.030, 18.676, 20.244, 21.696, 25.040, 27.018, 29.081, 29.758, 30.066, 32.499, 33.548, 35.092, 37.657}, uncor_1),\n",
      "\tlin(std::vector<double>{11.705, 13.511, 14.752, 16.114, 17.824, 18.749, 19.985, 20.527, 21.948, 23.018, 24.411, 26.054, 27.799, 29.624, 32.363, 34.159, 35.104, 36.062, 38.627, 39.978}, // drag_150\n",
      "\tstd::vector<double>{0.007, 4.981, 8.417, 9.989, 12.009, 13.075, 14.363, 15.024, 16.745, 17.942, 19.501, 21.271, 23.082, 25.064, 28.037, 30.075, 31.216, 32.329, 35.098, 36.554}, uncor_1),\n",
      "\tlin(std::vector<double>{13.318, 15.155, 16.510, 17.901, 18.713, 19.978, 21.845, 22.441, 23.691, 25.107, 25.724, 26.336, 29.054, 30.046, 30.936, 33.558, 35.105, 36.911, 39.572, 39.976}, // drag_200\n",
      "\tstd::vector<double>{0.005, 4.964, 8.629, 10.147, 10.980, 12.180, 14.044, 15.013, 17.134, 18.734, 19.444, 20.056, 23.021, 24.085, 25.062, 28.048, 29.957, 32.068, 35.080, 35.556}, uncor_1),\n",
      "\tlin(std::vector<double>{15.943, 17.324, 18.237, 20.000, 22.036, 23.692, 24.509, 24.944, 26.016, 27.698, 30.049, 32.137, 33.999, 35.069, 36.220, 37.901, 39.986}, // drag_250\n",
      "\tstd::vector<double>{0.007, 4.960, 8.324, 9.978, 11.960, 13.511, 15.015, 15.816, 17.687, 20.218, 22.742, 25.076, 27.325, 28.644, 30.088, 32.077, 34.589}, uncor_1),\n",
      "\tlin(std::vector<double>{18.418, 19.995, 21.863, 22.503, 23.073, 24.008, 25.000, 25.682, 26.461, 27.598, 28.795, 29.706, 31.055, 31.981, 33.187, 35.082, 36.363, 37.995, 39.969}, // drag_300\n",
      "\tstd::vector<double>{0.007, 4.185, 9.463, 9.996, 10.520, 11.376, 12.215, 12.845, 14.237, 16.241, 19.001, 21.123, 22.565, 23.587, 25.058, 27.427, 29.055, 31.112, 33.514}, uncor_1),\n",
      "}, drag);\n"
     ]
    }
   ],
   "source": [
    "DIG_FILE_NAME = \"3-eng-drag-index.dig\"\n",
    "INPUT = \"uncor_1\"\n",
    "OUTPUT = \"uncor_2\"\n",
    "INTERP_VAL = \"drag\"\n",
    "uncorr = {}\n",
    "chart = ParseDig(f'./{TOP_FOLDER}/dig/{DIG_FILE_NAME}')\n",
    "\n",
    "print(f\"auto {OUTPUT} = linear_interpolate( scale_vals_2, {{\")\n",
    "for c in chart.curveNames():\n",
    "    xVector = [row [0] for row in chart.curve(c)]\n",
    "    yVector = [row [1] for row in chart.curve(c)]\n",
    "    c_clean = c.replace(\"-\", \"_\")\n",
    "\n",
    "    print(f\"\\tlin(std::vector<double>{{\" + \", \".join(['{0:.3f}'.format(s) for s in xVector]) + f\"}}, // {c_clean.lower()}\")\n",
    "    print(f\"\\tstd::vector<double>{{\" + \", \".join(['{0:.3f}'.format(s) for s in yVector]) + f\"}}, {INPUT}),\")\n",
    "print(f\"}}, {INTERP_VAL});\")"
   ]
  },
  {
   "cell_type": "code",
   "execution_count": null,
   "metadata": {},
   "outputs": [],
   "source": []
  },
  {
   "cell_type": "code",
   "execution_count": null,
   "metadata": {},
   "outputs": [],
   "source": []
  }
 ],
 "metadata": {
  "kernelspec": {
   "display_name": "ds-infra",
   "language": "python",
   "name": "python3"
  },
  "language_info": {
   "codemirror_mode": {
    "name": "ipython",
    "version": 3
   },
   "file_extension": ".py",
   "mimetype": "text/x-python",
   "name": "python",
   "nbconvert_exporter": "python",
   "pygments_lexer": "ipython3",
   "version": "3.10.11"
  },
  "orig_nbformat": 4,
  "vscode": {
   "interpreter": {
    "hash": "0989b4bfb6de13ee5a479302171e01fc7a2733b588409e2c447a1a059d02f27e"
   }
  }
 },
 "nbformat": 4,
 "nbformat_minor": 2
}
