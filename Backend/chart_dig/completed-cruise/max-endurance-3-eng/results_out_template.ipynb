{
 "cells": [
  {
   "cell_type": "code",
   "execution_count": 1,
   "metadata": {},
   "outputs": [
    {
     "name": "stdout",
     "output_type": "stream",
     "text": [
      "c:\\Users\\mcdel\\digitized-charts\n"
     ]
    }
   ],
   "source": [
    "import os\n",
    "os.chdir(\"../..\")\n",
    "print(os.getcwd())\n",
    "from py_utils import *"
   ]
  },
  {
   "cell_type": "code",
   "execution_count": 2,
   "metadata": {},
   "outputs": [],
   "source": [
    "TOP_FOLDER = \"completed-cruise/max-endurance-3-eng\""
   ]
  },
  {
   "cell_type": "code",
   "execution_count": 5,
   "metadata": {},
   "outputs": [
    {
     "name": "stdout",
     "output_type": "stream",
     "text": [
      "auto uncor_1 = linear_interpolate( scale_vals_1, {\n",
      "\tlin(std::vector<double>{0.067, 11.175, 20.712, 27.331, 31.651, 36.195}, // 80\n",
      "\tstd::vector<double>{125.166, 125.355, 124.692, 124.408, 124.218, 124.123}, press_alt_thou),\n",
      "\tlin(std::vector<double>{0.072, 8.992, 15.892, 21.951, 24.419, 30.141, 34.068}, // 90\n",
      "\tstd::vector<double>{132.938, 133.033, 132.464, 131.706, 131.611, 131.327, 131.706}, press_alt_thou),\n",
      "\tlin(std::vector<double>{0.021, 7.090, 12.868, 19.543, 22.348, 27.846, 32.166}, // 100\n",
      "\tstd::vector<double>{139.953, 139.953, 139.573, 138.626, 138.531, 138.246, 138.815}, press_alt_thou),\n",
      "\tlin(std::vector<double>{0.082, 4.346, 10.124, 15.565, 19.997, 24.878, 28.524, 29.646}, // 110\n",
      "\tstd::vector<double>{146.777, 146.777, 146.208, 145.829, 145.261, 145.355, 145.450, 145.355}, press_alt_thou),\n",
      "\tlin(std::vector<double>{0.142, 5.360, 10.409, 14.504, 18.038, 23.143, 27.238}, // 120\n",
      "\tstd::vector<double>{153.033, 153.128, 152.654, 152.085, 151.611, 151.422, 151.801}, press_alt_thou),\n",
      "\tlin(std::vector<double>{0.038, 5.622, 11.559, 16.012, 20.818, 25.130}, // 130\n",
      "\tstd::vector<double>{159.299, 159.060, 158.284, 157.806, 157.627, 157.866}, press_alt_thou),\n",
      "\tlin(std::vector<double>{0.148, 5.379, 9.973, 13.295, 14.849, 18.701, 21.282, 23.155}, // 140\n",
      "\tstd::vector<double>{165.031, 164.852, 164.136, 163.897, 163.658, 163.479, 163.598, 163.778}, press_alt_thou),\n",
      "\tlin(std::vector<double>{0.046, 3.333, 6.407, 10.047, 12.733, 16.338, 18.458, 21.038}, // 150\n",
      "\tstd::vector<double>{170.883, 170.406, 170.167, 169.570, 169.331, 169.152, 169.271, 169.390}, press_alt_thou),\n",
      "\tlin(std::vector<double>{0.156, 3.195, 5.633, 10.122, 11.995, 15.599, 18.568, 19.204}, // 160\n",
      "\tstd::vector<double>{176.018, 175.839, 175.302, 174.884, 174.705, 174.466, 174.824, 175.003}, press_alt_thou),\n",
      "\tlin(std::vector<double>{0.091, 2.246, 5.286, 7.830, 9.102, 11.611, 14.191, 16.276}, // 175\n",
      "\tstd::vector<double>{183.781, 183.542, 183.124, 182.646, 182.706, 182.467, 182.527, 182.527}, press_alt_thou),\n",
      "}, gwt_);\n"
     ]
    }
   ],
   "source": [
    "DIG_FILE_NAME = \"uncorrected.dig\"\n",
    "INPUT = \"press_alt_thou\"\n",
    "OUTPUT = \"uncor_1\"\n",
    "INTERP_VAL = \"gwt_\"\n",
    "uncorr = {}\n",
    "# chart = ParseDig(\"C:\\\\Users\\\\mcdel\\\\digitized-charts\\\\completed-cruise\\\\4-eng-max-rec-cruise-const-tas\\\\dig\\\\4-eng-max-rec-const-tas.dig\")\n",
    "chart = ParseDig(f'./{TOP_FOLDER}/dig/{DIG_FILE_NAME}')\n",
    "\n",
    "print(f\"auto {OUTPUT} = linear_interpolate( scale_vals_1, {{\")\n",
    "for c in chart.curveNames():\n",
    "    xVector = [row [0] for row in chart.curve(c)]\n",
    "    yVector = [row [1] for row in chart.curve(c)]\n",
    "    c_clean = c.replace(\"-\", \"_\")\n",
    "\n",
    "    print(f\"\\tlin(std::vector<double>{{\" + \", \".join(['{0:.3f}'.format(s) for s in xVector]) + f\"}}, // {c_clean.lower()}\")\n",
    "    print(f\"\\tstd::vector<double>{{\" + \", \".join(['{0:.3f}'.format(s) for s in yVector]) + f\"}}, {INPUT}),\")\n",
    "print(f\"}}, {INTERP_VAL});\")"
   ]
  },
  {
   "cell_type": "code",
   "execution_count": 7,
   "metadata": {},
   "outputs": [
    {
     "name": "stdout",
     "output_type": "stream",
     "text": [
      "auto cor = linear_interpolate( scale_vals_1, {\n",
      "\tlin(std::vector<double>{109.963, 134.956, 153.968, 173.516, 189.851}, // 0\n",
      "\tstd::vector<double>{110.285, 135.192, 153.774, 173.330, 189.869}, uncor_1),\n",
      "\tlin(std::vector<double>{109.960, 138.612, 169.942, 189.936}, // 50\n",
      "\tstd::vector<double>{106.588, 134.219, 164.184, 183.740}, uncor_1),\n",
      "\tlin(std::vector<double>{110.136, 141.555, 162.977, 174.491, 190.022}, // 100\n",
      "\tstd::vector<double>{103.085, 133.051, 153.288, 164.282, 179.070}, uncor_1),\n",
      "\tlin(std::vector<double>{110.134, 137.447, 161.367, 180.112, 190.019}, // 150\n",
      "\tstd::vector<double>{100.459, 125.852, 148.131, 165.838, 174.789}, uncor_1),\n",
      "\tlin(std::vector<double>{110.222, 136.552, 157.081, 175.022, 190.017}, // 200\n",
      "\tstd::vector<double>{98.124, 122.349, 141.515, 158.347, 171.968}, uncor_1),\n",
      "\tlin(std::vector<double>{110.220, 134.587, 167.255, 190.104}, // 250\n",
      "\tstd::vector<double>{96.080, 118.555, 148.034, 168.854}, uncor_1),\n",
      "\tlin(std::vector<double>{110.041, 154.846, 190.102}, // 300\n",
      "\tstd::vector<double>{94.718, 134.510, 165.838}, uncor_1),\n",
      "}, drag_);\n"
     ]
    }
   ],
   "source": [
    "DIG_FILE_NAME = \"corrected.dig\"\n",
    "INPUT = \"uncor_1\"\n",
    "OUTPUT = \"cor\"\n",
    "INTERP_VAL = \"drag_\"\n",
    "uncorr = {}\n",
    "# chart = ParseDig(\"C:\\\\Users\\\\mcdel\\\\digitized-charts\\\\completed-cruise\\\\4-eng-max-rec-cruise-const-tas\\\\dig\\\\4-eng-max-rec-const-tas.dig\")\n",
    "chart = ParseDig(f'./{TOP_FOLDER}/dig/{DIG_FILE_NAME}')\n",
    "\n",
    "print(f\"auto {OUTPUT} = linear_interpolate( scale_vals_1, {{\")\n",
    "for c in chart.curveNames():\n",
    "    xVector = [row [0] for row in chart.curve(c)]\n",
    "    yVector = [row [1] for row in chart.curve(c)]\n",
    "    c_clean = c.replace(\"-\", \"_\")\n",
    "\n",
    "    print(f\"\\tlin(std::vector<double>{{\" + \", \".join(['{0:.3f}'.format(s) for s in xVector]) + f\"}}, // {c_clean.lower()}\")\n",
    "    print(f\"\\tstd::vector<double>{{\" + \", \".join(['{0:.3f}'.format(s) for s in yVector]) + f\"}}, {INPUT}),\")\n",
    "print(f\"}}, {INTERP_VAL});\")"
   ]
  },
  {
   "cell_type": "code",
   "execution_count": null,
   "metadata": {},
   "outputs": [],
   "source": []
  }
 ],
 "metadata": {
  "kernelspec": {
   "display_name": "ds-infra",
   "language": "python",
   "name": "python3"
  },
  "language_info": {
   "codemirror_mode": {
    "name": "ipython",
    "version": 3
   },
   "file_extension": ".py",
   "mimetype": "text/x-python",
   "name": "python",
   "nbconvert_exporter": "python",
   "pygments_lexer": "ipython3",
   "version": "3.10.11"
  },
  "orig_nbformat": 4,
  "vscode": {
   "interpreter": {
    "hash": "0989b4bfb6de13ee5a479302171e01fc7a2733b588409e2c447a1a059d02f27e"
   }
  }
 },
 "nbformat": 4,
 "nbformat_minor": 2
}
