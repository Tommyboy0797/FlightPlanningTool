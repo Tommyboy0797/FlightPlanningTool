{
 "cells": [
  {
   "cell_type": "code",
   "execution_count": 2,
   "metadata": {},
   "outputs": [
    {
     "name": "stdout",
     "output_type": "stream",
     "text": [
      "c:\\Users\\mcdel\\digitized-charts\n"
     ]
    }
   ],
   "source": [
    "import os\n",
    "os.chdir(\"../..\")\n",
    "print(os.getcwd())\n",
    "from py_utils import *"
   ]
  },
  {
   "cell_type": "code",
   "execution_count": 11,
   "metadata": {},
   "outputs": [],
   "source": [
    "TOP_FOLDER = \"completed-cruise/driftdown-speed\""
   ]
  },
  {
   "cell_type": "code",
   "execution_count": 12,
   "metadata": {},
   "outputs": [
    {
     "name": "stdout",
     "output_type": "stream",
     "text": [
      "auto uncor_1 = linear_interpolate( scale_vals_1, {\n",
      "\tlin(std::vector<double>{80.020, 84.781, 89.755, 94.813, 99.904, 104.891, 110.008, 114.930, 119.873, 124.950, 130.067, 134.997, 139.098, 145.069, 150.037, 155.115, 160.135, 165.136, 170.233, 175.163}, // speed\n",
      "\tstd::vector<double>{117.362, 120.677, 124.164, 127.694, 131.216, 134.410, 137.615, 140.774, 143.854, 146.837, 149.785, 152.643, 155.028, 158.367, 161.092, 163.789, 166.393, 168.927, 171.570, 174.116}, gwt),\n",
      "}, t_dev);\n"
     ]
    }
   ],
   "source": [
    "DIG_FILE_NAME = \"3-eng-driftdown-speed.dig\"\n",
    "INPUT = \"gwt\"\n",
    "OUTPUT = \"uncor_1\"\n",
    "INTERP_VAL = \"t_dev\"\n",
    "uncorr = {}\n",
    "chart = ParseDig(f'./{TOP_FOLDER}/dig/{DIG_FILE_NAME}')\n",
    "\n",
    "print(f\"auto {OUTPUT} = linear_interpolate( scale_vals_1, {{\")\n",
    "for c in chart.curveNames():\n",
    "    xVector = [row [0] for row in chart.curve(c)]\n",
    "    yVector = [row [1] for row in chart.curve(c)]\n",
    "    c_clean = c.replace(\"-\", \"_\")\n",
    "\n",
    "    print(f\"\\tlin(std::vector<double>{{\" + \", \".join(['{0:.3f}'.format(s) for s in xVector]) + f\"}}, // {c_clean.lower()}\")\n",
    "    print(f\"\\tstd::vector<double>{{\" + \", \".join(['{0:.3f}'.format(s) for s in yVector]) + f\"}}, {INPUT}),\")\n",
    "print(f\"}}, {INTERP_VAL});\")"
   ]
  },
  {
   "cell_type": "code",
   "execution_count": 14,
   "metadata": {},
   "outputs": [
    {
     "name": "stdout",
     "output_type": "stream",
     "text": [
      "auto uncor_1 = linear_interpolate( scale_vals_1, {\n",
      "\tlin(std::vector<double>{-0.005, 2.906, 9.492, 12.118, 15.011, 15.662, 17.165, 18.751, 20.341, 22.028, 23.796, 25.696, 25.812, 40.002}, // gwt_80\n",
      "\tstd::vector<double>{172.976, 170.016, 163.773, 161.092, 158.084, 155.672, 149.839, 143.805, 137.687, 131.274, 124.512, 117.248, 117.243, 117.261}, press_alt_thou),\n",
      "\tlin(std::vector<double>{0.008, 2.901, 9.470, 12.129, 15.007, 15.671, 17.161, 18.740, 20.337, 22.019, 23.792, 40.009}, // gwt_90\n",
      "\tstd::vector<double>{172.946, 170.052, 163.783, 161.097, 158.064, 155.635, 149.855, 143.846, 137.692, 131.320, 124.528, 124.491}, press_alt_thou),\n",
      "\tlin(std::vector<double>{0.012, 2.879, 9.461, 12.114, 15.014, 15.657, 17.172, 18.740, 20.333, 22.025, 40.011}, // gwt_100\n",
      "\tstd::vector<double>{172.940, 170.088, 163.814, 161.087, 158.064, 155.651, 149.844, 143.831, 137.702, 131.279, 131.249}, press_alt_thou),\n",
      "\tlin(std::vector<double>{0.012, 2.890, 9.472, 12.116, 15.027, 15.657, 17.174, 18.736, 20.337, 39.993}, // gwt_110\n",
      "\tstd::vector<double>{172.935, 170.057, 163.799, 161.076, 158.058, 155.651, 149.850, 143.836, 137.692, 137.747}, press_alt_thou),\n",
      "\tlin(std::vector<double>{0.004, 2.870, 9.461, 12.109, 15.005, 15.659, 17.158, 18.736, 39.998}, // gwt_120\n",
      "\tstd::vector<double>{172.951, 170.078, 163.809, 161.097, 158.079, 155.672, 149.881, 143.836, 143.882}, press_alt_thou),\n",
      "\tlin(std::vector<double>{0.001, 2.870, 9.470, 12.109, 15.002, 15.664, 17.158, 40.000}, // gwt_130\n",
      "\tstd::vector<double>{172.940, 170.083, 163.788, 161.102, 158.069, 155.672, 149.865, 149.897}, press_alt_thou),\n",
      "\tlin(std::vector<double>{-0.001, 2.892, 9.474, 12.089, 15.000, 15.671, 39.998}, // gwt_140\n",
      "\tstd::vector<double>{172.946, 170.083, 163.788, 161.133, 158.069, 155.646, 155.658}, press_alt_thou),\n",
      "\tlin(std::vector<double>{40.000, 12.080, 9.470, 2.879, -0.001}, // gwt_150\n",
      "\tstd::vector<double>{161.128, 161.139, 163.804, 170.088, 172.951}, press_alt_thou),\n",
      "\tlin(std::vector<double>{-0.003, 2.872, 9.463, 40.004}, // gwt_155\n",
      "\tstd::vector<double>{172.940, 170.104, 163.804, 163.858}, press_alt_thou),\n",
      "\tlin(std::vector<double>{0.017, 39.996}, // gwt_175\n",
      "\tstd::vector<double>{174.082, 174.130}, press_alt_thou),\n",
      "}, gwt);\n"
     ]
    }
   ],
   "source": [
    "DIG_FILE_NAME = \"2-eng-driftdown-speed-gwt.dig\"\n",
    "INPUT = \"press_alt_thou\"\n",
    "OUTPUT = \"uncor_1\"\n",
    "INTERP_VAL = \"gwt\"\n",
    "uncorr = {}\n",
    "chart = ParseDig(f'./{TOP_FOLDER}/dig/{DIG_FILE_NAME}')\n",
    "\n",
    "print(f\"auto {OUTPUT} = linear_interpolate( scale_vals_1, {{\")\n",
    "for c in chart.curveNames():\n",
    "    xVector = [row [0] for row in chart.curve(c)]\n",
    "    yVector = [row [1] for row in chart.curve(c)]\n",
    "    c_clean = c.replace(\"-\", \"_\")\n",
    "\n",
    "    print(f\"\\tlin(std::vector<double>{{\" + \", \".join(['{0:.3f}'.format(s) for s in yVector]) + f\"}}, // {c_clean.lower()}\")\n",
    "    print(f\"\\tstd::vector<double>{{\" + \", \".join(['{0:.3f}'.format(s) for s in xVector]) + f\"}}, {INPUT}),\")\n",
    "print(f\"}}, {INTERP_VAL});\")"
   ]
  },
  {
   "cell_type": "code",
   "execution_count": null,
   "metadata": {},
   "outputs": [],
   "source": []
  }
 ],
 "metadata": {
  "kernelspec": {
   "display_name": "ds-infra",
   "language": "python",
   "name": "python3"
  },
  "language_info": {
   "codemirror_mode": {
    "name": "ipython",
    "version": 3
   },
   "file_extension": ".py",
   "mimetype": "text/x-python",
   "name": "python",
   "nbconvert_exporter": "python",
   "pygments_lexer": "ipython3",
   "version": "3.10.11"
  },
  "orig_nbformat": 4,
  "vscode": {
   "interpreter": {
    "hash": "0989b4bfb6de13ee5a479302171e01fc7a2733b588409e2c447a1a059d02f27e"
   }
  }
 },
 "nbformat": 4,
 "nbformat_minor": 2
}
