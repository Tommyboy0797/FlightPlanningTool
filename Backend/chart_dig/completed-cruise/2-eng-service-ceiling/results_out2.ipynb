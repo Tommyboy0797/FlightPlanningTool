{
 "cells": [
  {
   "cell_type": "code",
   "execution_count": 1,
   "metadata": {},
   "outputs": [
    {
     "name": "stdout",
     "output_type": "stream",
     "text": [
      "c:\\Users\\mcdel\\digitized-charts\n"
     ]
    }
   ],
   "source": [
    "import os\n",
    "os.chdir(\"../..\")\n",
    "print(os.getcwd())\n",
    "from py_utils import *"
   ]
  },
  {
   "cell_type": "code",
   "execution_count": 2,
   "metadata": {},
   "outputs": [],
   "source": [
    "TOP_FOLDER = \"completed-cruise/2-eng-service-ceiling\""
   ]
  },
  {
   "cell_type": "code",
   "execution_count": 10,
   "metadata": {},
   "outputs": [
    {
     "name": "stdout",
     "output_type": "stream",
     "text": [
      "auto uncor_1 = linear_interpolate( scale_vals_1, {\n",
      "\tlin(std::vector<double>{79.993, 89.782, 99.828, 109.880, 119.861, 130.047, 139.971, 150.016, 160.049, 170.153, 175.073}, // dev__30\n",
      "\tstd::vector<double>{31.325, 29.044, 26.852, 24.756, 22.884, 21.046, 19.277, 17.647, 16.249, 13.236, 11.761}, gwt),\n",
      "\tlin(std::vector<double>{79.967, 89.756, 99.795, 109.860, 119.790, 129.983, 139.933, 150.023, 160.062, 170.102, 175.061}, // dev__20\n",
      "\tstd::vector<double>{31.323, 28.965, 26.786, 24.753, 22.809, 20.973, 19.213, 17.288, 15.384, 11.975, 10.303}, gwt),\n",
      "\tlin(std::vector<double>{79.961, 89.795, 99.834, 109.867, 119.874, 130.010, 139.972, 149.979, 160.057, 170.141, 175.062}, // dev__10\n",
      "\tstd::vector<double>{31.334, 28.921, 26.782, 24.519, 22.101, 19.814, 17.651, 15.581, 13.570, 10.412, 8.863}, gwt),\n",
      "\tlin(std::vector<double>{79.967, 89.744, 99.816, 109.849, 119.850, 129.972, 139.948, 150.032, 160.078, 170.136, 175.037}, // dev_0\n",
      "\tstd::vector<double>{31.115, 28.266, 25.499, 22.825, 20.380, 17.896, 15.521, 13.132, 10.876, 8.644, 7.538}, gwt),\n",
      "\tlin(std::vector<double>{79.994, 89.790, 99.830, 109.889, 119.826, 129.974, 139.975, 150.021, 160.118, 170.145, 175.110}, // dev_10\n",
      "\tstd::vector<double>{29.589, 26.567, 23.541, 20.641, 17.916, 15.231, 12.632, 10.122, 7.819, 5.534, 4.408}, gwt),\n",
      "\tlin(std::vector<double>{79.982, 89.753, 99.838, 109.903, 119.898, 130.027, 139.984, 150.036, 160.108, 170.198, 175.080}, // dev_20\n",
      "\tstd::vector<double>{27.565, 24.138, 20.958, 17.865, 15.065, 12.236, 9.513, 6.870, 4.377, 1.933, 0.763}, gwt),\n",
      "\tlin(std::vector<double>{79.984, 89.825, 99.885, 109.867, 119.881, 130.094, 139.986, 144.098, 150.006, 160.129, 161.932}, // dev_30\n",
      "\tstd::vector<double>{24.926, 21.427, 18.080, 15.010, 11.902, 8.952, 6.129, 4.974, 3.322, 0.606, 0.011}, gwt),\n",
      "}, t_dev);\n"
     ]
    }
   ],
   "source": [
    "DIG_FILE_NAME = \"2-eng-normal-bleed.dig\"\n",
    "INPUT = \"gwt\"\n",
    "OUTPUT = \"uncor_1\"\n",
    "INTERP_VAL = \"t_dev\"\n",
    "uncorr = {}\n",
    "chart = ParseDig(f'./{TOP_FOLDER}/dig/{DIG_FILE_NAME}')\n",
    "\n",
    "print(f\"auto {OUTPUT} = linear_interpolate( scale_vals_1, {{\")\n",
    "for c in chart.curveNames():\n",
    "    xVector = [row [0] for row in chart.curve(c)]\n",
    "    yVector = [row [1] for row in chart.curve(c)]\n",
    "    c_clean = c.replace(\"-\", \"_\")\n",
    "\n",
    "    print(f\"\\tlin(std::vector<double>{{\" + \", \".join(['{0:.3f}'.format(s) for s in xVector]) + f\"}}, // {c_clean.lower()}\")\n",
    "    print(f\"\\tstd::vector<double>{{\" + \", \".join(['{0:.3f}'.format(s) for s in yVector]) + f\"}}, {INPUT}),\")\n",
    "print(f\"}}, {INTERP_VAL});\")"
   ]
  },
  {
   "cell_type": "code",
   "execution_count": 3,
   "metadata": {},
   "outputs": [
    {
     "name": "stdout",
     "output_type": "stream",
     "text": [
      "auto uncor_2 = linear_interpolate( scale_vals_1, {\n",
      "\tlin(std::vector<double>{4.999, 9.947, 14.964, 19.994, 23.239, 25.043, 30.046, 31.160}, // drag_0\n",
      "\tstd::vector<double>{5.030, 9.944, 14.972, 19.997, 23.217, 25.031, 30.039, 31.156}, uncor_1),\n",
      "\tlin(std::vector<double>{6.175, 7.684, 8.729, 9.924, 10.866, 11.795, 12.849, 13.770, 14.935, 16.657, 18.586, 19.991, 21.512, 22.736, 23.836, 25.455, 26.426, 30.022, 31.163}, // drag_50\n",
      "\tstd::vector<double>{0.009, 2.992, 4.986, 7.254, 9.060, 9.978, 11.033, 11.976, 13.204, 15.005, 17.004, 18.434, 20.020, 21.317, 22.431, 24.051, 25.044, 28.755, 29.937}, uncor_1),\n",
      "\tlin(std::vector<double>{8.558, 8.810, 9.923, 10.187, 10.862, 12.554, 12.976, 13.444, 14.965, 17.125, 19.078, 20.951, 22.785, 24.304, 26.025, 27.671, 28.607, 30.035, 31.157}, // drag_100\n",
      "\tstd::vector<double>{0.006, 0.932, 4.181, 4.975, 6.936, 8.960, 9.473, 9.995, 11.624, 13.970, 16.025, 18.020, 20.026, 21.558, 23.309, 25.041, 26.024, 27.545, 28.749}, uncor_1),\n",
      "\tlin(std::vector<double>{9.957, 10.221, 10.589, 10.942, 11.825, 13.111, 14.938, 16.765, 17.744, 19.511, 22.205, 22.918, 24.078, 24.936, 27.040, 28.064, 28.827, 31.157}, // drag_150\n",
      "\tstd::vector<double>{0.002, 0.933, 1.965, 2.912, 4.980, 8.025, 9.988, 11.997, 13.116, 14.999, 18.015, 18.824, 20.020, 20.919, 23.133, 24.210, 25.037, 27.601}, uncor_1),\n",
      "\tlin(std::vector<double>{11.352, 11.714, 12.784, 13.139, 14.326, 14.976, 15.483, 16.350, 18.098, 19.027, 19.975, 20.807, 22.490, 23.001, 25.043, 25.581, 28.063, 30.033, 31.159}, // drag_200\n",
      "\tstd::vector<double>{0.007, 0.916, 3.978, 4.977, 6.986, 8.111, 9.006, 9.984, 11.985, 12.998, 14.071, 15.003, 17.008, 17.594, 19.785, 20.359, 23.030, 25.226, 26.493}, uncor_1),\n",
      "\tlin(std::vector<double>{12.741, 13.026, 13.408, 14.555, 14.962, 15.501, 16.806, 17.654, 18.527, 19.978, 21.925, 22.856, 23.657, 25.037, 26.092, 28.050, 29.061, 30.058, 31.156}, // drag_250\n",
      "\tstd::vector<double>{0.011, 0.916, 1.974, 4.931, 5.958, 7.365, 8.947, 9.971, 10.998, 12.655, 14.995, 16.113, 17.002, 18.568, 19.735, 21.859, 23.018, 24.151, 25.420}, uncor_1),\n",
      "\tlin(std::vector<double>{14.043, 14.342, 14.959, 15.481, 15.921, 16.971, 17.436, 17.904, 18.851, 19.982, 21.998, 23.023, 25.027, 26.681, 27.768, 30.032, 31.160}, // drag_300\n",
      "\tstd::vector<double>{0.006, 0.918, 2.642, 4.137, 4.984, 7.066, 7.994, 8.895, 9.980, 11.295, 13.765, 15.018, 17.337, 19.230, 20.460, 23.051, 24.356}, uncor_1),\n",
      "}, drag);\n"
     ]
    }
   ],
   "source": [
    "DIG_FILE_NAME = \"2-eng-drag-index.dig\"\n",
    "INPUT = \"uncor_1\"\n",
    "OUTPUT = \"uncor_2\"\n",
    "INTERP_VAL = \"drag\"\n",
    "uncorr = {}\n",
    "chart = ParseDig(f'./{TOP_FOLDER}/dig/{DIG_FILE_NAME}')\n",
    "\n",
    "print(f\"auto {OUTPUT} = linear_interpolate( scale_vals_1, {{\")\n",
    "for c in chart.curveNames():\n",
    "    xVector = [row [0] for row in chart.curve(c)]\n",
    "    yVector = [row [1] for row in chart.curve(c)]\n",
    "    c_clean = c.replace(\"-\", \"_\")\n",
    "\n",
    "    print(f\"\\tlin(std::vector<double>{{\" + \", \".join(['{0:.3f}'.format(s) for s in xVector]) + f\"}}, // {c_clean.lower()}\")\n",
    "    print(f\"\\tstd::vector<double>{{\" + \", \".join(['{0:.3f}'.format(s) for s in yVector]) + f\"}}, {INPUT}),\")\n",
    "print(f\"}}, {INTERP_VAL});\")"
   ]
  },
  {
   "cell_type": "code",
   "execution_count": null,
   "metadata": {},
   "outputs": [],
   "source": []
  }
 ],
 "metadata": {
  "kernelspec": {
   "display_name": "ds-infra",
   "language": "python",
   "name": "python3"
  },
  "language_info": {
   "codemirror_mode": {
    "name": "ipython",
    "version": 3
   },
   "file_extension": ".py",
   "mimetype": "text/x-python",
   "name": "python",
   "nbconvert_exporter": "python",
   "pygments_lexer": "ipython3",
   "version": "3.10.11"
  },
  "orig_nbformat": 4,
  "vscode": {
   "interpreter": {
    "hash": "0989b4bfb6de13ee5a479302171e01fc7a2733b588409e2c447a1a059d02f27e"
   }
  }
 },
 "nbformat": 4,
 "nbformat_minor": 2
}
