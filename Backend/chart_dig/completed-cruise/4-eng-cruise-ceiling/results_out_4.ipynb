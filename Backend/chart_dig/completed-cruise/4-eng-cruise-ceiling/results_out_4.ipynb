{
 "cells": [
  {
   "cell_type": "code",
   "execution_count": 1,
   "metadata": {},
   "outputs": [
    {
     "name": "stdout",
     "output_type": "stream",
     "text": [
      "c:\\Users\\mcdel\\digitized-charts\n"
     ]
    }
   ],
   "source": [
    "import os\n",
    "os.chdir(\"../..\")\n",
    "print(os.getcwd())\n",
    "from py_utils import *"
   ]
  },
  {
   "cell_type": "code",
   "execution_count": 2,
   "metadata": {},
   "outputs": [],
   "source": [
    "TOP_FOLDER = \"completed-cruise/4-eng-cruise-ceiling\""
   ]
  },
  {
   "cell_type": "code",
   "execution_count": 3,
   "metadata": {},
   "outputs": [
    {
     "name": "stdout",
     "output_type": "stream",
     "text": [
      "auto uncor_1 = linear_interpolate( scale_vals_1, {\n",
      "\tlin(std::vector<double>{80.004, 89.774, 99.900, 109.891, 119.991, 130.033, 140.024, 150.144, 160.186, 170.151, 175.078}, // dev__3020\n",
      "\tstd::vector<double>{41.908, 39.965, 38.114, 36.375, 34.708, 33.211, 31.761, 30.290, 28.867, 27.574, 26.952}, gwt),\n",
      "\tlin(std::vector<double>{79.978, 89.716, 99.913, 109.806, 119.907, 129.930, 140.011, 150.053, 160.024, 170.106, 175.084}, // dev__10\n",
      "\tstd::vector<double>{41.704, 39.809, 37.932, 36.211, 34.544, 33.013, 31.524, 30.163, 28.777, 27.264, 26.504}, gwt),\n",
      "\tlin(std::vector<double>{79.997, 89.813, 99.868, 109.845, 119.900, 129.975, 140.024, 150.072, 160.140, 170.183, 175.097}, // dev_0\n",
      "\tstd::vector<double>{41.377, 39.489, 37.673, 35.971, 34.267, 32.515, 30.693, 28.945, 27.221, 25.530, 24.696}, gwt),\n",
      "\tlin(std::vector<double>{80.006, 89.786, 99.868, 109.845, 119.893, 129.974, 140.010, 150.072, 160.120, 170.124, 175.071}, // dev_10\n",
      "\tstd::vector<double>{40.447, 38.534, 36.769, 34.881, 32.858, 30.845, 28.915, 27.020, 25.099, 23.232, 22.291}, gwt),\n",
      "\tlin(std::vector<double>{80.003, 89.747, 99.783, 109.838, 119.983, 129.935, 140.022, 150.116, 160.093, 170.213, 175.114}, // dev_20\n",
      "\tstd::vector<double>{39.161, 37.274, 35.342, 33.074, 30.833, 28.584, 26.396, 24.250, 22.253, 20.325, 19.376}, gwt),\n",
      "\tlin(std::vector<double>{80.003, 89.734, 99.834, 109.850, 119.898, 130.005, 140.021, 150.083, 160.157, 170.206, 175.061}, // dev_30\n",
      "\tstd::vector<double>{37.670, 35.701, 33.126, 30.570, 28.171, 25.819, 23.507, 21.325, 19.261, 17.285, 16.323}, gwt),\n",
      "}, t_dev);\n"
     ]
    }
   ],
   "source": [
    "DIG_FILE_NAME = \"4-eng-normal-bleed.dig\"\n",
    "INPUT = \"gwt\"\n",
    "OUTPUT = \"uncor_1\"\n",
    "INTERP_VAL = \"t_dev\"\n",
    "uncorr = {}\n",
    "chart = ParseDig(f'./{TOP_FOLDER}/dig/{DIG_FILE_NAME}')\n",
    "\n",
    "print(f\"auto {OUTPUT} = linear_interpolate( scale_vals_1, {{\")\n",
    "for c in chart.curveNames():\n",
    "    xVector = [row [0] for row in chart.curve(c)]\n",
    "    yVector = [row [1] for row in chart.curve(c)]\n",
    "    c_clean = c.replace(\"-\", \"_\")\n",
    "\n",
    "    print(f\"\\tlin(std::vector<double>{{\" + \", \".join(['{0:.3f}'.format(s) for s in xVector]) + f\"}}, // {c_clean.lower()}\")\n",
    "    print(f\"\\tstd::vector<double>{{\" + \", \".join(['{0:.3f}'.format(s) for s in yVector]) + f\"}}, {INPUT}),\")\n",
    "print(f\"}}, {INTERP_VAL});\")"
   ]
  },
  {
   "cell_type": "code",
   "execution_count": 5,
   "metadata": {},
   "outputs": [
    {
     "name": "stdout",
     "output_type": "stream",
     "text": [
      "auto uncor_1 = linear_interpolate( scale_vals_1, {\n",
      "\tlin(std::vector<double>{79.994, 89.756, 99.861, 109.876, 119.878, 130.049, 139.986, 150.079, 160.160, 170.117, 175.109}, // dev__30\n",
      "\tstd::vector<double>{35.002, 32.819, 30.722, 28.927, 27.286, 25.816, 24.353, 23.002, 21.828, 20.804, 20.273}, gwt),\n",
      "\tlin(std::vector<double>{79.987, 89.762, 99.841, 109.869, 119.832, 129.971, 139.973, 150.040, 160.108, 170.195, 174.985}, // dev__20\n",
      "\tstd::vector<double>{34.614, 32.422, 30.316, 28.550, 26.981, 25.538, 24.162, 22.886, 21.765, 20.606, 20.054}, gwt),\n",
      "\tlin(std::vector<double>{79.980, 89.742, 99.866, 109.843, 119.819, 130.035, 140.056, 150.104, 160.132, 170.167, 175.094}, // dev__10\n",
      "\tstd::vector<double>{34.212, 31.873, 29.726, 28.087, 26.514, 24.744, 22.993, 21.595, 20.391, 19.128, 18.502}, gwt),\n",
      "\tlin(std::vector<double>{80.012, 89.792, 99.859, 109.847, 119.895, 130.020, 139.983, 150.108, 160.065, 170.190, 175.123}, // dev_0\n",
      "\tstd::vector<double>{33.394, 30.787, 28.512, 26.639, 24.763, 22.977, 21.486, 20.031, 18.509, 17.017, 16.284}, gwt),\n",
      "\tlin(std::vector<double>{80.010, 85.759, 89.816, 99.870, 108.089, 109.975, 119.866, 130.004, 139.980, 150.014, 160.062, 163.471, 170.167, 175.068}, // dev_10\n",
      "\tstd::vector<double>{31.586, 30.017, 28.894, 26.770, 25.002, 24.596, 22.459, 20.770, 18.986, 17.231, 15.577, 15.022, 13.899, 13.077}, gwt),\n",
      "\tlin(std::vector<double>{80.001, 89.761, 94.687, 99.866, 109.919, 119.863, 130.059, 139.957, 144.144, 150.043, 159.935, 170.144, 175.051}, // dev_20\n",
      "\tstd::vector<double>{29.012, 26.325, 24.999, 23.606, 21.513, 19.578, 17.608, 15.766, 15.007, 13.929, 12.139, 10.151, 9.206}, gwt),\n",
      "\tlin(std::vector<double>{79.990, 89.744, 99.810, 109.903, 119.839, 130.016, 139.940, 149.274, 160.124, 170.145, 175.097}, // dev_30\n",
      "\tstd::vector<double>{25.526, 22.590, 20.432, 18.097, 16.118, 14.131, 12.011, 9.982, 7.725, 5.515, 4.423}, gwt),\n",
      "}, t_dev);\n"
     ]
    }
   ],
   "source": [
    "DIG_FILE_NAME = \"4-eng-all-bleed.dig\"\n",
    "INPUT = \"gwt\"\n",
    "OUTPUT = \"uncor_1\"\n",
    "INTERP_VAL = \"t_dev\"\n",
    "uncorr = {}\n",
    "chart = ParseDig(f'./{TOP_FOLDER}/dig/{DIG_FILE_NAME}')\n",
    "\n",
    "print(f\"auto {OUTPUT} = linear_interpolate( scale_vals_1, {{\")\n",
    "for c in chart.curveNames():\n",
    "    xVector = [row [0] for row in chart.curve(c)]\n",
    "    yVector = [row [1] for row in chart.curve(c)]\n",
    "    c_clean = c.replace(\"-\", \"_\")\n",
    "\n",
    "    print(f\"\\tlin(std::vector<double>{{\" + \", \".join(['{0:.3f}'.format(s) for s in xVector]) + f\"}}, // {c_clean.lower()}\")\n",
    "    print(f\"\\tstd::vector<double>{{\" + \", \".join(['{0:.3f}'.format(s) for s in yVector]) + f\"}}, {INPUT}),\")\n",
    "print(f\"}}, {INTERP_VAL});\")"
   ]
  },
  {
   "cell_type": "code",
   "execution_count": 4,
   "metadata": {},
   "outputs": [
    {
     "name": "stdout",
     "output_type": "stream",
     "text": [
      "auto uncor_2 = linear_interpolate( scale_vals_1, {\n",
      "\tlin(std::vector<double>{0.010, 4.920, 9.939, 15.002, 19.594, 25.000, 30.017, 35.058, 39.972}, // drag_0\n",
      "\tstd::vector<double>{0.041, 4.946, 9.958, 15.023, 19.612, 25.020, 30.032, 35.093, 39.974}, uncor_1),\n",
      "\tlin(std::vector<double>{3.094, 4.936, 7.691, 9.935, 12.307, 14.980, 16.929, 17.919, 19.971, 20.689, 21.764, 24.003, 24.996, 26.591, 29.974, 31.475, 33.032, 34.288, 35.030, 36.261, 37.179, 39.977}, // drag_50\n",
      "\tstd::vector<double>{0.000, 1.980, 4.984, 7.440, 9.999, 12.907, 15.043, 16.103, 18.135, 18.908, 20.063, 22.377, 23.374, 25.048, 28.571, 30.099, 31.717, 33.115, 33.838, 35.086, 36.107, 38.958}, uncor_1),\n",
      "\tlin(std::vector<double>{5.298, 9.928, 14.065, 14.973, 16.658, 17.584, 18.456, 19.959, 21.390, 23.139, 24.958, 27.895, 29.995, 32.606, 35.043, 37.095, 39.993}, // drag_100\n",
      "\tstd::vector<double>{-0.001, 5.274, 10.006, 11.037, 13.020, 14.086, 15.043, 16.666, 18.172, 20.037, 22.007, 25.036, 27.302, 30.075, 32.820, 35.099, 38.148}, uncor_1),\n",
      "\tlin(std::vector<double>{6.930, 9.923, 11.216, 14.968, 16.358, 17.266, 18.084, 19.859, 22.129, 23.530, 24.997, 28.172, 29.996, 31.932, 33.627, 35.061, 36.092, 37.946, 39.988}, // drag_150\n",
      "\tstd::vector<double>{-0.004, 3.497, 4.975, 9.371, 11.022, 12.088, 13.002, 15.024, 17.500, 19.045, 20.653, 24.015, 26.017, 28.164, 30.067, 31.772, 33.043, 35.091, 37.355}, uncor_1),\n",
      "\tlin(std::vector<double>{8.872, 9.932, 12.935, 14.976, 16.972, 17.841, 19.968, 21.255, 22.991, 25.007, 25.649, 27.534, 30.037, 32.897, 34.526, 36.975, 38.701, 39.991}, // drag_200\n",
      "\tstd::vector<double>{-0.006, 1.312, 4.991, 7.541, 10.015, 11.068, 13.546, 15.046, 17.013, 19.271, 20.061, 22.050, 24.832, 28.069, 30.056, 33.093, 35.113, 36.525}, uncor_1),\n",
      "\tlin(std::vector<double>{13.996, 15.006, 15.993, 17.575, 18.339, 19.960, 22.471, 23.759, 26.806, 30.012, 31.253, 33.012, 35.026, 35.385, 37.675, 39.453, 39.991}, // drag_250\n",
      "\tstd::vector<double>{0.008, 2.476, 4.980, 9.118, 9.995, 12.017, 15.024, 16.515, 20.018, 23.606, 25.051, 27.077, 29.625, 30.075, 33.091, 35.080, 35.737}, uncor_1),\n",
      "\tlin(std::vector<double>{15.813, 17.204, 17.625, 19.130, 19.576, 22.738, 23.641, 24.329, 27.901, 30.010, 32.226, 33.870, 34.952, 36.124, 37.563, 39.989}, // drag_300\n",
      "\tstd::vector<double>{-0.005, 4.978, 6.484, 9.441, 10.000, 13.997, 15.055, 15.871, 20.057, 22.451, 25.064, 27.058, 28.546, 30.071, 32.056, 34.944}, uncor_1),\n",
      "}, drag);\n"
     ]
    }
   ],
   "source": [
    "DIG_FILE_NAME = \"4-eng-drag-index.dig\"\n",
    "INPUT = \"uncor_1\"\n",
    "OUTPUT = \"uncor_2\"\n",
    "INTERP_VAL = \"drag\"\n",
    "uncorr = {}\n",
    "chart = ParseDig(f'./{TOP_FOLDER}/dig/{DIG_FILE_NAME}')\n",
    "\n",
    "print(f\"auto {OUTPUT} = linear_interpolate( scale_vals_1, {{\")\n",
    "for c in chart.curveNames():\n",
    "    xVector = [row [0] for row in chart.curve(c)]\n",
    "    yVector = [row [1] for row in chart.curve(c)]\n",
    "    c_clean = c.replace(\"-\", \"_\")\n",
    "\n",
    "    print(f\"\\tlin(std::vector<double>{{\" + \", \".join(['{0:.3f}'.format(s) for s in xVector]) + f\"}}, // {c_clean.lower()}\")\n",
    "    print(f\"\\tstd::vector<double>{{\" + \", \".join(['{0:.3f}'.format(s) for s in yVector]) + f\"}}, {INPUT}),\")\n",
    "print(f\"}}, {INTERP_VAL});\")"
   ]
  },
  {
   "cell_type": "code",
   "execution_count": null,
   "metadata": {},
   "outputs": [],
   "source": []
  }
 ],
 "metadata": {
  "kernelspec": {
   "display_name": "ds-infra",
   "language": "python",
   "name": "python3"
  },
  "language_info": {
   "codemirror_mode": {
    "name": "ipython",
    "version": 3
   },
   "file_extension": ".py",
   "mimetype": "text/x-python",
   "name": "python",
   "nbconvert_exporter": "python",
   "pygments_lexer": "ipython3",
   "version": "3.10.11"
  },
  "orig_nbformat": 4,
  "vscode": {
   "interpreter": {
    "hash": "0989b4bfb6de13ee5a479302171e01fc7a2733b588409e2c447a1a059d02f27e"
   }
  }
 },
 "nbformat": 4,
 "nbformat_minor": 2
}
