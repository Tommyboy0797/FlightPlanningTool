{
 "cells": [
  {
   "cell_type": "code",
   "execution_count": 1,
   "metadata": {},
   "outputs": [
    {
     "name": "stdout",
     "output_type": "stream",
     "text": [
      "c:\\Users\\mcdel\\digitized-charts\n"
     ]
    }
   ],
   "source": [
    "import os\n",
    "os.chdir(\"..\")\n",
    "print(os.getcwd())\n",
    "from py_utils import *"
   ]
  },
  {
   "cell_type": "code",
   "execution_count": 2,
   "metadata": {},
   "outputs": [],
   "source": [
    "TOP_FOLDER = \"limit-speeds\""
   ]
  },
  {
   "cell_type": "code",
   "execution_count": 3,
   "metadata": {},
   "outputs": [
    {
     "name": "stdout",
     "output_type": "stream",
     "text": [
      "auto ias = linear_interpolate( scale_vals_1, {\n",
      "\tlin(std::vector<double>{-0.231, 0.547, 2.457, 13.912, 20.426, 22.618, 26.662, 35.102, 45.027}, // 1_h\n",
      "\tstd::vector<double>{271.280, 271.280, 271.565, 274.693, 261.043, 262.465, 240.285, 199.337, 157.536}, alt_thou),\n",
      "\tlin(std::vector<double>{0.123, 2.635, 14.640, 26.307, 35.031, 44.956}, // 2_h\n",
      "\tstd::vector<double>{270.996, 269.859, 238.436, 242.986, 199.621, 157.820}, alt_thou),\n",
      "\tlin(std::vector<double>{0.044, 13.420, 30.145, 35.098, 45.002}, // 3_h\n",
      "\tstd::vector<double>{245.463, 217.702, 222.216, 199.646, 157.441}, alt_thou),\n",
      "\tlin(std::vector<double>{0.169, 10.158, 19.257, 22.074, 33.676, 44.933}, // 4_d\n",
      "\tstd::vector<double>{320.395, 324.683, 314.978, 296.696, 230.567, 177.754}, alt_thou),\n",
      "}, gwt);\n"
     ]
    }
   ],
   "source": [
    "DIG_FILE_NAME = \"limit-speed-no-pods.dig\"\n",
    "INPUT = \"alt_thou\"\n",
    "OUTPUT = \"ias\"\n",
    "INTERP_VAL = \"gwt\"\n",
    "uncorr = {}\n",
    "chart = ParseDig(f'./{TOP_FOLDER}/dig/{DIG_FILE_NAME}')\n",
    "\n",
    "print(f\"auto {OUTPUT} = linear_interpolate( scale_vals_1, {{\")\n",
    "for c in chart.curveNames():\n",
    "    xVector = [row [0] for row in chart.curve(c)]\n",
    "    yVector = [row [1] for row in chart.curve(c)]\n",
    "    c_clean = c.replace(\"-\", \"_\")\n",
    "\n",
    "    print(f\"\\tlin(std::vector<double>{{\" + \", \".join(['{0:.3f}'.format(s) for s in xVector]) + f\"}}, // {c_clean.lower()}\")\n",
    "    print(f\"\\tstd::vector<double>{{\" + \", \".join(['{0:.3f}'.format(s) for s in yVector]) + f\"}}, {INPUT}),\")\n",
    "print(f\"}}, {INTERP_VAL});\")"
   ]
  },
  {
   "cell_type": "code",
   "execution_count": null,
   "metadata": {},
   "outputs": [],
   "source": []
  }
 ],
 "metadata": {
  "kernelspec": {
   "display_name": "ds-infra",
   "language": "python",
   "name": "python3"
  },
  "language_info": {
   "codemirror_mode": {
    "name": "ipython",
    "version": 3
   },
   "file_extension": ".py",
   "mimetype": "text/x-python",
   "name": "python",
   "nbconvert_exporter": "python",
   "pygments_lexer": "ipython3",
   "version": "3.10.11"
  },
  "orig_nbformat": 4,
  "vscode": {
   "interpreter": {
    "hash": "0989b4bfb6de13ee5a479302171e01fc7a2733b588409e2c447a1a059d02f27e"
   }
  }
 },
 "nbformat": 4,
 "nbformat_minor": 2
}
