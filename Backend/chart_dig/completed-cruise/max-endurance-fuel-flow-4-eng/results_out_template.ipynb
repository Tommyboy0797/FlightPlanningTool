{
 "cells": [
  {
   "cell_type": "code",
   "execution_count": 1,
   "metadata": {},
   "outputs": [
    {
     "name": "stdout",
     "output_type": "stream",
     "text": [
      "c:\\Users\\mcdel\\digitized-charts\n"
     ]
    }
   ],
   "source": [
    "import os\n",
    "os.chdir(\"../..\")\n",
    "print(os.getcwd())\n",
    "from py_utils import *"
   ]
  },
  {
   "cell_type": "code",
   "execution_count": 2,
   "metadata": {},
   "outputs": [],
   "source": [
    "TOP_FOLDER = \"completed-cruise/max-endurance-fuel-flow-4-eng\""
   ]
  },
  {
   "cell_type": "code",
   "execution_count": 3,
   "metadata": {},
   "outputs": [
    {
     "name": "stdout",
     "output_type": "stream",
     "text": [
      "auto uncor_1 = linear_interpolate( scale_vals_1, {\n",
      "\tlin(std::vector<double>{-0.024, 5.036, 11.027, 15.804, 21.757, 26.049, 30.099, 34.878, 38.767, 41.562}, // 80\n",
      "\tstd::vector<double>{8.144, 7.234, 6.408, 5.934, 5.468, 5.216, 5.063, 4.994, 5.063, 5.200}, press_alt_thou),\n",
      "\tlin(std::vector<double>{0.058, 2.001, 5.806, 9.571, 13.620, 18.964, 25.727, 29.898, 32.814, 36.096, 38.405, 39.580}, // 90\n",
      "\tstd::vector<double>{8.411, 8.083, 7.456, 6.951, 6.523, 6.080, 5.667, 5.514, 5.468, 5.583, 5.766, 5.950}, press_alt_thou),\n",
      "\tlin(std::vector<double>{0.060, 4.836, 9.329, 14.471, 18.804, 23.825, 27.673, 30.103, 33.424, 35.612, 37.638}, // 100\n",
      "\tstd::vector<double>{8.740, 7.922, 7.333, 6.829, 6.508, 6.225, 6.102, 6.080, 6.141, 6.301, 6.508}, press_alt_thou),\n",
      "\tlin(std::vector<double>{0.021, 3.178, 6.942, 11.153, 15.526, 20.426, 25.083, 28.850, 32.779, 35.980}, // 110\n",
      "\tstd::vector<double>{9.061, 8.534, 7.983, 7.524, 7.158, 6.859, 6.714, 6.706, 6.852, 7.127}, press_alt_thou),\n",
      "\tlin(std::vector<double>{0.022, 2.531, 7.470, 11.559, 15.811, 20.468, 23.425, 26.665, 29.865, 32.701, 34.241}, // 120\n",
      "\tstd::vector<double>{9.390, 8.977, 8.312, 7.884, 7.578, 7.333, 7.272, 7.280, 7.387, 7.601, 7.777}, press_alt_thou),\n",
      "\tlin(std::vector<double>{0.064, 4.274, 7.553, 11.156, 15.125, 19.296, 23.062, 26.182, 29.301, 31.367, 32.502}, // 130\n",
      "\tstd::vector<double>{9.726, 9.122, 8.725, 8.404, 8.106, 7.922, 7.853, 7.922, 8.090, 8.258, 8.396}, press_alt_thou),\n",
      "\tlin(std::vector<double>{0.106, 3.142, 6.219, 10.713, 14.236, 18.124, 21.364, 25.252, 27.359, 28.777, 30.844}, // 140\n",
      "\tstd::vector<double>{10.154, 9.696, 9.313, 8.908, 8.679, 8.511, 8.457, 8.549, 8.656, 8.771, 9.008}, press_alt_thou),\n",
      "\tlin(std::vector<double>{0.027, 2.860, 5.127, 8.488, 11.930, 15.088, 18.004, 20.435, 23.108, 25.174, 27.686, 29.024}, // 150\n",
      "\tstd::vector<double>{10.583, 10.162, 9.887, 9.596, 9.352, 9.168, 9.099, 9.061, 9.130, 9.252, 9.413, 9.619}, press_alt_thou),\n",
      "\tlin(std::vector<double>{0.069, 2.579, 6.708, 9.462, 13.309, 15.860, 18.128, 20.721, 22.584, 24.691, 25.785, 27.203}, // 160\n",
      "\tstd::vector<double>{11.026, 10.682, 10.239, 10.017, 9.787, 9.703, 9.680, 9.711, 9.803, 9.940, 10.047, 10.193}, press_alt_thou),\n",
      "\tlin(std::vector<double>{0.072, 2.218, 4.566, 6.995, 9.627, 11.652, 13.798, 15.540, 16.917, 19.064, 20.603, 22.467, 23.845, 24.858}, // 175\n",
      "\tstd::vector<double>{11.737, 11.477, 11.202, 10.980, 10.804, 10.682, 10.613, 10.598, 10.606, 10.651, 10.720, 10.858, 10.988, 11.110}, press_alt_thou),\n",
      "}, gwt_);\n"
     ]
    }
   ],
   "source": [
    "DIG_FILE_NAME = \"uncorrected.dig\"\n",
    "INPUT = \"press_alt_thou\"\n",
    "OUTPUT = \"uncor_1\"\n",
    "INTERP_VAL = \"gwt_\"\n",
    "uncorr = {}\n",
    "# chart = ParseDig(\"C:\\\\Users\\\\mcdel\\\\digitized-charts\\\\completed-cruise\\\\4-eng-max-rec-cruise-const-tas\\\\dig\\\\4-eng-max-rec-const-tas.dig\")\n",
    "chart = ParseDig(f'./{TOP_FOLDER}/dig/{DIG_FILE_NAME}')\n",
    "\n",
    "\n",
    "print(f\"auto {OUTPUT} = linear_interpolate( scale_vals_1, {{\")\n",
    "for c in chart.curveNames():\n",
    "    xVector = [row [0] for row in chart.curve(c)]\n",
    "    yVector = [row [1] for row in chart.curve(c)]\n",
    "    c_clean = c.replace(\"-\", \"_\")\n",
    "\n",
    "    print(f\"\\tlin(std::vector<double>{{\" + \", \".join(['{0:.3f}'.format(s) for s in xVector]) + f\"}}, // {c_clean.lower()}\")\n",
    "    print(f\"\\tstd::vector<double>{{\" + \", \".join(['{0:.3f}'.format(s) for s in yVector]) + f\"}}, {INPUT}),\")\n",
    "print(f\"}}, {INTERP_VAL});\")"
   ]
  },
  {
   "cell_type": "code",
   "execution_count": 4,
   "metadata": {},
   "outputs": [
    {
     "name": "stdout",
     "output_type": "stream",
     "text": [
      "auto uncor_2 = linear_interpolate( scale_vals_1, {\n",
      "\tlin(std::vector<double>{0.218, 29.855}, // 4\n",
      "\tstd::vector<double>{4.004, 4.420}, temp_dev_),\n",
      "\tlin(std::vector<double>{-30.000, 0.218, 29.709}, // 5\n",
      "\tstd::vector<double>{4.635, 4.991, 5.467}, temp_dev_),\n",
      "\tlin(std::vector<double>{-29.709, 0.218, 29.855}, // 6\n",
      "\tstd::vector<double>{5.570, 6.004, 6.505}, temp_dev_),\n",
      "\tlin(std::vector<double>{-29.564, 0.218, 29.564}, // 7\n",
      "\tstd::vector<double>{6.523, 6.999, 7.595}, temp_dev_),\n",
      "\tlin(std::vector<double>{-29.709, 0.073, 29.709}, // 8\n",
      "\tstd::vector<double>{7.484, 8.011, 8.650}, temp_dev_),\n",
      "\tlin(std::vector<double>{-29.709, 0.073, 29.564}, // 9\n",
      "\tstd::vector<double>{8.436, 8.998, 9.697}, temp_dev_),\n",
      "\tlin(std::vector<double>{-29.419, 0.363, 29.855}, // 10\n",
      "\tstd::vector<double>{9.363, 10.019, 10.736}, temp_dev_),\n",
      "\tlin(std::vector<double>{-29.419, 0.073, 29.709}, // 11\n",
      "\tstd::vector<double>{10.307, 11.014, 11.782}, temp_dev_),\n",
      "\tlin(std::vector<double>{-30.000, 0.363, 29.709}, // 12\n",
      "\tstd::vector<double>{11.250, 11.993, 12.846}, temp_dev_),\n",
      "\tlin(std::vector<double>{-29.709, 0.073, 29.709}, // 13\n",
      "\tstd::vector<double>{12.194, 13.005, 13.893}, temp_dev_),\n",
      "\tlin(std::vector<double>{-29.419, -0.073, 30.000}, // 14\n",
      "\tstd::vector<double>{13.164, 14.026, 14.966}, temp_dev_),\n",
      "\tlin(std::vector<double>{-29.419, -0.218}, // 15\n",
      "\tstd::vector<double>{14.082, 14.970}, temp_dev_),\n",
      "}, uncor_1);\n"
     ]
    }
   ],
   "source": [
    "DIG_FILE_NAME = \"corrected-temp.dig\"\n",
    "INPUT = \"temp_dev_\"\n",
    "OUTPUT = \"uncor_2\"\n",
    "INTERP_VAL = \"uncor_1\"\n",
    "uncorr = {}\n",
    "# chart = ParseDig(\"C:\\\\Users\\\\mcdel\\\\digitized-charts\\\\completed-cruise\\\\4-eng-max-rec-cruise-const-tas\\\\dig\\\\4-eng-max-rec-const-tas.dig\")\n",
    "chart = ParseDig(f'./{TOP_FOLDER}/dig/{DIG_FILE_NAME}')\n",
    "\n",
    "\n",
    "print(f\"auto {OUTPUT} = linear_interpolate( scale_vals_1, {{\")\n",
    "for c in chart.curveNames():\n",
    "    xVector = [row [0] for row in chart.curve(c)]\n",
    "    yVector = [row [1] for row in chart.curve(c)]\n",
    "    c_clean = c.replace(\"-\", \"_\")\n",
    "\n",
    "    print(f\"\\tlin(std::vector<double>{{\" + \", \".join(['{0:.3f}'.format(s) for s in xVector]) + f\"}}, // {c_clean.lower()}\")\n",
    "    print(f\"\\tstd::vector<double>{{\" + \", \".join(['{0:.3f}'.format(s) for s in yVector]) + f\"}}, {INPUT}),\")\n",
    "print(f\"}}, {INTERP_VAL});\")"
   ]
  },
  {
   "cell_type": "code",
   "execution_count": 5,
   "metadata": {},
   "outputs": [
    {
     "name": "stdout",
     "output_type": "stream",
     "text": [
      "auto cor = linear_interpolate( scale_vals_1, {\n",
      "\tlin(std::vector<double>{-0.000, 97.810, 201.461, 302.190}, // 4\n",
      "\tstd::vector<double>{4.009, 5.070, 6.003, 6.628}, drag_),\n",
      "\tlin(std::vector<double>{0.730, 89.782, 198.541, 297.810}, // 5\n",
      "\tstd::vector<double>{5.002, 6.208, 7.501, 8.263}, drag_),\n",
      "\tlin(std::vector<double>{-0.000, 96.351, 197.811, 300.000}, // 6\n",
      "\tstd::vector<double>{5.994, 7.552, 8.982, 9.949}, drag_),\n",
      "\tlin(std::vector<double>{1.460, 94.161, 200.001, 298.540}, // 7\n",
      "\tstd::vector<double>{7.005, 8.785, 10.549, 11.610}, drag_),\n",
      "\tlin(std::vector<double>{0.730, 102.190, 198.541, 245.256, 300.000}, // 8\n",
      "\tstd::vector<double>{8.023, 10.215, 12.047, 12.616, 13.296}, drag_),\n",
      "\tlin(std::vector<double>{-0.730, 97.080, 172.993, 199.271, 261.314, 299.270}, // 9\n",
      "\tstd::vector<double>{8.991, 11.379, 12.969, 13.528, 14.415, 14.966}, drag_),\n",
      "\tlin(std::vector<double>{0.730, 62.774, 105.110, 151.825, 195.621}, // 10\n",
      "\tstd::vector<double>{10.009, 11.710, 12.843, 13.934, 14.957}, drag_),\n",
      "\tlin(std::vector<double>{1.460, 45.256, 97.810, 135.767}, // 11\n",
      "\tstd::vector<double>{11.037, 12.367, 14.007, 14.952}, drag_),\n",
      "\tlin(std::vector<double>{2.190, 54.744, 87.592}, // 12\n",
      "\tstd::vector<double>{12.047, 13.823, 14.948}, drag_),\n",
      "\tlin(std::vector<double>{1.460, 32.118, 56.204}, // 13\n",
      "\tstd::vector<double>{13.040, 14.172, 14.953}, drag_),\n",
      "\tlin(std::vector<double>{1.460, 27.008}, // 14\n",
      "\tstd::vector<double>{14.024, 14.942}, drag_),\n",
      "}, uncor_2);\n"
     ]
    }
   ],
   "source": [
    "DIG_FILE_NAME = \"corrected-drag.dig\"\n",
    "INPUT = \"drag_\"\n",
    "OUTPUT = \"cor\"\n",
    "INTERP_VAL = \"uncor_2\"\n",
    "uncorr = {}\n",
    "# chart = ParseDig(\"C:\\\\Users\\\\mcdel\\\\digitized-charts\\\\completed-cruise\\\\4-eng-max-rec-cruise-const-tas\\\\dig\\\\4-eng-max-rec-const-tas.dig\")\n",
    "chart = ParseDig(f'./{TOP_FOLDER}/dig/{DIG_FILE_NAME}')\n",
    "\n",
    "\n",
    "print(f\"auto {OUTPUT} = linear_interpolate( scale_vals_1, {{\")\n",
    "for c in chart.curveNames():\n",
    "    xVector = [row [0] for row in chart.curve(c)]\n",
    "    yVector = [row [1] for row in chart.curve(c)]\n",
    "    c_clean = c.replace(\"-\", \"_\")\n",
    "\n",
    "    print(f\"\\tlin(std::vector<double>{{\" + \", \".join(['{0:.3f}'.format(s) for s in xVector]) + f\"}}, // {c_clean.lower()}\")\n",
    "    print(f\"\\tstd::vector<double>{{\" + \", \".join(['{0:.3f}'.format(s) for s in yVector]) + f\"}}, {INPUT}),\")\n",
    "print(f\"}}, {INTERP_VAL});\")"
   ]
  },
  {
   "cell_type": "code",
   "execution_count": null,
   "metadata": {},
   "outputs": [],
   "source": []
  }
 ],
 "metadata": {
  "kernelspec": {
   "display_name": "ds-infra",
   "language": "python",
   "name": "python3"
  },
  "language_info": {
   "codemirror_mode": {
    "name": "ipython",
    "version": 3
   },
   "file_extension": ".py",
   "mimetype": "text/x-python",
   "name": "python",
   "nbconvert_exporter": "python",
   "pygments_lexer": "ipython3",
   "version": "3.10.11"
  },
  "orig_nbformat": 4,
  "vscode": {
   "interpreter": {
    "hash": "0989b4bfb6de13ee5a479302171e01fc7a2733b588409e2c447a1a059d02f27e"
   }
  }
 },
 "nbformat": 4,
 "nbformat_minor": 2
}
