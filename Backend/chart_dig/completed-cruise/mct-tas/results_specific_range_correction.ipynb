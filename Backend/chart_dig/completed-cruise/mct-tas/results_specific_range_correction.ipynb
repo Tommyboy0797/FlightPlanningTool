{
 "cells": [
  {
   "cell_type": "code",
   "execution_count": 1,
   "metadata": {},
   "outputs": [
    {
     "name": "stdout",
     "output_type": "stream",
     "text": [
      "c:\\Users\\mcdel\\digitized-charts\n"
     ]
    }
   ],
   "source": [
    "import os\n",
    "os.chdir(\"../..\")\n",
    "print(os.getcwd())\n",
    "from py_utils import *"
   ]
  },
  {
   "cell_type": "code",
   "execution_count": 2,
   "metadata": {},
   "outputs": [],
   "source": [
    "TOP_FOLDER = \"completed-cruise/mct-tas\""
   ]
  },
  {
   "cell_type": "code",
   "execution_count": 6,
   "metadata": {},
   "outputs": [
    {
     "name": "stdout",
     "output_type": "stream",
     "text": [
      "auto uncor_2 = linear_interpolate( scale_vals_1, {\n",
      "\tlin(std::vector<double>{-29.843, -0.000}, // 30\n",
      "\tstd::vector<double>{32.076, 29.926}, temp_dev_),\n",
      "\tlin(std::vector<double>{-29.830, -0.142, 29.701}, // 40\n",
      "\tstd::vector<double>{42.014, 39.864, 37.862}, temp_dev_),\n",
      "\tlin(std::vector<double>{-30.126, -0.129, 29.868}, // 50\n",
      "\tstd::vector<double>{51.953, 49.803, 47.503}, temp_dev_),\n",
      "\tlin(std::vector<double>{-30.113, 0.039, 30.036}, // 60\n",
      "\tstd::vector<double>{62.188, 60.185, 57.590}, temp_dev_),\n",
      "\tlin(std::vector<double>{-30.255, -0.103, 29.739}, // 70\n",
      "\tstd::vector<double>{72.423, 70.124, 67.528}, temp_dev_),\n",
      "\tlin(std::vector<double>{-29.623, -0.245, 30.216}, // 80\n",
      "\tstd::vector<double>{82.212, 79.766, 77.317}, temp_dev_),\n",
      "\tlin(std::vector<double>{-29.610, -0.387, 29.765}, // 90\n",
      "\tstd::vector<double>{92.298, 90.001, 87.701}, temp_dev_),\n",
      "\tlin(std::vector<double>{-29.752, -0.219, 29.623}, // 100\n",
      "\tstd::vector<double>{102.682, 99.939, 97.492}, temp_dev_),\n",
      "\tlin(std::vector<double>{-30.048, 0.412, 29.636}, // 110\n",
      "\tstd::vector<double>{112.769, 109.727, 107.430}, temp_dev_),\n",
      "\tlin(std::vector<double>{-30.344, -0.193, 29.804}, // 120\n",
      "\tstd::vector<double>{122.856, 120.112, 117.664}, temp_dev_),\n",
      "\tlin(std::vector<double>{-29.403, 0.129, 29.661}, // 130\n",
      "\tstd::vector<double>{133.089, 129.901, 127.306}, temp_dev_),\n",
      "\tlin(std::vector<double>{-30.163, 0.141, 29.983}, // 140\n",
      "\tstd::vector<double>{143.177, 139.691, 137.095}, temp_dev_),\n",
      "\tlin(std::vector<double>{0.463, 30.151}, // 150\n",
      "\tstd::vector<double>{149.628, 147.330}, temp_dev_),\n",
      "}, uncor_1);\n"
     ]
    }
   ],
   "source": [
    "DIG_FILE_NAME = \"temp-specific-range-correction-lrc.dig\"\n",
    "INPUT = \"temp_dev_\"\n",
    "OUTPUT = \"uncor_2\"\n",
    "INTERP_VAL = \"uncor_1\"\n",
    "uncorr = {}\n",
    "chart = ParseDig(f'./{TOP_FOLDER}/dig/{DIG_FILE_NAME}')\n",
    "\n",
    "\n",
    "print(f\"auto {OUTPUT} = linear_interpolate( scale_vals_1, {{\")\n",
    "for c in chart.curveNames():\n",
    "    xVector = [row [0] for row in chart.curve(c)]\n",
    "    yVector = [row [1] for row in chart.curve(c)]\n",
    "    c_clean = c.replace(\"-\", \"_\")\n",
    "\n",
    "    print(f\"\\tlin(std::vector<double>{{\" + \", \".join(['{0:.3f}'.format(s) for s in xVector]) + f\"}}, // {c_clean.lower()}\")\n",
    "    print(f\"\\tstd::vector<double>{{\" + \", \".join(['{0:.3f}'.format(s) for s in yVector]) + f\"}}, {INPUT}),\")\n",
    "print(f\"}}, {INTERP_VAL});\")"
   ]
  },
  {
   "cell_type": "code",
   "execution_count": 7,
   "metadata": {},
   "outputs": [
    {
     "name": "stdout",
     "output_type": "stream",
     "text": [
      "auto cor = linear_interpolate( scale_vals_2, {\n",
      "\tlin(std::vector<double>{-2.839, 169.899}, // 40\n",
      "\tstd::vector<double>{39.963, 30.064}, drag_),\n",
      "\tlin(std::vector<double>{0.444, 275.514}, // 50\n",
      "\tstd::vector<double>{49.923, 30.161}, drag_),\n",
      "\tlin(std::vector<double>{3.734, 294.043}, // 60\n",
      "\tstd::vector<double>{60.181, 37.437}, drag_),\n",
      "\tlin(std::vector<double>{0.891, 69.626, 214.774, 298.821}, // 70\n",
      "\tstd::vector<double>{69.995, 63.568, 51.899, 45.761}, drag_),\n",
      "\tlin(std::vector<double>{-0.414, 51.487, 295.912}, // 80\n",
      "\tstd::vector<double>{80.107, 73.836, 52.602}, drag_),\n",
      "\tlin(std::vector<double>{1.342, 56.258, 167.773, 297.585}, // 90\n",
      "\tstd::vector<double>{90.216, 81.863, 71.994, 58.995}, drag_),\n",
      "\tlin(std::vector<double>{3.084, 80.876, 102.252, 296.174}, // 100\n",
      "\tstd::vector<double>{99.731, 87.649, 85.260, 64.348}, drag_),\n",
      "\tlin(std::vector<double>{6.371, 103.925, 296.266}, // 110\n",
      "\tstd::vector<double>{109.840, 91.652, 68.511}, drag_),\n",
      "\tlin(std::vector<double>{2.004, 104.059, 297.116}, // 120\n",
      "\tstd::vector<double>{119.953, 97.674, 72.302}, drag_),\n",
      "\tlin(std::vector<double>{1.463, 104.173, 297.933}, // 130\n",
      "\tstd::vector<double>{129.989, 102.803, 74.606}, drag_),\n",
      "\tlin(std::vector<double>{1.676, 102.757, 195.734, 298.741}, // 140\n",
      "\tstd::vector<double>{139.579, 107.934, 90.417, 76.539}, drag_),\n",
      "\tlin(std::vector<double>{2.665, 54.967, 103.594, 172.916, 265.981, 298.781}, // 150\n",
      "\tstd::vector<double>{149.615, 126.989, 111.130, 96.748, 83.171, 78.323}, drag_),\n",
      "}, uncor_2);\n"
     ]
    }
   ],
   "source": [
    "DIG_FILE_NAME = \"drag-specific-range-correction-lrc.dig\"\n",
    "INPUT = \"drag_\"\n",
    "OUTPUT = \"cor\"\n",
    "INTERP_VAL = \"uncor_2\"\n",
    "uncorr = {}\n",
    "chart = ParseDig(f'./{TOP_FOLDER}/dig/{DIG_FILE_NAME}')\n",
    "\n",
    "\n",
    "print(f\"auto {OUTPUT} = linear_interpolate( scale_vals_2, {{\")\n",
    "for c in chart.curveNames():\n",
    "    xVector = [row [0] for row in chart.curve(c)]\n",
    "    yVector = [row [1] for row in chart.curve(c)]\n",
    "    c_clean = c.replace(\"-\", \"_\")\n",
    "\n",
    "    print(f\"\\tlin(std::vector<double>{{\" + \", \".join(['{0:.3f}'.format(s) for s in xVector]) + f\"}}, // {c_clean.lower()}\")\n",
    "    print(f\"\\tstd::vector<double>{{\" + \", \".join(['{0:.3f}'.format(s) for s in yVector]) + f\"}}, {INPUT}),\")\n",
    "print(f\"}}, {INTERP_VAL});\")"
   ]
  },
  {
   "cell_type": "code",
   "execution_count": null,
   "metadata": {},
   "outputs": [],
   "source": []
  }
 ],
 "metadata": {
  "kernelspec": {
   "display_name": "ds-infra",
   "language": "python",
   "name": "python3"
  },
  "language_info": {
   "codemirror_mode": {
    "name": "ipython",
    "version": 3
   },
   "file_extension": ".py",
   "mimetype": "text/x-python",
   "name": "python",
   "nbconvert_exporter": "python",
   "pygments_lexer": "ipython3",
   "version": "3.10.11"
  },
  "orig_nbformat": 4,
  "vscode": {
   "interpreter": {
    "hash": "0989b4bfb6de13ee5a479302171e01fc7a2733b588409e2c447a1a059d02f27e"
   }
  }
 },
 "nbformat": 4,
 "nbformat_minor": 2
}
