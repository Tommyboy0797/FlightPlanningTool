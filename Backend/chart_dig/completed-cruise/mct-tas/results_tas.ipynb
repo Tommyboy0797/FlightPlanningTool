{
 "cells": [
  {
   "cell_type": "code",
   "execution_count": 1,
   "metadata": {},
   "outputs": [
    {
     "name": "stdout",
     "output_type": "stream",
     "text": [
      "c:\\Users\\mcdel\\digitized-charts\n"
     ]
    }
   ],
   "source": [
    "import os\n",
    "os.chdir(\"../..\")\n",
    "print(os.getcwd())\n",
    "from py_utils import *"
   ]
  },
  {
   "cell_type": "code",
   "execution_count": 16,
   "metadata": {},
   "outputs": [],
   "source": [
    "TOP_FOLDER = \"completed-cruise/mct-tas\"\n",
    "press_alts = [0.0, 4.0, 8.0, 12.0, 16.0, 18.0, 20.0, 22.0, 24.0, 26.0, 28.0, 31.0, 33.0, 35.0, 37.0, 39.0]"
   ]
  },
  {
   "cell_type": "code",
   "execution_count": 67,
   "metadata": {},
   "outputs": [
    {
     "name": "stdout",
     "output_type": "stream",
     "text": [
      "auto uncor_1 = linear_interpolate( scale_vals_1, {\n",
      "\tlin(std::vector<double>{80.000, 90.000, 100.000, 110.000, 120.000, 130.000, 140.000, 150.000, 160.000, 175.000}, // 0k_ft\n",
      "\tstd::vector<double>{118.767, 126.997, 135.690, 142.829, 149.500, 156.480, 162.991, 168.416, 174.769, 182.824}, gwt_),\n",
      "\tlin(std::vector<double>{80.000, 90.000, 100.000, 110.000, 120.000, 130.000, 140.000, 150.000, 160.000, 175.000}, // 4k_ft\n",
      "\tstd::vector<double>{127.114, 137.008, 145.252, 152.397, 160.275, 167.054, 173.283, 179.329, 185.558, 193.253}, gwt_),\n",
      "\tlin(std::vector<double>{80.000, 87.000, 93.000, 100.000, 110.000, 120.000, 130.000, 140.000, 160.000, 175.000}, // 8k_ft\n",
      "\tstd::vector<double>{137.662, 146.964, 155.424, 163.379, 170.999, 177.776, 184.388, 191.341, 196.602, 205.593}, gwt_),\n",
      "\tlin(std::vector<double>{80.000, 90.000, 100.000, 110.000, 120.000, 130.000, 140.000, 150.000, 160.000, 175.000}, // 12k_ft\n",
      "\tstd::vector<double>{147.875, 157.670, 166.135, 174.928, 182.225, 189.516, 196.473, 202.602, 209.063, 217.508}, gwt_),\n",
      "\tlin(std::vector<double>{80.000, 90.000, 100.000, 110.000, 120.000, 130.000, 140.000, 150.000, 160.000, 175.000}, // 16k_ft\n",
      "\tstd::vector<double>{158.190, 168.146, 177.139, 185.810, 193.839, 201.387, 208.131, 215.197, 221.139, 231.255}, gwt_),\n",
      "\tlin(std::vector<double>{80.000, 90.000, 100.000, 110.000, 120.000, 130.000, 140.000, 150.000, 160.000, 175.000}, // 18k_ft\n",
      "\tstd::vector<double>{163.809, 174.079, 183.204, 192.161, 200.137, 207.294, 214.609, 221.598, 228.096, 238.173}, gwt_),\n",
      "\tlin(std::vector<double>{80.000, 90.000, 100.000, 110.000, 120.000, 130.000, 140.000, 150.000, 160.000, 175.000}, // 20k_ft\n",
      "\tstd::vector<double>{169.592, 179.450, 189.145, 198.028, 205.779, 213.848, 221.109, 228.208, 234.983, 245.309}, gwt_),\n",
      "\tlin(std::vector<double>{80.000, 90.000, 100.000, 110.000, 120.000, 130.000, 140.000, 150.000, 160.000, 175.000}, // 22k_ft\n",
      "\tstd::vector<double>{175.621, 185.385, 194.660, 204.098, 212.396, 220.370, 227.855, 235.178, 243.151, 254.216}, gwt_),\n",
      "\tlin(std::vector<double>{80.000, 90.000, 100.000, 110.000, 120.000, 130.000, 140.000, 150.000, 160.000, 175.000}, // 24k_ft\n",
      "\tstd::vector<double>{181.647, 191.910, 201.691, 210.350, 219.169, 227.187, 235.525, 243.542, 251.239, 263.265}, gwt_),\n",
      "\tlin(std::vector<double>{80.000, 90.000, 100.000, 110.000, 120.000, 130.000, 140.000, 150.000, 160.000, 175.000}, // 26k_ft\n",
      "\tstd::vector<double>{187.521, 198.405, 208.181, 217.532, 226.364, 235.196, 243.911, 252.278, 261.110, 273.777}, gwt_),\n",
      "\tlin(std::vector<double>{80.000, 90.000, 100.000, 110.000, 120.000, 130.000, 140.000, 150.000, 160.000, 175.000}, // 28k_ft\n",
      "\tstd::vector<double>{195.205, 205.107, 215.278, 225.040, 233.513, 243.828, 252.854, 261.880, 271.090, 284.168}, gwt_),\n",
      "\tlin(std::vector<double>{80.000, 90.000, 100.000, 110.000, 120.000, 130.000, 140.000, 150.000}, // 31k_ft\n",
      "\tstd::vector<double>{204.275, 215.734, 226.734, 237.498, 247.560, 257.855, 267.682, 278.210}, gwt_),\n",
      "\tlin(std::vector<double>{80.000, 90.000, 100.000, 110.000, 120.000, 130.000, 140.000}, // 33k_ft\n",
      "\tstd::vector<double>{211.257, 223.038, 234.574, 246.112, 257.177, 268.009, 278.839}, gwt_),\n",
      "\tlin(std::vector<double>{80.000, 90.000, 100.000, 110.000, 120.000, 130.000}, // 35k_ft\n",
      "\tstd::vector<double>{218.227, 231.205, 243.249, 255.999, 268.512, 278.905}, gwt_),\n",
      "\tlin(std::vector<double>{80.000, 90.000, 100.000, 110.000}, // 37k_ft\n",
      "\tstd::vector<double>{227.640, 241.268, 254.897, 267.906}, gwt_),\n",
      "\tlin(std::vector<double>{80.000, 90.000, 100.000}, // 39k_ft\n",
      "\tstd::vector<double>{238.570, 253.632, 268.345}, gwt_),\n",
      "std::vector<double>scale_vals_1{0.0, 4.0, 8.0, 12.0, 16.0, 18.0, 20.0, 22.0, 24.0, 26.0, 28.0, 31.0, 33.0, 35.0, 37.0, 39.0};\n"
     ]
    }
   ],
   "source": [
    "OUTPUT = \"uncor_1\"\n",
    "INPUT = \"gwt_\"\n",
    "pos = 0\n",
    "\n",
    "interps = []\n",
    "# TAS Max Endurance\n",
    "print(f\"auto {OUTPUT} = linear_interpolate( scale_vals_1, {{\")\n",
    "for alt in press_alts:\n",
    "    tas_vals = []\n",
    "    range_vals = []\n",
    "    gwt_vals = []\n",
    "    interps.append(alt)\n",
    "    DIG_FILE_NAME = '{0:.0f}k_ft.dig'.format(alt)\n",
    "    chart = ParseDig(f'./{TOP_FOLDER}/dig/{DIG_FILE_NAME}')\n",
    "    for c in chart.curveNames():\n",
    "        xVector = [row [0] for row in chart.curve(c)]\n",
    "        yVector = [row [1] for row in chart.curve(c)]\n",
    "        c_clean = c.replace(\"-\", \"_\")\n",
    "        tas_vals.append(round(xVector[pos], 3))\n",
    "        range_vals.append(round(yVector[pos], 3))\n",
    "        gwt_vals.append(float(c_clean))\n",
    "    print(f\"\\tlin(std::vector<double>{{\" + \", \".join(['{0:.3f}'.format(s) for s in gwt_vals]) + f\"}}, // {DIG_FILE_NAME.replace('.dig', '').lower()}\")\n",
    "    print(f\"\\tstd::vector<double>{{\" + \", \".join(['{0:.3f}'.format(s) for s in tas_vals]) + f\"}}, {INPUT}),\")\n",
    "print(\"std::vector<double>scale_vals_1{\" + \", \".join(['{0:.1f}'.format(s) for s in interps]) + \"};\")\n"
   ]
  },
  {
   "cell_type": "code",
   "execution_count": 68,
   "metadata": {},
   "outputs": [
    {
     "name": "stdout",
     "output_type": "stream",
     "text": [
      "auto uncor_1 = linear_interpolate( scale_vals_1, {\n",
      "\tlin(std::vector<double>{80.000, 90.000, 100.000, 110.000, 120.000, 130.000, 140.000, 150.000, 160.000, 175.000}, // 0k_ft\n",
      "\tstd::vector<double>{216.885, 220.911, 225.246, 229.735, 234.843, 239.486, 243.974, 248.307, 253.415, 259.139}, gwt_),\n",
      "\tlin(std::vector<double>{80.000, 90.000, 100.000, 110.000, 120.000, 130.000, 140.000, 150.000, 160.000, 175.000}, // 4k_ft\n",
      "\tstd::vector<double>{219.819, 224.216, 229.346, 234.475, 239.972, 244.918, 250.048, 255.362, 259.392, 267.270}, gwt_),\n",
      "\tlin(std::vector<double>{80.000, 87.000, 93.000, 100.000, 110.000, 120.000, 130.000, 140.000, 160.000, 175.000}, // 8k_ft\n",
      "\tstd::vector<double>{223.700, 228.452, 233.884, 239.826, 245.936, 251.538, 257.309, 263.081, 268.345, 276.155}, gwt_),\n",
      "\tlin(std::vector<double>{80.000, 90.000, 100.000, 110.000, 120.000, 130.000, 140.000, 150.000, 160.000, 175.000}, // 12k_ft\n",
      "\tstd::vector<double>{228.632, 234.261, 240.553, 247.341, 254.463, 260.754, 267.045, 272.673, 278.468, 286.911}, gwt_),\n",
      "\tlin(std::vector<double>{80.000, 90.000, 100.000, 110.000, 120.000, 130.000, 140.000, 150.000, 160.000, 175.000}, // 16k_ft\n",
      "\tstd::vector<double>{233.985, 240.569, 248.117, 255.022, 262.569, 270.277, 276.540, 282.642, 289.387, 297.416}, gwt_),\n",
      "\tlin(std::vector<double>{80.000, 90.000, 100.000, 110.000, 120.000, 130.000, 140.000, 150.000, 160.000, 175.000}, // 18k_ft\n",
      "\tstd::vector<double>{237.387, 245.030, 252.994, 259.651, 268.265, 275.250, 281.907, 288.076, 294.573, 302.524}, gwt_),\n",
      "\tlin(std::vector<double>{80.000, 90.000, 100.000, 110.000, 120.000, 130.000, 140.000, 150.000, 160.000, 175.000}, // 20k_ft\n",
      "\tstd::vector<double>{240.681, 249.559, 257.464, 264.884, 273.434, 280.531, 287.465, 293.754, 300.203, 308.748}, gwt_),\n",
      "\tlin(std::vector<double>{80.000, 90.000, 100.000, 110.000, 120.000, 130.000, 140.000, 150.000, 160.000, 175.000}, // 22k_ft\n",
      "\tstd::vector<double>{244.127, 254.379, 262.189, 270.000, 278.624, 285.458, 292.130, 299.941, 306.124, 313.609}, gwt_),\n",
      "\tlin(std::vector<double>{80.000, 90.000, 100.000, 110.000, 120.000, 130.000, 140.000, 150.000, 160.000, 175.000}, // 24k_ft\n",
      "\tstd::vector<double>{248.994, 258.455, 266.953, 275.773, 283.951, 291.647, 298.542, 304.796, 310.569, 317.464}, gwt_),\n",
      "\tlin(std::vector<double>{80.000, 90.000, 100.000, 110.000, 120.000, 130.000, 140.000, 150.000, 160.000, 175.000}, // 26k_ft\n",
      "\tstd::vector<double>{254.114, 263.522, 273.483, 282.376, 290.394, 298.064, 304.572, 310.498, 315.263, 321.887}, gwt_),\n",
      "\tlin(std::vector<double>{80.000, 90.000, 100.000, 110.000, 120.000, 130.000, 140.000, 150.000, 160.000, 175.000}, // 28k_ft\n",
      "\tstd::vector<double>{259.825, 269.392, 279.010, 287.668, 296.509, 302.588, 309.403, 314.192, 318.613, 294.851}, gwt_),\n",
      "\tlin(std::vector<double>{80.000, 90.000, 100.000, 110.000, 120.000, 130.000, 140.000, 150.000}, // 31k_ft\n",
      "\tstd::vector<double>{267.778, 277.844, 287.678, 296.342, 304.071, 309.697, 314.622, 313.240}, gwt_),\n",
      "\tlin(std::vector<double>{80.000, 90.000, 100.000, 110.000, 120.000, 130.000, 140.000}, // 33k_ft\n",
      "\tstd::vector<double>{274.071, 284.421, 293.357, 301.351, 307.929, 312.856, 307.402}, gwt_),\n",
      "\tlin(std::vector<double>{80.000, 90.000, 100.000, 110.000, 120.000, 130.000}, // 35k_ft\n",
      "\tstd::vector<double>{279.461, 289.860, 297.902, 305.471, 310.921, 322.241}, gwt_),\n",
      "\tlin(std::vector<double>{80.000, 90.000, 100.000, 110.000}, // 37k_ft\n",
      "\tstd::vector<double>{286.696, 296.195, 304.248, 309.823}, gwt_),\n",
      "\tlin(std::vector<double>{80.000, 90.000, 100.000}, // 39k_ft\n",
      "\tstd::vector<double>{294.620, 303.750, 310.085}, gwt_),\n",
      "std::vector<double>scale_vals_1{0.0, 4.0, 8.0, 12.0, 16.0, 18.0, 20.0, 22.0, 24.0, 26.0, 28.0, 31.0, 33.0, 35.0, 37.0, 39.0};\n"
     ]
    }
   ],
   "source": [
    "OUTPUT = \"uncor_1\"\n",
    "INPUT = \"gwt_\"\n",
    "pos = 1\n",
    "\n",
    "# TAS LRC\n",
    "interps = []\n",
    "print(f\"auto {OUTPUT} = linear_interpolate( scale_vals_1, {{\")\n",
    "for alt in press_alts:\n",
    "    tas_vals = []\n",
    "    range_vals = []\n",
    "    gwt_vals = []\n",
    "    interps.append(alt)\n",
    "    DIG_FILE_NAME = '{0:.0f}k_ft.dig'.format(alt)\n",
    "    chart = ParseDig(f'./{TOP_FOLDER}/dig/{DIG_FILE_NAME}')\n",
    "    for c in chart.curveNames():\n",
    "        xVector = [row [0] for row in chart.curve(c)]\n",
    "        yVector = [row [1] for row in chart.curve(c)]\n",
    "        c_clean = c.replace(\"-\", \"_\")\n",
    "        tas_vals.append(round(xVector[pos], 3))\n",
    "        range_vals.append(round(yVector[pos], 3))\n",
    "        gwt_vals.append(float(c_clean))\n",
    "    print(f\"\\tlin(std::vector<double>{{\" + \", \".join(['{0:.3f}'.format(s) for s in gwt_vals]) + f\"}}, // {DIG_FILE_NAME.replace('.dig', '').lower()}\")\n",
    "    print(f\"\\tstd::vector<double>{{\" + \", \".join(['{0:.3f}'.format(s) for s in tas_vals]) + f\"}}, {INPUT}),\")\n",
    "print(\"std::vector<double>scale_vals_1{\" + \", \".join(['{0:.1f}'.format(s) for s in interps]) + \"};\")"
   ]
  },
  {
   "cell_type": "code",
   "execution_count": 69,
   "metadata": {},
   "outputs": [
    {
     "name": "stdout",
     "output_type": "stream",
     "text": [
      "auto uncor_1 = linear_interpolate( scale_vals_1, {\n",
      "\tlin(std::vector<double>{80.000, 90.000, 100.000, 110.000, 120.000, 130.000, 140.000, 150.000, 160.000, 175.000}, // 0k_ft\n",
      "\tstd::vector<double>{319.083, 319.239, 318.928, 318.928, 319.082, 318.306, 318.306, 318.306, 317.841, 317.375}, gwt_),\n",
      "\tlin(std::vector<double>{80.000, 90.000, 100.000, 110.000, 120.000, 130.000, 140.000, 150.000, 160.000, 175.000}, // 4k_ft\n",
      "\tstd::vector<double>{331.942, 331.578, 331.393, 331.211, 331.393, 331.211, 331.028, 331.578, 330.844, 329.378}, gwt_),\n",
      "\tlin(std::vector<double>{80.000, 87.000, 93.000, 100.000, 110.000, 120.000, 130.000, 140.000, 160.000, 175.000}, // 8k_ft\n",
      "\tstd::vector<double>{344.816, 344.309, 344.648, 344.987, 344.649, 344.480, 344.480, 343.973, 343.295, 341.943}, gwt_),\n",
      "\tlin(std::vector<double>{80.000, 90.000, 100.000, 110.000, 120.000, 130.000, 140.000, 150.000, 160.000, 175.000}, // 12k_ft\n",
      "\tstd::vector<double>{358.355, 358.354, 357.691, 357.690, 357.855, 357.025, 356.860, 356.694, 356.029, 354.366}, gwt_),\n",
      "\tlin(std::vector<double>{80.000, 90.000, 100.000, 110.000, 120.000, 130.000, 140.000, 150.000, 160.000, 175.000}, // 16k_ft\n",
      "\tstd::vector<double>{361.168, 361.007, 360.525, 359.883, 359.241, 359.401, 358.438, 358.277, 356.511, 354.584}, gwt_),\n",
      "\tlin(std::vector<double>{80.000, 90.000, 100.000, 110.000, 120.000, 130.000, 140.000, 150.000, 160.000, 175.000}, // 18k_ft\n",
      "\tstd::vector<double>{362.491, 361.674, 361.346, 360.528, 360.201, 358.895, 358.894, 357.748, 355.787, 352.517}, gwt_),\n",
      "\tlin(std::vector<double>{80.000, 90.000, 100.000, 110.000, 120.000, 130.000, 140.000, 150.000, 160.000, 175.000}, // 20k_ft\n",
      "\tstd::vector<double>{362.579, 361.931, 361.608, 361.283, 359.503, 359.178, 357.720, 355.455, 353.189, 348.654}, gwt_),\n",
      "\tlin(std::vector<double>{80.000, 90.000, 100.000, 110.000, 120.000, 130.000, 140.000, 150.000, 160.000, 175.000}, // 22k_ft\n",
      "\tstd::vector<double>{362.751, 362.426, 362.263, 359.985, 358.358, 356.405, 353.802, 352.500, 350.547, 345.177}, gwt_),\n",
      "\tlin(std::vector<double>{80.000, 90.000, 100.000, 110.000, 120.000, 130.000, 140.000, 150.000, 160.000, 175.000}, // 24k_ft\n",
      "\tstd::vector<double>{362.041, 361.400, 360.918, 360.117, 358.032, 356.268, 353.542, 350.335, 346.326, 337.507}, gwt_),\n",
      "\tlin(std::vector<double>{80.000, 90.000, 100.000, 110.000, 120.000, 130.000, 140.000, 150.000, 160.000, 175.000}, // 26k_ft\n",
      "\tstd::vector<double>{362.213, 361.475, 360.119, 359.073, 356.749, 353.728, 350.358, 346.058, 340.596, 325.954}, gwt_),\n",
      "\tlin(std::vector<double>{80.000, 90.000, 100.000, 110.000, 120.000, 130.000, 140.000, 150.000, 160.000, 175.000}, // 28k_ft\n",
      "\tstd::vector<double>{360.830, 359.321, 357.848, 355.637, 352.690, 349.190, 344.585, 338.507, 328.928, 295.773}, gwt_),\n",
      "\tlin(std::vector<double>{80.000, 90.000, 100.000, 110.000, 120.000, 130.000, 140.000, 150.000}, // 31k_ft\n",
      "\tstd::vector<double>{357.827, 355.492, 353.157, 349.656, 345.921, 339.618, 330.047, 313.473}, gwt_),\n",
      "\tlin(std::vector<double>{80.000, 90.000, 100.000, 110.000, 120.000, 130.000, 140.000}, // 33k_ft\n",
      "\tstd::vector<double>{354.165, 351.568, 348.025, 343.773, 337.397, 326.062, 307.874}, gwt_),\n",
      "\tlin(std::vector<double>{80.000, 90.000, 100.000, 110.000, 120.000, 130.000}, // 35k_ft\n",
      "\tstd::vector<double>{350.026, 345.787, 341.313, 334.248, 323.182, 322.947}, gwt_),\n",
      "\tlin(std::vector<double>{80.000, 90.000, 100.000, 110.000}, // 37k_ft\n",
      "\tstd::vector<double>{344.100, 338.732, 331.092, 317.670}, gwt_),\n",
      "\tlin(std::vector<double>{80.000, 90.000, 100.000}, // 39k_ft\n",
      "\tstd::vector<double>{335.737, 327.011, 310.085}, gwt_),\n",
      "std::vector<double>scale_vals_1{0.0, 4.0, 8.0, 12.0, 16.0, 18.0, 20.0, 22.0, 24.0, 26.0, 28.0, 31.0, 33.0, 35.0, 37.0, 39.0};\n"
     ]
    }
   ],
   "source": [
    "OUTPUT = \"uncor_1\"\n",
    "INPUT = \"gwt_\"\n",
    "pos = 2\n",
    "# TAS HSC\n",
    "interps = []\n",
    "print(f\"auto {OUTPUT} = linear_interpolate( scale_vals_1, {{\")\n",
    "for alt in press_alts:\n",
    "    tas_vals = []\n",
    "    range_vals = []\n",
    "    gwt_vals = []\n",
    "    DIG_FILE_NAME = '{0:.0f}k_ft.dig'.format(alt)\n",
    "    chart = ParseDig(f'./{TOP_FOLDER}/dig/{DIG_FILE_NAME}')\n",
    "    interps.append(alt)\n",
    "    for c in chart.curveNames():\n",
    "        xVector = [row [0] for row in chart.curve(c)]\n",
    "        yVector = [row [1] for row in chart.curve(c)]\n",
    "        c_clean = c.replace(\"-\", \"_\")\n",
    "        tas_vals.append(round(xVector[pos], 3))\n",
    "        range_vals.append(round(yVector[pos], 3))\n",
    "        gwt_vals.append(float(c_clean))\n",
    "    print(f\"\\tlin(std::vector<double>{{\" + \", \".join(['{0:.3f}'.format(s) for s in gwt_vals]) + f\"}}, // {DIG_FILE_NAME.replace('.dig', '').lower()}\")\n",
    "    print(f\"\\tstd::vector<double>{{\" + \", \".join(['{0:.3f}'.format(s) for s in tas_vals]) + f\"}}, {INPUT}),\")\n",
    "print(\"std::vector<double>scale_vals_1{\" + \", \".join(['{0:.1f}'.format(s) for s in interps]) + \"};\")\n"
   ]
  },
  {
   "cell_type": "code",
   "execution_count": null,
   "metadata": {},
   "outputs": [],
   "source": []
  }
 ],
 "metadata": {
  "kernelspec": {
   "display_name": "ds-infra",
   "language": "python",
   "name": "python3"
  },
  "language_info": {
   "codemirror_mode": {
    "name": "ipython",
    "version": 3
   },
   "file_extension": ".py",
   "mimetype": "text/x-python",
   "name": "python",
   "nbconvert_exporter": "python",
   "pygments_lexer": "ipython3",
   "version": "3.10.11"
  },
  "orig_nbformat": 4,
  "vscode": {
   "interpreter": {
    "hash": "0989b4bfb6de13ee5a479302171e01fc7a2733b588409e2c447a1a059d02f27e"
   }
  }
 },
 "nbformat": 4,
 "nbformat_minor": 2
}
