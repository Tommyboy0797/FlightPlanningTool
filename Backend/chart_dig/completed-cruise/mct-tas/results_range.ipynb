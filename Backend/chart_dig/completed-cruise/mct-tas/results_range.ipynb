{
 "cells": [
  {
   "cell_type": "code",
   "execution_count": 1,
   "metadata": {},
   "outputs": [
    {
     "name": "stdout",
     "output_type": "stream",
     "text": [
      "c:\\Users\\mcdel\\digitized-charts\n"
     ]
    }
   ],
   "source": [
    "import os\n",
    "os.chdir(\"../..\")\n",
    "print(os.getcwd())\n",
    "from py_utils import *"
   ]
  },
  {
   "cell_type": "code",
   "execution_count": 2,
   "metadata": {},
   "outputs": [],
   "source": [
    "TOP_FOLDER = \"completed-cruise/mct-tas\"\n",
    "press_alts = [0.0, 4.0, 8.0, 12.0, 16.0, 18.0, 20.0, 22.0, 24.0, 26.0, 28.0, 31.0, 33.0, 35.0, 37.0, 39.0]"
   ]
  },
  {
   "cell_type": "code",
   "execution_count": 6,
   "metadata": {},
   "outputs": [
    {
     "name": "stdout",
     "output_type": "stream",
     "text": [
      "auto uncor_1 = linear_interpolate( scale_vals_1, {\n",
      "\tlin(std::vector<double>{80.000, 90.000, 100.000, 110.000, 120.000, 130.000, 140.000, 150.000, 160.000, 175.000}, // 0k_ft\n",
      "\tstd::vector<double>{36.681, 37.805, 38.778, 39.405, 39.881, 40.108, 40.097, 39.935, 39.600, 38.962}, gwt_),\n",
      "\tlin(std::vector<double>{80.000, 90.000, 100.000, 110.000, 120.000, 130.000, 140.000, 150.000, 160.000, 175.000}, // 4k_ft\n",
      "\tstd::vector<double>{42.992, 44.176, 44.864, 45.263, 45.552, 45.580, 45.263, 44.768, 44.176, 43.171}, gwt_),\n",
      "\tlin(std::vector<double>{80.000, 87.000, 93.000, 100.000, 110.000, 120.000, 130.000, 140.000, 160.000, 175.000}, // 8k_ft\n",
      "\tstd::vector<double>{50.351, 51.234, 51.621, 51.807, 51.714, 51.342, 50.583, 49.685, 48.648, 47.192}, gwt_),\n",
      "\tlin(std::vector<double>{80.000, 90.000, 100.000, 110.000, 120.000, 130.000, 140.000, 150.000, 160.000, 175.000}, // 12k_ft\n",
      "\tstd::vector<double>{58.596, 58.991, 59.029, 58.728, 58.145, 56.998, 55.569, 54.346, 53.087, 51.056}, gwt_),\n",
      "\tlin(std::vector<double>{80.000, 90.000, 100.000, 110.000, 120.000, 130.000, 140.000, 150.000, 160.000, 175.000}, // 16k_ft\n",
      "\tstd::vector<double>{66.632, 66.480, 66.365, 65.359, 63.759, 62.085, 60.448, 58.737, 57.064, 54.423}, gwt_),\n",
      "\tlin(std::vector<double>{80.000, 90.000, 100.000, 110.000, 120.000, 130.000, 140.000, 150.000, 160.000, 175.000}, // 18k_ft\n",
      "\tstd::vector<double>{71.342, 70.477, 69.473, 68.192, 66.704, 65.077, 63.035, 61.027, 59.019, 56.077}, gwt_),\n",
      "\tlin(std::vector<double>{80.000, 90.000, 100.000, 110.000, 120.000, 130.000, 140.000, 150.000, 160.000, 175.000}, // 20k_ft\n",
      "\tstd::vector<double>{75.890, 74.787, 73.370, 71.669, 69.906, 67.606, 65.339, 62.976, 60.614, 57.307}, gwt_),\n",
      "\tlin(std::vector<double>{80.000, 90.000, 100.000, 110.000, 120.000, 130.000, 140.000, 150.000, 160.000, 175.000}, // 22k_ft\n",
      "\tstd::vector<double>{80.477, 78.846, 76.988, 75.167, 73.118, 70.272, 67.425, 64.768, 62.415, 58.961}, gwt_),\n",
      "\tlin(std::vector<double>{80.000, 90.000, 100.000, 110.000, 120.000, 130.000, 140.000, 150.000, 160.000, 175.000}, // 24k_ft\n",
      "\tstd::vector<double>{85.112, 83.355, 80.997, 78.413, 75.453, 72.343, 69.383, 66.498, 63.801, 59.793}, gwt_),\n",
      "\tlin(std::vector<double>{80.000, 90.000, 100.000, 110.000, 120.000, 130.000, 140.000, 150.000, 160.000, 175.000}, // 26k_ft\n",
      "\tstd::vector<double>{89.976, 88.091, 85.080, 81.388, 77.816, 74.471, 71.125, 67.972, 64.981, 60.768}, gwt_),\n",
      "\tlin(std::vector<double>{80.000, 90.000, 100.000, 110.000, 120.000, 130.000, 140.000, 150.000, 160.000, 175.000}, // 28k_ft\n",
      "\tstd::vector<double>{94.506, 92.217, 88.364, 84.071, 79.932, 76.099, 72.522, 69.098, 65.674, 60.564}, gwt_),\n",
      "\tlin(std::vector<double>{80.000, 90.000, 100.000, 110.000, 120.000, 130.000, 140.000, 150.000}, // 31k_ft\n",
      "\tstd::vector<double>{101.739, 98.261, 92.783, 87.652, 82.957, 78.435, 74.261, 69.652}, gwt_),\n",
      "\tlin(std::vector<double>{80.000, 90.000, 100.000, 110.000, 120.000, 130.000, 140.000}, // 33k_ft\n",
      "\tstd::vector<double>{105.040, 101.107, 95.437, 89.993, 84.399, 79.409, 74.117}, gwt_),\n",
      "\tlin(std::vector<double>{80.000, 90.000, 100.000, 110.000, 120.000, 130.000}, // 35k_ft\n",
      "\tstd::vector<double>{108.994, 104.507, 97.648, 91.228, 85.160, 78.742}, gwt_),\n",
      "\tlin(std::vector<double>{80.000, 90.000, 100.000, 110.000}, // 37k_ft\n",
      "\tstd::vector<double>{114.465, 106.730, 99.245, 91.698}, gwt_),\n",
      "\tlin(std::vector<double>{80.000, 90.000, 100.000}, // 39k_ft\n",
      "\tstd::vector<double>{117.525, 108.339, 99.091}, gwt_),\n",
      "std::array scale_vals_1{0.0, 4.0, 8.0, 12.0, 16.0, 18.0, 20.0, 22.0, 24.0, 26.0, 28.0, 31.0, 33.0, 35.0, 37.0, 39.0};\n"
     ]
    }
   ],
   "source": [
    "OUTPUT = \"uncor_1\"\n",
    "INPUT = \"gwt_\"\n",
    "pos = 0\n",
    "\n",
    "interps = []\n",
    "# TAS Max Endurance\n",
    "print(f\"auto {OUTPUT} = linear_interpolate( scale_vals_1, {{\")\n",
    "for alt in press_alts:\n",
    "    tas_vals = []\n",
    "    range_vals = []\n",
    "    gwt_vals = []\n",
    "    interps.append(alt)\n",
    "    DIG_FILE_NAME = '{0:.0f}k_ft.dig'.format(alt)\n",
    "    chart = ParseDig(f'./{TOP_FOLDER}/dig/{DIG_FILE_NAME}')\n",
    "    for c in chart.curveNames():\n",
    "        xVector = [row [0] for row in chart.curve(c)]\n",
    "        yVector = [row [1] for row in chart.curve(c)]\n",
    "        c_clean = c.replace(\"-\", \"_\")\n",
    "        tas_vals.append(round(xVector[pos], 3))\n",
    "        range_vals.append(round(yVector[pos], 3))\n",
    "        gwt_vals.append(float(c_clean))\n",
    "    print(f\"\\tlin(std::vector<double>{{\" + \", \".join(['{0:.3f}'.format(s) for s in gwt_vals]) + f\"}}, // {DIG_FILE_NAME.replace('.dig', '').lower()}\")\n",
    "    print(f\"\\tstd::vector<double>{{\" + \", \".join(['{0:.3f}'.format(s) for s in range_vals]) + f\"}}, {INPUT}),\")\n",
    "print(\"std::array scale_vals_1{\" + \", \".join(['{0:.1f}'.format(s) for s in interps]) + \"};\")\n"
   ]
  },
  {
   "cell_type": "code",
   "execution_count": 7,
   "metadata": {},
   "outputs": [
    {
     "name": "stdout",
     "output_type": "stream",
     "text": [
      "auto uncor_1 = linear_interpolate( scale_vals_1, {\n",
      "\tlin(std::vector<double>{80.000, 90.000, 100.000, 110.000, 120.000, 130.000, 140.000, 150.000, 160.000, 175.000}, // 0k_ft\n",
      "\tstd::vector<double>{48.670, 48.205, 47.643, 46.995, 46.259, 45.535, 44.800, 44.054, 43.287, 42.216}, gwt_),\n",
      "\tlin(std::vector<double>{80.000, 90.000, 100.000, 110.000, 120.000, 130.000, 140.000, 150.000, 160.000, 175.000}, // 4k_ft\n",
      "\tstd::vector<double>{54.868, 54.194, 53.382, 52.460, 51.552, 50.534, 49.598, 48.566, 47.657, 46.240}, gwt_),\n",
      "\tlin(std::vector<double>{80.000, 87.000, 93.000, 100.000, 110.000, 120.000, 130.000, 140.000, 160.000, 175.000}, // 8k_ft\n",
      "\tstd::vector<double>{61.779, 60.788, 59.673, 58.310, 57.056, 55.864, 54.640, 53.386, 52.147, 50.320}, gwt_),\n",
      "\tlin(std::vector<double>{80.000, 90.000, 100.000, 110.000, 120.000, 130.000, 140.000, 150.000, 160.000, 175.000}, // 12k_ft\n",
      "\tstd::vector<double>{69.221, 67.773, 66.231, 64.463, 62.921, 61.248, 59.668, 58.126, 56.622, 54.346}, gwt_),\n",
      "\tlin(std::vector<double>{80.000, 90.000, 100.000, 110.000, 120.000, 130.000, 140.000, 150.000, 160.000, 175.000}, // 16k_ft\n",
      "\tstd::vector<double>{76.859, 74.925, 72.693, 70.834, 68.640, 66.482, 64.586, 62.541, 60.570, 57.669}, gwt_),\n",
      "\tlin(std::vector<double>{80.000, 90.000, 100.000, 110.000, 120.000, 130.000, 140.000, 150.000, 160.000, 175.000}, // 18k_ft\n",
      "\tstd::vector<double>{80.688, 78.750, 76.465, 74.112, 71.654, 69.369, 67.050, 64.731, 62.585, 59.469}, gwt_),\n",
      "\tlin(std::vector<double>{80.000, 90.000, 100.000, 110.000, 120.000, 130.000, 140.000, 150.000, 160.000, 175.000}, // 20k_ft\n",
      "\tstd::vector<double>{85.150, 82.756, 80.142, 77.496, 74.567, 71.984, 69.307, 66.850, 64.205, 60.677}, gwt_),\n",
      "\tlin(std::vector<double>{80.000, 90.000, 100.000, 110.000, 120.000, 130.000, 140.000, 150.000, 160.000, 175.000}, // 22k_ft\n",
      "\tstd::vector<double>{89.809, 86.849, 84.002, 80.737, 77.473, 74.587, 71.512, 68.551, 65.818, 61.831}, gwt_),\n",
      "\tlin(std::vector<double>{80.000, 90.000, 100.000, 110.000, 120.000, 130.000, 140.000, 150.000, 160.000, 175.000}, // 24k_ft\n",
      "\tstd::vector<double>{94.280, 90.833, 87.273, 83.563, 80.077, 76.704, 73.405, 70.144, 66.995, 62.607}, gwt_),\n",
      "\tlin(std::vector<double>{80.000, 90.000, 100.000, 110.000, 120.000, 130.000, 140.000, 150.000, 160.000, 175.000}, // 26k_ft\n",
      "\tstd::vector<double>{98.935, 94.593, 90.455, 86.438, 82.543, 78.681, 74.978, 71.372, 67.894, 62.677}, gwt_),\n",
      "\tlin(std::vector<double>{80.000, 90.000, 100.000, 110.000, 120.000, 130.000, 140.000, 150.000, 160.000, 175.000}, // 28k_ft\n",
      "\tstd::vector<double>{103.267, 98.204, 93.526, 88.875, 84.378, 80.290, 76.099, 72.011, 67.821, 61.535}, gwt_),\n",
      "\tlin(std::vector<double>{80.000, 90.000, 100.000, 110.000, 120.000, 130.000, 140.000, 150.000}, // 31k_ft\n",
      "\tstd::vector<double>{109.565, 103.739, 97.652, 92.174, 86.783, 81.652, 76.435, 71.478}, gwt_),\n",
      "\tlin(std::vector<double>{80.000, 90.000, 100.000, 110.000, 120.000, 130.000, 140.000}, // 33k_ft\n",
      "\tstd::vector<double>{113.696, 106.667, 100.016, 93.819, 87.472, 81.276, 75.840}, gwt_),\n",
      "\tlin(std::vector<double>{80.000, 90.000, 100.000, 110.000, 120.000, 130.000}, // 35k_ft\n",
      "\tstd::vector<double>{117.306, 109.394, 101.835, 94.452, 86.630, 84.516}, gwt_),\n",
      "\tlin(std::vector<double>{80.000, 90.000, 100.000, 110.000}, // 37k_ft\n",
      "\tstd::vector<double>{120.314, 111.132, 102.138, 93.019}, gwt_),\n",
      "\tlin(std::vector<double>{80.000, 90.000, 100.000}, // 39k_ft\n",
      "\tstd::vector<double>{122.023, 111.166, 100.558}, gwt_),\n",
      "std::array scale_vals_1{0.0, 4.0, 8.0, 12.0, 16.0, 18.0, 20.0, 22.0, 24.0, 26.0, 28.0, 31.0, 33.0, 35.0, 37.0, 39.0};\n"
     ]
    }
   ],
   "source": [
    "OUTPUT = \"uncor_1\"\n",
    "INPUT = \"gwt_\"\n",
    "pos = 1\n",
    "\n",
    "# TAS LRC\n",
    "interps = []\n",
    "print(f\"auto {OUTPUT} = linear_interpolate( scale_vals_1, {{\")\n",
    "for alt in press_alts:\n",
    "    tas_vals = []\n",
    "    range_vals = []\n",
    "    gwt_vals = []\n",
    "    interps.append(alt)\n",
    "    DIG_FILE_NAME = '{0:.0f}k_ft.dig'.format(alt)\n",
    "    chart = ParseDig(f'./{TOP_FOLDER}/dig/{DIG_FILE_NAME}')\n",
    "    for c in chart.curveNames():\n",
    "        xVector = [row [0] for row in chart.curve(c)]\n",
    "        yVector = [row [1] for row in chart.curve(c)]\n",
    "        c_clean = c.replace(\"-\", \"_\")\n",
    "        tas_vals.append(round(xVector[pos], 3))\n",
    "        range_vals.append(round(yVector[pos], 3))\n",
    "        gwt_vals.append(float(c_clean))\n",
    "    print(f\"\\tlin(std::vector<double>{{\" + \", \".join(['{0:.3f}'.format(s) for s in gwt_vals]) + f\"}}, // {DIG_FILE_NAME.replace('.dig', '').lower()}\")\n",
    "    print(f\"\\tstd::vector<double>{{\" + \", \".join(['{0:.3f}'.format(s) for s in range_vals]) + f\"}}, {INPUT}),\")\n",
    "print(\"std::array scale_vals_1{\" + \", \".join(['{0:.1f}'.format(s) for s in interps]) + \"};\")"
   ]
  },
  {
   "cell_type": "code",
   "execution_count": 8,
   "metadata": {},
   "outputs": [
    {
     "name": "stdout",
     "output_type": "stream",
     "text": [
      "auto uncor_1 = linear_interpolate( scale_vals_1, {\n",
      "\tlin(std::vector<double>{80.000, 90.000, 100.000, 110.000, 120.000, 130.000, 140.000, 150.000, 160.000, 175.000}, // 0k_ft\n",
      "\tstd::vector<double>{37.168, 37.124, 37.114, 37.103, 37.081, 37.038, 37.038, 37.038, 37.005, 36.951}, gwt_),\n",
      "\tlin(std::vector<double>{80.000, 90.000, 100.000, 110.000, 120.000, 130.000, 140.000, 150.000, 160.000, 175.000}, // 4k_ft\n",
      "\tstd::vector<double>{40.006, 39.992, 39.924, 39.937, 39.924, 39.896, 39.910, 39.814, 39.814, 39.758}, gwt_),\n",
      "\tlin(std::vector<double>{80.000, 87.000, 93.000, 100.000, 110.000, 120.000, 130.000, 140.000, 160.000, 175.000}, // 8k_ft\n",
      "\tstd::vector<double>{42.717, 42.701, 42.671, 42.671, 42.640, 42.624, 42.640, 42.593, 42.531, 42.361}, gwt_),\n",
      "\tlin(std::vector<double>{80.000, 90.000, 100.000, 110.000, 120.000, 130.000, 140.000, 150.000, 160.000, 175.000}, // 12k_ft\n",
      "\tstd::vector<double>{45.377, 45.339, 45.301, 45.207, 45.170, 45.151, 45.132, 45.094, 45.038, 44.812}, gwt_),\n",
      "\tlin(std::vector<double>{80.000, 90.000, 100.000, 110.000, 120.000, 130.000, 140.000, 150.000, 160.000, 175.000}, // 16k_ft\n",
      "\tstd::vector<double>{50.181, 49.996, 49.847, 49.885, 49.736, 49.662, 49.588, 49.514, 49.477, 49.218}, gwt_),\n",
      "\tlin(std::vector<double>{80.000, 90.000, 100.000, 110.000, 120.000, 130.000, 140.000, 150.000, 160.000, 175.000}, // 18k_ft\n",
      "\tstd::vector<double>{53.065, 52.962, 52.892, 52.754, 52.685, 52.685, 52.615, 52.373, 52.235, 51.819}, gwt_),\n",
      "\tlin(std::vector<double>{80.000, 90.000, 100.000, 110.000, 120.000, 130.000, 140.000, 150.000, 160.000, 175.000}, // 20k_ft\n",
      "\tstd::vector<double>{56.142, 56.079, 56.079, 55.921, 55.764, 55.669, 55.386, 55.323, 55.134, 54.472}, gwt_),\n",
      "\tlin(std::vector<double>{80.000, 90.000, 100.000, 110.000, 120.000, 130.000, 140.000, 150.000, 160.000, 175.000}, // 22k_ft\n",
      "\tstd::vector<double>{59.720, 59.834, 59.606, 59.454, 59.225, 58.996, 58.692, 58.577, 58.272, 57.549}, gwt_),\n",
      "\tlin(std::vector<double>{80.000, 90.000, 100.000, 110.000, 120.000, 130.000, 140.000, 150.000, 160.000, 175.000}, // 24k_ft\n",
      "\tstd::vector<double>{63.389, 63.313, 63.238, 63.050, 62.860, 62.634, 62.182, 61.804, 61.351, 60.219}, gwt_),\n",
      "\tlin(std::vector<double>{80.000, 90.000, 100.000, 110.000, 120.000, 130.000, 140.000, 150.000, 160.000, 175.000}, // 26k_ft\n",
      "\tstd::vector<double>{67.292, 67.087, 66.996, 66.769, 66.574, 66.152, 65.698, 65.114, 64.304, 62.325}, gwt_),\n",
      "\tlin(std::vector<double>{80.000, 90.000, 100.000, 110.000, 120.000, 130.000, 140.000, 150.000, 160.000, 175.000}, // 28k_ft\n",
      "\tstd::vector<double>{71.291, 71.194, 70.938, 70.682, 70.325, 69.763, 69.098, 68.178, 66.696, 61.484}, gwt_),\n",
      "\tlin(std::vector<double>{80.000, 90.000, 100.000, 110.000, 120.000, 130.000, 140.000, 150.000}, // 31k_ft\n",
      "\tstd::vector<double>{78.261, 78.000, 77.739, 77.217, 76.435, 75.652, 74.174, 71.478}, gwt_),\n",
      "\tlin(std::vector<double>{80.000, 90.000, 100.000, 110.000, 120.000, 130.000, 140.000}, // 33k_ft\n",
      "\tstd::vector<double>{83.673, 83.373, 82.770, 81.941, 80.962, 79.306, 75.765}, gwt_),\n",
      "\tlin(std::vector<double>{80.000, 90.000, 100.000, 110.000, 120.000, 130.000}, // 35k_ft\n",
      "\tstd::vector<double>{89.508, 88.895, 88.283, 87.144, 84.866, 84.603}, gwt_),\n",
      "\tlin(std::vector<double>{80.000, 90.000, 100.000, 110.000}, // 37k_ft\n",
      "\tstd::vector<double>{97.044, 96.226, 94.780, 91.824}, gwt_),\n",
      "\tlin(std::vector<double>{80.000, 90.000, 100.000}, // 39k_ft\n",
      "\tstd::vector<double>{106.188, 104.456, 100.558}, gwt_),\n",
      "std::array scale_vals_1{0.0, 4.0, 8.0, 12.0, 16.0, 18.0, 20.0, 22.0, 24.0, 26.0, 28.0, 31.0, 33.0, 35.0, 37.0, 39.0};\n"
     ]
    }
   ],
   "source": [
    "OUTPUT = \"uncor_1\"\n",
    "INPUT = \"gwt_\"\n",
    "pos = 2\n",
    "# TAS HSC\n",
    "interps = []\n",
    "print(f\"auto {OUTPUT} = linear_interpolate( scale_vals_1, {{\")\n",
    "for alt in press_alts:\n",
    "    tas_vals = []\n",
    "    range_vals = []\n",
    "    gwt_vals = []\n",
    "    DIG_FILE_NAME = '{0:.0f}k_ft.dig'.format(alt)\n",
    "    chart = ParseDig(f'./{TOP_FOLDER}/dig/{DIG_FILE_NAME}')\n",
    "    interps.append(alt)\n",
    "    for c in chart.curveNames():\n",
    "        xVector = [row [0] for row in chart.curve(c)]\n",
    "        yVector = [row [1] for row in chart.curve(c)]\n",
    "        c_clean = c.replace(\"-\", \"_\")\n",
    "        tas_vals.append(round(xVector[pos], 3))\n",
    "        range_vals.append(round(yVector[pos], 3))\n",
    "        gwt_vals.append(float(c_clean))\n",
    "    print(f\"\\tlin(std::vector<double>{{\" + \", \".join(['{0:.3f}'.format(s) for s in gwt_vals]) + f\"}}, // {DIG_FILE_NAME.replace('.dig', '').lower()}\")\n",
    "    print(f\"\\tstd::vector<double>{{\" + \", \".join(['{0:.3f}'.format(s) for s in range_vals]) + f\"}}, {INPUT}),\")\n",
    "print(\"std::array scale_vals_1{\" + \", \".join(['{0:.1f}'.format(s) for s in interps]) + \"};\")\n"
   ]
  }
 ],
 "metadata": {
  "kernelspec": {
   "display_name": "ds-infra",
   "language": "python",
   "name": "python3"
  },
  "language_info": {
   "codemirror_mode": {
    "name": "ipython",
    "version": 3
   },
   "file_extension": ".py",
   "mimetype": "text/x-python",
   "name": "python",
   "nbconvert_exporter": "python",
   "pygments_lexer": "ipython3",
   "version": "3.10.11"
  },
  "orig_nbformat": 4,
  "vscode": {
   "interpreter": {
    "hash": "0989b4bfb6de13ee5a479302171e01fc7a2733b588409e2c447a1a059d02f27e"
   }
  }
 },
 "nbformat": 4,
 "nbformat_minor": 2
}
