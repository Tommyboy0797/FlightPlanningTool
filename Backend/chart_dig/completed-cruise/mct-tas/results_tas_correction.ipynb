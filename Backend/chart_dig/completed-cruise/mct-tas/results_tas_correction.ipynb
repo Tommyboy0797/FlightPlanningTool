{
 "cells": [
  {
   "cell_type": "code",
   "execution_count": 1,
   "metadata": {},
   "outputs": [
    {
     "name": "stdout",
     "output_type": "stream",
     "text": [
      "c:\\Users\\mcdel\\digitized-charts\n"
     ]
    }
   ],
   "source": [
    "import os\n",
    "os.chdir(\"../..\")\n",
    "print(os.getcwd())\n",
    "from py_utils import *"
   ]
  },
  {
   "cell_type": "code",
   "execution_count": 2,
   "metadata": {},
   "outputs": [],
   "source": [
    "TOP_FOLDER = \"completed-cruise/mct-tas\""
   ]
  },
  {
   "cell_type": "code",
   "execution_count": 5,
   "metadata": {},
   "outputs": [
    {
     "name": "stdout",
     "output_type": "stream",
     "text": [
      "auto uncor_2 = linear_interpolate( scale_vals_1, {\n",
      "\tlin(std::vector<double>{-27.880, 0.329, 29.964}, // 200\n",
      "\tstd::vector<double>{199.801, 200.018, 201.880}, temp_dev_),\n",
      "\tlin(std::vector<double>{-29.940, -9.814, 1.597, 29.488}, // 210\n",
      "\tstd::vector<double>{206.765, 207.917, 210.136, 212.676}, temp_dev_),\n",
      "\tlin(std::vector<double>{-29.782, -10.289, 0.170, 29.805}, // 220\n",
      "\tstd::vector<double>{215.103, 217.893, 219.836, 223.611}, temp_dev_),\n",
      "\tlin(std::vector<double>{-29.940, -9.655, 0.487, 29.013}, // 230\n",
      "\tstd::vector<double>{223.030, 227.052, 229.678, 234.817}, temp_dev_),\n",
      "\tlin(std::vector<double>{-29.782, -1.890, 7.143, 29.805}, // 240\n",
      "\tstd::vector<double>{230.548, 239.512, 241.314, 245.753}, temp_dev_),\n",
      "\tlin(std::vector<double>{-29.940, 0.012, 29.330}, // 250\n",
      "\tstd::vector<double>{237.928, 250.178, 257.369}, temp_dev_),\n",
      "\tlin(std::vector<double>{-29.782, 0.170, 29.805}, // 260\n",
      "\tstd::vector<double>{246.265, 260.019, 268.715}, temp_dev_),\n",
      "\tlin(std::vector<double>{-29.465, -14.409, -0.147, 11.264, 29.964}, // 270\n",
      "\tstd::vector<double>{254.604, 262.574, 269.996, 274.129, 280.333}, temp_dev_),\n",
      "\tlin(std::vector<double>{-29.782, -7.912, 1.597, 15.701, 29.647}, // 280\n",
      "\tstd::vector<double>{262.667, 275.850, 280.388, 286.306, 291.539}, temp_dev_),\n",
      "\tlin(std::vector<double>{-30.257, -13.300, 0.329, 18.871, 29.964}, // 290\n",
      "\tstd::vector<double>{270.456, 281.712, 290.088, 298.616, 303.431}, temp_dev_),\n",
      "\tlin(std::vector<double>{-29.782, -15.677, 0.487, 17.920, 30.281}, // 300\n",
      "\tstd::vector<double>{278.384, 289.496, 300.613, 309.000, 313.819}, temp_dev_),\n",
      "\tlin(std::vector<double>{-30.416, -19.322, -4.425, 3.498, 19.029, 30.598}, // 310\n",
      "\tstd::vector<double>{287.130, 296.182, 307.433, 311.692, 319.801, 325.164}, temp_dev_),\n",
      "\tlin(std::vector<double>{-30.099, -14.409, 0.329, 17.127, 29.964}, // 320\n",
      "\tstd::vector<double>{297.108, 309.044, 320.567, 330.046, 336.234}, temp_dev_),\n",
      "\tlin(std::vector<double>{-30.257, -14.093, -0.147, 16.176}, // 330\n",
      "\tstd::vector<double>{306.402, 319.022, 329.860, 340.021}, temp_dev_),\n",
      "\tlin(std::vector<double>{-29.782, -18.213, -9.814, -0.305}, // 340\n",
      "\tstd::vector<double>{316.381, 324.614, 332.429, 339.563}, temp_dev_),\n",
      "}, uncor_1);\n"
     ]
    }
   ],
   "source": [
    "DIG_FILE_NAME = \"temp-tas-correction-lrc.dig\"\n",
    "INPUT = \"temp_dev_\"\n",
    "OUTPUT = \"uncor_2\"\n",
    "INTERP_VAL = \"uncor_1\"\n",
    "uncorr = {}\n",
    "chart = ParseDig(f'./{TOP_FOLDER}/dig/{DIG_FILE_NAME}')\n",
    "\n",
    "print(f\"auto {OUTPUT} = linear_interpolate( scale_vals_1, {{\")\n",
    "for c in chart.curveNames():\n",
    "    xVector = [row [0] for row in chart.curve(c)]\n",
    "    yVector = [row [1] for row in chart.curve(c)]\n",
    "    c_clean = c.replace(\"-\", \"_\")\n",
    "\n",
    "    print(f\"\\tlin(std::vector<double>{{\" + \", \".join(['{0:.3f}'.format(s) for s in xVector]) + f\"}}, // {c_clean.lower()}\")\n",
    "    print(f\"\\tstd::vector<double>{{\" + \", \".join(['{0:.3f}'.format(s) for s in yVector]) + f\"}}, {INPUT}),\")\n",
    "print(f\"}}, {INTERP_VAL});\")"
   ]
  },
  {
   "cell_type": "code",
   "execution_count": 7,
   "metadata": {},
   "outputs": [
    {
     "name": "stdout",
     "output_type": "stream",
     "text": [
      "auto cor = linear_interpolate( scale_vals_1, {\n",
      "\tlin(std::vector<double>{-3.166, 50.659}, // 210\n",
      "\tstd::vector<double>{209.583, 199.954}, drag_),\n",
      "\tlin(std::vector<double>{0.000, 46.702, 104.485}, // 220\n",
      "\tstd::vector<double>{219.844, 210.085, 199.358}, drag_),\n",
      "\tlin(std::vector<double>{0.791, 45.910, 96.570, 163.061}, // 230\n",
      "\tstd::vector<double>{229.697, 219.802, 210.450, 200.125}, drag_),\n",
      "\tlin(std::vector<double>{1.583, 51.451, 138.522, 230.343}, // 240\n",
      "\tstd::vector<double>{239.412, 227.871, 213.148, 200.338}, drag_),\n",
      "\tlin(std::vector<double>{0.791, 53.825, 145.646, 297.625}, // 250\n",
      "\tstd::vector<double>{249.540, 237.038, 219.985, 200.549}, drag_),\n",
      "\tlin(std::vector<double>{1.583, 63.325, 152.771, 299.208}, // 260\n",
      "\tstd::vector<double>{259.803, 244.693, 228.189, 208.759}, drag_),\n",
      "\tlin(std::vector<double>{1.583, 50.659, 153.562, 248.549, 299.208}, // 270\n",
      "\tstd::vector<double>{269.794, 256.885, 237.084, 223.859, 217.791}, drag_),\n",
      "\tlin(std::vector<double>{1.583, 45.910, 114.775, 199.472, 302.375}, // 280\n",
      "\tstd::vector<double>{279.921, 267.290, 253.815, 238.684, 226.547}, drag_),\n",
      "\tlin(std::vector<double>{1.583, 65.699, 144.063, 228.760, 300.000}, // 290\n",
      "\tstd::vector<double>{289.364, 273.841, 257.621, 243.721, 235.034}, drag_),\n",
      "\tlin(std::vector<double>{1.583, 39.578, 128.232, 149.604, 234.301, 300.792}, // 300\n",
      "\tstd::vector<double>{299.901, 290.287, 270.910, 265.279, 251.927, 243.245}, drag_),\n",
      "\tlin(std::vector<double>{0.791, 48.284, 142.480, 210.554, 300.000}, // 310\n",
      "\tstd::vector<double>{309.892, 298.900, 277.602, 265.634, 251.593}, drag_),\n",
      "\tlin(std::vector<double>{1.583, 75.989, 146.438, 213.721, 299.208}, // 320\n",
      "\tstd::vector<double>{319.471, 302.433, 286.768, 275.895, 262.132}, drag_),\n",
      "\tlin(std::vector<double>{1.583, 91.029, 148.812, 215.303, 298.417}, // 330\n",
      "\tstd::vector<double>{329.735, 308.852, 297.166, 286.021, 271.986}, drag_),\n",
      "\tlin(std::vector<double>{0.791, 94.987, 159.894, 302.375}, // 340\n",
      "\tstd::vector<double>{339.452, 317.744, 305.094, 281.699}, drag_),\n",
      "\tlin(std::vector<double>{45.910, 97.361, 176.517, 300.792}, // 350\n",
      "\tstd::vector<double>{339.685, 326.363, 313.153, 291.964}, drag_),\n",
      "\tlin(std::vector<double>{86.279, 98.152, 139.314, 205.013, 300.000}, // 360\n",
      "\tstd::vector<double>{339.785, 336.353, 329.609, 318.464, 301.818}, drag_),\n",
      "}, uncor_2);\n"
     ]
    }
   ],
   "source": [
    "DIG_FILE_NAME = \"drag-tas-correction-lrc.dig\"\n",
    "INPUT = \"drag_\"\n",
    "OUTPUT = \"cor\"\n",
    "INTERP_VAL = \"uncor_2\"\n",
    "uncorr = {}\n",
    "chart = ParseDig(f'./{TOP_FOLDER}/dig/{DIG_FILE_NAME}')\n",
    "\n",
    "print(f\"auto {OUTPUT} = linear_interpolate( scale_vals_1, {{\")\n",
    "for c in chart.curveNames():\n",
    "    xVector = [row [0] for row in chart.curve(c)]\n",
    "    yVector = [row [1] for row in chart.curve(c)]\n",
    "    c_clean = c.replace(\"-\", \"_\")\n",
    "\n",
    "    print(f\"\\tlin(std::vector<double>{{\" + \", \".join(['{0:.3f}'.format(s) for s in xVector]) + f\"}}, // {c_clean.lower()}\")\n",
    "    print(f\"\\tstd::vector<double>{{\" + \", \".join(['{0:.3f}'.format(s) for s in yVector]) + f\"}}, {INPUT}),\")\n",
    "print(f\"}}, {INTERP_VAL});\")"
   ]
  },
  {
   "cell_type": "code",
   "execution_count": null,
   "metadata": {},
   "outputs": [],
   "source": []
  }
 ],
 "metadata": {
  "kernelspec": {
   "display_name": "ds-infra",
   "language": "python",
   "name": "python3"
  },
  "language_info": {
   "codemirror_mode": {
    "name": "ipython",
    "version": 3
   },
   "file_extension": ".py",
   "mimetype": "text/x-python",
   "name": "python",
   "nbconvert_exporter": "python",
   "pygments_lexer": "ipython3",
   "version": "3.10.11"
  },
  "orig_nbformat": 4,
  "vscode": {
   "interpreter": {
    "hash": "0989b4bfb6de13ee5a479302171e01fc7a2733b588409e2c447a1a059d02f27e"
   }
  }
 },
 "nbformat": 4,
 "nbformat_minor": 2
}
