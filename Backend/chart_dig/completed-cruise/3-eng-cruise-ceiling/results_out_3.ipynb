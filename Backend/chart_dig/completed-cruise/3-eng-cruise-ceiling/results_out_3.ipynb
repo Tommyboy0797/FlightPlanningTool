{
 "cells": [
  {
   "cell_type": "code",
   "execution_count": 2,
   "metadata": {},
   "outputs": [
    {
     "name": "stdout",
     "output_type": "stream",
     "text": [
      "c:\\Users\\mcdel\\digitized-charts\n"
     ]
    }
   ],
   "source": [
    "import os\n",
    "os.chdir(\"../..\")\n",
    "print(os.getcwd())\n",
    "from py_utils import *"
   ]
  },
  {
   "cell_type": "code",
   "execution_count": 3,
   "metadata": {},
   "outputs": [],
   "source": [
    "TOP_FOLDER = \"completed-cruise/3-eng-cruise-ceiling\""
   ]
  },
  {
   "cell_type": "code",
   "execution_count": 3,
   "metadata": {},
   "outputs": [
    {
     "name": "stdout",
     "output_type": "stream",
     "text": [
      "auto uncor_1 = linear_interpolate( scale_vals_1, {\n",
      "\tlin(std::vector<double>{80.029, 89.839, 99.913, 109.961, 119.932, 130.134, 140.047, 150.179, 160.163, 170.276, 175.182}, // dev__30\n",
      "\tstd::vector<double>{36.462, 34.362, 32.357, 30.456, 28.641, 26.925, 25.357, 23.808, 22.362, 20.954, 20.284}, gwt),\n",
      "\tlin(std::vector<double>{79.965, 89.807, 99.835, 109.928, 119.880, 130.115, 140.041, 150.108, 160.189, 170.237, 175.142}, // dev__20\n",
      "\tstd::vector<double>{36.405, 34.323, 32.309, 30.421, 28.606, 26.881, 25.308, 23.767, 22.300, 20.798, 20.063}, gwt),\n",
      "\tlin(std::vector<double>{80.022, 89.775, 99.810, 109.941, 119.912, 130.044, 140.040, 150.140, 160.181, 165.010, 170.243, 175.180}, // dev__10\n",
      "\tstd::vector<double>{36.308, 34.270, 32.254, 30.339, 28.526, 26.808, 24.810, 22.887, 21.049, 20.202, 19.307, 18.449}, gwt),\n",
      "\tlin(std::vector<double>{80.048, 89.820, 99.899, 109.934, 119.918, 130.087, 140.013, 150.132, 160.180, 170.196, 175.210}, // dev_0\n",
      "\tstd::vector<double>{36.239, 34.131, 31.914, 29.627, 27.375, 25.147, 23.070, 21.102, 19.133, 17.196, 16.237}, gwt),\n",
      "\tlin(std::vector<double>{80.002, 89.812, 99.853, 109.932, 119.922, 130.092, 140.075, 150.123, 159.015, 170.276, 175.143}, // dev_10\n",
      "\tstd::vector<double>{35.339, 32.803, 30.286, 27.783, 25.368, 22.915, 20.643, 18.429, 16.532, 14.190, 13.171}, gwt),\n",
      "\tlin(std::vector<double>{80.039, 89.798, 99.902, 109.924, 119.907, 130.102, 140.105, 150.101, 155.853, 160.630, 170.305, 175.127}, // dev_20\n",
      "\tstd::vector<double>{33.851, 31.103, 28.220, 25.383, 22.750, 20.273, 17.794, 15.312, 13.980, 12.884, 10.855, 9.831}, gwt),\n",
      "\tlin(std::vector<double>{80.024, 89.846, 99.868, 109.915, 119.930, 130.073, 140.043, 151.741, 160.183, 170.199, 175.143}, // dev_30\n",
      "\tstd::vector<double>{31.559, 28.476, 25.520, 22.591, 19.677, 16.653, 13.707, 11.093, 9.282, 7.134, 6.080}, gwt),\n",
      "}, t_dev);\n"
     ]
    }
   ],
   "source": [
    "DIG_FILE_NAME = \"3-eng-normal-bleed.dig\"\n",
    "INPUT = \"gwt\"\n",
    "OUTPUT = \"uncor_1\"\n",
    "INTERP_VAL = \"t_dev\"\n",
    "uncorr = {}\n",
    "chart = ParseDig(f'./{TOP_FOLDER}/dig/{DIG_FILE_NAME}')\n",
    "\n",
    "print(f\"auto {OUTPUT} = linear_interpolate( scale_vals_1, {{\")\n",
    "for c in chart.curveNames():\n",
    "    xVector = [row [0] for row in chart.curve(c)]\n",
    "    yVector = [row [1] for row in chart.curve(c)]\n",
    "    c_clean = c.replace(\"-\", \"_\")\n",
    "\n",
    "    print(f\"\\tlin(std::vector<double>{{\" + \", \".join(['{0:.3f}'.format(s) for s in xVector]) + f\"}}, // {c_clean.lower()}\")\n",
    "    print(f\"\\tstd::vector<double>{{\" + \", \".join(['{0:.3f}'.format(s) for s in yVector]) + f\"}}, {INPUT}),\")\n",
    "print(f\"}}, {INTERP_VAL});\")"
   ]
  },
  {
   "cell_type": "code",
   "execution_count": 4,
   "metadata": {},
   "outputs": [
    {
     "name": "stdout",
     "output_type": "stream",
     "text": [
      "auto uncor_1 = linear_interpolate( scale_vals_3, {\n",
      "\tlin(std::vector<double>{79.974, 89.766, 99.860, 109.890, 119.881, 129.968, 139.997, 149.975, 160.145, 170.200, 175.099}, // dev__30\n",
      "\tstd::vector<double>{29.023, 26.929, 24.945, 23.061, 21.482, 20.103, 18.820, 17.600, 16.367, 15.150, 14.561}, gwt),\n",
      "\tlin(std::vector<double>{79.961, 89.753, 99.854, 109.864, 119.836, 129.968, 139.991, 149.969, 155.915, 160.968, 164.249, 170.227, 175.113}, // dev__20\n",
      "\tstd::vector<double>{28.646, 26.623, 24.722, 22.921, 21.442, 20.035, 18.612, 17.148, 16.239, 15.477, 15.004, 14.122, 13.402}, gwt),\n",
      "\tlin(std::vector<double>{79.987, 89.780, 95.071, 99.810, 109.929, 119.882, 129.969, 139.986, 149.932, 160.174, 170.229, 175.115}, // dev__10\n",
      "\tstd::vector<double>{28.219, 26.211, 25.034, 23.966, 22.054, 20.356, 18.649, 16.986, 15.369, 13.639, 11.994, 11.195}, gwt),\n",
      "\tlin(std::vector<double>{79.995, 89.768, 99.843, 109.912, 111.729, 119.865, 129.946, 135.802, 140.034, 149.967, 160.170, 170.181, 175.138}, // dev_0\n",
      "\tstd::vector<double>{27.003, 24.610, 22.254, 20.367, 20.007, 18.294, 16.221, 14.992, 14.117, 12.383, 10.492, 8.674, 7.767}, gwt),\n",
      "\tlin(std::vector<double>{79.958, 89.835, 99.846, 103.783, 109.954, 115.637, 119.920, 129.969, 140.005, 149.952, 157.188, 160.187, 170.255, 175.129}, // dev_10\n",
      "\tstd::vector<double>{25.058, 21.956, 19.403, 18.279, 16.487, 14.984, 13.861, 12.094, 10.247, 8.354, 6.947, 6.350, 4.229, 3.205}, gwt),\n",
      "\tlin(std::vector<double>{79.969, 89.751, 99.878, 109.978, 119.944, 129.916, 140.016, 149.944, 160.154, 163.705}, // dev_20\n",
      "\tstd::vector<double>{20.337, 16.043, 13.210, 11.414, 9.435, 7.423, 5.324, 3.155, 0.864, 0.012}, gwt),\n",
      "\tlin(std::vector<double>{79.984, 84.678, 89.789, 99.883, 109.945, 111.884, 119.911, 129.973, 133.524}, // dev_30\n",
      "\tstd::vector<double>{10.808, 9.962, 9.028, 7.134, 5.344, 4.936, 3.265, 0.886, 0.005}, gwt),\n",
      "}, t_dev);\n"
     ]
    }
   ],
   "source": [
    "DIG_FILE_NAME = \"3-eng-all-bleed.dig\"\n",
    "INPUT = \"gwt\"\n",
    "OUTPUT = \"uncor_1\"\n",
    "INTERP_VAL = \"t_dev\"\n",
    "uncorr = {}\n",
    "chart = ParseDig(f'./{TOP_FOLDER}/dig/{DIG_FILE_NAME}')\n",
    "\n",
    "print(f\"auto {OUTPUT} = linear_interpolate( scale_vals_3, {{\")\n",
    "for c in chart.curveNames():\n",
    "    xVector = [row [0] for row in chart.curve(c)]\n",
    "    yVector = [row [1] for row in chart.curve(c)]\n",
    "    c_clean = c.replace(\"-\", \"_\")\n",
    "\n",
    "    print(f\"\\tlin(std::vector<double>{{\" + \", \".join(['{0:.3f}'.format(s) for s in xVector]) + f\"}}, // {c_clean.lower()}\")\n",
    "    print(f\"\\tstd::vector<double>{{\" + \", \".join(['{0:.3f}'.format(s) for s in yVector]) + f\"}}, {INPUT}),\")\n",
    "print(f\"}}, {INTERP_VAL});\")"
   ]
  },
  {
   "cell_type": "code",
   "execution_count": 4,
   "metadata": {},
   "outputs": [
    {
     "name": "stdout",
     "output_type": "stream",
     "text": [
      "auto uncor_2 = linear_interpolate( scale_vals_2, {\n",
      "\tlin(std::vector<double>{-0.003, 4.894, 9.917, 14.960, 19.980, 25.005, 30.027, 35.071, 39.984}, // drag_0\n",
      "\tstd::vector<double>{0.068, 4.937, 9.946, 14.987, 19.996, 25.011, 30.008, 35.045, 39.945}, uncor_1),\n",
      "\tlin(std::vector<double>{6.160, 9.192, 9.911, 10.170, 11.329, 12.093, 14.947, 15.922, 16.919, 19.956, 21.776, 23.721, 24.994, 26.838, 29.985, 31.453, 35.081, 36.288, 39.997}, // drag_50\n",
      "\tstd::vector<double>{0.001, 5.022, 6.299, 6.928, 9.235, 9.992, 12.997, 14.031, 15.003, 18.136, 20.038, 22.053, 23.386, 25.292, 28.569, 30.059, 33.861, 35.120, 39.057}, uncor_1),\n",
      "\tlin(std::vector<double>{9.524, 11.155, 11.355, 13.231, 14.960, 16.703, 18.610, 19.950, 21.973, 23.121, 24.978, 27.437, 30.011, 32.673, 35.039, 37.351, 39.979}, // drag_100\n",
      "\tstd::vector<double>{0.007, 4.976, 5.576, 9.211, 11.047, 12.842, 14.986, 16.493, 18.763, 20.051, 21.982, 24.588, 27.274, 30.072, 32.565, 35.076, 37.948}, uncor_1),\n",
      "\tlin(std::vector<double>{11.861, 13.228, 15.149, 16.042, 16.990, 18.975, 20.121, 21.418, 22.932, 24.736, 28.183, 30.022, 32.047, 35.060, 38.444, 39.984}, // drag_150\n",
      "\tstd::vector<double>{0.001, 5.213, 9.118, 10.006, 10.885, 13.011, 14.260, 16.055, 18.101, 20.054, 23.822, 25.821, 28.040, 31.308, 35.087, 36.790}, uncor_1),\n",
      "\tlin(std::vector<double>{14.429, 15.141, 15.572, 16.169, 16.993, 18.320, 19.966, 21.013, 22.175, 23.027, 24.922, 26.113, 27.898, 28.953, 30.514, 34.951, 39.366, 39.989}, // drag_200\n",
      "\tstd::vector<double>{-0.005, 2.930, 4.958, 7.795, 8.685, 10.006, 11.552, 12.584, 13.990, 14.997, 18.703, 20.045, 22.082, 23.269, 25.016, 30.050, 35.094, 35.809}, uncor_1),\n",
      "\tlin(std::vector<double>{17.251, 17.946, 18.167, 19.161, 19.961, 20.962, 24.130, 25.175, 25.598, 27.083, 27.338, 27.690, 29.859, 31.823, 35.060, 35.968, 39.981}, // drag_250\n",
      "\tstd::vector<double>{0.002, 4.173, 4.992, 8.366, 9.094, 10.011, 12.998, 13.946, 14.993, 18.989, 19.656, 20.039, 22.704, 25.060, 29.017, 30.082, 34.911}, uncor_1),\n",
      "\tlin(std::vector<double>{20.472, 20.879, 21.085, 23.539, 25.012, 27.317, 27.914, 29.390, 29.526, 30.610, 31.844, 32.808, 35.047, 36.893, 39.970}, // drag_300\n",
      "\tstd::vector<double>{0.004, 4.972, 7.481, 10.012, 11.165, 12.983, 15.022, 20.050, 20.614, 22.111, 23.836, 25.056, 27.779, 30.080, 33.947}, uncor_1),\n",
      "}, drag);\n"
     ]
    }
   ],
   "source": [
    "DIG_FILE_NAME = \"3-eng-drag-index.dig\"\n",
    "INPUT = \"uncor_1\"\n",
    "OUTPUT = \"uncor_2\"\n",
    "INTERP_VAL = \"drag\"\n",
    "uncorr = {}\n",
    "chart = ParseDig(f'./{TOP_FOLDER}/dig/{DIG_FILE_NAME}')\n",
    "\n",
    "print(f\"auto {OUTPUT} = linear_interpolate( scale_vals_2, {{\")\n",
    "for c in chart.curveNames():\n",
    "    xVector = [row [0] for row in chart.curve(c)]\n",
    "    yVector = [row [1] for row in chart.curve(c)]\n",
    "    c_clean = c.replace(\"-\", \"_\")\n",
    "\n",
    "    print(f\"\\tlin(std::vector<double>{{\" + \", \".join(['{0:.3f}'.format(s) for s in xVector]) + f\"}}, // {c_clean.lower()}\")\n",
    "    print(f\"\\tstd::vector<double>{{\" + \", \".join(['{0:.3f}'.format(s) for s in yVector]) + f\"}}, {INPUT}),\")\n",
    "print(f\"}}, {INTERP_VAL});\")"
   ]
  },
  {
   "cell_type": "code",
   "execution_count": null,
   "metadata": {},
   "outputs": [],
   "source": []
  }
 ],
 "metadata": {
  "kernelspec": {
   "display_name": "ds-infra",
   "language": "python",
   "name": "python3"
  },
  "language_info": {
   "codemirror_mode": {
    "name": "ipython",
    "version": 3
   },
   "file_extension": ".py",
   "mimetype": "text/x-python",
   "name": "python",
   "nbconvert_exporter": "python",
   "pygments_lexer": "ipython3",
   "version": "3.10.11"
  },
  "orig_nbformat": 4,
  "vscode": {
   "interpreter": {
    "hash": "0989b4bfb6de13ee5a479302171e01fc7a2733b588409e2c447a1a059d02f27e"
   }
  }
 },
 "nbformat": 4,
 "nbformat_minor": 2
}
