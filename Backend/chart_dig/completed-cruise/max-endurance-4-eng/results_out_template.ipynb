{
 "cells": [
  {
   "cell_type": "code",
   "execution_count": 1,
   "metadata": {},
   "outputs": [
    {
     "name": "stdout",
     "output_type": "stream",
     "text": [
      "c:\\Users\\mcdel\\digitized-charts\n"
     ]
    }
   ],
   "source": [
    "import os\n",
    "os.chdir(\"../..\")\n",
    "print(os.getcwd())\n",
    "from py_utils import *"
   ]
  },
  {
   "cell_type": "code",
   "execution_count": 2,
   "metadata": {},
   "outputs": [],
   "source": [
    "TOP_FOLDER = \"completed-cruise/max-endurance-4-eng\""
   ]
  },
  {
   "cell_type": "code",
   "execution_count": 6,
   "metadata": {},
   "outputs": [
    {
     "name": "stdout",
     "output_type": "stream",
     "text": [
      "auto uncor_1 = linear_interpolate( scale_vals_1, {\n",
      "\tlin(std::vector<double>{0.111, 4.505, 10.865, 16.416, 20.887, 24.473, 28.212, 33.494, 36.347, 40.279, 41.551}, // 80\n",
      "\tstd::vector<double>{118.825, 120.440, 122.208, 123.717, 124.391, 124.387, 124.122, 123.229, 123.173, 123.378, 123.742}, press_alt_thou),\n",
      "\tlin(std::vector<double>{-0.008, 8.934, 16.566, 21.925, 27.515, 32.874, 36.228, 39.504}, // 90\n",
      "\tstd::vector<double>{127.180, 129.991, 131.654, 131.857, 131.172, 130.540, 130.641, 131.578}, press_alt_thou),\n",
      "\tlin(std::vector<double>{-0.089, 5.654, 11.436, 15.599, 19.801, 23.579, 27.512, 31.367, 34.875, 37.727}, // 100\n",
      "\tstd::vector<double>{134.961, 136.731, 138.291, 138.757, 138.805, 138.435, 137.804, 137.330, 137.588, 138.681}, press_alt_thou),\n",
      "\tlin(std::vector<double>{0.100, 6.036, 11.240, 16.135, 20.299, 24.656, 28.125, 31.826, 34.216, 35.989}, // 110\n",
      "\tstd::vector<double>{142.324, 144.250, 145.289, 145.649, 145.488, 144.491, 144.070, 144.171, 144.638, 145.367}, press_alt_thou),\n",
      "\tlin(std::vector<double>{-0.019, 6.418, 10.080, 14.513, 18.715, 22.417, 25.732, 29.587, 32.170, 34.328}, // 120\n",
      "\tstd::vector<double>{149.530, 151.142, 151.661, 151.917, 151.652, 151.021, 150.443, 150.439, 151.011, 151.844}, press_alt_thou),\n",
      "\tlin(std::vector<double>{0.016, 4.719, 9.807, 14.857, 19.946, 23.301, 26.500, 29.738, 32.552}, // 130\n",
      "\tstd::vector<double>{156.005, 157.410, 158.188, 157.922, 157.238, 156.817, 156.395, 156.810, 157.903}, press_alt_thou),\n",
      "\tlin(std::vector<double>{0.052, 4.523, 9.419, 13.660, 17.823, 21.524, 26.613, 30.737}, // 140\n",
      "\tstd::vector<double>{162.585, 163.625, 164.194, 163.720, 162.984, 162.615, 162.348, 163.754}, press_alt_thou),\n",
      "\tlin(std::vector<double>{-0.105, 5.021, 9.994, 15.122, 19.594, 24.336, 26.418, 29.039}, // 150\n",
      "\tstd::vector<double>{168.590, 169.629, 169.676, 168.835, 168.204, 167.990, 168.458, 169.343}, press_alt_thou),\n",
      "\tlin(std::vector<double>{-0.070, 3.785, 6.908, 10.609, 14.657, 18.088, 20.363, 23.254, 25.490, 27.340}, // 160\n",
      "\tstd::vector<double>{174.491, 174.905, 175.006, 174.741, 174.267, 173.689, 173.373, 173.474, 173.942, 174.671}, press_alt_thou),\n",
      "\tlin(std::vector<double>{0.081, 3.319, 6.326, 9.950, 14.576, 16.272, 19.935, 22.518, 24.792}, // 175\n",
      "\tstd::vector<double>{182.846, 182.947, 182.944, 182.522, 181.682, 181.471, 181.102, 181.569, 182.350}, press_alt_thou),\n",
      "}, gwt_);\n"
     ]
    }
   ],
   "source": [
    "DIG_FILE_NAME = \"uncorrected-speed.dig\"\n",
    "INPUT = \"press_alt_thou\"\n",
    "OUTPUT = \"uncor_1\"\n",
    "INTERP_VAL = \"gwt_\"\n",
    "uncorr = {}\n",
    "# chart = ParseDig(\"C:\\\\Users\\\\mcdel\\\\digitized-charts\\\\completed-cruise\\\\4-eng-max-rec-cruise-const-tas\\\\dig\\\\4-eng-max-rec-const-tas.dig\")\n",
    "chart = ParseDig(f'./{TOP_FOLDER}/dig/{DIG_FILE_NAME}')\n",
    "\n",
    "\n",
    "print(f\"auto {OUTPUT} = linear_interpolate( scale_vals_1, {{\")\n",
    "for c in chart.curveNames():\n",
    "    xVector = [row [0] for row in chart.curve(c)]\n",
    "    yVector = [row [1] for row in chart.curve(c)]\n",
    "    c_clean = c.replace(\"-\", \"_\")\n",
    "\n",
    "    print(f\"\\tlin(std::vector<double>{{\" + \", \".join(['{0:.3f}'.format(s) for s in xVector]) + f\"}}, // {c_clean.lower()}\")\n",
    "    print(f\"\\tstd::vector<double>{{\" + \", \".join(['{0:.3f}'.format(s) for s in yVector]) + f\"}}, {INPUT}),\")\n",
    "print(f\"}}, {INTERP_VAL});\")"
   ]
  },
  {
   "cell_type": "code",
   "execution_count": 9,
   "metadata": {},
   "outputs": [
    {
     "name": "stdout",
     "output_type": "stream",
     "text": [
      "auto uncor_2 = linear_interpolate( scale_vals_1, {\n",
      "\tlin(std::vector<double>{-0.062, 29.864}, // 110\n",
      "\tstd::vector<double>{110.060, 119.656}, temp_dev_),\n",
      "\tlin(std::vector<double>{-16.817, 30.228}, // 115\n",
      "\tstd::vector<double>{110.060, 123.411}, temp_dev_),\n",
      "\tlin(std::vector<double>{-29.757, -9.559, 6.329, 30.100}, // 120\n",
      "\tstd::vector<double>{112.146, 117.570, 121.623, 127.046}, temp_dev_),\n",
      "\tlin(std::vector<double>{-29.765, -10.058, 12.850, 29.971}, // 125\n",
      "\tstd::vector<double>{118.106, 122.636, 127.762, 131.219}, temp_dev_),\n",
      "\tlin(std::vector<double>{-29.773, -4.400, 16.416, 30.089}, // 130\n",
      "\tstd::vector<double>{124.185, 129.133, 132.888, 135.212}, temp_dev_),\n",
      "\tlin(std::vector<double>{-30.274, -5.023, 13.946, 29.344}, // 135\n",
      "\tstd::vector<double>{130.086, 134.318, 137.298, 139.206}, temp_dev_),\n",
      "\tlin(std::vector<double>{-29.543, -6.631, 12.093, 29.585}, // 140\n",
      "\tstd::vector<double>{135.987, 139.146, 141.351, 143.258}, temp_dev_),\n",
      "\tlin(std::vector<double>{-29.797, -0.356, 17.753, 29.825}, // 145\n",
      "\tstd::vector<double>{141.828, 144.927, 146.477, 147.550}, temp_dev_),\n",
      "\tlin(std::vector<double>{-29.805, -0.239, 16.884, 29.450}, // 150\n",
      "\tstd::vector<double>{147.669, 149.994, 150.888, 151.722}, temp_dev_),\n",
      "\tlin(std::vector<double>{-29.812, -0.370, 19.218, 29.443}, // 155\n",
      "\tstd::vector<double>{152.974, 155.060, 156.371, 156.848}, temp_dev_),\n",
      "\tlin(std::vector<double>{-29.450, -0.376, 20.074, 29.559}, // 160\n",
      "\tstd::vector<double>{158.219, 159.947, 161.199, 162.033}, temp_dev_),\n",
      "\tlin(std::vector<double>{-29.704, 0.110, 20.313, 29.675}, // 165\n",
      "\tstd::vector<double>{163.583, 165.073, 166.384, 167.100}, temp_dev_),\n",
      "\tlin(std::vector<double>{-29.711, -2.608, -0.267, 20.922, 30.161}, // 170\n",
      "\tstd::vector<double>{168.947, 169.901, 170.199, 171.450, 172.046}, temp_dev_),\n",
      "\tlin(std::vector<double>{-29.718, -9.760, -0.767, 11.799, 29.539}, // 175\n",
      "\tstd::vector<double>{174.192, 174.907, 175.027, 175.742, 176.993}, temp_dev_),\n",
      "\tlin(std::vector<double>{-29.602, -9.767, -0.034, 18.321, 29.408}, // 180\n",
      "\tstd::vector<double>{179.497, 179.914, 180.152, 181.404, 182.119}, temp_dev_),\n",
      "\tlin(std::vector<double>{-28.994, -0.164, 19.793, 29.278}, // 185\n",
      "\tstd::vector<double>{184.921, 184.921, 186.470, 187.066}, temp_dev_),\n",
      "\tlin(std::vector<double>{-29.124, -2.142, 5.126, 19.786, 29.764}, // 190\n",
      "\tstd::vector<double>{189.868, 189.987, 190.464, 191.536, 192.430}, temp_dev_),\n",
      "\tlin(std::vector<double>{-29.871, -10.404, -0.301, 29.511}, // 195\n",
      "\tstd::vector<double>{195.768, 195.291, 194.993, 197.318}, temp_dev_),\n",
      "}, uncor_1);\n"
     ]
    }
   ],
   "source": [
    "DIG_FILE_NAME = \"corrected-temp-dev.dig\"\n",
    "INPUT = \"temp_dev_\"\n",
    "OUTPUT = \"uncor_2\"\n",
    "INTERP_VAL = \"uncor_1\"\n",
    "uncorr = {}\n",
    "# chart = ParseDig(\"C:\\\\Users\\\\mcdel\\\\digitized-charts\\\\completed-cruise\\\\4-eng-max-rec-cruise-const-tas\\\\dig\\\\4-eng-max-rec-const-tas.dig\")\n",
    "chart = ParseDig(f'./{TOP_FOLDER}/dig/{DIG_FILE_NAME}')\n",
    "\n",
    "\n",
    "print(f\"auto {OUTPUT} = linear_interpolate( scale_vals_1, {{\")\n",
    "for c in chart.curveNames():\n",
    "    xVector = [row [0] for row in chart.curve(c)]\n",
    "    yVector = [row [1] for row in chart.curve(c)]\n",
    "    c_clean = c.replace(\"-\", \"_\")\n",
    "\n",
    "    print(f\"\\tlin(std::vector<double>{{\" + \", \".join(['{0:.3f}'.format(s) for s in xVector]) + f\"}}, // {c_clean.lower()}\")\n",
    "    print(f\"\\tstd::vector<double>{{\" + \", \".join(['{0:.3f}'.format(s) for s in yVector]) + f\"}}, {INPUT}),\")\n",
    "print(f\"}}, {INTERP_VAL});\")"
   ]
  },
  {
   "cell_type": "code",
   "execution_count": 10,
   "metadata": {},
   "outputs": [
    {
     "name": "stdout",
     "output_type": "stream",
     "text": [
      "auto cor = linear_interpolate( scale_vals_1, {\n",
      "\tlin(std::vector<double>{-0.035, 51.129}, // 115\n",
      "\tstd::vector<double>{115.060, 110.030}, drag_),\n",
      "\tlin(std::vector<double>{1.780, 52.328, 93.009, 115.810}, // 120\n",
      "\tstd::vector<double>{119.942, 114.853, 111.305, 110.009}, drag_),\n",
      "\tlin(std::vector<double>{1.745, 60.308, 103.450, 162.614, 205.749}, // 125\n",
      "\tstd::vector<double>{125.001, 118.965, 115.836, 112.061, 110.003}, drag_),\n",
      "\tlin(std::vector<double>{1.096, 47.947, 88.011, 120.675, 192.776, 259.941, 301.844}, // 130\n",
      "\tstd::vector<double>{129.822, 124.969, 121.482, 119.299, 115.353, 112.476, 110.537}, drag_),\n",
      "\tlin(std::vector<double>{1.062, 52.227, 107.084, 201.372, 299.350}, // 135\n",
      "\tstd::vector<double>{134.822, 129.555, 124.945, 119.585, 114.940}, drag_),\n",
      "\tlin(std::vector<double>{0.413, 53.427, 100.272, 200.722, 245.093, 302.400}, // 140\n",
      "\tstd::vector<double>{139.643, 134.258, 130.179, 124.405, 121.873, 119.228}, drag_),\n",
      "\tlin(std::vector<double>{2.225, 73.117, 123.042, 174.193, 251.226, 299.907}, // 145\n",
      "\tstd::vector<double>{144.942, 137.544, 133.466, 130.342, 125.864, 123.632}, drag_),\n",
      "\tlin(std::vector<double>{1.576, 52.128, 106.368, 171.697, 216.067, 301.110}, // 150\n",
      "\tstd::vector<double>{149.704, 143.960, 139.647, 135.043, 132.629, 127.799}, drag_),\n",
      "\tlin(std::vector<double>{0.924, 44.078, 101.403, 158.723, 202.478, 249.933, 299.848}, // 155\n",
      "\tstd::vector<double>{154.941, 150.146, 144.942, 140.571, 137.978, 134.732, 132.143}, drag_),\n",
      "\tlin(std::vector<double>{1.508, 40.347, 98.290, 158.074, 208.609, 301.667}, // 160\n",
      "\tstd::vector<double>{159.644, 155.203, 149.702, 145.392, 142.148, 136.251}, drag_),\n",
      "\tlin(std::vector<double>{1.474, 50.794, 109.969, 170.984, 213.507, 273.289, 300.407}, // 165\n",
      "\tstd::vector<double>{164.703, 158.959, 153.458, 149.150, 146.615, 142.425, 140.596}, drag_),\n",
      "\tlin(std::vector<double>{2.055, 60.005, 133.972, 182.046, 233.815, 299.762}, // 170\n",
      "\tstd::vector<double>{169.823, 163.310, 156.687, 153.025, 149.544, 144.822}, drag_),\n",
      "\tlin(std::vector<double>{1.405, 61.820, 125.311, 191.258, 230.705, 298.500}, // 175\n",
      "\tstd::vector<double>{174.703, 168.013, 162.099, 157.257, 153.947, 149.106}, drag_),\n",
      "\tlin(std::vector<double>{0.754, 43.294, 114.183, 177.049, 211.566, 249.779, 300.320}, // 180\n",
      "\tstd::vector<double>{179.881, 174.669, 167.687, 163.082, 160.126, 157.232, 153.215}, drag_),\n",
      "\tlin(std::vector<double>{0.721, 72.232, 142.504, 184.414, 209.065, 242.354, 299.674}, // 185\n",
      "\tstd::vector<double>{184.703, 176.829, 170.204, 167.015, 165.541, 161.930, 157.619}, drag_),\n",
      "\tlin(std::vector<double>{1.919, 61.105, 154.180, 195.475, 233.078, 299.644}, // 190\n",
      "\tstd::vector<double>{189.644, 182.596, 174.318, 171.069, 167.222, 161.964}, drag_),\n",
      "\tlin(std::vector<double>{0.036, 88.193, 142.437, 190.513, 218.252, 258.935, 300.848}, // 195\n",
      "\tstd::vector<double>{194.762, 184.993, 179.906, 176.006, 173.285, 169.499, 166.132}, drag_),\n",
      "\tlin(std::vector<double>{1.852, 65.353, 140.558, 197.260, 228.084, 258.907, 300.202}, // 200\n",
      "\tstd::vector<double>{199.406, 191.884, 184.488, 180.237, 176.862, 173.666, 170.476}, drag_),\n",
      "}, uncor_2);\n"
     ]
    }
   ],
   "source": [
    "DIG_FILE_NAME = \"corrected-drag.dig\"\n",
    "INPUT = \"drag_\"\n",
    "OUTPUT = \"cor\"\n",
    "INTERP_VAL = \"uncor_2\"\n",
    "uncorr = {}\n",
    "# chart = ParseDig(\"C:\\\\Users\\\\mcdel\\\\digitized-charts\\\\completed-cruise\\\\4-eng-max-rec-cruise-const-tas\\\\dig\\\\4-eng-max-rec-const-tas.dig\")\n",
    "chart = ParseDig(f'./{TOP_FOLDER}/dig/{DIG_FILE_NAME}')\n",
    "\n",
    "\n",
    "print(f\"auto {OUTPUT} = linear_interpolate( scale_vals_1, {{\")\n",
    "for c in chart.curveNames():\n",
    "    xVector = [row [0] for row in chart.curve(c)]\n",
    "    yVector = [row [1] for row in chart.curve(c)]\n",
    "    c_clean = c.replace(\"-\", \"_\")\n",
    "\n",
    "    print(f\"\\tlin(std::vector<double>{{\" + \", \".join(['{0:.3f}'.format(s) for s in xVector]) + f\"}}, // {c_clean.lower()}\")\n",
    "    print(f\"\\tstd::vector<double>{{\" + \", \".join(['{0:.3f}'.format(s) for s in yVector]) + f\"}}, {INPUT}),\")\n",
    "print(f\"}}, {INTERP_VAL});\")"
   ]
  },
  {
   "cell_type": "code",
   "execution_count": null,
   "metadata": {},
   "outputs": [],
   "source": []
  }
 ],
 "metadata": {
  "kernelspec": {
   "display_name": "ds-infra",
   "language": "python",
   "name": "python3"
  },
  "language_info": {
   "codemirror_mode": {
    "name": "ipython",
    "version": 3
   },
   "file_extension": ".py",
   "mimetype": "text/x-python",
   "name": "python",
   "nbconvert_exporter": "python",
   "pygments_lexer": "ipython3",
   "version": "3.10.11"
  },
  "orig_nbformat": 4,
  "vscode": {
   "interpreter": {
    "hash": "0989b4bfb6de13ee5a479302171e01fc7a2733b588409e2c447a1a059d02f27e"
   }
  }
 },
 "nbformat": 4,
 "nbformat_minor": 2
}
