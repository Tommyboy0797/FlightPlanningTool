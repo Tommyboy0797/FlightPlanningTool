{
 "cells": [
  {
   "cell_type": "code",
   "execution_count": 1,
   "metadata": {},
   "outputs": [
    {
     "name": "stdout",
     "output_type": "stream",
     "text": [
      "c:\\Users\\mcdel\\digitized-charts\n"
     ]
    }
   ],
   "source": [
    "import os\n",
    "import re\n",
    "import numpy as np\n",
    "os.chdir(\"../..\")\n",
    "print(os.getcwd())\n",
    "from py_utils import *"
   ]
  },
  {
   "cell_type": "code",
   "execution_count": 18,
   "metadata": {},
   "outputs": [],
   "source": [
    "TOP_FOLDER = \"completed-takeoff/min-field-length-for-max-effort-to\"\n",
    "DIG_FILE_NAME = \"amax-eff-uncorr-field-length.dig\"\n",
    "\n",
    "data = {}\n",
    "\n",
    "chart = ParseDig(f'./{TOP_FOLDER}/dig/{DIG_FILE_NAME}')\n",
    "for c in  chart.curveNames():\n",
    "    yVector = [row [1] for row in chart.curve(c)]\n",
    "    xVector = [row [0] for row in chart.curve(c)]\n",
    "    scale_number = float(re.sub('[^0-9]','', c.replace(\"-\", \"_\")))\n",
    "    \n",
    "    data[scale_number] = {\n",
    "        \"x\": xVector,\n",
    "        \"y\": yVector\n",
    "    }"
   ]
  },
  {
   "cell_type": "code",
   "execution_count": 19,
   "metadata": {},
   "outputs": [],
   "source": [
    "def try_get_uncorrected_max_eff_field_length(gross_wt, takeoff_factor, data):\n",
    "    scales_available = list(data.keys())\n",
    "    \n",
    "    if gross_wt not in scales_available:\n",
    "        print(f\"Gross weight of {gross_wt} is not in data supplied!\")\n",
    "        return -1.0\n",
    "    \n",
    "    this_scales_data = data[gross_wt]\n",
    "    \n",
    "    return round(np.interp(takeoff_factor, this_scales_data[\"x\"], this_scales_data[\"y\"]), 2)\n",
    "    "
   ]
  },
  {
   "cell_type": "code",
   "execution_count": 20,
   "metadata": {},
   "outputs": [
    {
     "data": {
      "text/plain": [
       "5.79"
      ]
     },
     "execution_count": 20,
     "metadata": {},
     "output_type": "execute_result"
    }
   ],
   "source": [
    "gwt = 140\n",
    "takeoff_factor = 5\n",
    "\n",
    "uncorrected_max_effort_min_field_length = try_get_uncorrected_max_eff_field_length(gwt, takeoff_factor, data)"
   ]
  }
 ],
 "metadata": {
  "kernelspec": {
   "display_name": "Python 3",
   "language": "python",
   "name": "python3"
  },
  "language_info": {
   "codemirror_mode": {
    "name": "ipython",
    "version": 3
   },
   "file_extension": ".py",
   "mimetype": "text/x-python",
   "name": "python",
   "nbconvert_exporter": "python",
   "pygments_lexer": "ipython3",
   "version": "3.10.6"
  }
 },
 "nbformat": 4,
 "nbformat_minor": 2
}
